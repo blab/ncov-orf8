{
 "cells": [
  {
   "cell_type": "code",
   "execution_count": 2,
   "id": "77018e07-2128-44ec-bf17-effdb3dcc767",
   "metadata": {},
   "outputs": [],
   "source": [
    "import pandas as pd\n",
    "import numpy as np\n",
    "import matplotlib as mpl\n",
    "import matplotlib.pyplot as plt"
   ]
  },
  {
   "cell_type": "code",
   "execution_count": 3,
   "id": "4506e603-cff9-4303-bdd2-93dd5d864b61",
   "metadata": {},
   "outputs": [],
   "source": [
    "mpl.rcParams['axes.spines.right'] = False\n",
    "mpl.rcParams['axes.spines.top'] = False\n",
    "mpl.rcParams['axes.labelsize'] = 14\n",
    "mpl.rcParams['axes.linewidth'] = 1.2\n",
    "mpl.rcParams['font.sans-serif'] = 'Helvetica'\n",
    "mpl.rcParams['xtick.labelsize'] = 12\n",
    "mpl.rcParams['ytick.labelsize'] = 12\n",
    "mpl.rcParams['xtick.major.width'] = 1.2\n",
    "mpl.rcParams['ytick.major.width'] = 1.2\n",
    "mpl.rcParams['figure.titleweight'] = 'bold'\n",
    "mpl.rcParams['figure.titlesize']= 14\n",
    "mpl.rcParams['legend.fontsize']=12\n",
    "mpl.rcParams['legend.title_fontsize']=14"
   ]
  },
  {
   "cell_type": "code",
   "execution_count": 4,
   "id": "505949e4-9d94-49c4-913a-d3251ac18e0a",
   "metadata": {},
   "outputs": [],
   "source": [
    "with open('orf8ko_noAlpha_clusters_koType_metadata.tsv', 'r') as f:\n",
    "    df = pd.read_csv(f, sep='\\t')"
   ]
  },
  {
   "cell_type": "code",
   "execution_count": 5,
   "id": "3330c9b6-6384-45b4-9146-852d061ada64",
   "metadata": {},
   "outputs": [
    {
     "data": {
      "text/plain": [
       "Index(['strain', 'cluster', 'gisaid_epi_isl', 'date', 'region', 'country',\n",
       "       'division', 'location', 'length', 'age', 'sex', 'Nextstrain_clade',\n",
       "       'pango_lineage', 'GISAID_clade', 'originating_lab', 'submitting_lab',\n",
       "       'authors', 'url', 'missing_data', 'divergence', 'nonACGTN', 'coverage',\n",
       "       'rare_mutations', 'reversion_mutations', 'potential_contaminants',\n",
       "       'QC_missing_data', 'QC_mixed_sites', 'QC_rare_mutations',\n",
       "       'QC_snp_clusters', 'QC_frame_shifts', 'QC_stop_codons',\n",
       "       'QC_overall_score', 'QC_overall_status', 'ORF8_deletions', 'ORF8_gaps',\n",
       "       'ORF8_nDeleted', 'ORF8_maxDeletion', 'ORF8_maxGap', 'ORF8_frameShifts',\n",
       "       'ORF8_proteinLength', 'ORF8_stop', 'ORF8_stoploss', 'ORF8_misStops',\n",
       "       'ORF8_ko', 'ORF8_koType'],\n",
       "      dtype='object')"
      ]
     },
     "execution_count": 5,
     "metadata": {},
     "output_type": "execute_result"
    }
   ],
   "source": [
    "df.columns"
   ]
  },
  {
   "cell_type": "code",
   "execution_count": 6,
   "id": "e913207d-8182-49f0-b6c9-d088ccd217d1",
   "metadata": {},
   "outputs": [],
   "source": [
    "maxClust = max(df.cluster)"
   ]
  },
  {
   "cell_type": "code",
   "execution_count": 7,
   "id": "325fa275-704c-4d0f-b66f-3a42630b18ce",
   "metadata": {},
   "outputs": [
    {
     "name": "stdout",
     "output_type": "stream",
     "text": [
      "1461\n",
      "['17:Q>*' '26:Q>*']\n",
      "[2 2]\n",
      "1384\n",
      "['105:E>*' '18:E>*']\n",
      "[23  1]\n",
      "1381\n",
      "['83:L>*' '95:G>*']\n",
      "[9 1]\n",
      "1345\n",
      "['105:E>*' '17:Q>*' '30:Y>*']\n",
      "[ 1 68  1]\n"
     ]
    }
   ],
   "source": [
    "fsClusters = df.loc[df.ORF8_koType=='earlyStop:FrameShift','cluster'].unique()\n",
    "\n",
    "for cluster in fsClusters:\n",
    "    filt = df[df.cluster==cluster]\n",
    "    values,counts = np.unique(filt.ORF8_stop, return_counts=True)\n",
    "    if len(values) > 1:\n",
    "        print(cluster)\n",
    "        print(values)\n",
    "        print(counts)"
   ]
  },
  {
   "cell_type": "markdown",
   "id": "2ecea4ac-86ef-4686-80a4-aac01afbc827",
   "metadata": {},
   "source": [
    "I'm going to manually edit the code to deal with the above.\n"
   ]
  },
  {
   "cell_type": "code",
   "execution_count": 8,
   "id": "d3ad9e18-dcf2-4726-8f3d-0f4391cd0a7c",
   "metadata": {},
   "outputs": [
    {
     "data": {
      "text/plain": [
       "Int64Index([414, 415], dtype='int64')"
      ]
     },
     "execution_count": 8,
     "metadata": {},
     "output_type": "execute_result"
    }
   ],
   "source": [
    "df.loc[(df.cluster==1461) & (df.ORF8_stop == '26:Q>*'),:].index"
   ]
  },
  {
   "cell_type": "code",
   "execution_count": 9,
   "id": "27c17c9a-31d9-4e6a-ab02-3802393dba07",
   "metadata": {},
   "outputs": [],
   "source": [
    "df.loc[414:415,'cluster'] = maxClust + 1"
   ]
  },
  {
   "cell_type": "code",
   "execution_count": 10,
   "id": "3e8a4eba-fec0-496e-801e-fb0da088f0d2",
   "metadata": {},
   "outputs": [
    {
     "data": {
      "text/plain": [
       "Int64Index([650], dtype='int64')"
      ]
     },
     "execution_count": 10,
     "metadata": {},
     "output_type": "execute_result"
    }
   ],
   "source": [
    "df.loc[(df.cluster==1384) & (df.ORF8_stop == '18:E>*'),:].index"
   ]
  },
  {
   "cell_type": "code",
   "execution_count": 11,
   "id": "a97b6943-3832-4c32-aaa7-8c79fd636eb3",
   "metadata": {},
   "outputs": [],
   "source": [
    "df.loc[650,'cluster'] = maxClust + 2"
   ]
  },
  {
   "cell_type": "code",
   "execution_count": 12,
   "id": "4f4b740f-ace8-4fcc-8594-91017ee0cfd3",
   "metadata": {},
   "outputs": [
    {
     "data": {
      "text/plain": [
       "Int64Index([658], dtype='int64')"
      ]
     },
     "execution_count": 12,
     "metadata": {},
     "output_type": "execute_result"
    }
   ],
   "source": [
    "df.loc[(df.cluster==1381) & (df.ORF8_stop == '95:G>*'),:].index"
   ]
  },
  {
   "cell_type": "code",
   "execution_count": 13,
   "id": "d82ae0c2-0a5d-4ed3-ba69-8467d8e16d4d",
   "metadata": {},
   "outputs": [],
   "source": [
    "df.loc[658,'cluster'] = maxClust + 3"
   ]
  },
  {
   "cell_type": "code",
   "execution_count": 14,
   "id": "3da5c33c-6373-407d-b315-c554f8c37d47",
   "metadata": {},
   "outputs": [
    {
     "data": {
      "text/plain": [
       "Int64Index([962], dtype='int64')"
      ]
     },
     "execution_count": 14,
     "metadata": {},
     "output_type": "execute_result"
    }
   ],
   "source": [
    "df.loc[(df.cluster==1345) & (df.ORF8_stop == '105:E>*'),:].index"
   ]
  },
  {
   "cell_type": "code",
   "execution_count": 15,
   "id": "143559b4-b374-4568-8dd2-0afa21387ba2",
   "metadata": {},
   "outputs": [],
   "source": [
    "df.loc[962,'cluster'] = maxClust + 4"
   ]
  },
  {
   "cell_type": "code",
   "execution_count": 16,
   "id": "cc35d158-d91e-4516-803b-27b1f3399482",
   "metadata": {},
   "outputs": [
    {
     "data": {
      "text/plain": [
       "Int64Index([965], dtype='int64')"
      ]
     },
     "execution_count": 16,
     "metadata": {},
     "output_type": "execute_result"
    }
   ],
   "source": [
    "df.loc[(df.cluster==1345) & (df.ORF8_stop == '30:Y>*'),:].index"
   ]
  },
  {
   "cell_type": "code",
   "execution_count": 17,
   "id": "64689428-65c3-459c-af6c-25bdd04eeb57",
   "metadata": {},
   "outputs": [],
   "source": [
    "df.loc[965,'cluster'] = maxClust + 5"
   ]
  },
  {
   "cell_type": "markdown",
   "id": "4ada5eb2-3333-4456-9c51-79fbb86b5487",
   "metadata": {},
   "source": [
    "Now, let's check if it's fixed?"
   ]
  },
  {
   "cell_type": "code",
   "execution_count": 18,
   "id": "95fe9491-2b9c-4c40-9792-2b904b0aae53",
   "metadata": {},
   "outputs": [],
   "source": [
    "fsClusters = df.loc[df.ORF8_koType=='earlyStop:FrameShift','cluster'].unique()\n",
    "\n",
    "for cluster in fsClusters:\n",
    "    filt = df[df.cluster==cluster]\n",
    "    values,counts = np.unique(filt.ORF8_stop, return_counts=True)\n",
    "    if len(values) > 1:\n",
    "        print(cluster)\n",
    "        print(values)\n",
    "        print(counts)"
   ]
  },
  {
   "cell_type": "markdown",
   "id": "281a1b8f-3af4-4dbc-b608-82e6cb1d3144",
   "metadata": {},
   "source": [
    "Whooo!! It's fixed!!"
   ]
  },
  {
   "cell_type": "code",
   "execution_count": 19,
   "id": "b4794218-377a-4874-a2fd-f0edb6459e95",
   "metadata": {},
   "outputs": [
    {
     "name": "stdout",
     "output_type": "stream",
     "text": [
      "638\n"
     ]
    }
   ],
   "source": [
    "values,counts = np.unique(df.cluster,return_counts=True)\n",
    "print(max(counts))"
   ]
  },
  {
   "cell_type": "code",
   "execution_count": 20,
   "id": "6e4967c3-0ecb-4ede-803c-d0c6c6478b4f",
   "metadata": {},
   "outputs": [
    {
     "data": {
      "text/plain": [
       "Text(0, 0.5, 'Number of clusters')"
      ]
     },
     "execution_count": 20,
     "metadata": {},
     "output_type": "execute_result"
    },
    {
     "data": {
      "image/png": "[encoded data removed]",
      "text/plain": [
       "<Figure size 640x480 with 1 Axes>"
      ]
     },
     "metadata": {},
     "output_type": "display_data"
    }
   ],
   "source": [
    "fig,ax = plt.subplots()\n",
    "ax.hist(counts, bins=65,align='mid',ec='white')\n",
    "ax.set_yscale('log')\n",
    "ax.set_xlabel('Cluster size')\n",
    "ax.set_ylabel('Number of clusters')"
   ]
  },
  {
   "cell_type": "code",
   "execution_count": 21,
   "id": "cd0d7f23-b901-4a84-8bfa-2f2ff8387c6c",
   "metadata": {},
   "outputs": [
    {
     "data": {
      "text/plain": [
       "428"
      ]
     },
     "execution_count": 21,
     "metadata": {},
     "output_type": "execute_result"
    }
   ],
   "source": [
    "len(counts[counts>1])"
   ]
  },
  {
   "cell_type": "code",
   "execution_count": 22,
   "id": "bad279de-e3ce-470c-8760-5dbb9c513b25",
   "metadata": {},
   "outputs": [
    {
     "data": {
      "text/plain": [
       "1090"
      ]
     },
     "execution_count": 22,
     "metadata": {},
     "output_type": "execute_result"
    }
   ],
   "source": [
    "len(counts[counts==1])"
   ]
  },
  {
   "cell_type": "markdown",
   "id": "fb10a4e3-1632-4b3e-b935-c6d6b1b94473",
   "metadata": {},
   "source": [
    "How many non-singleton clusters that contain at least one WA sequence?"
   ]
  },
  {
   "cell_type": "code",
   "execution_count": 23,
   "id": "3fafb96f-7c91-49f2-a995-c57b7afee5ef",
   "metadata": {},
   "outputs": [],
   "source": [
    "inWA = []\n",
    "for clust in values:\n",
    "    divs = df.loc[df.cluster==clust,:]['division']\n",
    "    if 'Washington' not in divs.values:\n",
    "        #print(clust)\n",
    "        pass\n",
    "    else:\n",
    "        inWA.append(clust)\n",
    "        \n",
    "inWA = np.asarray(inWA)\n",
    "countsInWA = counts[inWA-1]"
   ]
  },
  {
   "cell_type": "code",
   "execution_count": 24,
   "id": "68555219-0fed-4ebd-a674-5d70b6d7e329",
   "metadata": {},
   "outputs": [
    {
     "data": {
      "text/plain": [
       "1255"
      ]
     },
     "execution_count": 24,
     "metadata": {},
     "output_type": "execute_result"
    }
   ],
   "source": [
    "len(countsInWA)"
   ]
  },
  {
   "cell_type": "code",
   "execution_count": 25,
   "id": "37227f1d-e7e7-4083-9d43-821d6855f5a3",
   "metadata": {},
   "outputs": [
    {
     "data": {
      "text/plain": [
       "401"
      ]
     },
     "execution_count": 25,
     "metadata": {},
     "output_type": "execute_result"
    }
   ],
   "source": [
    "len(countsInWA[countsInWA>1])"
   ]
  },
  {
   "cell_type": "code",
   "execution_count": 26,
   "id": "c28f1b34-ffff-4a9e-9a91-8594cf8e2821",
   "metadata": {},
   "outputs": [
    {
     "data": {
      "text/plain": [
       "854"
      ]
     },
     "execution_count": 26,
     "metadata": {},
     "output_type": "execute_result"
    }
   ],
   "source": [
    "len(countsInWA[countsInWA==1])"
   ]
  },
  {
   "cell_type": "code",
   "execution_count": 27,
   "id": "d61b2ec5-32d8-45aa-8d5a-1dc0aebd13fd",
   "metadata": {},
   "outputs": [
    {
     "data": {
      "text/plain": [
       "3574"
      ]
     },
     "execution_count": 27,
     "metadata": {},
     "output_type": "execute_result"
    }
   ],
   "source": [
    "len(df.loc[(df.cluster.isin(inWA[countsInWA>1])) &(df.division==\"Washington\"),:])"
   ]
  },
  {
   "cell_type": "code",
   "execution_count": 28,
   "id": "0b658a83-6306-4d1d-97be-3772bc53afd3",
   "metadata": {},
   "outputs": [
    {
     "data": {
      "image/png": "[encoded data removed]",
      "text/plain": [
       "<Figure size 640x480 with 1 Axes>"
      ]
     },
     "metadata": {},
     "output_type": "display_data"
    }
   ],
   "source": [
    "fig,ax = plt.subplots()\n",
    "ax.hist(countsInWA, bins=65,align='mid',ec='white')\n",
    "ax.set_yscale('log')\n",
    "ax.set_xlabel('Cluster size')\n",
    "ax.set_ylabel('Number of clusters')\n",
    "#fig.savefig(\"clusters_hist.pdf\",bbox_inches='tight',dpi=300)\n"
   ]
  },
  {
   "cell_type": "code",
   "execution_count": 29,
   "id": "c009093c-b2ae-4cb2-bd89-8c506943ee70",
   "metadata": {},
   "outputs": [],
   "source": [
    "withUW = []\n",
    "for clust in values:\n",
    "    lab = df.loc[(df.cluster==clust) & (df.division=='Washington'),:]['submitting_lab']\n",
    "    if 'UW Virology Lab' not in lab.values:\n",
    "        #print(clust)\n",
    "        pass\n",
    "    else:\n",
    "        withUW.append(clust)\n",
    "        \n",
    "withUW = np.asarray(withUW)\n",
    "countsWithUW = counts[withUW-1]"
   ]
  },
  {
   "cell_type": "code",
   "execution_count": 30,
   "id": "24aec039-c0de-4a53-82e3-e6dce646ea61",
   "metadata": {},
   "outputs": [
    {
     "data": {
      "text/plain": [
       "319"
      ]
     },
     "execution_count": 30,
     "metadata": {},
     "output_type": "execute_result"
    }
   ],
   "source": [
    "len(countsWithUW)"
   ]
  },
  {
   "cell_type": "code",
   "execution_count": 31,
   "id": "34ed7875-74dc-4cb9-8dca-d17fe6bcc163",
   "metadata": {},
   "outputs": [
    {
     "data": {
      "text/plain": [
       "43"
      ]
     },
     "execution_count": 31,
     "metadata": {},
     "output_type": "execute_result"
    }
   ],
   "source": [
    "len(countsWithUW[countsWithUW>10])"
   ]
  },
  {
   "cell_type": "markdown",
   "id": "259eef5f-8eb1-4ace-9cf6-f0157c4aa0d9",
   "metadata": {},
   "source": [
    "Fix location formatting:"
   ]
  },
  {
   "cell_type": "code",
   "execution_count": 32,
   "id": "3b63f494-b72f-4ab1-b9c8-e1e3fa78ede3",
   "metadata": {},
   "outputs": [],
   "source": [
    "df['ORF8_deletions'] = df['ORF8_deletions'].str.replace(\",\\s+(?=[^\\(]*\\))\",':', regex=True)\n",
    "df['ORF8_deletions'] = df['ORF8_deletions'].str.replace('[\\[\\]()]', '', regex=True)"
   ]
  },
  {
   "cell_type": "code",
   "execution_count": 71,
   "id": "83bab06f-04d8-4575-8f72-93df34b805cd",
   "metadata": {
    "scrolled": true,
    "tags": []
   },
   "outputs": [],
   "source": [
    "ko_type = []\n",
    "minDel = []\n",
    "minDelSize = []\n",
    "for clust in inWA[countsInWA>1]:\n",
    "    filt = df[df.cluster==clust]\n",
    "    locs = filt.ORF8_deletions.str.replace(',',':')\n",
    "    cStart = 0\n",
    "    cEnd = 29903\n",
    "    for loc in locs:\n",
    "        if len(loc):\n",
    "            split = loc.split(':')\n",
    "            asInt = [int(v) for v in split]\n",
    "            sizes = asInt - np.roll(asInt,1)\n",
    "            realSizes = [sizes[index] for index in range(1, len(sizes), 2)]\n",
    "            biggest = np.argmax(realSizes)\n",
    "            start = int(split[biggest*2])\n",
    "            end = int(split[(biggest*2)+1])\n",
    "            if end - start >= 30:\n",
    "                if start < end and end > start\n",
    "                    cStart = start\n",
    "                if end < cEnd:\n",
    "                    cEnd = end\n",
    "    minDel.append(str(cStart)+':'+str(cEnd))\n",
    "    minDelSize.append(cEnd-cStart)\n",
    "    ko_type.append(filt['ORF8_koType'].unique()[0])\n",
    "    \n",
    "inWAClusters= pd.DataFrame({'cluster': inWA[countsInWA>1], 'clusterSize': countsInWA[countsInWA>1],'koType':ko_type,'minDeletionLocation':minDel,'minDeletionSize':minDelSize})"
   ]
  },
  {
   "cell_type": "code",
   "execution_count": 33,
   "id": "60cb5fce-293a-4732-97c3-d66c16d6133b",
   "metadata": {},
   "outputs": [],
   "source": [
    "ko_type = []\n",
    "minDel = []\n",
    "minDelSize = []\n",
    "for clust in inWA[countsInWA>1]:\n",
    "    filt = df[df.cluster==clust]\n",
    "    locs = filt.ORF8_deletions.str.replace(',',':')\n",
    "    cStart = 0\n",
    "    cEnd = 29903\n",
    "    for loc in locs:\n",
    "        if len(loc):\n",
    "            split = loc.split(':')\n",
    "            asInt = [int(v) for v in split]\n",
    "            sizes = asInt - np.roll(asInt,1)\n",
    "            realSizes = [sizes[index] for index in range(1, len(sizes), 2)]\n",
    "            biggest = np.argmax(realSizes)\n",
    "            start = int(split[biggest*2])\n",
    "            end = int(split[(biggest*2)+1])\n",
    "            if end - start >= 30:\n",
    "                if start < end and end > start:\n",
    "                    cStart = max(cStart,start)\n",
    "                    cEnd = min(cEnd,end)\n",
    "                    if cEnd - cStart \n",
    "    minDel.append(str(cStart)+':'+str(cEnd))\n",
    "    minDelSize.append(cEnd-cStart)\n",
    "    ko_type.append(filt['ORF8_koType'].unique()[0])\n",
    "    \n",
    "inWAClusters= pd.DataFrame({'cluster': inWA[countsInWA>1], 'clusterSize': countsInWA[countsInWA>1],'koType':ko_type,'minDeletionLocation':minDel,'minDeletionSize':minDelSize})"
   ]
  },
  {
   "cell_type": "code",
   "execution_count": 34,
   "id": "2a06ff2b-9e2d-46d5-ad0c-98144f773f81",
   "metadata": {},
   "outputs": [
    {
     "data": {
      "text/html": [
       "<div>\n",
       "<style scoped>\n",
       "    .dataframe tbody tr th:only-of-type {\n",
       "        vertical-align: middle;\n",
       "    }\n",
       "\n",
       "    .dataframe tbody tr th {\n",
       "        vertical-align: top;\n",
       "    }\n",
       "\n",
       "    .dataframe thead th {\n",
       "        text-align: right;\n",
       "    }\n",
       "</style>\n",
       "<table border=\"1\" class=\"dataframe\">\n",
       "  <thead>\n",
       "    <tr style=\"text-align: right;\">\n",
       "      <th></th>\n",
       "      <th>cluster</th>\n",
       "      <th>clusterSize</th>\n",
       "      <th>koType</th>\n",
       "      <th>minDeletionLocation</th>\n",
       "      <th>minDeletionSize</th>\n",
       "    </tr>\n",
       "  </thead>\n",
       "  <tbody>\n",
       "    <tr>\n",
       "      <th>0</th>\n",
       "      <td>1</td>\n",
       "      <td>2</td>\n",
       "      <td>BigDeletion</td>\n",
       "      <td>28160:28378</td>\n",
       "      <td>218</td>\n",
       "    </tr>\n",
       "    <tr>\n",
       "      <th>1</th>\n",
       "      <td>16</td>\n",
       "      <td>2</td>\n",
       "      <td>BigDeletion</td>\n",
       "      <td>27527:28088</td>\n",
       "      <td>561</td>\n",
       "    </tr>\n",
       "    <tr>\n",
       "      <th>2</th>\n",
       "      <td>17</td>\n",
       "      <td>2</td>\n",
       "      <td>BigDeletion</td>\n",
       "      <td>28053:28104</td>\n",
       "      <td>51</td>\n",
       "    </tr>\n",
       "    <tr>\n",
       "      <th>3</th>\n",
       "      <td>21</td>\n",
       "      <td>2</td>\n",
       "      <td>BigDeletion</td>\n",
       "      <td>27527:28088</td>\n",
       "      <td>561</td>\n",
       "    </tr>\n",
       "    <tr>\n",
       "      <th>4</th>\n",
       "      <td>25</td>\n",
       "      <td>3</td>\n",
       "      <td>BigDeletion</td>\n",
       "      <td>27872:28699</td>\n",
       "      <td>827</td>\n",
       "    </tr>\n",
       "    <tr>\n",
       "      <th>...</th>\n",
       "      <td>...</td>\n",
       "      <td>...</td>\n",
       "      <td>...</td>\n",
       "      <td>...</td>\n",
       "      <td>...</td>\n",
       "    </tr>\n",
       "    <tr>\n",
       "      <th>396</th>\n",
       "      <td>1495</td>\n",
       "      <td>2</td>\n",
       "      <td>earlyStop:FrameShift</td>\n",
       "      <td>0:29903</td>\n",
       "      <td>29903</td>\n",
       "    </tr>\n",
       "    <tr>\n",
       "      <th>397</th>\n",
       "      <td>1501</td>\n",
       "      <td>2</td>\n",
       "      <td>earlyStop:FrameShift</td>\n",
       "      <td>0:29903</td>\n",
       "      <td>29903</td>\n",
       "    </tr>\n",
       "    <tr>\n",
       "      <th>398</th>\n",
       "      <td>1507</td>\n",
       "      <td>4</td>\n",
       "      <td>earlyStop:FrameShift</td>\n",
       "      <td>0:29903</td>\n",
       "      <td>29903</td>\n",
       "    </tr>\n",
       "    <tr>\n",
       "      <th>399</th>\n",
       "      <td>1513</td>\n",
       "      <td>2</td>\n",
       "      <td>earlyStop:FrameShift</td>\n",
       "      <td>0:29903</td>\n",
       "      <td>29903</td>\n",
       "    </tr>\n",
       "    <tr>\n",
       "      <th>400</th>\n",
       "      <td>1514</td>\n",
       "      <td>2</td>\n",
       "      <td>earlyStop:FrameShift</td>\n",
       "      <td>0:29903</td>\n",
       "      <td>29903</td>\n",
       "    </tr>\n",
       "  </tbody>\n",
       "</table>\n",
       "<p>401 rows × 5 columns</p>\n",
       "</div>"
      ],
      "text/plain": [
       "     cluster  clusterSize                koType minDeletionLocation  \\\n",
       "0          1            2           BigDeletion         28160:28378   \n",
       "1         16            2           BigDeletion         27527:28088   \n",
       "2         17            2           BigDeletion         28053:28104   \n",
       "3         21            2           BigDeletion         27527:28088   \n",
       "4         25            3           BigDeletion         27872:28699   \n",
       "..       ...          ...                   ...                 ...   \n",
       "396     1495            2  earlyStop:FrameShift             0:29903   \n",
       "397     1501            2  earlyStop:FrameShift             0:29903   \n",
       "398     1507            4  earlyStop:FrameShift             0:29903   \n",
       "399     1513            2  earlyStop:FrameShift             0:29903   \n",
       "400     1514            2  earlyStop:FrameShift             0:29903   \n",
       "\n",
       "     minDeletionSize  \n",
       "0                218  \n",
       "1                561  \n",
       "2                 51  \n",
       "3                561  \n",
       "4                827  \n",
       "..               ...  \n",
       "396            29903  \n",
       "397            29903  \n",
       "398            29903  \n",
       "399            29903  \n",
       "400            29903  \n",
       "\n",
       "[401 rows x 5 columns]"
      ]
     },
     "execution_count": 34,
     "metadata": {},
     "output_type": "execute_result"
    }
   ],
   "source": [
    "inWAClusters"
   ]
  },
  {
   "cell_type": "markdown",
   "id": "54ce5af3-53e3-4227-a8a1-03e57a2a664a",
   "metadata": {},
   "source": [
    "Is there any evidence that big deletion clusters should be split?"
   ]
  },
  {
   "cell_type": "code",
   "execution_count": 1,
   "id": "859d8222-0447-43a5-93ae-39a9b6af63ce",
   "metadata": {},
   "outputs": [
    {
     "ename": "NameError",
     "evalue": "name 'inWAClusters' is not defined",
     "output_type": "error",
     "traceback": [
      "\u001b[0;31m---------------------------------------------------------------------------\u001b[0m",
      "\u001b[0;31mNameError\u001b[0m                                 Traceback (most recent call last)",
      "Cell \u001b[0;32mIn[1], line 3\u001b[0m\n\u001b[1;32m      1\u001b[0m susClust \u001b[38;5;241m=\u001b[39m []\n\u001b[1;32m      2\u001b[0m sizes \u001b[38;5;241m=\u001b[39m []\n\u001b[0;32m----> 3\u001b[0m delClusters \u001b[38;5;241m=\u001b[39m \u001b[43minWAClusters\u001b[49m\u001b[38;5;241m.\u001b[39mloc[inWAClusters\u001b[38;5;241m.\u001b[39mkoType\u001b[38;5;241m==\u001b[39m\u001b[38;5;124m'\u001b[39m\u001b[38;5;124mBigDeletion\u001b[39m\u001b[38;5;124m'\u001b[39m,\u001b[38;5;124m'\u001b[39m\u001b[38;5;124mcluster\u001b[39m\u001b[38;5;124m'\u001b[39m]\n\u001b[1;32m      4\u001b[0m \u001b[38;5;28;01mfor\u001b[39;00m idx \u001b[38;5;129;01min\u001b[39;00m delClusters\u001b[38;5;241m.\u001b[39mindex:\n\u001b[1;32m      5\u001b[0m     \u001b[38;5;28;01mif\u001b[39;00m inWAClusters\u001b[38;5;241m.\u001b[39mloc[idx,\u001b[38;5;124m'\u001b[39m\u001b[38;5;124mminDeletionSize\u001b[39m\u001b[38;5;124m'\u001b[39m] \u001b[38;5;241m<\u001b[39m \u001b[38;5;241m30\u001b[39m:\n",
      "\u001b[0;31mNameError\u001b[0m: name 'inWAClusters' is not defined"
     ]
    }
   ],
   "source": [
    "susClust = []\n",
    "sizes = []\n",
    "delClusters = inWAClusters.loc[inWAClusters.koType=='BigDeletion','cluster']\n",
    "for idx in delClusters.index:\n",
    "    if inWAClusters.loc[idx,'minDeletionSize'] < 30:\n",
    "        susClust.append(inWAClusters.loc[idx,'cluster'])\n",
    "        sizes.append(inWAClusters.loc[idx,'minDeletionSize'])\n",
    "print(susClust)"
   ]
  },
  {
   "cell_type": "code",
   "execution_count": 34,
   "id": "3f1f24fd-e4cb-46d7-b731-839e9220ea27",
   "metadata": {},
   "outputs": [
    {
     "data": {
      "text/plain": [
       "Index(['strain', 'cluster', 'gisaid_epi_isl', 'date', 'region', 'country',\n",
       "       'division', 'location', 'length', 'age', 'sex', 'Nextstrain_clade',\n",
       "       'pango_lineage', 'GISAID_clade', 'originating_lab', 'submitting_lab',\n",
       "       'authors', 'url', 'missing_data', 'divergence', 'nonACGTN', 'coverage',\n",
       "       'rare_mutations', 'reversion_mutations', 'potential_contaminants',\n",
       "       'QC_missing_data', 'QC_mixed_sites', 'QC_rare_mutations',\n",
       "       'QC_snp_clusters', 'QC_frame_shifts', 'QC_stop_codons',\n",
       "       'QC_overall_score', 'QC_overall_status', 'ORF8_deletions', 'ORF8_gaps',\n",
       "       'ORF8_nDeleted', 'ORF8_maxDeletion', 'ORF8_maxGap', 'ORF8_frameShifts',\n",
       "       'ORF8_proteinLength', 'ORF8_stop', 'ORF8_stoploss', 'ORF8_misStops',\n",
       "       'ORF8_ko', 'ORF8_koType'],\n",
       "      dtype='object')"
      ]
     },
     "execution_count": 34,
     "metadata": {},
     "output_type": "execute_result"
    }
   ],
   "source": [
    "df.columns"
   ]
  },
  {
   "cell_type": "code",
   "execution_count": 64,
   "id": "477140e6-47a8-4347-bf7a-b624012e3ab0",
   "metadata": {},
   "outputs": [],
   "source": [
    "sequences = []\n",
    "gisaid = []\n",
    "ko_type = []\n",
    "delLocs = []\n",
    "minDel = []\n",
    "minDelSize = []\n",
    "for clust in withUW[countsWithUW>1]:\n",
    "    filt = df.loc[(df.submitting_lab=='UW Virology Lab') & (df.cluster==clust),:]\n",
    "    locs = filt.ORF8_deletions.str.replace(',',':')\n",
    "    cStart = 0\n",
    "    cEnd = 29903\n",
    "    for loc in locs:\n",
    "        if len(loc):\n",
    "            split = loc.split(':')\n",
    "            asInt = [int(v) for v in split]\n",
    "            sizes = asInt - np.roll(asInt,1)\n",
    "            realSizes = [sizes[index] for index in range(1, len(sizes), 2)]\n",
    "            biggest = np.argmax(realSizes)\n",
    "            start = int(split[biggest+biggest])\n",
    "            end = int(split[biggest+biggest+1])\n",
    "            if start > cStart:\n",
    "                cStart = start\n",
    "            if end < cEnd:\n",
    "                cEnd = end\n",
    "    minDel.append(str(cStart)+':'+str(cEnd))\n",
    "    minDelSize.append(cEnd-cStart)\n",
    "    ko_type.append(filt['ORF8_koType'].unique()[0])"
   ]
  },
  {
   "cell_type": "code",
   "execution_count": 65,
   "id": "2786f6ea-247f-4b8e-9402-0c4fec5ed2f8",
   "metadata": {},
   "outputs": [],
   "source": [
    "allUW = pd.DataFrame({'cluster': withUW[countsWithUW>1], 'clusterSize': countsWithUW[countsWithUW>1],'koType':ko_type,'minDeletionLocation':minDel,'minDeletionSize':minDelSize})\n",
    "\n",
    "UWtoConfirm = allUW.loc[allUW.koType=='BigDeletion',:].merge(df.loc[(df.submitting_lab=='UW Virology Lab'),('cluster','strain','gisaid_epi_isl', 'ORF8_deletions')],on='cluster',how='left')\n",
    "UWtoConfirm.sort_values(by='clusterSize',ascending=False,inplace=True,ignore_index=True)\n",
    "UWFinal = UWtoConfirm.rename(columns={'strain':'UWstrain','gisaid_epi_isl':'GISAIDid'})"
   ]
  },
  {
   "cell_type": "code",
   "execution_count": 66,
   "id": "2beafe01-69e8-472f-ab1b-1f3bd999b021",
   "metadata": {},
   "outputs": [],
   "source": [
    "largest = []\n",
    "for deletion in UWFinal['ORF8_deletions']:\n",
    "    windows = deletion.split(', ')\n",
    "    length = 0\n",
    "    loc = None\n",
    "    for i, window in enumerate(windows):\n",
    "        start, end = window.split(':')\n",
    "        size = int(end) - int(start)\n",
    "        if size > length:\n",
    "            length=size\n",
    "            loc = i\n",
    "    largest.append(windows[loc])\n",
    "UWFinal['DeletionLocation'] = largest\n",
    "UWFinal = UWFinal.drop(columns='ORF8_deletions')"
   ]
  },
  {
   "cell_type": "code",
   "execution_count": 67,
   "id": "e759ec8b-7ba0-4f91-8b98-e7b0cdb5a27f",
   "metadata": {},
   "outputs": [
    {
     "data": {
      "text/html": [
       "<div>\n",
       "<style scoped>\n",
       "    .dataframe tbody tr th:only-of-type {\n",
       "        vertical-align: middle;\n",
       "    }\n",
       "\n",
       "    .dataframe tbody tr th {\n",
       "        vertical-align: top;\n",
       "    }\n",
       "\n",
       "    .dataframe thead th {\n",
       "        text-align: right;\n",
       "    }\n",
       "</style>\n",
       "<table border=\"1\" class=\"dataframe\">\n",
       "  <thead>\n",
       "    <tr style=\"text-align: right;\">\n",
       "      <th></th>\n",
       "      <th>cluster</th>\n",
       "      <th>clusterSize</th>\n",
       "      <th>koType</th>\n",
       "      <th>minDeletionLocation</th>\n",
       "      <th>minDeletionSize</th>\n",
       "      <th>UWstrain</th>\n",
       "      <th>GISAIDid</th>\n",
       "      <th>DeletionLocation</th>\n",
       "    </tr>\n",
       "  </thead>\n",
       "  <tbody>\n",
       "    <tr>\n",
       "      <th>0</th>\n",
       "      <td>719</td>\n",
       "      <td>638</td>\n",
       "      <td>BigDeletion</td>\n",
       "      <td>27995:27924</td>\n",
       "      <td>-71</td>\n",
       "      <td>USA/WA-UW-22010815153/2022</td>\n",
       "      <td>EPI_ISL_9594925</td>\n",
       "      <td>27845:28088</td>\n",
       "    </tr>\n",
       "    <tr>\n",
       "      <th>1</th>\n",
       "      <td>719</td>\n",
       "      <td>638</td>\n",
       "      <td>BigDeletion</td>\n",
       "      <td>27995:27924</td>\n",
       "      <td>-71</td>\n",
       "      <td>USA/WA-CDC-UW22010836326/2022</td>\n",
       "      <td>EPI_ISL_8986413</td>\n",
       "      <td>27836:28088</td>\n",
       "    </tr>\n",
       "    <tr>\n",
       "      <th>2</th>\n",
       "      <td>719</td>\n",
       "      <td>638</td>\n",
       "      <td>BigDeletion</td>\n",
       "      <td>27995:27924</td>\n",
       "      <td>-71</td>\n",
       "      <td>USA/WA-CDC-UW22010838456/2022</td>\n",
       "      <td>EPI_ISL_9154960</td>\n",
       "      <td>27845:27984</td>\n",
       "    </tr>\n",
       "    <tr>\n",
       "      <th>3</th>\n",
       "      <td>719</td>\n",
       "      <td>638</td>\n",
       "      <td>BigDeletion</td>\n",
       "      <td>27995:27924</td>\n",
       "      <td>-71</td>\n",
       "      <td>USA/WA-CDC-UW22010838553/2022</td>\n",
       "      <td>EPI_ISL_9275451</td>\n",
       "      <td>27845:28088</td>\n",
       "    </tr>\n",
       "    <tr>\n",
       "      <th>4</th>\n",
       "      <td>719</td>\n",
       "      <td>638</td>\n",
       "      <td>BigDeletion</td>\n",
       "      <td>27995:27924</td>\n",
       "      <td>-71</td>\n",
       "      <td>USA/WA-CDC-UW22010843196/2022</td>\n",
       "      <td>EPI_ISL_9275499</td>\n",
       "      <td>27849:28082</td>\n",
       "    </tr>\n",
       "    <tr>\n",
       "      <th>...</th>\n",
       "      <td>...</td>\n",
       "      <td>...</td>\n",
       "      <td>...</td>\n",
       "      <td>...</td>\n",
       "      <td>...</td>\n",
       "      <td>...</td>\n",
       "      <td>...</td>\n",
       "      <td>...</td>\n",
       "    </tr>\n",
       "    <tr>\n",
       "      <th>1262</th>\n",
       "      <td>1044</td>\n",
       "      <td>2</td>\n",
       "      <td>BigDeletion</td>\n",
       "      <td>27849:28011</td>\n",
       "      <td>162</td>\n",
       "      <td>USA/WA-CDC-UW22020923673/2022</td>\n",
       "      <td>EPI_ISL_10021578</td>\n",
       "      <td>27849:28011</td>\n",
       "    </tr>\n",
       "    <tr>\n",
       "      <th>1263</th>\n",
       "      <td>1048</td>\n",
       "      <td>2</td>\n",
       "      <td>BigDeletion</td>\n",
       "      <td>27901:27943</td>\n",
       "      <td>42</td>\n",
       "      <td>USA/WA-CDC-UW22010277385/2022</td>\n",
       "      <td>EPI_ISL_8621825</td>\n",
       "      <td>27901:27997</td>\n",
       "    </tr>\n",
       "    <tr>\n",
       "      <th>1264</th>\n",
       "      <td>925</td>\n",
       "      <td>2</td>\n",
       "      <td>BigDeletion</td>\n",
       "      <td>28002:28171</td>\n",
       "      <td>169</td>\n",
       "      <td>USA/WA-UW-22072373112/2022</td>\n",
       "      <td>EPI_ISL_14498475</td>\n",
       "      <td>28002:28171</td>\n",
       "    </tr>\n",
       "    <tr>\n",
       "      <th>1265</th>\n",
       "      <td>1049</td>\n",
       "      <td>2</td>\n",
       "      <td>BigDeletion</td>\n",
       "      <td>27825:28088</td>\n",
       "      <td>263</td>\n",
       "      <td>USA/WA-CDC-UW22010491203/2022</td>\n",
       "      <td>EPI_ISL_8986118</td>\n",
       "      <td>27825:28088</td>\n",
       "    </tr>\n",
       "    <tr>\n",
       "      <th>1266</th>\n",
       "      <td>45</td>\n",
       "      <td>2</td>\n",
       "      <td>BigDeletion</td>\n",
       "      <td>27527:28028</td>\n",
       "      <td>501</td>\n",
       "      <td>USA/WA-UW-65197/2021</td>\n",
       "      <td>EPI_ISL_1341590</td>\n",
       "      <td>27527:28028</td>\n",
       "    </tr>\n",
       "  </tbody>\n",
       "</table>\n",
       "<p>1267 rows × 8 columns</p>\n",
       "</div>"
      ],
      "text/plain": [
       "      cluster  clusterSize       koType minDeletionLocation  minDeletionSize  \\\n",
       "0         719          638  BigDeletion         27995:27924              -71   \n",
       "1         719          638  BigDeletion         27995:27924              -71   \n",
       "2         719          638  BigDeletion         27995:27924              -71   \n",
       "3         719          638  BigDeletion         27995:27924              -71   \n",
       "4         719          638  BigDeletion         27995:27924              -71   \n",
       "...       ...          ...          ...                 ...              ...   \n",
       "1262     1044            2  BigDeletion         27849:28011              162   \n",
       "1263     1048            2  BigDeletion         27901:27943               42   \n",
       "1264      925            2  BigDeletion         28002:28171              169   \n",
       "1265     1049            2  BigDeletion         27825:28088              263   \n",
       "1266       45            2  BigDeletion         27527:28028              501   \n",
       "\n",
       "                           UWstrain          GISAIDid DeletionLocation  \n",
       "0        USA/WA-UW-22010815153/2022   EPI_ISL_9594925      27845:28088  \n",
       "1     USA/WA-CDC-UW22010836326/2022   EPI_ISL_8986413      27836:28088  \n",
       "2     USA/WA-CDC-UW22010838456/2022   EPI_ISL_9154960      27845:27984  \n",
       "3     USA/WA-CDC-UW22010838553/2022   EPI_ISL_9275451      27845:28088  \n",
       "4     USA/WA-CDC-UW22010843196/2022   EPI_ISL_9275499      27849:28082  \n",
       "...                             ...               ...              ...  \n",
       "1262  USA/WA-CDC-UW22020923673/2022  EPI_ISL_10021578      27849:28011  \n",
       "1263  USA/WA-CDC-UW22010277385/2022   EPI_ISL_8621825      27901:27997  \n",
       "1264     USA/WA-UW-22072373112/2022  EPI_ISL_14498475      28002:28171  \n",
       "1265  USA/WA-CDC-UW22010491203/2022   EPI_ISL_8986118      27825:28088  \n",
       "1266           USA/WA-UW-65197/2021   EPI_ISL_1341590      27527:28028  \n",
       "\n",
       "[1267 rows x 8 columns]"
      ]
     },
     "execution_count": 67,
     "metadata": {},
     "output_type": "execute_result"
    }
   ],
   "source": [
    "UWFinal"
   ]
  },
  {
   "cell_type": "code",
   "execution_count": null,
   "id": "415e3225-58da-48a1-a90e-05b42aa07285",
   "metadata": {},
   "outputs": [],
   "source": []
  },
  {
   "cell_type": "code",
   "execution_count": null,
   "id": "654d60cc-4622-40b2-9d16-a85f70f5564f",
   "metadata": {},
   "outputs": [],
   "source": []
  },
  {
   "cell_type": "code",
   "execution_count": 64,
   "id": "8e6715e9-f4f9-4fd9-bab4-62ddef60adaf",
   "metadata": {},
   "outputs": [],
   "source": [
    "with open('UWSamples_to_confirm_long.csv','w') as f:\n",
    "    UWFinal.to_csv(f,index=False)"
   ]
  },
  {
   "cell_type": "code",
   "execution_count": null,
   "id": "27caef02-2e26-4ad3-bf98-589222a99636",
   "metadata": {},
   "outputs": [],
   "source": []
  }
 ],
 "metadata": {
  "kernelspec": {
   "display_name": "Python [conda env:orf8ko]",
   "language": "python",
   "name": "conda-env-orf8ko-py"
  },
  "language_info": {
   "codemirror_mode": {
    "name": "ipython",
    "version": 3
   },
   "file_extension": ".py",
   "mimetype": "text/x-python",
   "name": "python",
   "nbconvert_exporter": "python",
   "pygments_lexer": "ipython3",
   "version": "3.10.9"
  }
 },
 "nbformat": 4,
 "nbformat_minor": 5
}
