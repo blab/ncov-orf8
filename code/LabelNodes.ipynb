{
 "cells": [
  {
   "cell_type": "markdown",
   "id": "c889ad10-1a5d-4b69-a4b9-39f8caec04bc",
   "metadata": {},
   "source": [
    "## Label nodes by clade\n",
    "In this notebook, I'm going to label nodes in the tree using the sample clade assignments.\n",
    "Each node has a set with clade labels. \n",
    "First, I'll do upwards traversal.\n",
    "Each tip's set is automatically labelled with it's clade.\n",
    "If len(set) == 1, pass up the clade label.\n",
    "\n",
    "Then we'll do downward's traversal.\n",
    "If child has multiple labels, take parent's clade.\n",
    "\n",
    "This algorithm will probably be confusing for me, so let's start with 21H (Mu) and then label this based on pango lineages."
   ]
  },
  {
   "cell_type": "code",
   "execution_count": 7,
   "id": "b502f107-a3bd-49a5-b8a0-6796dd1ca6e5",
   "metadata": {},
   "outputs": [],
   "source": [
    "import os\n",
    "from Bio import Phylo\n",
    "import pandas as pd\n",
    "import numpy as np"
   ]
  },
  {
   "cell_type": "code",
   "execution_count": 8,
   "id": "ee90ed90-83ff-452a-8ab0-7e59b0c47f61",
   "metadata": {},
   "outputs": [],
   "source": [
    "os.chdir('/Users/cwagner2/Work/projects/covid/long-deletions/')"
   ]
  },
  {
   "cell_type": "code",
   "execution_count": 18,
   "id": "a3f87463-6c99-4e5d-9785-8f97c25a59ad",
   "metadata": {},
   "outputs": [],
   "source": [
    "with open('usher/trimmed/subset.nwk', 'r') as f:\n",
    "    tree = Phylo.read(f,'newick')\n",
    "with open('usher/trimmed/subset_sample_clades.tsv','r') as f:\n",
    "    df = pd.read_csv(f, sep='\\t')"
   ]
  },
  {
   "cell_type": "code",
   "execution_count": 19,
   "id": "7cdb4c39-5503-4c8f-b3b1-474ff2fdb603",
   "metadata": {},
   "outputs": [
    {
     "data": {
      "text/html": [
       "<div>\n",
       "<style scoped>\n",
       "    .dataframe tbody tr th:only-of-type {\n",
       "        vertical-align: middle;\n",
       "    }\n",
       "\n",
       "    .dataframe tbody tr th {\n",
       "        vertical-align: top;\n",
       "    }\n",
       "\n",
       "    .dataframe thead th {\n",
       "        text-align: right;\n",
       "    }\n",
       "</style>\n",
       "<table border=\"1\" class=\"dataframe\">\n",
       "  <thead>\n",
       "    <tr style=\"text-align: right;\">\n",
       "      <th></th>\n",
       "      <th>sample</th>\n",
       "      <th>annotation_1</th>\n",
       "      <th>annotation_2</th>\n",
       "    </tr>\n",
       "  </thead>\n",
       "  <tbody>\n",
       "    <tr>\n",
       "      <th>0</th>\n",
       "      <td>England/LIVE-9C50A/2020|2020-03-21</td>\n",
       "      <td>19A</td>\n",
       "      <td>B.15</td>\n",
       "    </tr>\n",
       "    <tr>\n",
       "      <th>1</th>\n",
       "      <td>England/PHEC-1E01E/2020|2020-04-03</td>\n",
       "      <td>19A</td>\n",
       "      <td>B.15</td>\n",
       "    </tr>\n",
       "    <tr>\n",
       "      <th>2</th>\n",
       "      <td>USA/CA-CZB-11879/2020|MW276507.1|2020-04-08</td>\n",
       "      <td>19A</td>\n",
       "      <td>B.20</td>\n",
       "    </tr>\n",
       "    <tr>\n",
       "      <th>3</th>\n",
       "      <td>USA/CA-CZB-1085/2020|MT449676.1|2020-04-08</td>\n",
       "      <td>19A</td>\n",
       "      <td>B.20</td>\n",
       "    </tr>\n",
       "    <tr>\n",
       "      <th>4</th>\n",
       "      <td>England/BIRM-61AC3/2020|2020-03-23</td>\n",
       "      <td>19A</td>\n",
       "      <td>B.52</td>\n",
       "    </tr>\n",
       "  </tbody>\n",
       "</table>\n",
       "</div>"
      ],
      "text/plain": [
       "                                        sample annotation_1 annotation_2\n",
       "0           England/LIVE-9C50A/2020|2020-03-21          19A         B.15\n",
       "1           England/PHEC-1E01E/2020|2020-04-03          19A         B.15\n",
       "2  USA/CA-CZB-11879/2020|MW276507.1|2020-04-08          19A         B.20\n",
       "3   USA/CA-CZB-1085/2020|MT449676.1|2020-04-08          19A         B.20\n",
       "4           England/BIRM-61AC3/2020|2020-03-23          19A         B.52"
      ]
     },
     "execution_count": 19,
     "metadata": {},
     "output_type": "execute_result"
    }
   ],
   "source": [
    "df.head()"
   ]
  },
  {
   "cell_type": "code",
   "execution_count": 61,
   "id": "ccf68eed-0ae7-4fb3-8c19-67f92ed5c985",
   "metadata": {},
   "outputs": [],
   "source": [
    "def tabulate_names(tree):\n",
    "    names = {}\n",
    "    for idx, clade in enumerate(tree.find_clades()):\n",
    "        if not clade.name:\n",
    "            clade.name = str(idx)\n",
    "        names[clade.name] = clade\n",
    "    return names\n",
    "\n",
    "def all_parents(tree):\n",
    "    parents= {}\n",
    "    for clade in tree.find_clades(order=\"level\"):\n",
    "        for child in clade:\n",
    "            parents[child.name] = clade\n",
    "    return parents\n",
    "\n",
    "nextstrain_clades = [\n",
    "    '19A',\n",
    "    '19B',\n",
    "    '20A',\n",
    "    '20B',\n",
    "    '20C',\n",
    "    '20D',\n",
    "    '20E (EU1)',\n",
    "    '20F',\n",
    "    '20G',\n",
    "    '20H (Beta,V2)',\n",
    "    '20I (Alpha,V1)',\n",
    "    '20J (Gamma,V3)',\n",
    "    '21A (Delta)',\n",
    "    '21B (Kappa)',\n",
    "    '21C (Epsilon)',\n",
    "    '21D (Eta)',\n",
    "    '21E (Theta)',\n",
    "    '21F (Iota)',\n",
    "    '21G (Lambda)',\n",
    "    '21H (Mu)',\n",
    "    '21I (Delta)',\n",
    "    '21J (Delta)',\n",
    "    '21K (Omicron)',\n",
    "    '21L (Omicron)',\n",
    "    '21M (Omicron)',\n",
    "    '22A (Omicron)',\n",
    "    '22B (Omicron)',\n",
    "    '22C (Omicron)',\n",
    "    '22D (Omicron)',\n",
    "    '22E (Omicron)',\n",
    "    '22F (Omicron)'\n",
    "]\n",
    "\n",
    "def get_mapping(clades):\n",
    "    return {clade:i for i,clade in enumerate(clades)}\n",
    "\n",
    "def get_oldest(lineages,mapping):\n",
    "    lineages = list(lineages)\n",
    "    ordered = [mapping[lin]for lin in lineages]\n",
    "    oldest = lineages[np.argmin(ordered)]\n",
    "    return set([oldest])\n",
    "\n",
    "def label_up(child,parents,labels,mapped):\n",
    "    if child.name in parents.keys():\n",
    "        parent = parents[child.name]\n",
    "        if parent.name not in labels.keys():\n",
    "            labels[parent.name] = labels[child.name]\n",
    "            label_up(parent,parents,labels,mapped)\n",
    "        elif not labels[child.name].issubset(labels[parent.name]):\n",
    "            summed = labels[parent.name].union(labels[child.name])\n",
    "            labels[parent.name] = get_oldest(summed,mapped)\n",
    "            label_up(parent,parents,labels,mapped)\n",
    "            #Hmm unless you also pass up these labels, I think the parents will just get labelled whatever is first.\n",
    "            \n",
    "\n",
    "def tabulate_labels(tree,parents,clades,mapped):\n",
    "    labels = {}\n",
    "    leaves = tree.get_terminals()\n",
    "    for leaf in leaves:\n",
    "        labels[leaf.name] = set([clades[leaf.name]])\n",
    "        label_up(leaf,parents,labels,mapped)\n",
    "    return labels\n",
    "\n",
    "def resolve_labels(tree, labels,parents):\n",
    "    for clade in tree.find_clades():\n",
    "        if len(labels[clade.name])>1:\n",
    "            if clade.name in parents.keys():\n",
    "                parent = parents[clade.name]\n",
    "                labels[clade.name] = labels[parent.name]\n",
    "    return labels\n"
   ]
  },
  {
   "cell_type": "code",
   "execution_count": 62,
   "id": "a171e808-921d-4656-8317-43ab4056efb4",
   "metadata": {},
   "outputs": [],
   "source": [
    "named = tabulate_names(tree)\n",
    "parents = all_parents(tree)\n",
    "clades = {df.at[row,'sample']:df.at[row,'annotation_1'] for row in df.index}\n",
    "mapped = get_mapping(nextstrain_clades)"
   ]
  },
  {
   "cell_type": "code",
   "execution_count": 63,
   "id": "92c412a2-cccd-4e35-b6c4-338b9675ff53",
   "metadata": {},
   "outputs": [],
   "source": [
    "labelled = tabulate_labels(tree,parents,clades,mapped)\n",
    "#labelled = resolve_labels(tree,labelled_up,parents)"
   ]
  },
  {
   "cell_type": "code",
   "execution_count": 64,
   "id": "0ba1d3a4-bcf4-4a18-834c-60cc472eaf65",
   "metadata": {},
   "outputs": [],
   "source": [
    "def to_df(labelled):\n",
    "    nodes = []\n",
    "    labels = []\n",
    "    for node in labelled.keys():\n",
    "        if len(labelled[node])==1:\n",
    "            for e in labelled[node]:\n",
    "                nodes.append(node)\n",
    "                labels.append(e)\n",
    "    new_df = pd.DataFrame({'node':nodes,'clade':labels})\n",
    "    return new_df"
   ]
  },
  {
   "cell_type": "code",
   "execution_count": 65,
   "id": "6ea18dae-bdbd-49db-9624-af93a4894cc6",
   "metadata": {},
   "outputs": [],
   "source": [
    "new_df = to_df(labelled)\n",
    "\n",
    "new_df.to_csv('usher/trimmed/subset_nodes_clades.tsv',sep='\\t',index=False)"
   ]
  }
 ],
 "metadata": {
  "kernelspec": {
   "display_name": "Python [conda env:orf8ko]",
   "language": "python",
   "name": "conda-env-orf8ko-py"
  },
  "language_info": {
   "codemirror_mode": {
    "name": "ipython",
    "version": 3
   },
   "file_extension": ".py",
   "mimetype": "text/x-python",
   "name": "python",
   "nbconvert_exporter": "python",
   "pygments_lexer": "ipython3",
   "version": "3.10.9"
  }
 },
 "nbformat": 4,
 "nbformat_minor": 5
}
