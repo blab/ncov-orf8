{
 "cells": [
  {
   "cell_type": "code",
   "execution_count": 4,
   "id": "31bcc439-8f5c-4708-a4a4-5637f5562de6",
   "metadata": {},
   "outputs": [],
   "source": [
    "import os\n",
    "import pandas as pd\n",
    "import numpy as np\n",
    "import matplotlib as mpl\n",
    "import matplotlib.pyplot as plt"
   ]
  },
  {
   "cell_type": "code",
   "execution_count": 5,
   "id": "2b32a655-d107-4ba9-b8de-edce91189e33",
   "metadata": {},
   "outputs": [],
   "source": [
    "os.chdir('/Users/cwagner2/Work/projects/covid/long-deletions/')"
   ]
  },
  {
   "cell_type": "code",
   "execution_count": 6,
   "id": "319a6054-e553-4fde-a3b1-c56221ce7823",
   "metadata": {},
   "outputs": [],
   "source": [
    "mpl.rcParams['axes.spines.right'] = False\n",
    "mpl.rcParams['axes.spines.top'] = False\n",
    "mpl.rcParams['axes.labelsize'] = 14\n",
    "mpl.rcParams['axes.linewidth'] = 1.2\n",
    "mpl.rcParams['font.sans-serif'] = 'Helvetica'\n",
    "mpl.rcParams['xtick.labelsize'] = 12\n",
    "mpl.rcParams['ytick.labelsize'] = 12\n",
    "mpl.rcParams['xtick.major.width'] = 1.2\n",
    "mpl.rcParams['ytick.major.width'] = 1.2\n",
    "mpl.rcParams['figure.titleweight'] = 'bold'\n",
    "mpl.rcParams['figure.titlesize']= 14\n",
    "mpl.rcParams['legend.fontsize']=12\n",
    "mpl.rcParams['legend.title_fontsize']=14"
   ]
  },
  {
   "cell_type": "code",
   "execution_count": 5,
   "id": "e30e6359-5e3c-48fe-8e7d-09292b44995e",
   "metadata": {},
   "outputs": [],
   "source": [
    "with open('results/gisaid.washington.june20-july22.orf8ko.meta.tsv','r') as f:\n",
    "    meta = pd.read_csv(f,sep='\\t')\n",
    "meta['date'] = pd.to_datetime(meta['date'])\n",
    "meta['my'] = meta['date'].dt.to_period('M')"
   ]
  },
  {
   "cell_type": "code",
   "execution_count": 6,
   "id": "f8ca4d83-1cbb-4801-b4b7-b69d16b29815",
   "metadata": {},
   "outputs": [
    {
     "data": {
      "text/html": [
       "<div>\n",
       "<style scoped>\n",
       "    .dataframe tbody tr th:only-of-type {\n",
       "        vertical-align: middle;\n",
       "    }\n",
       "\n",
       "    .dataframe tbody tr th {\n",
       "        vertical-align: top;\n",
       "    }\n",
       "\n",
       "    .dataframe thead th {\n",
       "        text-align: right;\n",
       "    }\n",
       "</style>\n",
       "<table border=\"1\" class=\"dataframe\">\n",
       "  <thead>\n",
       "    <tr style=\"text-align: right;\">\n",
       "      <th></th>\n",
       "      <th>strain</th>\n",
       "      <th>date</th>\n",
       "      <th>location</th>\n",
       "      <th>Nextstrain_clade</th>\n",
       "      <th>pango_lineage</th>\n",
       "      <th>ORF8_ko</th>\n",
       "      <th>ORF8_koType</th>\n",
       "      <th>my</th>\n",
       "    </tr>\n",
       "  </thead>\n",
       "  <tbody>\n",
       "    <tr>\n",
       "      <th>0</th>\n",
       "      <td>USA/WA-S1751/2020</td>\n",
       "      <td>2020-06-01</td>\n",
       "      <td>Yakima County</td>\n",
       "      <td>20B</td>\n",
       "      <td>B.1.1.26</td>\n",
       "      <td>No</td>\n",
       "      <td>NaN</td>\n",
       "      <td>2020-06</td>\n",
       "    </tr>\n",
       "    <tr>\n",
       "      <th>1</th>\n",
       "      <td>USA/WA-S1713/2020</td>\n",
       "      <td>2020-06-01</td>\n",
       "      <td>Yakima County</td>\n",
       "      <td>20B</td>\n",
       "      <td>B.1.1.291</td>\n",
       "      <td>No</td>\n",
       "      <td>NaN</td>\n",
       "      <td>2020-06</td>\n",
       "    </tr>\n",
       "    <tr>\n",
       "      <th>2</th>\n",
       "      <td>USA/WA-S1755/2020</td>\n",
       "      <td>2020-06-01</td>\n",
       "      <td>Yakima County</td>\n",
       "      <td>20B</td>\n",
       "      <td>B.1.1.291</td>\n",
       "      <td>No</td>\n",
       "      <td>NaN</td>\n",
       "      <td>2020-06</td>\n",
       "    </tr>\n",
       "    <tr>\n",
       "      <th>3</th>\n",
       "      <td>USA/WA-S1722/2020</td>\n",
       "      <td>2020-06-01</td>\n",
       "      <td>Yakima County</td>\n",
       "      <td>20B</td>\n",
       "      <td>B.1.1.290</td>\n",
       "      <td>No</td>\n",
       "      <td>NaN</td>\n",
       "      <td>2020-06</td>\n",
       "    </tr>\n",
       "    <tr>\n",
       "      <th>4</th>\n",
       "      <td>USA/WA-S1718/2020</td>\n",
       "      <td>2020-06-01</td>\n",
       "      <td>Yakima County</td>\n",
       "      <td>20B</td>\n",
       "      <td>B.1.1.291</td>\n",
       "      <td>No</td>\n",
       "      <td>NaN</td>\n",
       "      <td>2020-06</td>\n",
       "    </tr>\n",
       "  </tbody>\n",
       "</table>\n",
       "</div>"
      ],
      "text/plain": [
       "              strain       date       location Nextstrain_clade pango_lineage  \\\n",
       "0  USA/WA-S1751/2020 2020-06-01  Yakima County              20B      B.1.1.26   \n",
       "1  USA/WA-S1713/2020 2020-06-01  Yakima County              20B     B.1.1.291   \n",
       "2  USA/WA-S1755/2020 2020-06-01  Yakima County              20B     B.1.1.291   \n",
       "3  USA/WA-S1722/2020 2020-06-01  Yakima County              20B     B.1.1.290   \n",
       "4  USA/WA-S1718/2020 2020-06-01  Yakima County              20B     B.1.1.291   \n",
       "\n",
       "  ORF8_ko ORF8_koType       my  \n",
       "0      No         NaN  2020-06  \n",
       "1      No         NaN  2020-06  \n",
       "2      No         NaN  2020-06  \n",
       "3      No         NaN  2020-06  \n",
       "4      No         NaN  2020-06  "
      ]
     },
     "execution_count": 6,
     "metadata": {},
     "output_type": "execute_result"
    }
   ],
   "source": [
    "meta.head()"
   ]
  },
  {
   "cell_type": "code",
   "execution_count": 8,
   "id": "fe924e2a-1367-42c4-a0ee-a3a74d6964ae",
   "metadata": {},
   "outputs": [
    {
     "ename": "TypeError",
     "evalue": "'<' not supported between instances of 'Period' and 'float'",
     "output_type": "error",
     "traceback": [
      "\u001b[0;31m---------------------------------------------------------------------------\u001b[0m",
      "\u001b[0;31mTypeError\u001b[0m                                 Traceback (most recent call last)",
      "Cell \u001b[0;32mIn[8], line 4\u001b[0m\n\u001b[1;32m      2\u001b[0m status \u001b[38;5;241m=\u001b[39m [\u001b[38;5;124m'\u001b[39m\u001b[38;5;124mYes\u001b[39m\u001b[38;5;124m'\u001b[39m,\u001b[38;5;124m'\u001b[39m\u001b[38;5;124mNo\u001b[39m\u001b[38;5;124m'\u001b[39m]\n\u001b[1;32m      3\u001b[0m data \u001b[38;5;241m=\u001b[39m [meta[meta\u001b[38;5;241m.\u001b[39mORF8_ko\u001b[38;5;241m==\u001b[39mvalue][\u001b[38;5;124m'\u001b[39m\u001b[38;5;124mmy\u001b[39m\u001b[38;5;124m'\u001b[39m] \u001b[38;5;28;01mfor\u001b[39;00m value \u001b[38;5;129;01min\u001b[39;00m status]\n\u001b[0;32m----> 4\u001b[0m \u001b[43max\u001b[49m\u001b[38;5;241;43m.\u001b[39;49m\u001b[43mhist\u001b[49m\u001b[43m(\u001b[49m\u001b[43mdata\u001b[49m\u001b[43m,\u001b[49m\u001b[43mstacked\u001b[49m\u001b[38;5;241;43m=\u001b[39;49m\u001b[38;5;28;43;01mTrue\u001b[39;49;00m\u001b[43m)\u001b[49m\n",
      "File \u001b[0;32m~/miniconda3/envs/orf8ko/lib/python3.10/site-packages/matplotlib/__init__.py:1423\u001b[0m, in \u001b[0;36m_preprocess_data.<locals>.inner\u001b[0;34m(ax, data, *args, **kwargs)\u001b[0m\n\u001b[1;32m   1420\u001b[0m \u001b[38;5;129m@functools\u001b[39m\u001b[38;5;241m.\u001b[39mwraps(func)\n\u001b[1;32m   1421\u001b[0m \u001b[38;5;28;01mdef\u001b[39;00m \u001b[38;5;21minner\u001b[39m(ax, \u001b[38;5;241m*\u001b[39margs, data\u001b[38;5;241m=\u001b[39m\u001b[38;5;28;01mNone\u001b[39;00m, \u001b[38;5;241m*\u001b[39m\u001b[38;5;241m*\u001b[39mkwargs):\n\u001b[1;32m   1422\u001b[0m     \u001b[38;5;28;01mif\u001b[39;00m data \u001b[38;5;129;01mis\u001b[39;00m \u001b[38;5;28;01mNone\u001b[39;00m:\n\u001b[0;32m-> 1423\u001b[0m         \u001b[38;5;28;01mreturn\u001b[39;00m \u001b[43mfunc\u001b[49m\u001b[43m(\u001b[49m\u001b[43max\u001b[49m\u001b[43m,\u001b[49m\u001b[43m \u001b[49m\u001b[38;5;241;43m*\u001b[39;49m\u001b[38;5;28;43mmap\u001b[39;49m\u001b[43m(\u001b[49m\u001b[43msanitize_sequence\u001b[49m\u001b[43m,\u001b[49m\u001b[43m \u001b[49m\u001b[43margs\u001b[49m\u001b[43m)\u001b[49m\u001b[43m,\u001b[49m\u001b[43m \u001b[49m\u001b[38;5;241;43m*\u001b[39;49m\u001b[38;5;241;43m*\u001b[39;49m\u001b[43mkwargs\u001b[49m\u001b[43m)\u001b[49m\n\u001b[1;32m   1425\u001b[0m     bound \u001b[38;5;241m=\u001b[39m new_sig\u001b[38;5;241m.\u001b[39mbind(ax, \u001b[38;5;241m*\u001b[39margs, \u001b[38;5;241m*\u001b[39m\u001b[38;5;241m*\u001b[39mkwargs)\n\u001b[1;32m   1426\u001b[0m     auto_label \u001b[38;5;241m=\u001b[39m (bound\u001b[38;5;241m.\u001b[39marguments\u001b[38;5;241m.\u001b[39mget(label_namer)\n\u001b[1;32m   1427\u001b[0m                   \u001b[38;5;129;01mor\u001b[39;00m bound\u001b[38;5;241m.\u001b[39mkwargs\u001b[38;5;241m.\u001b[39mget(label_namer))\n",
      "File \u001b[0;32m~/miniconda3/envs/orf8ko/lib/python3.10/site-packages/matplotlib/axes/_axes.py:6709\u001b[0m, in \u001b[0;36mAxes.hist\u001b[0;34m(self, x, bins, range, density, weights, cumulative, bottom, histtype, align, orientation, rwidth, log, color, label, stacked, **kwargs)\u001b[0m\n\u001b[1;32m   6705\u001b[0m \u001b[38;5;28;01mfor\u001b[39;00m xi \u001b[38;5;129;01min\u001b[39;00m x:\n\u001b[1;32m   6706\u001b[0m     \u001b[38;5;28;01mif\u001b[39;00m \u001b[38;5;28mlen\u001b[39m(xi):\n\u001b[1;32m   6707\u001b[0m         \u001b[38;5;66;03m# python's min/max ignore nan,\u001b[39;00m\n\u001b[1;32m   6708\u001b[0m         \u001b[38;5;66;03m# np.minnan returns nan for all nan input\u001b[39;00m\n\u001b[0;32m-> 6709\u001b[0m         xmin \u001b[38;5;241m=\u001b[39m \u001b[38;5;28;43mmin\u001b[39;49m\u001b[43m(\u001b[49m\u001b[43mxmin\u001b[49m\u001b[43m,\u001b[49m\u001b[43m \u001b[49m\u001b[43mnp\u001b[49m\u001b[38;5;241;43m.\u001b[39;49m\u001b[43mnanmin\u001b[49m\u001b[43m(\u001b[49m\u001b[43mxi\u001b[49m\u001b[43m)\u001b[49m\u001b[43m)\u001b[49m\n\u001b[1;32m   6710\u001b[0m         xmax \u001b[38;5;241m=\u001b[39m \u001b[38;5;28mmax\u001b[39m(xmax, np\u001b[38;5;241m.\u001b[39mnanmax(xi))\n\u001b[1;32m   6711\u001b[0m \u001b[38;5;28;01mif\u001b[39;00m xmin \u001b[38;5;241m<\u001b[39m\u001b[38;5;241m=\u001b[39m xmax:  \u001b[38;5;66;03m# Only happens if we have seen a finite value.\u001b[39;00m\n",
      "\u001b[0;31mTypeError\u001b[0m: '<' not supported between instances of 'Period' and 'float'"
     ]
    },
    {
     "data": {
      "image/png": "[encoded data removed]",
      "text/plain": [
       "<Figure size 640x480 with 1 Axes>"
      ]
     },
     "metadata": {},
     "output_type": "display_data"
    }
   ],
   "source": [
    "fig,ax = plt.subplots()\n",
    "status = ['Yes','No']\n",
    "data = [meta[meta.ORF8_ko==value]['my'] for value in status]\n",
    "ax.hist(data,stacked=True)"
   ]
  },
  {
   "cell_type": "code",
   "execution_count": null,
   "id": "d76d8aa6-514e-4fab-a43a-0b5575256562",
   "metadata": {},
   "outputs": [],
   "source": []
  }
 ],
 "metadata": {
  "kernelspec": {
   "display_name": "Python [conda env:orf8ko]",
   "language": "python",
   "name": "conda-env-orf8ko-py"
  },
  "language_info": {
   "codemirror_mode": {
    "name": "ipython",
    "version": 3
   },
   "file_extension": ".py",
   "mimetype": "text/x-python",
   "name": "python",
   "nbconvert_exporter": "python",
   "pygments_lexer": "ipython3",
   "version": "3.10.9"
  }
 },
 "nbformat": 4,
 "nbformat_minor": 5
}
