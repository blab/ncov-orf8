{
 "cells": [
  {
   "cell_type": "markdown",
   "id": "ec443d9c-9ff5-4c14-8856-c51e69481252",
   "metadata": {},
   "source": [
    "## Transmission clusters with ORF8KO\n",
    "My goal is to test fitness of orf8KO by comparing transmission cluster size with ORF8KO vs. ones without. I'll do this in two ways:\n",
    "1. Cluster size of missense causing early stops vs. other NS in orf8 vs. syn in ORF8\n",
    "2. Cluster size of missense causing early stops vs. the one right above that.\n",
    "\n",
    "To do this analysis, I'll use a globally representative tree, so location of a cluster will not bias results."
   ]
  },
  {
   "cell_type": "code",
   "execution_count": 196,
   "id": "19cc36ff-971d-41f1-91f7-d0ebe061dd1b",
   "metadata": {},
   "outputs": [],
   "source": [
    "import os\n",
    "from Bio import Phylo\n",
    "from augur.utils import json_to_tree\n",
    "import json\n",
    "from Bio import SeqIO\n",
    "import pandas as pd\n",
    "import numpy as np\n",
    "import matplotlib as mpl\n",
    "import matplotlib.pyplot as plt\n",
    "import seaborn as sns\n",
    "from scipy import stats as st"
   ]
  },
  {
   "cell_type": "code",
   "execution_count": 3,
   "id": "2b3d497b-43ba-40d2-94e5-19a16fcbca1f",
   "metadata": {},
   "outputs": [],
   "source": [
    "os.chdir('/Users/cwagner2/Work/projects/covid/long-deletions/')"
   ]
  },
  {
   "cell_type": "markdown",
   "id": "b09babc9-a4d6-47ed-addf-4512614f9db2",
   "metadata": {},
   "source": [
    "### Loading tree"
   ]
  },
  {
   "cell_type": "code",
   "execution_count": 8,
   "id": "d57c8036-feba-41c0-9d81-6d0864bfdef4",
   "metadata": {},
   "outputs": [],
   "source": [
    "#path to tree json\n",
    "tree_file = 'data/ncov-gisaid-global_2023-04-11.json'\n",
    "\n",
    "with open(tree_file, 'r') as f:\n",
    "    tree_json = json.load(f)\n",
    "\n",
    "#put tree in Bio.phylo format\n",
    "tree = json_to_tree(tree_json)"
   ]
  },
  {
   "cell_type": "markdown",
   "id": "04ee4fdb-ac18-426b-8de2-074c0a579d72",
   "metadata": {},
   "source": [
    "### KO vs. NS vs. S in ORF8"
   ]
  },
  {
   "cell_type": "code",
   "execution_count": 219,
   "id": "c08597f9-866e-458d-9c1d-c86231a47bc7",
   "metadata": {},
   "outputs": [],
   "source": [
    "def tabulate_names(tree):\n",
    "    names = {}\n",
    "    for idx, clade in enumerate(tree.find_clades()):\n",
    "        if not clade.name:\n",
    "            clade.name = str(idx)\n",
    "        names[clade.name] = clade\n",
    "    return names\n",
    "\n",
    "def geneLocs(path):\n",
    "    pos = {}\n",
    "    ref = SeqIO.read(path,'gb')\n",
    "    for feature in ref.features:\n",
    "        if feature.type == \"CDS\":\n",
    "            start = feature.location.start\n",
    "            end = feature.location.end\n",
    "            name = feature.qualifiers['gene'][0]\n",
    "            pos[name] = {}\n",
    "            pos[name]['end'] = end\n",
    "            pos[name]['start'] = start\n",
    "    return pos\n",
    "\n",
    "def getMut(mut):\n",
    "    og = mut[0]\n",
    "    pos = ''.join(mut[1:-1])\n",
    "    new = mut[-1]\n",
    "    return og,pos,new\n",
    "                    \n",
    "def getMutType(muts,gene,start,end):\n",
    "    if 'nuc' in muts.keys():\n",
    "        all_nucs = [getMut(mut) for mut in muts['nuc']]\n",
    "        nucsGene = [nuc for nuc in all_nucs if int(nuc[1])>= start and int(nuc[1])<end+1 and nuc[0] != '-' and nuc[2] != '-']\n",
    "        if gene in muts.keys():\n",
    "            all_ns = [getMut(mut) for mut in muts[gene]]\n",
    "            nucNSList = [set(range(start - 3 + (int(mut[1])*3),start+(int(mut[1])*3))) for mut in all_ns]\n",
    "            nucNS = set.union(*nucNSList)\n",
    "            syn = [''.join(nuc) for nuc in nucsGene if int(nuc[1]) not in nucNS]\n",
    "            stops = [''.join(mut) for mut in all_ns if mut[2] == '*' or mut[0] == '*']\n",
    "            ns = [''.join(mut) for mut in all_ns if mut[2] != '*' and mut[0] != '*' and mut[2] != '-' and mut[0] != '-'] # gaps & stops are not NS\n",
    "        else:\n",
    "            syn = [''.join(nuc) for nuc in nucsGene]\n",
    "            stops = []\n",
    "            ns = []\n",
    "    else:\n",
    "        syn = []\n",
    "        stops = []\n",
    "        ns = []\n",
    "    output = {}\n",
    "    output['syn'] = syn\n",
    "    output['nonsyn'] = ns\n",
    "    output['stops'] = stops\n",
    "    return output\n",
    "        \n",
    "def countMutType(subtree,genelocs):\n",
    "    genes = genelocs.keys()\n",
    "    counts = {}\n",
    "    for gene in genes:\n",
    "        counts[gene] = {}\n",
    "        counts[gene]['syn'] = 0\n",
    "        counts[gene]['nonsyn'] = 0\n",
    "        counts[gene]['stop'] = 0\n",
    "    for clade in subtree.find_clades():\n",
    "        all_muts = {k:v for k,v in clade.branch_attrs['mutations'].items()}\n",
    "        for gene in genes:\n",
    "            start = genelocs[gene]['start']\n",
    "            end = genelocs[gene]['end']\n",
    "            muts = getMutType(all_muts,gene,start,end)\n",
    "            counts[gene]['syn'] += len(muts['syn'])\n",
    "            counts[gene]['nonsyn'] += len(muts['nonsyn'])\n",
    "            counts[gene]['stop'] += len(muts['stops'])\n",
    "    return counts\n",
    "\n",
    "def getLeaves(subtree,gene, start,end,mutType,pos,leafs,named):\n",
    "    for child in subtree.find_clades():\n",
    "        if child in subtree:\n",
    "            all_muts = {k:v for k,v in child.branch_attrs['mutations'].items()}\n",
    "            muts = getMutType(all_muts,gene,start,end)\n",
    "            #changes = [mut[0] for mut in muts[mutType]]\n",
    "            locs = [int(''.join(mut[1:-1])) for mut in muts[mutType]]\n",
    "            if pos not in locs:\n",
    "                if child in leafs:\n",
    "                    named.append(child.name)\n",
    "                else:\n",
    "                    getLeaves(child,gene,start,end,mutType,pos,leafs,named)\n",
    "            \n",
    "def getClustersFinch(subtree,gene,start,end,leafs):\n",
    "    clusters = {}\n",
    "    count = 1\n",
    "    for clade in subtree.find_clades():\n",
    "        all_muts = {k:v for k,v in clade.branch_attrs['mutations'].items()}\n",
    "        muts = getMutType(all_muts,gene,start,end)\n",
    "        for mutType in ['syn','nonsyn','stops']:\n",
    "            if len(muts[mutType]):\n",
    "                for s in muts[mutType]:\n",
    "                    time = clade.node_attrs['num_date']['value']\n",
    "                    clusters[count] = {}\n",
    "                    clusters[count]['strains'] = [clade.name]\n",
    "                    clusters[count]['mut'] = s\n",
    "                    clusters[count]['mutType'] = mutType\n",
    "                    pos = int(s[1:-1])\n",
    "                    getLeaves(clade,gene,start,end,mutType,pos,leafs,clusters[count]['strains'])\n",
    "                    times =  [names[strain].node_attrs['num_date']['value'] for strain in clusters[count]['strains']]\n",
    "                    clusters[count]['persistence'] = max(times) - time\n",
    "                    count += 1\n",
    "    return clusters\n",
    "\n",
    "def saveClusters(C,path):\n",
    "    clusts = []\n",
    "    strains = []\n",
    "    muts = []\n",
    "    mutTypes = []\n",
    "    circs = []\n",
    "    for i,j in enumerate(C.keys()):\n",
    "        samples = C[j]['strains']\n",
    "        mut = C[j]['mut']\n",
    "        mutType = C[j]['mutType']\n",
    "        circ = C[j]['persistence']\n",
    "        length = len(samples)\n",
    "        muts.extend([mut]*length)\n",
    "        mutTypes.extend([mutType]*length)\n",
    "        strains.extend(samples)\n",
    "        clusts.extend([i+1]*length)\n",
    "        circs.extend([circ]*length)\n",
    "    df = pd.DataFrame({'strain':strains,'cluster':clusts,'mutType':mutTypes,'muts':muts,'persistence':circs})\n",
    "    with open(path, 'w') as f:\n",
    "        df.to_csv(f,sep='\\t',index=False)\n",
    "    return df\n",
    "        \n",
    "def getAggregate(df):\n",
    "    values,counts = np.unique(df.cluster,return_counts=True)\n",
    "    countDF = pd.DataFrame({'cluster':values,'clustSize':counts})\n",
    "    typeDF = df[['mutType','cluster']].drop_duplicates()\n",
    "    agg = df[['cluster','persistence']].drop_duplicates().merge(countDF).merge(typeDF)\n",
    "    return agg\n",
    "        \n",
    "leafs = tree.get_terminals()\n",
    "names = tabulate_names(tree)"
   ]
  },
  {
   "cell_type": "markdown",
   "id": "6768d6ac-b4ec-478c-b1d8-4e9920074a8e",
   "metadata": {},
   "source": [
    "#### Side analysis: Just checking NS/S/stop times in evolution"
   ]
  },
  {
   "cell_type": "code",
   "execution_count": 130,
   "id": "fa020169-ab4f-42f3-bca8-da9b2a5e4442",
   "metadata": {},
   "outputs": [],
   "source": [
    "geneDict = geneLocs('sars2_ref.gb')"
   ]
  },
  {
   "cell_type": "code",
   "execution_count": 131,
   "id": "9163a7bd-d294-4b03-a79c-e7692f9e3e30",
   "metadata": {},
   "outputs": [],
   "source": [
    "mutCounts = countMutType(tree,geneDict)"
   ]
  },
  {
   "cell_type": "code",
   "execution_count": 132,
   "id": "c08575d2-ce0e-416d-944d-d3d363892265",
   "metadata": {},
   "outputs": [
    {
     "data": {
      "text/plain": [
       "{'ORF1a': {'syn': 3533, 'nonsyn': 3737, 'stop': 7},\n",
       " 'ORF1b': {'syn': 1955, 'nonsyn': 1606, 'stop': 4},\n",
       " 'S': {'syn': 1201, 'nonsyn': 2027, 'stop': 3},\n",
       " 'ORF3a': {'syn': 344, 'nonsyn': 736, 'stop': 5},\n",
       " 'E': {'syn': 41, 'nonsyn': 65, 'stop': 0},\n",
       " 'M': {'syn': 282, 'nonsyn': 172, 'stop': 0},\n",
       " 'ORF6': {'syn': 67, 'nonsyn': 70, 'stop': 2},\n",
       " 'ORF7a': {'syn': 150, 'nonsyn': 223, 'stop': 21},\n",
       " 'ORF7b': {'syn': 42, 'nonsyn': 66, 'stop': 8},\n",
       " 'ORF8': {'syn': 108, 'nonsyn': 270, 'stop': 39},\n",
       " 'N': {'syn': 639, 'nonsyn': 747, 'stop': 2},\n",
       " 'ORF9b': {'syn': 70, 'nonsyn': 214, 'stop': 3}}"
      ]
     },
     "execution_count": 132,
     "metadata": {},
     "output_type": "execute_result"
    }
   ],
   "source": [
    "mutCounts"
   ]
  },
  {
   "cell_type": "code",
   "execution_count": 133,
   "id": "fd7979d5-3dd9-4f4b-b23f-2355cfe88208",
   "metadata": {},
   "outputs": [
    {
     "data": {
      "image/png": "[encoded data removed]",
      "text/plain": [
       "<Figure size 640x480 with 1 Axes>"
      ]
     },
     "metadata": {},
     "output_type": "display_data"
    }
   ],
   "source": [
    "genes = list(mutCounts.keys())\n",
    "fig,ax = plt.subplots()\n",
    "pos = np.arange(0,len(genes)*4,4)\n",
    "for mut,offset in zip(['syn','nonsyn','stop'],[0,1,2,]):\n",
    "    positions = pos + offset\n",
    "    heights = [mutCounts[gene][mut] for gene in genes]\n",
    "    ax.bar(positions,heights)\n",
    "    ax.set_xticks(pos+1,labels = genes)\n"
   ]
  },
  {
   "cell_type": "markdown",
   "id": "b85dd279-2529-4f11-af2c-9d49eb39b41a",
   "metadata": {},
   "source": [
    "Okay, lots of NS relative to syn, plenty of stopssss. Back to clustering."
   ]
  },
  {
   "cell_type": "code",
   "execution_count": 134,
   "id": "b3899865-f705-4990-8cf9-dd821b80d88d",
   "metadata": {},
   "outputs": [],
   "source": [
    "orf8Clusters = getClustersFinch(tree,'ORF8',27894,28259,leafs)"
   ]
  },
  {
   "cell_type": "code",
   "execution_count": 135,
   "id": "4364d8cf-95ee-435f-b9b1-3ce56abe9018",
   "metadata": {},
   "outputs": [],
   "source": [
    "saveClusters(orf8Clusters,'results/allTypeClusters/orf8_allType_clusters.tsv')"
   ]
  },
  {
   "cell_type": "code",
   "execution_count": 136,
   "id": "ed28ed25-8d77-43f4-ba02-c92f78b3a7ca",
   "metadata": {},
   "outputs": [],
   "source": [
    "with open('results/allTypeClusters/orf8_allType_clusters.tsv','r') as f:\n",
    "    clust_df = pd.read_csv(f,sep='\\t')"
   ]
  },
  {
   "cell_type": "code",
   "execution_count": 137,
   "id": "9bb8b754-319e-46df-a15a-66aa3ead3ee7",
   "metadata": {},
   "outputs": [
    {
     "data": {
      "text/html": [
       "<div>\n",
       "<style scoped>\n",
       "    .dataframe tbody tr th:only-of-type {\n",
       "        vertical-align: middle;\n",
       "    }\n",
       "\n",
       "    .dataframe tbody tr th {\n",
       "        vertical-align: top;\n",
       "    }\n",
       "\n",
       "    .dataframe thead th {\n",
       "        text-align: right;\n",
       "    }\n",
       "</style>\n",
       "<table border=\"1\" class=\"dataframe\">\n",
       "  <thead>\n",
       "    <tr style=\"text-align: right;\">\n",
       "      <th></th>\n",
       "      <th>strain</th>\n",
       "      <th>cluster</th>\n",
       "      <th>mutType</th>\n",
       "      <th>muts</th>\n",
       "      <th>persistence</th>\n",
       "    </tr>\n",
       "  </thead>\n",
       "  <tbody>\n",
       "    <tr>\n",
       "      <th>0</th>\n",
       "      <td>hCoV-19/Uganda/UG052/2020</td>\n",
       "      <td>1</td>\n",
       "      <td>nonsyn</td>\n",
       "      <td>T11I</td>\n",
       "      <td>0.000000</td>\n",
       "    </tr>\n",
       "    <tr>\n",
       "      <th>1</th>\n",
       "      <td>hCoV-19/HongKong/HKU-200823-001/2020</td>\n",
       "      <td>2</td>\n",
       "      <td>stops</td>\n",
       "      <td>E64*</td>\n",
       "      <td>0.000000</td>\n",
       "    </tr>\n",
       "    <tr>\n",
       "      <th>2</th>\n",
       "      <td>hCoV-19/Cyprus/BMVUCY363/2020</td>\n",
       "      <td>3</td>\n",
       "      <td>syn</td>\n",
       "      <td>T28088A</td>\n",
       "      <td>0.000000</td>\n",
       "    </tr>\n",
       "    <tr>\n",
       "      <th>3</th>\n",
       "      <td>NODE_0001130</td>\n",
       "      <td>4</td>\n",
       "      <td>nonsyn</td>\n",
       "      <td>L84S</td>\n",
       "      <td>1.448017</td>\n",
       "    </tr>\n",
       "    <tr>\n",
       "      <th>4</th>\n",
       "      <td>hCoV-19/UnitedArabEmirates/skmc-920569110/2020</td>\n",
       "      <td>4</td>\n",
       "      <td>nonsyn</td>\n",
       "      <td>L84S</td>\n",
       "      <td>1.448017</td>\n",
       "    </tr>\n",
       "    <tr>\n",
       "      <th>...</th>\n",
       "      <td>...</td>\n",
       "      <td>...</td>\n",
       "      <td>...</td>\n",
       "      <td>...</td>\n",
       "      <td>...</td>\n",
       "    </tr>\n",
       "    <tr>\n",
       "      <th>1603</th>\n",
       "      <td>hCoV-19/Kosovo/83_S83/2023</td>\n",
       "      <td>403</td>\n",
       "      <td>nonsyn</td>\n",
       "      <td>E106Q</td>\n",
       "      <td>0.000000</td>\n",
       "    </tr>\n",
       "    <tr>\n",
       "      <th>1604</th>\n",
       "      <td>hCoV-19/England/PHEC-YYEP7IS/2023</td>\n",
       "      <td>404</td>\n",
       "      <td>nonsyn</td>\n",
       "      <td>S67F</td>\n",
       "      <td>0.000000</td>\n",
       "    </tr>\n",
       "    <tr>\n",
       "      <th>1605</th>\n",
       "      <td>hCoV-19/Montenegro/CO-01061_MNE000_1266352302/...</td>\n",
       "      <td>405</td>\n",
       "      <td>nonsyn</td>\n",
       "      <td>P93L</td>\n",
       "      <td>0.000000</td>\n",
       "    </tr>\n",
       "    <tr>\n",
       "      <th>1606</th>\n",
       "      <td>hCoV-19/NewZealand/23YA0548/2023</td>\n",
       "      <td>406</td>\n",
       "      <td>nonsyn</td>\n",
       "      <td>R115H</td>\n",
       "      <td>0.000000</td>\n",
       "    </tr>\n",
       "    <tr>\n",
       "      <th>1607</th>\n",
       "      <td>hCoV-19/Germany/NW-RKI-I-1125506/2023</td>\n",
       "      <td>407</td>\n",
       "      <td>nonsyn</td>\n",
       "      <td>C37Y</td>\n",
       "      <td>0.000000</td>\n",
       "    </tr>\n",
       "  </tbody>\n",
       "</table>\n",
       "<p>1608 rows × 5 columns</p>\n",
       "</div>"
      ],
      "text/plain": [
       "                                                 strain  cluster mutType  \\\n",
       "0                             hCoV-19/Uganda/UG052/2020        1  nonsyn   \n",
       "1                  hCoV-19/HongKong/HKU-200823-001/2020        2   stops   \n",
       "2                         hCoV-19/Cyprus/BMVUCY363/2020        3     syn   \n",
       "3                                          NODE_0001130        4  nonsyn   \n",
       "4        hCoV-19/UnitedArabEmirates/skmc-920569110/2020        4  nonsyn   \n",
       "...                                                 ...      ...     ...   \n",
       "1603                         hCoV-19/Kosovo/83_S83/2023      403  nonsyn   \n",
       "1604                  hCoV-19/England/PHEC-YYEP7IS/2023      404  nonsyn   \n",
       "1605  hCoV-19/Montenegro/CO-01061_MNE000_1266352302/...      405  nonsyn   \n",
       "1606                   hCoV-19/NewZealand/23YA0548/2023      406  nonsyn   \n",
       "1607              hCoV-19/Germany/NW-RKI-I-1125506/2023      407  nonsyn   \n",
       "\n",
       "         muts  persistence  \n",
       "0        T11I     0.000000  \n",
       "1        E64*     0.000000  \n",
       "2     T28088A     0.000000  \n",
       "3        L84S     1.448017  \n",
       "4        L84S     1.448017  \n",
       "...       ...          ...  \n",
       "1603    E106Q     0.000000  \n",
       "1604     S67F     0.000000  \n",
       "1605     P93L     0.000000  \n",
       "1606    R115H     0.000000  \n",
       "1607     C37Y     0.000000  \n",
       "\n",
       "[1608 rows x 5 columns]"
      ]
     },
     "execution_count": 137,
     "metadata": {},
     "output_type": "execute_result"
    }
   ],
   "source": [
    "clust_df"
   ]
  },
  {
   "cell_type": "code",
   "execution_count": 140,
   "id": "b6f0d498-37cb-4cbf-83f3-8ca206b15b02",
   "metadata": {},
   "outputs": [],
   "source": [
    "clustAgg = getAggregate(clust_df)"
   ]
  },
  {
   "cell_type": "code",
   "execution_count": 251,
   "id": "dd5fbbe1-bedf-4270-86f0-91607266442a",
   "metadata": {},
   "outputs": [],
   "source": [
    "def calcStatTests(df):\n",
    "    nsSize1 = df[(df.mutType=='nonsyn')&(df.clustSize>1)]['clustSize']\n",
    "    synSize1 = df[(df.mutType=='syn')&(df.clustSize>1)]['clustSize']\n",
    "    nsSize = df[(df.mutType=='nonsyn')]['clustSize']\n",
    "    synSize = df[(df.mutType=='syn')]['clustSize']\n",
    "    stopSize1 = df[(df.mutType=='stops')&(df.clustSize>1)]['clustSize']\n",
    "    stopSize = df[(df.mutType=='stops')]['clustSize']\n",
    "    nsPerst1 = df[(df.mutType=='nonsyn')&(df.persistence>0)]['persistence']\n",
    "    synPerst1 = df[(df.mutType=='syn')&(df.clustSize>1)]['clustSize']\n",
    "    nsPerst = df[(df.mutType=='nonsyn')]['persistence']\n",
    "    synPerst = df[(df.mutType=='syn')&(df.persistence>0)]['persistence']\n",
    "    stopPerst1 = df[(df.mutType=='stops')&(df.persistence>0)]['persistence']\n",
    "    stopPerst = df[(df.mutType=='stops')]['persistence']\n",
    "    if len(nsSize1) and len(synSize1):\n",
    "        print('ClusterSize: Nonsyn vs. Syn')\n",
    "        print(st.mannwhitneyu(df[(df.mutType=='nonsyn')]['clustSize'],df[(df.mutType=='syn')]['clustSize']))\n",
    "        print('\\n')\n",
    "    if len(nsPerst1) and len(synPerst1):\n",
    "        print('Persistence: Nonsyn vs. Syn')\n",
    "        print(st.mannwhitneyu(df[(df.mutType=='nonsyn')]['persistence'],df[(df.mutType=='syn')]['persistence']))\n",
    "        print('\\n')\n",
    "    if len(stopSize):\n",
    "        print('ClusterSize: Nonsyn vs. Stops')\n",
    "        print(st.mannwhitneyu(df[(df.mutType=='nonsyn')]['clustSize'],df[(df.mutType=='stops')]['clustSize']))\n",
    "        print('\\n')   \n",
    "    if len(stopPerst):\n",
    "        print('Persistence: Nonsyn vs. Stops')\n",
    "        print(st.mannwhitneyu(df[(df.mutType=='nonsyn')]['persistence'],df[(df.mutType=='stops')]['persistence']))\n",
    "        print('\\n')\n",
    "    if len(stopSize):\n",
    "        print('ClusterSize: Syn vs. Stops')\n",
    "        print(st.mannwhitneyu(df[(df.mutType=='syn')]['clustSize'],df[(df.mutType=='stops')]['clustSize']))\n",
    "        print('\\n')   \n",
    "    if len(stopPerst):\n",
    "        print('Persistence: Syn vs. Stops')\n",
    "        print(st.mannwhitneyu(df[(df.mutType=='syn')]['persistence'],df[(df.mutType=='stops')]['persistence']))\n",
    "        print('\\n')\n",
    "        "
   ]
  },
  {
   "cell_type": "code",
   "execution_count": 246,
   "id": "aa721106-cd1a-46f0-aa0c-2d83bd79eca0",
   "metadata": {},
   "outputs": [],
   "source": [
    "def plotClusterSizeViolin(df,gene):\n",
    "    ax = sns.violinplot(x='mutType', y='clustSize', data=clustAgg, cut=0, inner='box',scale='count')\n",
    "    ax.set_yscale('log')\n",
    "    ax.set_xlabel('')\n",
    "    fig = ax.get_figure()\n",
    "    fig.savefig('figs/clusterSizeViolin_'+gene+'.pdf',dpi=300,bbox_inches='tight')\n",
    "    fig.clf()"
   ]
  },
  {
   "cell_type": "code",
   "execution_count": 247,
   "id": "55b51ef7-d26d-406c-8df5-55d0aa0775f0",
   "metadata": {},
   "outputs": [],
   "source": [
    "def plotClusterSize(df,gene):\n",
    "    ax = sns.stripplot(x='mutType', y='clustSize',hue='mutType', data=df, jitter=0.3,alpha=0.5)\n",
    "    meds = [np.median(df[(df.clustSize>1)&(df.mutType==mutType)]['clustSize']) for mutType in df.mutType.unique()]\n",
    "    ticks = np.asarray(ax.get_xticks())\n",
    "    median_width=0.25\n",
    "    ax.plot([ticks-median_width/2, ticks+median_width/2], [meds]*2,lw=2,color='k')\n",
    "    sns.despine()\n",
    "    ax.set_yscale('log')\n",
    "    #ax.set_xticklabels(ax.get_xticklabels(),rotation=90)\n",
    "    ax.set_xlabel('Cluster type')\n",
    "    ax.set_ylabel('Cluster size')\n",
    "    ax.set_title(gene)\n",
    "    fig = ax.get_figure()\n",
    "    fig.savefig('figs/clusterSize_'+gene+'.pdf',dpi=300,bbox_inches='tight')\n",
    "    fig.clf()"
   ]
  },
  {
   "cell_type": "code",
   "execution_count": 248,
   "id": "5caf26c9-37a0-4e05-a03f-6935d5ed2f0c",
   "metadata": {},
   "outputs": [],
   "source": [
    "def plotClusterPersistence(df,gene):\n",
    "    ax = sns.stripplot(x='mutType', y='persistence',hue='mutType', data=df, jitter=0.3,alpha=0.5)\n",
    "    sns.despine()\n",
    "    meds = [np.median(df[(df.persistence>0)&(df.mutType==mutType)]['persistence']) for mutType in df.mutType.unique()]\n",
    "    ticks = np.asarray(ax.get_xticks())\n",
    "    median_width=0.25\n",
    "    ax.plot([ticks-median_width/2, ticks+median_width/2], [meds]*2,lw=2,color='k')\n",
    "    #ax.set_xticklabels(ax.get_xticklabels(),rotation=90)\n",
    "    ax.set_xlabel('Cluster type')\n",
    "    ax.set_ylabel('Years persisting')\n",
    "    ax.set_title(gene)\n",
    "    fig = ax.get_figure()\n",
    "    fig.savefig('figs/clusterPersistence_'+gene+'.pdf',dpi=300,bbox_inches='tight')\n",
    "    fig.clf()"
   ]
  },
  {
   "cell_type": "code",
   "execution_count": 249,
   "id": "ab4519fb-9a0e-4ba3-9b8f-e4f0816f9486",
   "metadata": {},
   "outputs": [],
   "source": [
    "def plotClusterPersistenceViolin(df,gene):\n",
    "    ax = sns.violinplot(x='mutType', y='persistence', data=clustAgg, cut=0, inner='box',scale='count')\n",
    "    #ax.set_yscale('log')\n",
    "    ax.set_xlabel('')\n",
    "    ax.set_title(gene)\n",
    "    fig = ax.get_figure()\n",
    "    fig.savefig('figs/clusterPersistenceViolin_'+gene+'.pdf',dpi=300,bbox_inches='tight')\n",
    "    fig.clf()"
   ]
  },
  {
   "cell_type": "code",
   "execution_count": 250,
   "id": "752ac46e-4205-45ed-ae14-23b5016d7c51",
   "metadata": {},
   "outputs": [
    {
     "name": "stdout",
     "output_type": "stream",
     "text": [
      "ORF1a\n",
      "ClusterSize: Nonsyn vs. Syn\n",
      "MannwhitneyuResult(statistic=6587382.0, pvalue=0.7949910647166389)\n",
      "\n",
      "\n",
      "Persistence: Nonsyn vs. Syn\n",
      "MannwhitneyuResult(statistic=6582819.0, pvalue=0.728921632547157)\n",
      "\n",
      "\n",
      "ClusterSize: Nonsyn vs. Stops\n",
      "MannwhitneyuResult(statistic=14899.5, pvalue=0.2893521865800087)\n",
      "\n",
      "\n",
      "Persistence: Nonsyn vs. Stops\n",
      "MannwhitneyuResult(statistic=14864.5, pvalue=0.2948829708564943)\n",
      "\n",
      "\n",
      "ClusterSize: Syn vs. Stops\n",
      "MannwhitneyuResult(statistic=14115.5, pvalue=0.2846769458275321)\n",
      "\n",
      "\n",
      "Persistence: Syn vs. Stops\n",
      "MannwhitneyuResult(statistic=14094.5, pvalue=0.28819804421483974)\n",
      "\n",
      "\n"
     ]
    },
    {
     "name": "stderr",
     "output_type": "stream",
     "text": [
      "/Users/cwagner2/miniconda3/envs/orf8ko/lib/python3.10/site-packages/numpy/core/fromnumeric.py:3432: RuntimeWarning: Mean of empty slice.\n",
      "  return _methods._mean(a, axis=axis, dtype=dtype,\n",
      "/Users/cwagner2/miniconda3/envs/orf8ko/lib/python3.10/site-packages/numpy/core/_methods.py:190: RuntimeWarning: invalid value encountered in double_scalars\n",
      "  ret = ret.dtype.type(ret / rcount)\n",
      "/Users/cwagner2/miniconda3/envs/orf8ko/lib/python3.10/site-packages/numpy/core/fromnumeric.py:3432: RuntimeWarning: Mean of empty slice.\n",
      "  return _methods._mean(a, axis=axis, dtype=dtype,\n",
      "/Users/cwagner2/miniconda3/envs/orf8ko/lib/python3.10/site-packages/numpy/core/_methods.py:190: RuntimeWarning: invalid value encountered in double_scalars\n",
      "  ret = ret.dtype.type(ret / rcount)\n"
     ]
    },
    {
     "name": "stdout",
     "output_type": "stream",
     "text": [
      "----------------\n",
      "ORF1b\n",
      "ClusterSize: Nonsyn vs. Syn\n",
      "MannwhitneyuResult(statistic=1568716.5, pvalue=0.9508432938452206)\n",
      "\n",
      "\n",
      "Persistence: Nonsyn vs. Syn\n",
      "MannwhitneyuResult(statistic=1567752.5, pvalue=0.9091990993192967)\n",
      "\n",
      "\n",
      "ClusterSize: Nonsyn vs. Stops\n",
      "MannwhitneyuResult(statistic=3672.0, pvalue=0.41600763878629643)\n",
      "\n",
      "\n",
      "Persistence: Nonsyn vs. Stops\n",
      "MannwhitneyuResult(statistic=3664.0, pvalue=0.4208281407173484)\n",
      "\n",
      "\n",
      "ClusterSize: Syn vs. Stops\n",
      "MannwhitneyuResult(statistic=4474.0, pvalue=0.4139353458689974)\n",
      "\n",
      "\n",
      "Persistence: Syn vs. Stops\n",
      "MannwhitneyuResult(statistic=4468.0, pvalue=0.41694197461670335)\n",
      "\n",
      "\n"
     ]
    },
    {
     "name": "stderr",
     "output_type": "stream",
     "text": [
      "/Users/cwagner2/miniconda3/envs/orf8ko/lib/python3.10/site-packages/numpy/core/fromnumeric.py:3432: RuntimeWarning: Mean of empty slice.\n",
      "  return _methods._mean(a, axis=axis, dtype=dtype,\n",
      "/Users/cwagner2/miniconda3/envs/orf8ko/lib/python3.10/site-packages/numpy/core/_methods.py:190: RuntimeWarning: invalid value encountered in double_scalars\n",
      "  ret = ret.dtype.type(ret / rcount)\n",
      "/Users/cwagner2/miniconda3/envs/orf8ko/lib/python3.10/site-packages/numpy/core/fromnumeric.py:3432: RuntimeWarning: Mean of empty slice.\n",
      "  return _methods._mean(a, axis=axis, dtype=dtype,\n",
      "/Users/cwagner2/miniconda3/envs/orf8ko/lib/python3.10/site-packages/numpy/core/_methods.py:190: RuntimeWarning: invalid value encountered in double_scalars\n",
      "  ret = ret.dtype.type(ret / rcount)\n"
     ]
    },
    {
     "name": "stdout",
     "output_type": "stream",
     "text": [
      "----------------\n",
      "S\n",
      "ClusterSize: Nonsyn vs. Syn\n",
      "MannwhitneyuResult(statistic=1302304.0, pvalue=4.731456062221727e-06)\n",
      "\n",
      "\n",
      "Persistence: Nonsyn vs. Syn\n",
      "MannwhitneyuResult(statistic=1304087.0, pvalue=2.793672782781464e-06)\n",
      "\n",
      "\n",
      "ClusterSize: Nonsyn vs. Stops\n",
      "MannwhitneyuResult(statistic=3786.0, pvalue=0.33023499975465376)\n",
      "\n",
      "\n",
      "Persistence: Nonsyn vs. Stops\n",
      "MannwhitneyuResult(statistic=3781.5, pvalue=0.3322847563842193)\n",
      "\n",
      "\n",
      "ClusterSize: Syn vs. Stops\n",
      "MannwhitneyuResult(statistic=2128.5, pvalue=0.4186314676949251)\n",
      "\n",
      "\n",
      "Persistence: Syn vs. Stops\n",
      "MannwhitneyuResult(statistic=2124.0, pvalue=0.42265637732824646)\n",
      "\n",
      "\n"
     ]
    },
    {
     "name": "stderr",
     "output_type": "stream",
     "text": [
      "/Users/cwagner2/miniconda3/envs/orf8ko/lib/python3.10/site-packages/numpy/core/fromnumeric.py:3432: RuntimeWarning: Mean of empty slice.\n",
      "  return _methods._mean(a, axis=axis, dtype=dtype,\n",
      "/Users/cwagner2/miniconda3/envs/orf8ko/lib/python3.10/site-packages/numpy/core/_methods.py:190: RuntimeWarning: invalid value encountered in double_scalars\n",
      "  ret = ret.dtype.type(ret / rcount)\n",
      "/Users/cwagner2/miniconda3/envs/orf8ko/lib/python3.10/site-packages/numpy/core/fromnumeric.py:3432: RuntimeWarning: Mean of empty slice.\n",
      "  return _methods._mean(a, axis=axis, dtype=dtype,\n",
      "/Users/cwagner2/miniconda3/envs/orf8ko/lib/python3.10/site-packages/numpy/core/_methods.py:190: RuntimeWarning: invalid value encountered in double_scalars\n",
      "  ret = ret.dtype.type(ret / rcount)\n"
     ]
    },
    {
     "name": "stdout",
     "output_type": "stream",
     "text": [
      "----------------\n",
      "ORF3a\n",
      "ClusterSize: Nonsyn vs. Syn\n",
      "MannwhitneyuResult(statistic=124152.5, pvalue=0.44582224527437087)\n",
      "\n",
      "\n",
      "Persistence: Nonsyn vs. Syn\n",
      "MannwhitneyuResult(statistic=124350.5, pvalue=0.48136178511449423)\n",
      "\n",
      "\n",
      "ClusterSize: Nonsyn vs. Stops\n",
      "MannwhitneyuResult(statistic=1438.0, pvalue=0.20369755552248836)\n",
      "\n",
      "\n",
      "Persistence: Nonsyn vs. Stops\n",
      "MannwhitneyuResult(statistic=1461.0, pvalue=0.22834185634774173)\n",
      "\n",
      "\n",
      "ClusterSize: Syn vs. Stops\n",
      "MannwhitneyuResult(statistic=686.5, pvalue=0.26596316694883304)\n",
      "\n",
      "\n",
      "Persistence: Syn vs. Stops\n",
      "MannwhitneyuResult(statistic=693.0, pvalue=0.2822992076040318)\n",
      "\n",
      "\n",
      "----------------\n",
      "E\n",
      "ClusterSize: Nonsyn vs. Syn\n",
      "MannwhitneyuResult(statistic=1564.0, pvalue=0.010864825420363246)\n",
      "\n",
      "\n",
      "Persistence: Nonsyn vs. Syn\n",
      "MannwhitneyuResult(statistic=1568.0, pvalue=0.009573730259916487)\n",
      "\n",
      "\n",
      "----------------\n",
      "M\n",
      "ClusterSize: Nonsyn vs. Syn\n",
      "MannwhitneyuResult(statistic=25083.5, pvalue=0.3405117635307683)\n",
      "\n",
      "\n",
      "Persistence: Nonsyn vs. Syn\n",
      "MannwhitneyuResult(statistic=25097.0, pvalue=0.32740503038902014)\n",
      "\n",
      "\n",
      "----------------\n",
      "ORF6\n",
      "ClusterSize: Nonsyn vs. Syn\n",
      "MannwhitneyuResult(statistic=2317.5, pvalue=0.8650123293383971)\n",
      "\n",
      "\n",
      "Persistence: Nonsyn vs. Syn\n",
      "MannwhitneyuResult(statistic=2324.5, pvalue=0.8998379179566368)\n",
      "\n",
      "\n",
      "ClusterSize: Nonsyn vs. Stops\n",
      "MannwhitneyuResult(statistic=83.0, pvalue=0.5228716373348772)\n",
      "\n",
      "\n",
      "Persistence: Nonsyn vs. Stops\n",
      "MannwhitneyuResult(statistic=83.0, pvalue=0.5230499868185858)\n",
      "\n",
      "\n",
      "ClusterSize: Syn vs. Stops\n",
      "MannwhitneyuResult(statistic=80.0, pvalue=0.5120892998300502)\n",
      "\n",
      "\n",
      "Persistence: Syn vs. Stops\n",
      "MannwhitneyuResult(statistic=80.0, pvalue=0.5122632240012295)\n",
      "\n",
      "\n"
     ]
    },
    {
     "name": "stderr",
     "output_type": "stream",
     "text": [
      "/Users/cwagner2/miniconda3/envs/orf8ko/lib/python3.10/site-packages/numpy/core/fromnumeric.py:3432: RuntimeWarning: Mean of empty slice.\n",
      "  return _methods._mean(a, axis=axis, dtype=dtype,\n",
      "/Users/cwagner2/miniconda3/envs/orf8ko/lib/python3.10/site-packages/numpy/core/_methods.py:190: RuntimeWarning: invalid value encountered in double_scalars\n",
      "  ret = ret.dtype.type(ret / rcount)\n",
      "/Users/cwagner2/miniconda3/envs/orf8ko/lib/python3.10/site-packages/numpy/core/fromnumeric.py:3432: RuntimeWarning: Mean of empty slice.\n",
      "  return _methods._mean(a, axis=axis, dtype=dtype,\n",
      "/Users/cwagner2/miniconda3/envs/orf8ko/lib/python3.10/site-packages/numpy/core/_methods.py:190: RuntimeWarning: invalid value encountered in double_scalars\n",
      "  ret = ret.dtype.type(ret / rcount)\n"
     ]
    },
    {
     "name": "stdout",
     "output_type": "stream",
     "text": [
      "----------------\n",
      "ORF7a\n",
      "ClusterSize: Nonsyn vs. Syn\n",
      "MannwhitneyuResult(statistic=15220.5, pvalue=0.014411827658644957)\n",
      "\n",
      "\n",
      "Persistence: Nonsyn vs. Syn\n",
      "MannwhitneyuResult(statistic=15130.0, pvalue=0.008925532009950625)\n",
      "\n",
      "\n",
      "ClusterSize: Nonsyn vs. Stops\n",
      "MannwhitneyuResult(statistic=2471.0, pvalue=0.4193893901116936)\n",
      "\n",
      "\n",
      "Persistence: Nonsyn vs. Stops\n",
      "MannwhitneyuResult(statistic=2457.0, pvalue=0.46314901700602695)\n",
      "\n",
      "\n",
      "ClusterSize: Syn vs. Stops\n",
      "MannwhitneyuResult(statistic=1804.0, pvalue=0.1045745677673459)\n",
      "\n",
      "\n",
      "Persistence: Syn vs. Stops\n",
      "MannwhitneyuResult(statistic=1796.0, pvalue=0.11746376735189247)\n",
      "\n",
      "\n",
      "----------------\n",
      "ORF7b\n",
      "ClusterSize: Nonsyn vs. Syn\n",
      "MannwhitneyuResult(statistic=1255.5, pvalue=0.22642592535178785)\n",
      "\n",
      "\n",
      "Persistence: Nonsyn vs. Syn\n",
      "MannwhitneyuResult(statistic=1255.0, pvalue=0.22480370931038862)\n",
      "\n",
      "\n",
      "ClusterSize: Nonsyn vs. Stops\n",
      "MannwhitneyuResult(statistic=244.0, pvalue=0.5966134079595506)\n",
      "\n",
      "\n",
      "Persistence: Nonsyn vs. Stops\n",
      "MannwhitneyuResult(statistic=240.0, pvalue=0.5238648975646248)\n",
      "\n",
      "\n",
      "ClusterSize: Syn vs. Stops\n",
      "MannwhitneyuResult(statistic=173.0, pvalue=0.8735872742983035)\n",
      "\n",
      "\n",
      "Persistence: Syn vs. Stops\n",
      "MannwhitneyuResult(statistic=171.0, pvalue=0.9296261563322464)\n",
      "\n",
      "\n",
      "----------------\n",
      "ORF8\n",
      "ClusterSize: Nonsyn vs. Syn\n",
      "MannwhitneyuResult(statistic=14060.5, pvalue=0.4043858930595341)\n",
      "\n",
      "\n",
      "Persistence: Nonsyn vs. Syn\n",
      "MannwhitneyuResult(statistic=14046.5, pvalue=0.38904639129483)\n",
      "\n",
      "\n",
      "ClusterSize: Nonsyn vs. Stops\n",
      "MannwhitneyuResult(statistic=4594.5, pvalue=0.050311394864132226)\n",
      "\n",
      "\n",
      "Persistence: Nonsyn vs. Stops\n",
      "MannwhitneyuResult(statistic=4598.0, pvalue=0.04988114031493663)\n",
      "\n",
      "\n",
      "ClusterSize: Syn vs. Stops\n",
      "MannwhitneyuResult(statistic=1908.5, pvalue=0.23039683146538636)\n",
      "\n",
      "\n",
      "Persistence: Syn vs. Stops\n",
      "MannwhitneyuResult(statistic=1913.5, pvalue=0.24328234387147052)\n",
      "\n",
      "\n",
      "----------------\n",
      "N\n",
      "ClusterSize: Nonsyn vs. Syn\n",
      "MannwhitneyuResult(statistic=242239.0, pvalue=0.4805850921846079)\n",
      "\n",
      "\n",
      "Persistence: Nonsyn vs. Syn\n",
      "MannwhitneyuResult(statistic=242710.5, pvalue=0.42337617942808947)\n",
      "\n",
      "\n",
      "ClusterSize: Nonsyn vs. Stops\n",
      "MannwhitneyuResult(statistic=892.0, pvalue=0.492695043688975)\n",
      "\n",
      "\n",
      "Persistence: Nonsyn vs. Stops\n",
      "MannwhitneyuResult(statistic=890.0, pvalue=0.4965335519345312)\n",
      "\n",
      "\n",
      "ClusterSize: Syn vs. Stops\n",
      "MannwhitneyuResult(statistic=755.0, pvalue=0.5103341721546127)\n",
      "\n",
      "\n",
      "Persistence: Syn vs. Stops\n",
      "MannwhitneyuResult(statistic=755.0, pvalue=0.5105116526726048)\n",
      "\n",
      "\n"
     ]
    },
    {
     "name": "stderr",
     "output_type": "stream",
     "text": [
      "/Users/cwagner2/miniconda3/envs/orf8ko/lib/python3.10/site-packages/numpy/core/fromnumeric.py:3432: RuntimeWarning: Mean of empty slice.\n",
      "  return _methods._mean(a, axis=axis, dtype=dtype,\n",
      "/Users/cwagner2/miniconda3/envs/orf8ko/lib/python3.10/site-packages/numpy/core/_methods.py:190: RuntimeWarning: invalid value encountered in double_scalars\n",
      "  ret = ret.dtype.type(ret / rcount)\n",
      "/Users/cwagner2/miniconda3/envs/orf8ko/lib/python3.10/site-packages/numpy/core/fromnumeric.py:3432: RuntimeWarning: Mean of empty slice.\n",
      "  return _methods._mean(a, axis=axis, dtype=dtype,\n",
      "/Users/cwagner2/miniconda3/envs/orf8ko/lib/python3.10/site-packages/numpy/core/_methods.py:190: RuntimeWarning: invalid value encountered in double_scalars\n",
      "  ret = ret.dtype.type(ret / rcount)\n"
     ]
    },
    {
     "name": "stdout",
     "output_type": "stream",
     "text": [
      "----------------\n",
      "ORF9b\n",
      "ClusterSize: Nonsyn vs. Syn\n",
      "MannwhitneyuResult(statistic=7278.5, pvalue=0.6053161468663901)\n",
      "\n",
      "\n",
      "Persistence: Nonsyn vs. Syn\n",
      "MannwhitneyuResult(statistic=7259.0, pvalue=0.5724950746499604)\n",
      "\n",
      "\n",
      "ClusterSize: Nonsyn vs. Stops\n",
      "MannwhitneyuResult(statistic=379.5, pvalue=0.4222643365924803)\n",
      "\n",
      "\n",
      "Persistence: Nonsyn vs. Stops\n",
      "MannwhitneyuResult(statistic=379.5, pvalue=0.42237016394066595)\n",
      "\n",
      "\n",
      "ClusterSize: Syn vs. Stops\n",
      "MannwhitneyuResult(statistic=127.5, pvalue=0.3862589576098855)\n",
      "\n",
      "\n",
      "Persistence: Syn vs. Stops\n",
      "MannwhitneyuResult(statistic=127.5, pvalue=0.3865604322669426)\n",
      "\n",
      "\n"
     ]
    },
    {
     "name": "stderr",
     "output_type": "stream",
     "text": [
      "/Users/cwagner2/miniconda3/envs/orf8ko/lib/python3.10/site-packages/numpy/core/fromnumeric.py:3432: RuntimeWarning: Mean of empty slice.\n",
      "  return _methods._mean(a, axis=axis, dtype=dtype,\n",
      "/Users/cwagner2/miniconda3/envs/orf8ko/lib/python3.10/site-packages/numpy/core/_methods.py:190: RuntimeWarning: invalid value encountered in double_scalars\n",
      "  ret = ret.dtype.type(ret / rcount)\n",
      "/Users/cwagner2/miniconda3/envs/orf8ko/lib/python3.10/site-packages/numpy/core/fromnumeric.py:3432: RuntimeWarning: Mean of empty slice.\n",
      "  return _methods._mean(a, axis=axis, dtype=dtype,\n",
      "/Users/cwagner2/miniconda3/envs/orf8ko/lib/python3.10/site-packages/numpy/core/_methods.py:190: RuntimeWarning: invalid value encountered in double_scalars\n",
      "  ret = ret.dtype.type(ret / rcount)\n"
     ]
    },
    {
     "name": "stdout",
     "output_type": "stream",
     "text": [
      "----------------\n"
     ]
    },
    {
     "data": {
      "text/plain": [
       "<Figure size 640x480 with 0 Axes>"
      ]
     },
     "metadata": {},
     "output_type": "display_data"
    }
   ],
   "source": [
    "for gene in geneDict.keys():\n",
    "    print(gene)\n",
    "    start = geneDict[gene]['start']\n",
    "    end = geneDict[gene]['end']\n",
    "    clusters = getClustersFinch(tree,gene,start,end,leafs)\n",
    "    clust_df = saveClusters(clusters,'results/allTypeClusters/'+gene+'_allType_clusters.tsv')\n",
    "    clustAgg = getAggregate(clust_df)\n",
    "    calcStatTests(clustAgg)\n",
    "    plotClusterSize(clustAgg,gene)\n",
    "    plotClusterSizeViolin(clustAgg,gene)\n",
    "    plotClusterPersistence(clustAgg,gene)\n",
    "    plotClusterPersistenceViolin(clustAgg,gene)\n",
    "    print('----------------')"
   ]
  },
  {
   "cell_type": "code",
   "execution_count": 213,
   "id": "1a53e2de-0de8-4889-ae00-9d6830827bff",
   "metadata": {},
   "outputs": [
    {
     "data": {
      "image/png": "[encoded data removed]",
      "text/plain": [
       "<Figure size 640x480 with 1 Axes>"
      ]
     },
     "metadata": {},
     "output_type": "display_data"
    }
   ],
   "source": []
  },
  {
   "cell_type": "code",
   "execution_count": 324,
   "id": "7a19efc2-9040-4302-853c-87c097ec4199",
   "metadata": {},
   "outputs": [],
   "source": [
    "def calcStatTests(df,hyp):\n",
    "    nsSize = df[(df.mutType=='nonsyn')]['clustSize']\n",
    "    synSize = df[(df.mutType=='syn')]['clustSize']\n",
    "    nsPerst = df[(df.mutType=='nonsyn')]['persistence']\n",
    "    synPerst = df[(df.mutType=='syn')&(df.persistence>0)]['persistence']\n",
    "    print('ClusterSize: Nonsyn vs. Syn')\n",
    "    print(st.mannwhitneyu(df[(df.mutType=='nonsyn')]['clustSize'],df[(df.mutType=='syn')]['clustSize'],alternative=hyp))\n",
    "    print('\\n')\n",
    "    print('Persistence: Nonsyn vs. Syn')\n",
    "    print(st.mannwhitneyu(df[(df.mutType=='nonsyn')]['persistence'],df[(df.mutType=='syn')]['persistence'],alternative=hyp))\n",
    "    print('\\n')"
   ]
  },
  {
   "cell_type": "code",
   "execution_count": 327,
   "id": "6a39ecd0-08c4-4cb4-a70a-ee89eafcd404",
   "metadata": {},
   "outputs": [
    {
     "name": "stdout",
     "output_type": "stream",
     "text": [
      "ClusterSize: Nonsyn vs. Syn\n",
      "MannwhitneyuResult(statistic=15220.5, pvalue=0.007205913829322478)\n",
      "\n",
      "\n",
      "Persistence: Nonsyn vs. Syn\n",
      "MannwhitneyuResult(statistic=15130.0, pvalue=0.004462766004975313)\n",
      "\n",
      "\n"
     ]
    }
   ],
   "source": [
    "with open('results/allTypeClusters/ORF7a_allType_clusters.tsv','r') as f:\n",
    "    df7a = pd.read_csv(f,sep='\\t')\n",
    "\n",
    "clust7a = getAggregate(df7a)\n",
    "calcStatTests(clust7a,'less')"
   ]
  },
  {
   "cell_type": "code",
   "execution_count": 328,
   "id": "3dc71e8e-42e8-4214-9800-5181909d5e20",
   "metadata": {},
   "outputs": [
    {
     "name": "stdout",
     "output_type": "stream",
     "text": [
      "ClusterSize: Nonsyn vs. Syn\n",
      "MannwhitneyuResult(statistic=1564.0, pvalue=0.005432412710181623)\n",
      "\n",
      "\n",
      "Persistence: Nonsyn vs. Syn\n",
      "MannwhitneyuResult(statistic=1568.0, pvalue=0.004786865129958243)\n",
      "\n",
      "\n"
     ]
    }
   ],
   "source": [
    "with open('results/allTypeClusters/E_allType_clusters.tsv','r') as f:\n",
    "    dfE = pd.read_csv(f,sep='\\t')\n",
    "\n",
    "clustE = getAggregate(dfE)\n",
    "calcStatTests(clustE,'greater')"
   ]
  },
  {
   "cell_type": "code",
   "execution_count": null,
   "id": "7a17ba12-d7b1-4ce3-ab46-a2a925b35eec",
   "metadata": {},
   "outputs": [],
   "source": []
  },
  {
   "cell_type": "markdown",
   "id": "2a274d16-ceb4-48e4-99e6-edc020b7973b",
   "metadata": {},
   "source": [
    "## 2. What is impact of ORF8 KO?"
   ]
  },
  {
   "cell_type": "code",
   "execution_count": 319,
   "id": "9fe158b1-a7b6-40d6-8c03-61ef6c6c965e",
   "metadata": {},
   "outputs": [],
   "source": [
    "def get_parent(tree, child_clade):\n",
    "    node_path = tree.get_path(child_clade)\n",
    "    return node_path[-2]\n",
    "\n",
    "def compareKO(subtree,gene,start,end,leafs):\n",
    "    clusters = {}\n",
    "    count = 1\n",
    "    for clade in subtree.find_clades():\n",
    "        if clade.node_attrs['clade_membership']['value'] != '20I (Alpha, V1)':\n",
    "            all_muts = {k:v for k,v in clade.branch_attrs['mutations'].items()}\n",
    "            muts = getMutType(all_muts,gene,start,end)\n",
    "            if len(muts['stops']):\n",
    "                if len(muts['stops'])+len(muts['nonsyn'])==1:\n",
    "                    s = muts['stops'][0]\n",
    "                    clusters[count] = {}\n",
    "                    clusters[count]['ko'] = {}\n",
    "                    clusters[count]['noko'] = {}\n",
    "                    clusters[count]['ko']['node'] = clade.name\n",
    "                    clusters[count]['ko']['mut'] = s\n",
    "                    strains = clade.get_terminals()\n",
    "                    clusters[count]['ko']['clusterSize'] = len(strains)\n",
    "                    times =  [strain.node_attrs['num_date']['value'] for strain in strains]\n",
    "\n",
    "                    parent = get_parent(subtree,clade)\n",
    "                    parentTime = parent.node_attrs['num_date']['value']\n",
    "                    clusters[count]['ko']['persistence'] = max(times) - parentTime\n",
    "\n",
    "                    otherTerm = []\n",
    "                    for sib in parent.find_clades():\n",
    "                        if sib in parent and sib != clade:\n",
    "                            terms = sib.get_terminals()\n",
    "                            otherTerm.extend(terms)\n",
    "                            \n",
    "                    clusters[count]['noko']['clusterSize'] = len(otherTerm)\n",
    "                    newTimes = [names[strain.name].node_attrs['num_date']['value'] for strain in otherTerm]\n",
    "                    clusters[count]['noko']['persistence'] = max(newTimes) - parentTime\n",
    "\n",
    "                    count += 1\n",
    "    return clusters\n",
    "\n",
    "def compareKORedundant(subtree,gene,start,end,leafs):\n",
    "    clusters = {}\n",
    "    count = 1\n",
    "    for clade in subtree.find_clades():\n",
    "        if clade.node_attrs['clade_membership']['value'] != '20I (Alpha, V1)':\n",
    "            all_muts = {k:v for k,v in clade.branch_attrs['mutations'].items()}\n",
    "            muts = getMutType(all_muts,gene,start,end)\n",
    "            if len(muts['stops']):\n",
    "                if len(muts['stops'])+len(muts['nonsyn'])==1:\n",
    "                    s = muts['stops'][0]\n",
    "                    \n",
    "                    parent = get_parent(subtree,clade)\n",
    "                    parentTime = parent.node_attrs['num_date']['value']\n",
    "                    \n",
    "\n",
    "                    for sib in parent.find_clades():\n",
    "                        if sib in parent and sib != clade:\n",
    "                            \n",
    "                            clusters[count] = {}\n",
    "                            clusters[count]['ko'] = {}\n",
    "                            clusters[count]['noko'] = {}\n",
    "                            clusters[count]['ko']['node'] = clade.name\n",
    "                            clusters[count]['ko']['mut'] = s\n",
    "                            strains = clade.get_terminals()\n",
    "                            clusters[count]['ko']['clusterSize'] = len(strains)\n",
    "                            times = [strain.node_attrs['num_date']['value'] for strain in strains]\n",
    "                            clusters[count]['ko']['persistence'] = max(times) - parentTime\n",
    "                            \n",
    "                            terms = sib.get_terminals()\n",
    "                            clusters[count]['noko']['clusterSize'] = len(terms)\n",
    "                            newTimes = [names[strain.name].node_attrs['num_date']['value'] for strain in terms]\n",
    "                            clusters[count]['noko']['persistence'] = max(newTimes) - parentTime\n",
    "\n",
    "                            count += 1\n",
    "    return clusters\n",
    "\n",
    "def plotSize(data,title):\n",
    "    koSizes = [data[cluster]['ko']['clusterSize'] for cluster in data.keys()]\n",
    "    nokoSizes = [data[cluster]['noko']['clusterSize'] for cluster in data.keys()]\n",
    "    statSize, pSize = st.wilcoxon(koSizes,nokoSizes)\n",
    "    fig, ax = plt.subplots()\n",
    "    d = [koSizes, nokoSizes]\n",
    "    ax.violinplot(d,showmedians=True, showextrema=False)\n",
    "    ax.set_xticks(range(1,3),['ORF8 KO','No ORF8 KO'])\n",
    "    ax.set_ylabel('Cluster Size')\n",
    "    ax.set_yscale('log')\n",
    "    ax.set_title(title)\n",
    "    ax.text(1.3,100,'p-value = ' + str(np.round(pSize,5)))\n",
    "\n",
    "def plotTime(data,title):\n",
    "    koTime = [data[cluster]['ko']['persistence'] for cluster in data.keys()]\n",
    "    nokoTime = [data[cluster]['noko']['persistence'] for cluster in data.keys()]\n",
    "    statTime, pTime = st.wilcoxon(koTime,nokoTime)\n",
    "    fig, ax = plt.subplots()\n",
    "    d = [koTime, nokoTime]\n",
    "    ax.violinplot(d,showmedians=True, showextrema=False)\n",
    "    ax.set_xticks(range(1,3),['ORF8 KO','No ORF8 KO'])\n",
    "    ax.set_ylabel('Years persistence')\n",
    "    ax.set_title(title)\n",
    "    #ax.set_yscale('log')\n",
    "    ax.text(1.3,1,'p-value = ' + str(np.round(pTime,5)))"
   ]
  },
  {
   "cell_type": "code",
   "execution_count": 314,
   "id": "a0d6acb2-e047-4cb0-a2a9-1c9679b3ffd0",
   "metadata": {},
   "outputs": [],
   "source": [
    "orf8ko = compareKO(tree,'ORF8',27894,28259,leafs)\n",
    "orf8koRed = compareKORedundant(tree,'ORF8',27894,28259,leafs)"
   ]
  },
  {
   "cell_type": "code",
   "execution_count": 320,
   "id": "5a42766c-c457-40b2-a54c-52f80d2121c3",
   "metadata": {},
   "outputs": [
    {
     "data": {
      "image/png": "[encoded data removed]",
      "text/plain": [
       "<Figure size 640x480 with 1 Axes>"
      ]
     },
     "metadata": {},
     "output_type": "display_data"
    }
   ],
   "source": [
    "plotSize(orf8ko,'Sum sibling clades')"
   ]
  },
  {
   "cell_type": "code",
   "execution_count": 323,
   "id": "92ee3664-ab94-4b03-8129-fc87aa3a3b08",
   "metadata": {},
   "outputs": [
    {
     "data": {
      "image/png": "[encoded data removed]",
      "text/plain": [
       "<Figure size 640x480 with 1 Axes>"
      ]
     },
     "metadata": {},
     "output_type": "display_data"
    }
   ],
   "source": [
    "plotSize(orf8koRed,'Compare sibling clades individually')"
   ]
  },
  {
   "cell_type": "code",
   "execution_count": 321,
   "id": "8ab9e5ec-9578-4ecc-aa0d-8eb592365e5c",
   "metadata": {},
   "outputs": [
    {
     "data": {
      "image/png": "[encoded data removed]",
      "text/plain": [
       "<Figure size 640x480 with 1 Axes>"
      ]
     },
     "metadata": {},
     "output_type": "display_data"
    }
   ],
   "source": [
    "plotTime(orf8ko,'Sum sibling clades')"
   ]
  },
  {
   "cell_type": "code",
   "execution_count": 322,
   "id": "f5d07dae-4d39-489e-8204-d4512bc7f0e5",
   "metadata": {},
   "outputs": [
    {
     "data": {
      "image/png": "[encoded data removed]",
      "text/plain": [
       "<Figure size 640x480 with 1 Axes>"
      ]
     },
     "metadata": {},
     "output_type": "display_data"
    }
   ],
   "source": [
    "plotTime(orf8koRed,'Compare sibling clades individually')\n"
   ]
  },
  {
   "cell_type": "code",
   "execution_count": 300,
   "id": "c481b617-1885-4980-b007-2eca9c19670e",
   "metadata": {},
   "outputs": [
    {
     "data": {
      "text/plain": [
       "Text(1.3, 1, 'p-value = 0.19738')"
      ]
     },
     "execution_count": 300,
     "metadata": {},
     "output_type": "execute_result"
    },
    {
     "data": {
      "image/png": "[encoded data removed]",
      "text/plain": [
       "<Figure size 640x480 with 1 Axes>"
      ]
     },
     "metadata": {},
     "output_type": "display_data"
    }
   ],
   "source": []
  }
 ],
 "metadata": {
  "kernelspec": {
   "display_name": "Python [conda env:orf8ko]",
   "language": "python",
   "name": "conda-env-orf8ko-py"
  },
  "language_info": {
   "codemirror_mode": {
    "name": "ipython",
    "version": 3
   },
   "file_extension": ".py",
   "mimetype": "text/x-python",
   "name": "python",
   "nbconvert_exporter": "python",
   "pygments_lexer": "ipython3",
   "version": "3.10.9"
  }
 },
 "nbformat": 4,
 "nbformat_minor": 5
}
