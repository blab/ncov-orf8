{
 "cells": [
  {
   "cell_type": "markdown",
   "id": "36a25009-8113-4e6b-ba40-21e2e71ea188",
   "metadata": {},
   "source": [
    "## Cluster sizes Usher\n",
    "The goal of this notebook is to compare the cluster sizes resulting from stop mutations in ORF8 vs. syn & missense mutations.\n",
    "1. I'll compare raw size of clusters & time of circulation for stop vs. missense vs. synonymous.\n",
    "2. I'll run a permutation test to compare see if observed cluster sizes & times of circulation are larger than would be expected for samples from that same backbone.\n"
   ]
  },
  {
   "cell_type": "markdown",
   "id": "2d53cf7d-8d39-4232-825a-ca7f0e833ab5",
   "metadata": {},
   "source": [
    "### Set up & loading"
   ]
  },
  {
   "cell_type": "code",
   "execution_count": 3,
   "id": "04c8df2a-c29f-4da7-a957-9ebd09e8fc48",
   "metadata": {},
   "outputs": [],
   "source": [
    "import os\n",
    "import pandas as pd\n",
    "from Bio import Phylo\n",
    "import numpy as np\n",
    "import matplotlib as mpl\n",
    "import matplotlib.pyplot as plt\n",
    "import seaborn as sns\n",
    "from scipy import stats as st\n",
    "import json"
   ]
  },
  {
   "cell_type": "code",
   "execution_count": 4,
   "id": "ae8ba8cf-f0f8-43c7-9aa6-3cd5e6fffdc4",
   "metadata": {},
   "outputs": [],
   "source": [
    "%load_ext line_profiler"
   ]
  },
  {
   "cell_type": "code",
   "execution_count": 5,
   "id": "4d271ad4-1db4-498a-a20e-761b1092d48a",
   "metadata": {},
   "outputs": [],
   "source": [
    "os.chdir('/Users/cwagner2/Work/projects/covid/long-deletions/')"
   ]
  },
  {
   "cell_type": "code",
   "execution_count": 6,
   "id": "2d6d092a-d1e3-4814-a22f-37c9662c1a9a",
   "metadata": {},
   "outputs": [],
   "source": [
    "## Matplot lib settings\n",
    "mpl.rcParams['axes.spines.right'] = False\n",
    "mpl.rcParams['axes.spines.top'] = False\n",
    "mpl.rcParams['axes.labelsize'] = 14\n",
    "mpl.rcParams['axes.linewidth'] = 1.2\n",
    "mpl.rcParams['font.sans-serif'] = 'Helvetica'\n",
    "mpl.rcParams['xtick.labelsize'] = 12\n",
    "mpl.rcParams['ytick.labelsize'] = 12\n",
    "mpl.rcParams['xtick.major.width'] = 1.2\n",
    "mpl.rcParams['ytick.major.width'] = 1.2\n",
    "mpl.rcParams['figure.titleweight'] = 'bold'\n",
    "mpl.rcParams['figure.titlesize']= 14\n",
    "mpl.rcParams['legend.fontsize']=12\n",
    "mpl.rcParams['legend.title_fontsize']=14"
   ]
  },
  {
   "cell_type": "code",
   "execution_count": 7,
   "id": "5ae21c8e-1015-4287-86d3-eb058a1a0948",
   "metadata": {},
   "outputs": [],
   "source": [
    "muts = pd.read_csv('usher/trimmed/usher_translations.tsv',sep='\\t')"
   ]
  },
  {
   "cell_type": "code",
   "execution_count": 8,
   "id": "819b8163-a75c-42f1-9237-0b62d162beba",
   "metadata": {},
   "outputs": [],
   "source": [
    "tree = Phylo.read('usher/trimmed/trimmed_2023-05-01.all.nwk','newick')"
   ]
  },
  {
   "cell_type": "code",
   "execution_count": 9,
   "id": "498f2ec8-9c9e-41a7-a421-b1182c5424e7",
   "metadata": {},
   "outputs": [],
   "source": [
    "stats = pd.read_csv('usher/trimmed/usher_nodes.tsv',sep='\\t')"
   ]
  },
  {
   "cell_type": "code",
   "execution_count": 10,
   "id": "932c084d-accd-4b1c-bcb0-64b373b2db33",
   "metadata": {},
   "outputs": [
    {
     "data": {
      "text/html": [
       "<div>\n",
       "<style scoped>\n",
       "    .dataframe tbody tr th:only-of-type {\n",
       "        vertical-align: middle;\n",
       "    }\n",
       "\n",
       "    .dataframe tbody tr th {\n",
       "        vertical-align: top;\n",
       "    }\n",
       "\n",
       "    .dataframe thead th {\n",
       "        text-align: right;\n",
       "    }\n",
       "</style>\n",
       "<table border=\"1\" class=\"dataframe\">\n",
       "  <thead>\n",
       "    <tr style=\"text-align: right;\">\n",
       "      <th></th>\n",
       "      <th>node_id</th>\n",
       "      <th>aa_mutations</th>\n",
       "      <th>nt_mutations</th>\n",
       "      <th>codon_changes</th>\n",
       "      <th>leaves_sharing_mutations</th>\n",
       "    </tr>\n",
       "  </thead>\n",
       "  <tbody>\n",
       "    <tr>\n",
       "      <th>0</th>\n",
       "      <td>CHN/YN-0306-466/2020|MT396241.1|2020-03-06</td>\n",
       "      <td>ORF1b:D815Y</td>\n",
       "      <td>G15910T</td>\n",
       "      <td>GAT&gt;TAT</td>\n",
       "      <td>1</td>\n",
       "    </tr>\n",
       "    <tr>\n",
       "      <th>1</th>\n",
       "      <td>DP0803|LC571037.1|2020-02-17</td>\n",
       "      <td>ORF1a:V1299V</td>\n",
       "      <td>G4162T</td>\n",
       "      <td>GTG&gt;GTT</td>\n",
       "      <td>1</td>\n",
       "    </tr>\n",
       "    <tr>\n",
       "      <th>2</th>\n",
       "      <td>node_2</td>\n",
       "      <td>ORF1a:D4275D</td>\n",
       "      <td>T13090C</td>\n",
       "      <td>GAT&gt;GAC</td>\n",
       "      <td>2</td>\n",
       "    </tr>\n",
       "    <tr>\n",
       "      <th>3</th>\n",
       "      <td>England/LEED-2A8B52/2020|OA971832.1|2020-04-04</td>\n",
       "      <td>ORF1a:P309L;ORF1a:Y3803Y</td>\n",
       "      <td>C1191T;C11674T</td>\n",
       "      <td>CCA&gt;CTA;TAC&gt;TAT</td>\n",
       "      <td>1</td>\n",
       "    </tr>\n",
       "    <tr>\n",
       "      <th>4</th>\n",
       "      <td>England/SHEF-C06CE/2020|2020-03-25</td>\n",
       "      <td>ORF1b:M785T</td>\n",
       "      <td>T15821C</td>\n",
       "      <td>ATG&gt;ACG</td>\n",
       "      <td>1</td>\n",
       "    </tr>\n",
       "  </tbody>\n",
       "</table>\n",
       "</div>"
      ],
      "text/plain": [
       "                                          node_id              aa_mutations  \\\n",
       "0      CHN/YN-0306-466/2020|MT396241.1|2020-03-06               ORF1b:D815Y   \n",
       "1                    DP0803|LC571037.1|2020-02-17              ORF1a:V1299V   \n",
       "2                                          node_2              ORF1a:D4275D   \n",
       "3  England/LEED-2A8B52/2020|OA971832.1|2020-04-04  ORF1a:P309L;ORF1a:Y3803Y   \n",
       "4              England/SHEF-C06CE/2020|2020-03-25               ORF1b:M785T   \n",
       "\n",
       "     nt_mutations    codon_changes  leaves_sharing_mutations  \n",
       "0         G15910T          GAT>TAT                         1  \n",
       "1          G4162T          GTG>GTT                         1  \n",
       "2         T13090C          GAT>GAC                         2  \n",
       "3  C1191T;C11674T  CCA>CTA;TAC>TAT                         1  \n",
       "4         T15821C          ATG>ACG                         1  "
      ]
     },
     "execution_count": 10,
     "metadata": {},
     "output_type": "execute_result"
    }
   ],
   "source": [
    "muts.head()"
   ]
  },
  {
   "cell_type": "markdown",
   "id": "532c190d-6217-4ff9-8754-c613e2f3c182",
   "metadata": {},
   "source": [
    "### Raw comparison of missense vs nonsense vs synonymous clades"
   ]
  },
  {
   "cell_type": "code",
   "execution_count": 12,
   "id": "2ff9e935-81e0-4366-a130-ced3f5515582",
   "metadata": {},
   "outputs": [],
   "source": [
    "def load_dates(path):\n",
    "    df = pd.read_csv(path,sep='\\t',usecols=['strain','date'],compression='gzip')\n",
    "    df = df[~df.date.isna()]\n",
    "    df = df[~df.date.str.contains('?',regex=False)]\n",
    "    df['date'] = pd.to_datetime(df['date'])\n",
    "    df.set_index('strain',inplace=True)\n",
    "    return df\n",
    "\n",
    "def all_parents(tree):\n",
    "    parents = {}\n",
    "    for clade in tree.find_clades(order=\"level\"):\n",
    "        for child in clade:\n",
    "            parents[child.name] = clade.name\n",
    "    return parents\n",
    "\n",
    "def find_nodes(muts, gene):\n",
    "    '''\n",
    "    Finds nodes containing mutation in gene\n",
    "    '''\n",
    "    aa = muts['aa_mutations']\n",
    "    nt = muts['nt_mutations']\n",
    "    codons = muts['codon_changes']\n",
    "    idxs = [idx for idx in aa.index if gene in aa[idx]]\n",
    "    counts = [aa[idx].count(gene) for idx in idxs]\n",
    "    gene_idxs = [idx for idx, c in zip(idxs,counts) if c == 1]\n",
    "    split_aa = [aa[idx].split(';') if ';' in aa[idx] else [aa[idx]]for idx in gene_idxs]\n",
    "    #split_nt = [nt[idx].split(';') if ';' in nt[idx] else [nt[idx]]for idx in gene_idxs]\n",
    "    #split_codons = [codons[idx].split(';') if ';' in codons[idx] else [codons[idx]]for idx in gene_idxs]\n",
    "    locations = [i for lst in split_aa for i,j in enumerate(lst) if gene in j]\n",
    "    AA = [v[i] for i,v in zip(locations,split_aa)]\n",
    "    #NT = [v[i] for i,v in zip(locations,split_nt)]\n",
    "    #CODONS = [v[i] for i,v in zip(locations,split_codons)]\n",
    "    gene_aa = [v.split(':')[1] for v in AA]\n",
    "    ogs = [g_aa[0] for g_aa in gene_aa]\n",
    "    news = [g_aa[-1] for g_aa in gene_aa]\n",
    "    mut_type = []\n",
    "    for og, new in zip(ogs, news):\n",
    "        if og == new:\n",
    "            mut_type.append('synonymous')\n",
    "        elif new == '*':\n",
    "            mut_type.append('nonsense')\n",
    "        elif og != '*':\n",
    "            mut_type.append('missense')\n",
    "        else:\n",
    "            mut_type.append('undoStop')\n",
    "    branch_muts = nt[gene_idxs].str.count(';') + 1\n",
    "    nodes = pd.DataFrame({'node_id': muts['node_id'][gene_idxs], 'aa_mutations':aa[gene_idxs], 'nt_mutations':nt[gene_idxs], 'codon_change':codons[gene_idxs],'mut_type':mut_type,'branch_muts_counts': branch_muts, 'gene':gene}).reset_index(drop=True)\n",
    "    return nodes\n",
    "\n",
    "def tabulate_names(tree):\n",
    "    names = {}\n",
    "    for idx, clade in enumerate(tree.find_clades()):\n",
    "        if not clade.name:\n",
    "            clade.name = str(idx)\n",
    "        names[clade.name] = clade\n",
    "    return names\n",
    "\n",
    "def get_leaves(node, named):\n",
    "    #obj = named[node]\n",
    "    #leaves = obj.get_terminals()\n",
    "    leaves = named[node].get_terminals()\n",
    "    names = [leaf.name for leaf in leaves]\n",
    "    return names\n",
    "\n",
    "def get_time(node,named,date_df):\n",
    "    leaves = get_leaves(node,named)\n",
    "    dates = date_df.loc[leaves]['date']\n",
    "    first = min(dates)\n",
    "    time = max(dates) - first\n",
    "    return time.days, first\n",
    "\n",
    "def get_times(df,named,date_df):\n",
    "    time_vect = np.vectorize(get_time,excluded=[1,2])\n",
    "    df['days_circulated'],df['date_observed'] = time_vect(df['node_id'],named,date_df)\n",
    "    return df\n",
    "\n",
    "def get_ancestry(node, parentDict):\n",
    "    parentals = set()\n",
    "    parent = node\n",
    "    while parent in parentDict.keys():\n",
    "        parent = parentDict[parent]\n",
    "        parentals.add(parent)\n",
    "    return parentals\n",
    "\n",
    "def find_nested(df, parentDict):\n",
    "    nodes = set(df['node_id'])\n",
    "    remove = set()\n",
    "    \n",
    "    indexed = pd.Series(df['node_id'].index, index=df['node_id'])\n",
    "\n",
    "    for idx in df.index:\n",
    "        anc = get_ancestry(df['node_id'][idx],parentDict)\n",
    "        nested = anc.intersection(nodes)\n",
    "        if len(nested):\n",
    "            nested_idx = indexed[list(nested)]\n",
    "            #remove.add(idx)\n",
    "            remove.update(nested_idx)\n",
    "    return remove"
   ]
  },
  {
   "cell_type": "code",
   "execution_count": 59,
   "id": "95b937d3-5941-4dc3-82dd-edf69d51d892",
   "metadata": {},
   "outputs": [],
   "source": [
    "parents = all_parents(tree)"
   ]
  },
  {
   "cell_type": "code",
   "execution_count": 16,
   "id": "b97d40a6-7ed2-4532-861d-4be8b0e00c70",
   "metadata": {},
   "outputs": [],
   "source": [
    "# Map node ids to tree ojbect\n",
    "named = tabulate_names(tree)"
   ]
  },
  {
   "cell_type": "code",
   "execution_count": 55,
   "id": "01307ea7-8ff4-43d2-99fd-80e8e910349f",
   "metadata": {},
   "outputs": [],
   "source": [
    "# Generate df of ORF8 nodes\n",
    "nodes = find_nodes(muts,'ORF8')"
   ]
  },
  {
   "cell_type": "code",
   "execution_count": 56,
   "id": "bbc31dc1-48ec-48d2-ada2-d95315e1b1a1",
   "metadata": {},
   "outputs": [],
   "source": [
    "# Add in node size\n",
    "merged = nodes.merge(stats,how='left', left_on = 'node_id', right_on = 'node')"
   ]
  },
  {
   "cell_type": "code",
   "execution_count": 57,
   "id": "e4c5f28b-4cb1-4247-9ae6-680f8e68b873",
   "metadata": {},
   "outputs": [
    {
     "data": {
      "text/html": [
       "<div>\n",
       "<style scoped>\n",
       "    .dataframe tbody tr th:only-of-type {\n",
       "        vertical-align: middle;\n",
       "    }\n",
       "\n",
       "    .dataframe tbody tr th {\n",
       "        vertical-align: top;\n",
       "    }\n",
       "\n",
       "    .dataframe thead th {\n",
       "        text-align: right;\n",
       "    }\n",
       "</style>\n",
       "<table border=\"1\" class=\"dataframe\">\n",
       "  <thead>\n",
       "    <tr style=\"text-align: right;\">\n",
       "      <th></th>\n",
       "      <th>node_id</th>\n",
       "      <th>aa_mutations</th>\n",
       "      <th>nt_mutations</th>\n",
       "      <th>codon_change</th>\n",
       "      <th>mut_type</th>\n",
       "      <th>branch_muts_counts</th>\n",
       "      <th>gene</th>\n",
       "      <th>node</th>\n",
       "      <th>leaf_count</th>\n",
       "      <th>mut_count</th>\n",
       "      <th>mut_density</th>\n",
       "      <th>rev_from_lineage</th>\n",
       "    </tr>\n",
       "  </thead>\n",
       "  <tbody>\n",
       "    <tr>\n",
       "      <th>0</th>\n",
       "      <td>England/SHEF-BFFC7/2020|2020-03-25</td>\n",
       "      <td>ORF8:W45L</td>\n",
       "      <td>G28027T</td>\n",
       "      <td>TGG&gt;TTG</td>\n",
       "      <td>missense</td>\n",
       "      <td>1</td>\n",
       "      <td>ORF8</td>\n",
       "      <td>England/SHEF-BFFC7/2020|2020-03-25</td>\n",
       "      <td>1</td>\n",
       "      <td>1</td>\n",
       "      <td>1.00000</td>\n",
       "      <td>0</td>\n",
       "    </tr>\n",
       "    <tr>\n",
       "      <th>1</th>\n",
       "      <td>Northern_Ireland/NIRE-1082A7/2020|2020-04-01</td>\n",
       "      <td>ORF8:F6F</td>\n",
       "      <td>C27911T</td>\n",
       "      <td>TTC&gt;TTT</td>\n",
       "      <td>synonymous</td>\n",
       "      <td>1</td>\n",
       "      <td>ORF8</td>\n",
       "      <td>Northern_Ireland/NIRE-1082A7/2020|2020-04-01</td>\n",
       "      <td>1</td>\n",
       "      <td>1</td>\n",
       "      <td>1.00000</td>\n",
       "      <td>0</td>\n",
       "    </tr>\n",
       "    <tr>\n",
       "      <th>2</th>\n",
       "      <td>England/ALDP-9ED149/2020|OA993758.1|2020-05-05</td>\n",
       "      <td>M:R158L;ORF8:K68R</td>\n",
       "      <td>G26995T;A28096G</td>\n",
       "      <td>CGC&gt;CTC;AAA&gt;AGA</td>\n",
       "      <td>missense</td>\n",
       "      <td>2</td>\n",
       "      <td>ORF8</td>\n",
       "      <td>England/ALDP-9ED149/2020|OA993758.1|2020-05-05</td>\n",
       "      <td>1</td>\n",
       "      <td>2</td>\n",
       "      <td>2.00000</td>\n",
       "      <td>0</td>\n",
       "    </tr>\n",
       "    <tr>\n",
       "      <th>3</th>\n",
       "      <td>node_32</td>\n",
       "      <td>ORF1a:A138T;ORF1a:L1559I;ORF8:P56L</td>\n",
       "      <td>G677A;C4940A;C28060T</td>\n",
       "      <td>GCC&gt;ACC;CTT&gt;ATT;CCT&gt;CTT</td>\n",
       "      <td>missense</td>\n",
       "      <td>3</td>\n",
       "      <td>ORF8</td>\n",
       "      <td>node_32</td>\n",
       "      <td>4</td>\n",
       "      <td>3</td>\n",
       "      <td>0.75000</td>\n",
       "      <td>0</td>\n",
       "    </tr>\n",
       "    <tr>\n",
       "      <th>4</th>\n",
       "      <td>node_35</td>\n",
       "      <td>ORF1a:V3595G;ORF1b:S936S;ORF1b:F1850F;ORF8:A65...</td>\n",
       "      <td>T11049G;A16275G;C19017T;T28088A;G28337T;G28337T</td>\n",
       "      <td>GTC&gt;GGC;TCA&gt;TCG;TTC&gt;TTT;GCT&gt;GCA;GAT&gt;TAT;CAG&gt;CAT</td>\n",
       "      <td>synonymous</td>\n",
       "      <td>6</td>\n",
       "      <td>ORF8</td>\n",
       "      <td>node_35</td>\n",
       "      <td>7</td>\n",
       "      <td>39</td>\n",
       "      <td>5.57143</td>\n",
       "      <td>0</td>\n",
       "    </tr>\n",
       "  </tbody>\n",
       "</table>\n",
       "</div>"
      ],
      "text/plain": [
       "                                          node_id  \\\n",
       "0              England/SHEF-BFFC7/2020|2020-03-25   \n",
       "1    Northern_Ireland/NIRE-1082A7/2020|2020-04-01   \n",
       "2  England/ALDP-9ED149/2020|OA993758.1|2020-05-05   \n",
       "3                                         node_32   \n",
       "4                                         node_35   \n",
       "\n",
       "                                        aa_mutations  \\\n",
       "0                                          ORF8:W45L   \n",
       "1                                           ORF8:F6F   \n",
       "2                                  M:R158L;ORF8:K68R   \n",
       "3                 ORF1a:A138T;ORF1a:L1559I;ORF8:P56L   \n",
       "4  ORF1a:V3595G;ORF1b:S936S;ORF1b:F1850F;ORF8:A65...   \n",
       "\n",
       "                                      nt_mutations  \\\n",
       "0                                          G28027T   \n",
       "1                                          C27911T   \n",
       "2                                  G26995T;A28096G   \n",
       "3                             G677A;C4940A;C28060T   \n",
       "4  T11049G;A16275G;C19017T;T28088A;G28337T;G28337T   \n",
       "\n",
       "                                      codon_change    mut_type  \\\n",
       "0                                          TGG>TTG    missense   \n",
       "1                                          TTC>TTT  synonymous   \n",
       "2                                  CGC>CTC;AAA>AGA    missense   \n",
       "3                          GCC>ACC;CTT>ATT;CCT>CTT    missense   \n",
       "4  GTC>GGC;TCA>TCG;TTC>TTT;GCT>GCA;GAT>TAT;CAG>CAT  synonymous   \n",
       "\n",
       "   branch_muts_counts  gene                                            node  \\\n",
       "0                   1  ORF8              England/SHEF-BFFC7/2020|2020-03-25   \n",
       "1                   1  ORF8    Northern_Ireland/NIRE-1082A7/2020|2020-04-01   \n",
       "2                   2  ORF8  England/ALDP-9ED149/2020|OA993758.1|2020-05-05   \n",
       "3                   3  ORF8                                         node_32   \n",
       "4                   6  ORF8                                         node_35   \n",
       "\n",
       "   leaf_count  mut_count  mut_density  rev_from_lineage  \n",
       "0           1          1      1.00000                 0  \n",
       "1           1          1      1.00000                 0  \n",
       "2           1          2      2.00000                 0  \n",
       "3           4          3      0.75000                 0  \n",
       "4           7         39      5.57143                 0  "
      ]
     },
     "execution_count": 57,
     "metadata": {},
     "output_type": "execute_result"
    }
   ],
   "source": [
    "merged.head()"
   ]
  },
  {
   "cell_type": "code",
   "execution_count": 95,
   "id": "f69a4edd-132a-4a07-b28d-bce1d0a27c7f",
   "metadata": {},
   "outputs": [],
   "source": [
    "to_remove = find_nested(merged,parents)"
   ]
  },
  {
   "cell_type": "code",
   "execution_count": 96,
   "id": "b3195bb3-8c06-48e3-a466-d21e6f426259",
   "metadata": {},
   "outputs": [
    {
     "data": {
      "text/plain": [
       "41636"
      ]
     },
     "execution_count": 96,
     "metadata": {},
     "output_type": "execute_result"
    }
   ],
   "source": [
    "len(to_remove)"
   ]
  },
  {
   "cell_type": "code",
   "execution_count": 97,
   "id": "d264cf36-8e87-4654-9243-72e56a39bb6e",
   "metadata": {},
   "outputs": [
    {
     "data": {
      "text/plain": [
       "111789"
      ]
     },
     "execution_count": 97,
     "metadata": {},
     "output_type": "execute_result"
    }
   ],
   "source": [
    "len(merged)"
   ]
  },
  {
   "cell_type": "code",
   "execution_count": 98,
   "id": "d02619d4-cb3a-48db-acb5-b23a19df4045",
   "metadata": {},
   "outputs": [],
   "source": [
    "no_nested = merged.drop(index=list(to_remove))"
   ]
  },
  {
   "cell_type": "code",
   "execution_count": 99,
   "id": "a9e8d2fb-a05d-4904-a3d7-0983e7e0eb4f",
   "metadata": {},
   "outputs": [
    {
     "data": {
      "text/plain": [
       "70153"
      ]
     },
     "execution_count": 99,
     "metadata": {},
     "output_type": "execute_result"
    }
   ],
   "source": [
    "len(no_nested)"
   ]
  },
  {
   "cell_type": "code",
   "execution_count": 13,
   "id": "c35a9d4b-b5c0-4822-86f9-2444a01c8194",
   "metadata": {},
   "outputs": [],
   "source": [
    "dates_df = load_dates('usher/public-2023-05-01.metadata.tsv.gz')"
   ]
  },
  {
   "cell_type": "code",
   "execution_count": 101,
   "id": "cf161ccb-7beb-4620-88d9-2c29650a9dd9",
   "metadata": {},
   "outputs": [],
   "source": [
    "# Add in circulation time\n",
    "complete = get_times(no_nested,named,dates_df)"
   ]
  },
  {
   "cell_type": "code",
   "execution_count": 102,
   "id": "1a9cef85-2fe7-40a0-b91a-d4c459c7c268",
   "metadata": {},
   "outputs": [],
   "source": [
    "complete.to_csv('usher/trimmed/orf8clades_noNested.tsv',sep='\\t',index=False)"
   ]
  },
  {
   "cell_type": "code",
   "execution_count": 103,
   "id": "b0ce7097-07a7-4c42-8569-9d1ba0ca59a5",
   "metadata": {},
   "outputs": [
    {
     "data": {
      "image/png": "[encoded data removed]",
      "text/plain": [
       "<Figure size 640x480 with 3 Axes>"
      ]
     },
     "metadata": {},
     "output_type": "display_data"
    }
   ],
   "source": [
    "fig, ax = plt.subplots(nrows=3,ncols=1,sharex=True)\n",
    "for plot,mut in zip([0,1,2],['synonymous','missense','nonsense']):\n",
    "    sns.histplot(data=complete[complete.mut_type==mut],x='leaf_count',log_scale=True,ax=ax[plot],element='poly',stat='percent',bins=100)\n",
    "    #ax[plot]."
   ]
  },
  {
   "cell_type": "code",
   "execution_count": 104,
   "id": "25bea2d8-c0e3-483e-8f18-5de3e3bad657",
   "metadata": {},
   "outputs": [],
   "source": [
    "def plot_distributions(df,var,log_scale,axis):\n",
    "    fig, ax = plt.subplots(nrows=3,ncols=1,sharex=True,figsize=(4,6))\n",
    "    for plot,mut,color in zip([0,1,2],['synonymous','missense','nonsense'],['c','m','y']):\n",
    "        data = df[df.mut_type==mut]\n",
    "        per75 = np.nanpercentile(data[var],75)\n",
    "        sns.histplot(data=data,x=var,ax=ax[plot],stat='percent',bins=100,zorder=1,log_scale=log_scale,color=color)\n",
    "        ax[plot].axvline(x=per75,linestyle='dashed',color='black',lw=1,zorder=2,label='75th percentile: ' + str(per75))\n",
    "        #print(per75)\n",
    "        ax[plot].set_title(mut)\n",
    "        ax[plot].legend()\n",
    "        ax[plot].set_xlabel(axis)\n",
    "        \n"
   ]
  },
  {
   "cell_type": "code",
   "execution_count": null,
   "id": "4e25b47c-d631-466e-a3be-7f7e55b0602b",
   "metadata": {},
   "outputs": [],
   "source": []
  },
  {
   "cell_type": "code",
   "execution_count": 105,
   "id": "f05dc250-e9a4-440d-ab85-0bcfaba027e8",
   "metadata": {},
   "outputs": [
    {
     "data": {
      "image/png": "[encoded data removed]",
      "text/plain": [
       "<Figure size 400x600 with 3 Axes>"
      ]
     },
     "metadata": {},
     "output_type": "display_data"
    }
   ],
   "source": [
    "plot_distributions(complete,'days_circulated',False,'Days cluster circulated')"
   ]
  },
  {
   "cell_type": "code",
   "execution_count": 106,
   "id": "1b12257d-9da9-418e-892f-aeda37636a53",
   "metadata": {},
   "outputs": [
    {
     "data": {
      "image/png": "[encoded data removed]",
      "text/plain": [
       "<Figure size 400x600 with 3 Axes>"
      ]
     },
     "metadata": {},
     "output_type": "display_data"
    }
   ],
   "source": [
    "plot_distributions(complete,'leaf_count',True, 'Cluster Size')"
   ]
  },
  {
   "cell_type": "code",
   "execution_count": 22,
   "id": "079ad146-b758-4d47-84f9-1b510ce04821",
   "metadata": {},
   "outputs": [],
   "source": [
    "def plot_distributions_noS(df,var,log_scale,axis):\n",
    "    fig, ax = plt.subplots(nrows=3,ncols=1,sharex=True,figsize=(4,6))\n",
    "    for plot,mut,color in zip([0,1,2],['synonymous','missense','nonsense'],['c','m','y']):\n",
    "        data = df[(df.mut_type==mut) & (df.leaf_count>1)]\n",
    "        per75 = np.nanpercentile(data[var],50)\n",
    "        sns.histplot(data=data,x=var,ax=ax[plot],stat='percent',bins=100,zorder=1,log_scale=log_scale,color=color)\n",
    "        ax[plot].axvline(x=per75,linestyle='dashed',color='black',lw=1,zorder=2,label='50th percentile: ' + str(per75))\n",
    "        print(per75)\n",
    "        ax[plot].set_title(mut)\n",
    "        ax[plot].legend()\n",
    "        ax[plot].set_xlabel(axis)\n",
    "    return fig"
   ]
  },
  {
   "cell_type": "code",
   "execution_count": 23,
   "id": "708e4449-0238-42e6-b1e0-dfcb2905045d",
   "metadata": {},
   "outputs": [
    {
     "name": "stdout",
     "output_type": "stream",
     "text": [
      "4.0\n",
      "4.0\n",
      "4.0\n"
     ]
    },
    {
     "data": {
      "image/png": "[encoded data removed]",
      "text/plain": [
       "<Figure size 400x600 with 3 Axes>"
      ]
     },
     "execution_count": 23,
     "metadata": {},
     "output_type": "execute_result"
    },
    {
     "data": {
      "image/png": "[encoded data removed]",
      "text/plain": [
       "<Figure size 400x600 with 3 Axes>"
      ]
     },
     "metadata": {},
     "output_type": "display_data"
    }
   ],
   "source": [
    "plot_distributions_noS(complete,'leaf_count',True,'clusterSize')"
   ]
  },
  {
   "cell_type": "code",
   "execution_count": 24,
   "id": "ffae6f68-ca78-42dc-8562-3870f9eab7c9",
   "metadata": {},
   "outputs": [
    {
     "name": "stdout",
     "output_type": "stream",
     "text": [
      "18.0\n",
      "20.0\n",
      "22.0\n"
     ]
    },
    {
     "data": {
      "image/png": "[encoded data removed]",
      "text/plain": [
       "<Figure size 400x600 with 3 Axes>"
      ]
     },
     "execution_count": 24,
     "metadata": {},
     "output_type": "execute_result"
    },
    {
     "data": {
      "image/png": "[encoded data removed]",
      "text/plain": [
       "<Figure size 400x600 with 3 Axes>"
      ]
     },
     "metadata": {},
     "output_type": "display_data"
    }
   ],
   "source": [
    "plot_distributions_noS(complete,'days_circulated',False,'Days circulated')"
   ]
  },
  {
   "cell_type": "code",
   "execution_count": 14,
   "id": "eb96b8ab-6baa-454e-ab6b-1fbebd2c5428",
   "metadata": {},
   "outputs": [],
   "source": [
    "working_df = pd.read_csv('usher/trimmed/clades_nested/ORF8_clades.tsv',sep='\\t')"
   ]
  },
  {
   "cell_type": "code",
   "execution_count": 17,
   "id": "18dbf79b-492f-45f8-8e0d-1029cb4ce2d1",
   "metadata": {},
   "outputs": [
    {
     "name": "stderr",
     "output_type": "stream",
     "text": [
      "/var/folders/b5/2grxct1x69395r8j6vkk07bc0000gp/T/ipykernel_25230/1463366067.py:74: SettingWithCopyWarning: \n",
      "A value is trying to be set on a copy of a slice from a DataFrame.\n",
      "Try using .loc[row_indexer,col_indexer] = value instead\n",
      "\n",
      "See the caveats in the documentation: https://pandas.pydata.org/pandas-docs/stable/user_guide/indexing.html#returning-a-view-versus-a-copy\n",
      "  df['days_circulated'],df['date_observed'] = time_vect(df['node_id'],named,date_df)\n",
      "/var/folders/b5/2grxct1x69395r8j6vkk07bc0000gp/T/ipykernel_25230/1463366067.py:74: SettingWithCopyWarning: \n",
      "A value is trying to be set on a copy of a slice from a DataFrame.\n",
      "Try using .loc[row_indexer,col_indexer] = value instead\n",
      "\n",
      "See the caveats in the documentation: https://pandas.pydata.org/pandas-docs/stable/user_guide/indexing.html#returning-a-view-versus-a-copy\n",
      "  df['days_circulated'],df['date_observed'] = time_vect(df['node_id'],named,date_df)\n"
     ]
    }
   ],
   "source": [
    "test = get_times(working_df.iloc[0:100,:],named,dates_df)"
   ]
  },
  {
   "cell_type": "code",
   "execution_count": 18,
   "id": "8043df7b-b451-4546-b7ea-eee7a65fe0fe",
   "metadata": {},
   "outputs": [
    {
     "data": {
      "text/html": [
       "<div>\n",
       "<style scoped>\n",
       "    .dataframe tbody tr th:only-of-type {\n",
       "        vertical-align: middle;\n",
       "    }\n",
       "\n",
       "    .dataframe tbody tr th {\n",
       "        vertical-align: top;\n",
       "    }\n",
       "\n",
       "    .dataframe thead th {\n",
       "        text-align: right;\n",
       "    }\n",
       "</style>\n",
       "<table border=\"1\" class=\"dataframe\">\n",
       "  <thead>\n",
       "    <tr style=\"text-align: right;\">\n",
       "      <th></th>\n",
       "      <th>node_id</th>\n",
       "      <th>aa_mutations</th>\n",
       "      <th>nt_mutations</th>\n",
       "      <th>codon_change</th>\n",
       "      <th>mut_type</th>\n",
       "      <th>branch_muts_counts</th>\n",
       "      <th>gene</th>\n",
       "      <th>leaf_count</th>\n",
       "      <th>mut_count</th>\n",
       "      <th>mut_density</th>\n",
       "      <th>rev_from_lineage</th>\n",
       "      <th>days_circulated</th>\n",
       "      <th>parent</th>\n",
       "      <th>cluster</th>\n",
       "      <th>date_observed</th>\n",
       "    </tr>\n",
       "  </thead>\n",
       "  <tbody>\n",
       "    <tr>\n",
       "      <th>0</th>\n",
       "      <td>England/SHEF-BFFC7/2020|2020-03-25</td>\n",
       "      <td>ORF8:W45L</td>\n",
       "      <td>G28027T</td>\n",
       "      <td>TGG&gt;TTG</td>\n",
       "      <td>missense</td>\n",
       "      <td>1</td>\n",
       "      <td>ORF8</td>\n",
       "      <td>1</td>\n",
       "      <td>1</td>\n",
       "      <td>1.00000</td>\n",
       "      <td>0</td>\n",
       "      <td>0</td>\n",
       "      <td>node_3</td>\n",
       "      <td>1</td>\n",
       "      <td>2020-03-25</td>\n",
       "    </tr>\n",
       "    <tr>\n",
       "      <th>1</th>\n",
       "      <td>Northern_Ireland/NIRE-1082A7/2020|2020-04-01</td>\n",
       "      <td>ORF8:F6F</td>\n",
       "      <td>C27911T</td>\n",
       "      <td>TTC&gt;TTT</td>\n",
       "      <td>synonymous</td>\n",
       "      <td>1</td>\n",
       "      <td>ORF8</td>\n",
       "      <td>1</td>\n",
       "      <td>1</td>\n",
       "      <td>1.00000</td>\n",
       "      <td>0</td>\n",
       "      <td>0</td>\n",
       "      <td>node_27</td>\n",
       "      <td>2</td>\n",
       "      <td>2020-04-01</td>\n",
       "    </tr>\n",
       "    <tr>\n",
       "      <th>2</th>\n",
       "      <td>England/ALDP-9ED149/2020|OA993758.1|2020-05-05</td>\n",
       "      <td>M:R158L;ORF8:K68R</td>\n",
       "      <td>G26995T;A28096G</td>\n",
       "      <td>CGC&gt;CTC;AAA&gt;AGA</td>\n",
       "      <td>missense</td>\n",
       "      <td>2</td>\n",
       "      <td>ORF8</td>\n",
       "      <td>1</td>\n",
       "      <td>2</td>\n",
       "      <td>2.00000</td>\n",
       "      <td>0</td>\n",
       "      <td>0</td>\n",
       "      <td>node_30</td>\n",
       "      <td>3</td>\n",
       "      <td>2020-05-05</td>\n",
       "    </tr>\n",
       "    <tr>\n",
       "      <th>3</th>\n",
       "      <td>node_32</td>\n",
       "      <td>ORF1a:A138T;ORF1a:L1559I;ORF8:P56L</td>\n",
       "      <td>G677A;C4940A;C28060T</td>\n",
       "      <td>GCC&gt;ACC;CTT&gt;ATT;CCT&gt;CTT</td>\n",
       "      <td>missense</td>\n",
       "      <td>3</td>\n",
       "      <td>ORF8</td>\n",
       "      <td>4</td>\n",
       "      <td>3</td>\n",
       "      <td>0.75000</td>\n",
       "      <td>0</td>\n",
       "      <td>44</td>\n",
       "      <td>node_24</td>\n",
       "      <td>4</td>\n",
       "      <td>2020-03-18</td>\n",
       "    </tr>\n",
       "    <tr>\n",
       "      <th>4</th>\n",
       "      <td>node_35</td>\n",
       "      <td>ORF1a:V3595G;ORF1b:S936S;ORF1b:F1850F;ORF8:A65...</td>\n",
       "      <td>T11049G;A16275G;C19017T;T28088A;G28337T;G28337T</td>\n",
       "      <td>GTC&gt;GGC;TCA&gt;TCG;TTC&gt;TTT;GCT&gt;GCA;GAT&gt;TAT;CAG&gt;CAT</td>\n",
       "      <td>synonymous</td>\n",
       "      <td>6</td>\n",
       "      <td>ORF8</td>\n",
       "      <td>7</td>\n",
       "      <td>39</td>\n",
       "      <td>5.57143</td>\n",
       "      <td>0</td>\n",
       "      <td>108</td>\n",
       "      <td>node_34</td>\n",
       "      <td>5</td>\n",
       "      <td>2020-10-19</td>\n",
       "    </tr>\n",
       "  </tbody>\n",
       "</table>\n",
       "</div>"
      ],
      "text/plain": [
       "                                          node_id  \\\n",
       "0              England/SHEF-BFFC7/2020|2020-03-25   \n",
       "1    Northern_Ireland/NIRE-1082A7/2020|2020-04-01   \n",
       "2  England/ALDP-9ED149/2020|OA993758.1|2020-05-05   \n",
       "3                                         node_32   \n",
       "4                                         node_35   \n",
       "\n",
       "                                        aa_mutations  \\\n",
       "0                                          ORF8:W45L   \n",
       "1                                           ORF8:F6F   \n",
       "2                                  M:R158L;ORF8:K68R   \n",
       "3                 ORF1a:A138T;ORF1a:L1559I;ORF8:P56L   \n",
       "4  ORF1a:V3595G;ORF1b:S936S;ORF1b:F1850F;ORF8:A65...   \n",
       "\n",
       "                                      nt_mutations  \\\n",
       "0                                          G28027T   \n",
       "1                                          C27911T   \n",
       "2                                  G26995T;A28096G   \n",
       "3                             G677A;C4940A;C28060T   \n",
       "4  T11049G;A16275G;C19017T;T28088A;G28337T;G28337T   \n",
       "\n",
       "                                      codon_change    mut_type  \\\n",
       "0                                          TGG>TTG    missense   \n",
       "1                                          TTC>TTT  synonymous   \n",
       "2                                  CGC>CTC;AAA>AGA    missense   \n",
       "3                          GCC>ACC;CTT>ATT;CCT>CTT    missense   \n",
       "4  GTC>GGC;TCA>TCG;TTC>TTT;GCT>GCA;GAT>TAT;CAG>CAT  synonymous   \n",
       "\n",
       "   branch_muts_counts  gene  leaf_count  mut_count  mut_density  \\\n",
       "0                   1  ORF8           1          1      1.00000   \n",
       "1                   1  ORF8           1          1      1.00000   \n",
       "2                   2  ORF8           1          2      2.00000   \n",
       "3                   3  ORF8           4          3      0.75000   \n",
       "4                   6  ORF8           7         39      5.57143   \n",
       "\n",
       "   rev_from_lineage  days_circulated   parent  cluster date_observed  \n",
       "0                 0                0   node_3        1    2020-03-25  \n",
       "1                 0                0  node_27        2    2020-04-01  \n",
       "2                 0                0  node_30        3    2020-05-05  \n",
       "3                 0               44  node_24        4    2020-03-18  \n",
       "4                 0              108  node_34        5    2020-10-19  "
      ]
     },
     "execution_count": 18,
     "metadata": {},
     "output_type": "execute_result"
    }
   ],
   "source": [
    "test.head()"
   ]
  },
  {
   "cell_type": "code",
   "execution_count": 108,
   "id": "142dd385-4c9e-4c02-8c13-47c60366ce77",
   "metadata": {},
   "outputs": [
    {
     "data": {
      "text/html": [
       "<div>\n",
       "<style scoped>\n",
       "    .dataframe tbody tr th:only-of-type {\n",
       "        vertical-align: middle;\n",
       "    }\n",
       "\n",
       "    .dataframe tbody tr th {\n",
       "        vertical-align: top;\n",
       "    }\n",
       "\n",
       "    .dataframe thead th {\n",
       "        text-align: right;\n",
       "    }\n",
       "</style>\n",
       "<table border=\"1\" class=\"dataframe\">\n",
       "  <thead>\n",
       "    <tr style=\"text-align: right;\">\n",
       "      <th></th>\n",
       "      <th>node_id</th>\n",
       "      <th>aa_mutations</th>\n",
       "      <th>nt_mutations</th>\n",
       "      <th>codon_change</th>\n",
       "      <th>mut_type</th>\n",
       "      <th>branch_muts_counts</th>\n",
       "      <th>gene</th>\n",
       "      <th>node</th>\n",
       "      <th>leaf_count</th>\n",
       "      <th>mut_count</th>\n",
       "      <th>mut_density</th>\n",
       "      <th>rev_from_lineage</th>\n",
       "      <th>days_circulated</th>\n",
       "    </tr>\n",
       "  </thead>\n",
       "  <tbody>\n",
       "    <tr>\n",
       "      <th>0</th>\n",
       "      <td>England/SHEF-BFFC7/2020|2020-03-25</td>\n",
       "      <td>ORF8:W45L</td>\n",
       "      <td>G28027T</td>\n",
       "      <td>TGG&gt;TTG</td>\n",
       "      <td>missense</td>\n",
       "      <td>1</td>\n",
       "      <td>ORF8</td>\n",
       "      <td>England/SHEF-BFFC7/2020|2020-03-25</td>\n",
       "      <td>1</td>\n",
       "      <td>1</td>\n",
       "      <td>1.00000</td>\n",
       "      <td>0</td>\n",
       "      <td>0</td>\n",
       "    </tr>\n",
       "    <tr>\n",
       "      <th>1</th>\n",
       "      <td>Northern_Ireland/NIRE-1082A7/2020|2020-04-01</td>\n",
       "      <td>ORF8:F6F</td>\n",
       "      <td>C27911T</td>\n",
       "      <td>TTC&gt;TTT</td>\n",
       "      <td>synonymous</td>\n",
       "      <td>1</td>\n",
       "      <td>ORF8</td>\n",
       "      <td>Northern_Ireland/NIRE-1082A7/2020|2020-04-01</td>\n",
       "      <td>1</td>\n",
       "      <td>1</td>\n",
       "      <td>1.00000</td>\n",
       "      <td>0</td>\n",
       "      <td>0</td>\n",
       "    </tr>\n",
       "    <tr>\n",
       "      <th>2</th>\n",
       "      <td>England/ALDP-9ED149/2020|OA993758.1|2020-05-05</td>\n",
       "      <td>M:R158L;ORF8:K68R</td>\n",
       "      <td>G26995T;A28096G</td>\n",
       "      <td>CGC&gt;CTC;AAA&gt;AGA</td>\n",
       "      <td>missense</td>\n",
       "      <td>2</td>\n",
       "      <td>ORF8</td>\n",
       "      <td>England/ALDP-9ED149/2020|OA993758.1|2020-05-05</td>\n",
       "      <td>1</td>\n",
       "      <td>2</td>\n",
       "      <td>2.00000</td>\n",
       "      <td>0</td>\n",
       "      <td>0</td>\n",
       "    </tr>\n",
       "    <tr>\n",
       "      <th>3</th>\n",
       "      <td>node_32</td>\n",
       "      <td>ORF1a:A138T;ORF1a:L1559I;ORF8:P56L</td>\n",
       "      <td>G677A;C4940A;C28060T</td>\n",
       "      <td>GCC&gt;ACC;CTT&gt;ATT;CCT&gt;CTT</td>\n",
       "      <td>missense</td>\n",
       "      <td>3</td>\n",
       "      <td>ORF8</td>\n",
       "      <td>node_32</td>\n",
       "      <td>4</td>\n",
       "      <td>3</td>\n",
       "      <td>0.75000</td>\n",
       "      <td>0</td>\n",
       "      <td>44</td>\n",
       "    </tr>\n",
       "    <tr>\n",
       "      <th>4</th>\n",
       "      <td>node_35</td>\n",
       "      <td>ORF1a:V3595G;ORF1b:S936S;ORF1b:F1850F;ORF8:A65...</td>\n",
       "      <td>T11049G;A16275G;C19017T;T28088A;G28337T;G28337T</td>\n",
       "      <td>GTC&gt;GGC;TCA&gt;TCG;TTC&gt;TTT;GCT&gt;GCA;GAT&gt;TAT;CAG&gt;CAT</td>\n",
       "      <td>synonymous</td>\n",
       "      <td>6</td>\n",
       "      <td>ORF8</td>\n",
       "      <td>node_35</td>\n",
       "      <td>7</td>\n",
       "      <td>39</td>\n",
       "      <td>5.57143</td>\n",
       "      <td>0</td>\n",
       "      <td>108</td>\n",
       "    </tr>\n",
       "  </tbody>\n",
       "</table>\n",
       "</div>"
      ],
      "text/plain": [
       "                                          node_id  \\\n",
       "0              England/SHEF-BFFC7/2020|2020-03-25   \n",
       "1    Northern_Ireland/NIRE-1082A7/2020|2020-04-01   \n",
       "2  England/ALDP-9ED149/2020|OA993758.1|2020-05-05   \n",
       "3                                         node_32   \n",
       "4                                         node_35   \n",
       "\n",
       "                                        aa_mutations  \\\n",
       "0                                          ORF8:W45L   \n",
       "1                                           ORF8:F6F   \n",
       "2                                  M:R158L;ORF8:K68R   \n",
       "3                 ORF1a:A138T;ORF1a:L1559I;ORF8:P56L   \n",
       "4  ORF1a:V3595G;ORF1b:S936S;ORF1b:F1850F;ORF8:A65...   \n",
       "\n",
       "                                      nt_mutations  \\\n",
       "0                                          G28027T   \n",
       "1                                          C27911T   \n",
       "2                                  G26995T;A28096G   \n",
       "3                             G677A;C4940A;C28060T   \n",
       "4  T11049G;A16275G;C19017T;T28088A;G28337T;G28337T   \n",
       "\n",
       "                                      codon_change    mut_type  \\\n",
       "0                                          TGG>TTG    missense   \n",
       "1                                          TTC>TTT  synonymous   \n",
       "2                                  CGC>CTC;AAA>AGA    missense   \n",
       "3                          GCC>ACC;CTT>ATT;CCT>CTT    missense   \n",
       "4  GTC>GGC;TCA>TCG;TTC>TTT;GCT>GCA;GAT>TAT;CAG>CAT  synonymous   \n",
       "\n",
       "   branch_muts_counts  gene                                            node  \\\n",
       "0                   1  ORF8              England/SHEF-BFFC7/2020|2020-03-25   \n",
       "1                   1  ORF8    Northern_Ireland/NIRE-1082A7/2020|2020-04-01   \n",
       "2                   2  ORF8  England/ALDP-9ED149/2020|OA993758.1|2020-05-05   \n",
       "3                   3  ORF8                                         node_32   \n",
       "4                   6  ORF8                                         node_35   \n",
       "\n",
       "   leaf_count  mut_count  mut_density  rev_from_lineage  days_circulated  \n",
       "0           1          1      1.00000                 0                0  \n",
       "1           1          1      1.00000                 0                0  \n",
       "2           1          2      2.00000                 0                0  \n",
       "3           4          3      0.75000                 0               44  \n",
       "4           7         39      5.57143                 0              108  "
      ]
     },
     "execution_count": 108,
     "metadata": {},
     "output_type": "execute_result"
    }
   ],
   "source": [
    "working_df.head()"
   ]
  },
  {
   "cell_type": "code",
   "execution_count": 109,
   "id": "c53d1239-643a-400b-8e1a-d5e956e01695",
   "metadata": {},
   "outputs": [],
   "source": [
    "def summarise_data(df):\n",
    "    lengths = []\n",
    "    means = []\n",
    "    medians = []\n",
    "    mean20s = []\n",
    "    stds = []\n",
    "    skews = []\n",
    "    measures = []\n",
    "    mutTypes =[]\n",
    "    for measure in ['leaf_count','days_circulated']:\n",
    "        for mutType in ['synonymous','missense','nonsense']:\n",
    "            data = df[df.mut_type==mutType][measure]\n",
    "            lengths.append(len(data))\n",
    "            means.append(np.average(data))\n",
    "            medians.append(np.median(data))\n",
    "            mean20s.append(st.trim_mean(data,0.2))\n",
    "            stds.append(np.std(data))\n",
    "            skews.append(st.skew(data))\n",
    "            measures.append(measure)\n",
    "            mutTypes.append(mutType)\n",
    "\n",
    "    table = pd.DataFrame({'n':lengths,'mean':means,'median':medians,'mean20':mean20s,'std':stds,'skew':skews,'var':measures,'mutType':mutTypes})\n",
    "    return table\n",
    "\n",
    "from itertools import combinations\n",
    "\n",
    "def run_tests(df):\n",
    "    for m1, m2 in list(combinations(['synonymous','missense','nonsense'],2)):\n",
    "        print('**'+m1 + ', ' + m2 + '**')\n",
    "        for variable in ['leaf_count','days_circulated']:\n",
    "            print(variable)\n",
    "            print(st.mannwhitneyu(df[df.mut_type==m1][variable],df[df.mut_type==m2][variable]))\n",
    "            print(st.brunnermunzel(df[df.mut_type==m1][variable],df[df.mut_type==m2][variable]))\n",
    "        print('---------')"
   ]
  },
  {
   "cell_type": "code",
   "execution_count": 110,
   "id": "99e49811-5267-4efa-b4e8-f7c9d93039b5",
   "metadata": {},
   "outputs": [],
   "source": [
    "def geom_mean(a):\n",
    "    return st.gmean(a)\n",
    "\n",
    "def strip_plot(df,variable):\n",
    "    fig, ax = plt.subplots()\n",
    "    sns.despine(bottom=True, left=True)\n",
    "\n",
    "    # Show each observation with a scatterplot\n",
    "    sns.stripplot(\n",
    "        data=df, x=variable, y=\"mut_type\", hue=\"mut_type\",alpha=.05, zorder=1, legend=False\n",
    "    )\n",
    "    \n",
    "    \n",
    "\n",
    "    if variable == 'leaf_count':\n",
    "        estimate = geom_mean\n",
    "        ax.set_xscale('log')\n",
    "    else:\n",
    "        estimate = 'mean'\n",
    "    # Show the conditional means, aligning each pointplot in the\n",
    "    # center of the strips by adjusting the width allotted to each\n",
    "    # category (.8 by default) by the number of hue levels\n",
    "    sns.pointplot(\n",
    "        data=df, x=variable, y=\"mut_type\", hue=\"mut_type\",\n",
    "        join=False, palette=\"dark\",\n",
    "        markers=\"d\", scale=.75, errorbar=None, estimator=estimate\n",
    "    )\n",
    "\n",
    "    # Improve the legend\n",
    "    sns.move_legend(\n",
    "        ax, loc=\"lower right\", ncol=3, frameon=True, columnspacing=1, handletextpad=0\n",
    "    )\n",
    "    "
   ]
  },
  {
   "cell_type": "code",
   "execution_count": 111,
   "id": "3a6b1771-afc1-46b3-8f15-6bc5c5033a6d",
   "metadata": {},
   "outputs": [
    {
     "data": {
      "text/html": [
       "<div>\n",
       "<style scoped>\n",
       "    .dataframe tbody tr th:only-of-type {\n",
       "        vertical-align: middle;\n",
       "    }\n",
       "\n",
       "    .dataframe tbody tr th {\n",
       "        vertical-align: top;\n",
       "    }\n",
       "\n",
       "    .dataframe thead th {\n",
       "        text-align: right;\n",
       "    }\n",
       "</style>\n",
       "<table border=\"1\" class=\"dataframe\">\n",
       "  <thead>\n",
       "    <tr style=\"text-align: right;\">\n",
       "      <th></th>\n",
       "      <th>n</th>\n",
       "      <th>mean</th>\n",
       "      <th>median</th>\n",
       "      <th>mean20</th>\n",
       "      <th>std</th>\n",
       "      <th>skew</th>\n",
       "      <th>var</th>\n",
       "      <th>mutType</th>\n",
       "    </tr>\n",
       "  </thead>\n",
       "  <tbody>\n",
       "    <tr>\n",
       "      <th>0</th>\n",
       "      <td>15828</td>\n",
       "      <td>2.949962</td>\n",
       "      <td>1.0</td>\n",
       "      <td>1.289745</td>\n",
       "      <td>10.712158</td>\n",
       "      <td>54.176793</td>\n",
       "      <td>leaf_count</td>\n",
       "      <td>synonymous</td>\n",
       "    </tr>\n",
       "    <tr>\n",
       "      <th>1</th>\n",
       "      <td>49058</td>\n",
       "      <td>2.870133</td>\n",
       "      <td>1.0</td>\n",
       "      <td>1.282375</td>\n",
       "      <td>6.939635</td>\n",
       "      <td>10.580426</td>\n",
       "      <td>leaf_count</td>\n",
       "      <td>missense</td>\n",
       "    </tr>\n",
       "    <tr>\n",
       "      <th>2</th>\n",
       "      <td>5266</td>\n",
       "      <td>2.999240</td>\n",
       "      <td>1.0</td>\n",
       "      <td>1.333861</td>\n",
       "      <td>6.747128</td>\n",
       "      <td>11.284390</td>\n",
       "      <td>leaf_count</td>\n",
       "      <td>nonsense</td>\n",
       "    </tr>\n",
       "    <tr>\n",
       "      <th>3</th>\n",
       "      <td>15828</td>\n",
       "      <td>8.710197</td>\n",
       "      <td>0.0</td>\n",
       "      <td>1.031796</td>\n",
       "      <td>22.948561</td>\n",
       "      <td>6.183046</td>\n",
       "      <td>days_circulated</td>\n",
       "      <td>synonymous</td>\n",
       "    </tr>\n",
       "    <tr>\n",
       "      <th>4</th>\n",
       "      <td>49058</td>\n",
       "      <td>8.810408</td>\n",
       "      <td>0.0</td>\n",
       "      <td>0.968066</td>\n",
       "      <td>23.594735</td>\n",
       "      <td>6.420957</td>\n",
       "      <td>days_circulated</td>\n",
       "      <td>missense</td>\n",
       "    </tr>\n",
       "    <tr>\n",
       "      <th>5</th>\n",
       "      <td>5266</td>\n",
       "      <td>9.921193</td>\n",
       "      <td>0.0</td>\n",
       "      <td>1.272468</td>\n",
       "      <td>25.616079</td>\n",
       "      <td>5.248513</td>\n",
       "      <td>days_circulated</td>\n",
       "      <td>nonsense</td>\n",
       "    </tr>\n",
       "  </tbody>\n",
       "</table>\n",
       "</div>"
      ],
      "text/plain": [
       "       n      mean  median    mean20        std       skew              var  \\\n",
       "0  15828  2.949962     1.0  1.289745  10.712158  54.176793       leaf_count   \n",
       "1  49058  2.870133     1.0  1.282375   6.939635  10.580426       leaf_count   \n",
       "2   5266  2.999240     1.0  1.333861   6.747128  11.284390       leaf_count   \n",
       "3  15828  8.710197     0.0  1.031796  22.948561   6.183046  days_circulated   \n",
       "4  49058  8.810408     0.0  0.968066  23.594735   6.420957  days_circulated   \n",
       "5   5266  9.921193     0.0  1.272468  25.616079   5.248513  days_circulated   \n",
       "\n",
       "      mutType  \n",
       "0  synonymous  \n",
       "1    missense  \n",
       "2    nonsense  \n",
       "3  synonymous  \n",
       "4    missense  \n",
       "5    nonsense  "
      ]
     },
     "execution_count": 111,
     "metadata": {},
     "output_type": "execute_result"
    }
   ],
   "source": [
    "summarise_data(working_df)"
   ]
  },
  {
   "cell_type": "code",
   "execution_count": 112,
   "id": "8cf0b603-d0dd-43a6-ae7c-6ad893aaab39",
   "metadata": {},
   "outputs": [
    {
     "data": {
      "image/png": "[encoded data removed]",
      "text/plain": [
       "<Figure size 640x480 with 1 Axes>"
      ]
     },
     "metadata": {},
     "output_type": "display_data"
    }
   ],
   "source": [
    "strip_plot(working_df[working_df.leaf_count>1],'days_circulated')"
   ]
  },
  {
   "cell_type": "code",
   "execution_count": 117,
   "id": "5a650010-818b-4a5b-8b0a-b23c5bb9241e",
   "metadata": {},
   "outputs": [
    {
     "name": "stderr",
     "output_type": "stream",
     "text": [
      "/Users/cwagner2/miniconda3/envs/orf8ko/lib/python3.10/site-packages/numpy/lib/function_base.py:518: RuntimeWarning: Mean of empty slice.\n",
      "  avg = a.mean(axis, **keepdims_kw)\n",
      "/Users/cwagner2/miniconda3/envs/orf8ko/lib/python3.10/site-packages/numpy/core/_methods.py:190: RuntimeWarning: invalid value encountered in double_scalars\n",
      "  ret = ret.dtype.type(ret / rcount)\n",
      "/Users/cwagner2/miniconda3/envs/orf8ko/lib/python3.10/site-packages/numpy/lib/function_base.py:518: RuntimeWarning: Mean of empty slice.\n",
      "  avg = a.mean(axis, **keepdims_kw)\n",
      "/Users/cwagner2/miniconda3/envs/orf8ko/lib/python3.10/site-packages/numpy/core/_methods.py:190: RuntimeWarning: invalid value encountered in double_scalars\n",
      "  ret = ret.dtype.type(ret / rcount)\n",
      "/Users/cwagner2/miniconda3/envs/orf8ko/lib/python3.10/site-packages/numpy/lib/function_base.py:518: RuntimeWarning: Mean of empty slice.\n",
      "  avg = a.mean(axis, **keepdims_kw)\n",
      "/Users/cwagner2/miniconda3/envs/orf8ko/lib/python3.10/site-packages/numpy/core/_methods.py:190: RuntimeWarning: invalid value encountered in double_scalars\n",
      "  ret = ret.dtype.type(ret / rcount)\n",
      "/Users/cwagner2/miniconda3/envs/orf8ko/lib/python3.10/site-packages/numpy/lib/function_base.py:518: RuntimeWarning: Mean of empty slice.\n",
      "  avg = a.mean(axis, **keepdims_kw)\n",
      "/Users/cwagner2/miniconda3/envs/orf8ko/lib/python3.10/site-packages/numpy/core/_methods.py:190: RuntimeWarning: invalid value encountered in double_scalars\n",
      "  ret = ret.dtype.type(ret / rcount)\n",
      "/Users/cwagner2/miniconda3/envs/orf8ko/lib/python3.10/site-packages/numpy/lib/function_base.py:518: RuntimeWarning: Mean of empty slice.\n",
      "  avg = a.mean(axis, **keepdims_kw)\n",
      "/Users/cwagner2/miniconda3/envs/orf8ko/lib/python3.10/site-packages/numpy/core/_methods.py:190: RuntimeWarning: invalid value encountered in double_scalars\n",
      "  ret = ret.dtype.type(ret / rcount)\n",
      "/Users/cwagner2/miniconda3/envs/orf8ko/lib/python3.10/site-packages/numpy/lib/function_base.py:518: RuntimeWarning: Mean of empty slice.\n",
      "  avg = a.mean(axis, **keepdims_kw)\n",
      "/Users/cwagner2/miniconda3/envs/orf8ko/lib/python3.10/site-packages/numpy/core/_methods.py:190: RuntimeWarning: invalid value encountered in double_scalars\n",
      "  ret = ret.dtype.type(ret / rcount)\n",
      "/Users/cwagner2/miniconda3/envs/orf8ko/lib/python3.10/site-packages/numpy/lib/function_base.py:518: RuntimeWarning: Mean of empty slice.\n",
      "  avg = a.mean(axis, **keepdims_kw)\n",
      "/Users/cwagner2/miniconda3/envs/orf8ko/lib/python3.10/site-packages/numpy/core/_methods.py:190: RuntimeWarning: invalid value encountered in double_scalars\n",
      "  ret = ret.dtype.type(ret / rcount)\n",
      "/Users/cwagner2/miniconda3/envs/orf8ko/lib/python3.10/site-packages/numpy/lib/function_base.py:518: RuntimeWarning: Mean of empty slice.\n",
      "  avg = a.mean(axis, **keepdims_kw)\n",
      "/Users/cwagner2/miniconda3/envs/orf8ko/lib/python3.10/site-packages/numpy/core/_methods.py:190: RuntimeWarning: invalid value encountered in double_scalars\n",
      "  ret = ret.dtype.type(ret / rcount)\n",
      "/Users/cwagner2/miniconda3/envs/orf8ko/lib/python3.10/site-packages/numpy/lib/function_base.py:518: RuntimeWarning: Mean of empty slice.\n",
      "  avg = a.mean(axis, **keepdims_kw)\n",
      "/Users/cwagner2/miniconda3/envs/orf8ko/lib/python3.10/site-packages/numpy/core/_methods.py:190: RuntimeWarning: invalid value encountered in double_scalars\n",
      "  ret = ret.dtype.type(ret / rcount)\n",
      "/Users/cwagner2/miniconda3/envs/orf8ko/lib/python3.10/site-packages/numpy/lib/function_base.py:518: RuntimeWarning: Mean of empty slice.\n",
      "  avg = a.mean(axis, **keepdims_kw)\n",
      "/Users/cwagner2/miniconda3/envs/orf8ko/lib/python3.10/site-packages/numpy/core/_methods.py:190: RuntimeWarning: invalid value encountered in double_scalars\n",
      "  ret = ret.dtype.type(ret / rcount)\n",
      "/Users/cwagner2/miniconda3/envs/orf8ko/lib/python3.10/site-packages/numpy/lib/function_base.py:518: RuntimeWarning: Mean of empty slice.\n",
      "  avg = a.mean(axis, **keepdims_kw)\n",
      "/Users/cwagner2/miniconda3/envs/orf8ko/lib/python3.10/site-packages/numpy/core/_methods.py:190: RuntimeWarning: invalid value encountered in double_scalars\n",
      "  ret = ret.dtype.type(ret / rcount)\n",
      "/Users/cwagner2/miniconda3/envs/orf8ko/lib/python3.10/site-packages/numpy/lib/function_base.py:518: RuntimeWarning: Mean of empty slice.\n",
      "  avg = a.mean(axis, **keepdims_kw)\n",
      "/Users/cwagner2/miniconda3/envs/orf8ko/lib/python3.10/site-packages/numpy/core/_methods.py:190: RuntimeWarning: invalid value encountered in double_scalars\n",
      "  ret = ret.dtype.type(ret / rcount)\n"
     ]
    },
    {
     "data": {
      "image/png": "[encoded data removed]",
      "text/plain": [
       "<Figure size 640x480 with 1 Axes>"
      ]
     },
     "metadata": {},
     "output_type": "display_data"
    }
   ],
   "source": [
    "strip_plot(working_df,'leaf_count')"
   ]
  },
  {
   "cell_type": "code",
   "execution_count": 114,
   "id": "b7c4e817-6930-4dc1-8807-9cd814c55097",
   "metadata": {},
   "outputs": [
    {
     "name": "stdout",
     "output_type": "stream",
     "text": [
      "**synonymous, missense**\n",
      "leaf_count\n",
      "MannwhitneyuResult(statistic=389505406.5, pvalue=0.472542654752266)\n",
      "BrunnerMunzelResult(statistic=-0.7169426812453288, pvalue=0.4734157448552583)\n",
      "days_circulated\n",
      "MannwhitneyuResult(statistic=389366561.0, pvalue=0.5081698989392955)\n",
      "BrunnerMunzelResult(statistic=-0.6612923343359463, pvalue=0.5084305392654029)\n",
      "---------\n",
      "**synonymous, nonsense**\n",
      "leaf_count\n",
      "MannwhitneyuResult(statistic=40985385.0, pvalue=0.03616698274988191)\n",
      "BrunnerMunzelResult(statistic=2.078620988249994, pvalue=0.037680905953817456)\n",
      "days_circulated\n",
      "MannwhitneyuResult(statistic=41084492.0, pvalue=0.06340614951069583)\n",
      "BrunnerMunzelResult(statistic=1.8361355128867438, pvalue=0.0663714952514518)\n",
      "---------\n",
      "**missense, nonsense**\n",
      "leaf_count\n",
      "MannwhitneyuResult(statistic=126610612.5, pvalue=0.005756930092854516)\n",
      "BrunnerMunzelResult(statistic=2.718134322475395, pvalue=0.006582844760619322)\n",
      "days_circulated\n",
      "MannwhitneyuResult(statistic=126978856.0, pvalue=0.014366063527720673)\n",
      "BrunnerMunzelResult(statistic=2.403500767432923, pvalue=0.016267341613053876)\n",
      "---------\n"
     ]
    }
   ],
   "source": [
    "run_tests(working_df)"
   ]
  },
  {
   "cell_type": "code",
   "execution_count": 116,
   "id": "54d2f962-aac3-4951-9fba-9eb55c2a0d91",
   "metadata": {},
   "outputs": [
    {
     "name": "stdout",
     "output_type": "stream",
     "text": [
      "**synonymous, missense**\n",
      "leaf_count\n",
      "MannwhitneyuResult(statistic=50520494.5, pvalue=0.513693074192255)\n",
      "BrunnerMunzelResult(statistic=-0.6515023531826734, pvalue=0.5147378155937197)\n",
      "days_circulated\n",
      "MannwhitneyuResult(statistic=50244245.0, pvalue=0.9981151673959251)\n",
      "BrunnerMunzelResult(statistic=-0.0023778699877973018, pvalue=0.9981027839464192)\n",
      "---------\n",
      "**synonymous, nonsense**\n",
      "leaf_count\n",
      "MannwhitneyuResult(statistic=5527253.0, pvalue=0.169286798550478)\n",
      "BrunnerMunzelResult(statistic=1.3687048480694795, pvalue=0.17118229928448514)\n",
      "days_circulated\n",
      "MannwhitneyuResult(statistic=5486943.0, pvalue=0.07206228394825344)\n",
      "BrunnerMunzelResult(statistic=1.776734137894324, pvalue=0.07570454070568022)\n",
      "---------\n",
      "**missense, nonsense**\n",
      "leaf_count\n",
      "MannwhitneyuResult(statistic=16914588.5, pvalue=0.05286422927201959)\n",
      "BrunnerMunzelResult(statistic=1.9156402059968904, pvalue=0.05552885210491176)\n",
      "days_circulated\n",
      "MannwhitneyuResult(statistic=16893728.0, pvalue=0.051062959189923894)\n",
      "BrunnerMunzelResult(statistic=1.9299425026422563, pvalue=0.05373113980235322)\n",
      "---------\n"
     ]
    }
   ],
   "source": [
    "run_tests(working_df[working_df.leaf_count>1])"
   ]
  },
  {
   "cell_type": "markdown",
   "id": "d5b24664-50fb-4a29-82b9-0b8d5b6779d1",
   "metadata": {},
   "source": [
    "### Create permutation df"
   ]
  },
  {
   "cell_type": "code",
   "execution_count": 19,
   "id": "7f8e73a3-68ff-44ca-8a0f-ba1f0ddc4310",
   "metadata": {},
   "outputs": [],
   "source": [
    "def add_parents(parents, df):\n",
    "    the_parents = [parents[node] for node in df['node_id']]\n",
    "    df['parent'] = the_parents\n",
    "    return df\n",
    "\n",
    "def add_cluster(df):\n",
    "    df['cluster'] = 0\n",
    "    for mut in ['synonymous','missense','nonsense','undoStop']:\n",
    "        filt = df[df.mut_type==mut]\n",
    "        length = len(filt)\n",
    "        df.loc[df.mut_type==mut,'cluster'] = np.arange(1,length+1)\n",
    "    return df\n",
    "\n",
    "def get_children(df,named):\n",
    "    ids = []\n",
    "    mutType = []\n",
    "    clusters = []\n",
    "    cladeTypes = []\n",
    "    for mut in ['synonymous','missense','nonsense','undoStop']:\n",
    "        filt = df[df.mut_type==mut]\n",
    "        observed = filt['node_id']\n",
    "        parented = filt['parent']\n",
    "        clustered = filt['cluster']\n",
    "        for node,parent,cluster in zip(observed,parented,clustered):\n",
    "            parent_tree = named[parent]\n",
    "            kids = [child.name for child in parent_tree.clades]\n",
    "            loc = kids.index(node)\n",
    "            n = len(kids)\n",
    "            cladeType = ['nomut']*n\n",
    "            cladeType[loc] = 'mut'\n",
    "            ids.extend(kids)\n",
    "            mutType.extend([mut]*n)\n",
    "            clusters.extend([cluster]*n)\n",
    "            cladeTypes.extend(cladeType)\n",
    "    children = pd.DataFrame({'node_id':ids,'mutType':mutType,'cluster':clusters,'cladeType':cladeTypes})\n",
    "    return children\n",
    "\n",
    "def remove_noSiblings(df):\n",
    "    remove = set()\n",
    "    for mut in df.mutType.unique():\n",
    "        filt = df[df.mutType==mut]\n",
    "        for cluster in filt.cluster.unique():\n",
    "            clustered = filt[filt.cluster==cluster]\n",
    "            if len(clustered) == 1:\n",
    "                remove.update(clustered.index)\n",
    "    dropped = df.drop(index=list(remove))\n",
    "    return dropped"
   ]
  },
  {
   "cell_type": "code",
   "execution_count": 131,
   "id": "f06ee9a8-acdb-4602-b46f-4a3929209ab1",
   "metadata": {},
   "outputs": [],
   "source": [
    "final = add_parents(parents,complete)"
   ]
  },
  {
   "cell_type": "code",
   "execution_count": 132,
   "id": "1ca7cf08-6745-465c-aa9a-092c6b6abd61",
   "metadata": {},
   "outputs": [],
   "source": [
    "clustered = add_cluster(final)"
   ]
  },
  {
   "cell_type": "code",
   "execution_count": 133,
   "id": "8473a96c-48bd-4653-b05d-64d6e840bc34",
   "metadata": {},
   "outputs": [],
   "source": [
    "clustered.to_csv('usher/trimmed/orf8clades_noNested.tsv',sep='\\t',index=False)"
   ]
  },
  {
   "cell_type": "code",
   "execution_count": 134,
   "id": "3182b216-94d8-42ad-b687-a034d3b9b6d5",
   "metadata": {},
   "outputs": [
    {
     "data": {
      "text/html": [
       "<div>\n",
       "<style scoped>\n",
       "    .dataframe tbody tr th:only-of-type {\n",
       "        vertical-align: middle;\n",
       "    }\n",
       "\n",
       "    .dataframe tbody tr th {\n",
       "        vertical-align: top;\n",
       "    }\n",
       "\n",
       "    .dataframe thead th {\n",
       "        text-align: right;\n",
       "    }\n",
       "</style>\n",
       "<table border=\"1\" class=\"dataframe\">\n",
       "  <thead>\n",
       "    <tr style=\"text-align: right;\">\n",
       "      <th></th>\n",
       "      <th>node_id</th>\n",
       "      <th>aa_mutations</th>\n",
       "      <th>nt_mutations</th>\n",
       "      <th>codon_change</th>\n",
       "      <th>mut_type</th>\n",
       "      <th>branch_muts_counts</th>\n",
       "      <th>gene</th>\n",
       "      <th>node</th>\n",
       "      <th>leaf_count</th>\n",
       "      <th>mut_count</th>\n",
       "      <th>mut_density</th>\n",
       "      <th>rev_from_lineage</th>\n",
       "      <th>days_circulated</th>\n",
       "      <th>parent</th>\n",
       "      <th>cluster</th>\n",
       "    </tr>\n",
       "  </thead>\n",
       "  <tbody>\n",
       "    <tr>\n",
       "      <th>0</th>\n",
       "      <td>England/SHEF-BFFC7/2020|2020-03-25</td>\n",
       "      <td>ORF8:W45L</td>\n",
       "      <td>G28027T</td>\n",
       "      <td>TGG&gt;TTG</td>\n",
       "      <td>missense</td>\n",
       "      <td>1</td>\n",
       "      <td>ORF8</td>\n",
       "      <td>England/SHEF-BFFC7/2020|2020-03-25</td>\n",
       "      <td>1</td>\n",
       "      <td>1</td>\n",
       "      <td>1.00000</td>\n",
       "      <td>0</td>\n",
       "      <td>0</td>\n",
       "      <td>node_3</td>\n",
       "      <td>1</td>\n",
       "    </tr>\n",
       "    <tr>\n",
       "      <th>1</th>\n",
       "      <td>Northern_Ireland/NIRE-1082A7/2020|2020-04-01</td>\n",
       "      <td>ORF8:F6F</td>\n",
       "      <td>C27911T</td>\n",
       "      <td>TTC&gt;TTT</td>\n",
       "      <td>synonymous</td>\n",
       "      <td>1</td>\n",
       "      <td>ORF8</td>\n",
       "      <td>Northern_Ireland/NIRE-1082A7/2020|2020-04-01</td>\n",
       "      <td>1</td>\n",
       "      <td>1</td>\n",
       "      <td>1.00000</td>\n",
       "      <td>0</td>\n",
       "      <td>0</td>\n",
       "      <td>node_27</td>\n",
       "      <td>1</td>\n",
       "    </tr>\n",
       "    <tr>\n",
       "      <th>2</th>\n",
       "      <td>England/ALDP-9ED149/2020|OA993758.1|2020-05-05</td>\n",
       "      <td>M:R158L;ORF8:K68R</td>\n",
       "      <td>G26995T;A28096G</td>\n",
       "      <td>CGC&gt;CTC;AAA&gt;AGA</td>\n",
       "      <td>missense</td>\n",
       "      <td>2</td>\n",
       "      <td>ORF8</td>\n",
       "      <td>England/ALDP-9ED149/2020|OA993758.1|2020-05-05</td>\n",
       "      <td>1</td>\n",
       "      <td>2</td>\n",
       "      <td>2.00000</td>\n",
       "      <td>0</td>\n",
       "      <td>0</td>\n",
       "      <td>node_30</td>\n",
       "      <td>2</td>\n",
       "    </tr>\n",
       "    <tr>\n",
       "      <th>3</th>\n",
       "      <td>node_32</td>\n",
       "      <td>ORF1a:A138T;ORF1a:L1559I;ORF8:P56L</td>\n",
       "      <td>G677A;C4940A;C28060T</td>\n",
       "      <td>GCC&gt;ACC;CTT&gt;ATT;CCT&gt;CTT</td>\n",
       "      <td>missense</td>\n",
       "      <td>3</td>\n",
       "      <td>ORF8</td>\n",
       "      <td>node_32</td>\n",
       "      <td>4</td>\n",
       "      <td>3</td>\n",
       "      <td>0.75000</td>\n",
       "      <td>0</td>\n",
       "      <td>44</td>\n",
       "      <td>node_24</td>\n",
       "      <td>3</td>\n",
       "    </tr>\n",
       "    <tr>\n",
       "      <th>4</th>\n",
       "      <td>node_35</td>\n",
       "      <td>ORF1a:V3595G;ORF1b:S936S;ORF1b:F1850F;ORF8:A65...</td>\n",
       "      <td>T11049G;A16275G;C19017T;T28088A;G28337T;G28337T</td>\n",
       "      <td>GTC&gt;GGC;TCA&gt;TCG;TTC&gt;TTT;GCT&gt;GCA;GAT&gt;TAT;CAG&gt;CAT</td>\n",
       "      <td>synonymous</td>\n",
       "      <td>6</td>\n",
       "      <td>ORF8</td>\n",
       "      <td>node_35</td>\n",
       "      <td>7</td>\n",
       "      <td>39</td>\n",
       "      <td>5.57143</td>\n",
       "      <td>0</td>\n",
       "      <td>108</td>\n",
       "      <td>node_34</td>\n",
       "      <td>2</td>\n",
       "    </tr>\n",
       "  </tbody>\n",
       "</table>\n",
       "</div>"
      ],
      "text/plain": [
       "                                          node_id  \\\n",
       "0              England/SHEF-BFFC7/2020|2020-03-25   \n",
       "1    Northern_Ireland/NIRE-1082A7/2020|2020-04-01   \n",
       "2  England/ALDP-9ED149/2020|OA993758.1|2020-05-05   \n",
       "3                                         node_32   \n",
       "4                                         node_35   \n",
       "\n",
       "                                        aa_mutations  \\\n",
       "0                                          ORF8:W45L   \n",
       "1                                           ORF8:F6F   \n",
       "2                                  M:R158L;ORF8:K68R   \n",
       "3                 ORF1a:A138T;ORF1a:L1559I;ORF8:P56L   \n",
       "4  ORF1a:V3595G;ORF1b:S936S;ORF1b:F1850F;ORF8:A65...   \n",
       "\n",
       "                                      nt_mutations  \\\n",
       "0                                          G28027T   \n",
       "1                                          C27911T   \n",
       "2                                  G26995T;A28096G   \n",
       "3                             G677A;C4940A;C28060T   \n",
       "4  T11049G;A16275G;C19017T;T28088A;G28337T;G28337T   \n",
       "\n",
       "                                      codon_change    mut_type  \\\n",
       "0                                          TGG>TTG    missense   \n",
       "1                                          TTC>TTT  synonymous   \n",
       "2                                  CGC>CTC;AAA>AGA    missense   \n",
       "3                          GCC>ACC;CTT>ATT;CCT>CTT    missense   \n",
       "4  GTC>GGC;TCA>TCG;TTC>TTT;GCT>GCA;GAT>TAT;CAG>CAT  synonymous   \n",
       "\n",
       "   branch_muts_counts  gene                                            node  \\\n",
       "0                   1  ORF8              England/SHEF-BFFC7/2020|2020-03-25   \n",
       "1                   1  ORF8    Northern_Ireland/NIRE-1082A7/2020|2020-04-01   \n",
       "2                   2  ORF8  England/ALDP-9ED149/2020|OA993758.1|2020-05-05   \n",
       "3                   3  ORF8                                         node_32   \n",
       "4                   6  ORF8                                         node_35   \n",
       "\n",
       "   leaf_count  mut_count  mut_density  rev_from_lineage  days_circulated  \\\n",
       "0           1          1      1.00000                 0                0   \n",
       "1           1          1      1.00000                 0                0   \n",
       "2           1          2      2.00000                 0                0   \n",
       "3           4          3      0.75000                 0               44   \n",
       "4           7         39      5.57143                 0              108   \n",
       "\n",
       "    parent  cluster  \n",
       "0   node_3        1  \n",
       "1  node_27        1  \n",
       "2  node_30        2  \n",
       "3  node_24        3  \n",
       "4  node_34        2  "
      ]
     },
     "execution_count": 134,
     "metadata": {},
     "output_type": "execute_result"
    }
   ],
   "source": [
    "clustered.head()\n"
   ]
  },
  {
   "cell_type": "code",
   "execution_count": 135,
   "id": "e857bfe2-4303-46a8-9086-15ce724e1977",
   "metadata": {},
   "outputs": [
    {
     "data": {
      "text/plain": [
       "70153"
      ]
     },
     "execution_count": 135,
     "metadata": {},
     "output_type": "execute_result"
    }
   ],
   "source": [
    "len(clustered)"
   ]
  },
  {
   "cell_type": "code",
   "execution_count": 57,
   "id": "e5b1e9c7-0bf6-46a8-9c87-68338cd42dac",
   "metadata": {},
   "outputs": [
    {
     "name": "stdout",
     "output_type": "stream",
     "text": [
      "*** KeyboardInterrupt exception caught in code being profiled."
     ]
    },
    {
     "data": {
      "text/plain": [
       "Timer unit: 1e-09 s\n",
       "\n",
       "Total time: 2.57345 s\n",
       "File: /var/folders/b5/2grxct1x69395r8j6vkk07bc0000gp/T/ipykernel_86458/1949777341.py\n",
       "Function: get_children at line 21\n",
       "\n",
       "Line #      Hits         Time  Per Hit   % Time  Line Contents\n",
       "==============================================================\n",
       "    21                                           def get_children(df,named):\n",
       "    22         1       2000.0   2000.0      0.0      ids = []\n",
       "    23         1       1000.0   1000.0      0.0      mutType = []\n",
       "    24         1          0.0      0.0      0.0      clusters = []\n",
       "    25         1          0.0      0.0      0.0      cladeTypes = []\n",
       "    26         1       2000.0   2000.0      0.0      for mut in ['synonymous','missense','nonsense','undoStop']:\n",
       "    27         1  361712000.0 361712000.0     14.1          filt = df[df.mut_type==mut]\n",
       "    28         1     169000.0 169000.0      0.0          observed = filt['node_id']\n",
       "    29         1      39000.0  39000.0      0.0          parented = filt['parent']\n",
       "    30         1      37000.0  37000.0      0.0          clustered = filt['cluster']\n",
       "    31      7910   50887000.0   6433.2      2.0          for node,parent,cluster in zip(observed,parented,clustered):\n",
       "    32      7910  473403000.0  59848.7     18.4              parent_tree = named[parent]\n",
       "    33      7909 1536920000.0 194325.5     59.7              kids = [child.name for child in parent_tree.clades]\n",
       "    34      7909   13300000.0   1681.6      0.5              loc = kids.index(node)\n",
       "    35      7909    2626000.0    332.0      0.1              n = len(kids)\n",
       "    36      7909   13788000.0   1743.3      0.5              cladeType = ['nomut']*n\n",
       "    37      7909    2040000.0    257.9      0.1              cladeType[loc] = 'mut'\n",
       "    38      7909   20227000.0   2557.5      0.8              ids.extend(kids)\n",
       "    39      7909   45597000.0   5765.2      1.8              mutType.extend([mut]*n)\n",
       "    40      7909   25941000.0   3279.9      1.0              clusters.extend([cluster]*n)\n",
       "    41      7909   26755000.0   3382.9      1.0              cladeTypes.extend(cladeType)\n",
       "    42                                               children = pd.DataFrame({'node_id':ids,'mutType':mutType,'cluster':clusters,'cladeType':cladeTypes})\n",
       "    43                                               return children"
      ]
     },
     "metadata": {},
     "output_type": "display_data"
    }
   ],
   "source": [
    "lprun -f get_children all_children = get_children(clustered,named)"
   ]
  },
  {
   "cell_type": "code",
   "execution_count": 137,
   "id": "436aff35-65a3-4f54-8e12-424a82a52eb9",
   "metadata": {},
   "outputs": [],
   "source": [
    "all_children = get_children(clustered,named)"
   ]
  },
  {
   "cell_type": "code",
   "execution_count": 138,
   "id": "b4456c4a-dc7e-46fa-b54b-9a07a88875ef",
   "metadata": {},
   "outputs": [],
   "source": [
    "children_size = all_children.merge(stats,how='left', left_on = 'node_id', right_on = 'node')"
   ]
  },
  {
   "cell_type": "code",
   "execution_count": 139,
   "id": "1271913c-b502-4807-96bf-f625fbf816b2",
   "metadata": {},
   "outputs": [],
   "source": [
    "children_size.to_csv('usher/trimmed/orf8_permutations_noNested.tsv',sep='\\t',index=False)"
   ]
  },
  {
   "cell_type": "code",
   "execution_count": 9,
   "id": "046390a4-1f16-45b7-80a4-c3c5be86bcdf",
   "metadata": {},
   "outputs": [],
   "source": [
    "children_size = pd.read_csv('usher/trimmed/orf8_permutations_noNested.tsv',sep='\\t')"
   ]
  },
  {
   "cell_type": "code",
   "execution_count": 17,
   "id": "82527d26-0156-4ce2-8503-95c5f8a12669",
   "metadata": {},
   "outputs": [
    {
     "data": {
      "text/plain": [
       "16415700"
      ]
     },
     "execution_count": 17,
     "metadata": {},
     "output_type": "execute_result"
    }
   ],
   "source": [
    "len(children_size)"
   ]
  },
  {
   "cell_type": "code",
   "execution_count": 10,
   "id": "605e54e5-b4c9-4972-9dc2-cec5234181d2",
   "metadata": {},
   "outputs": [],
   "source": [
    "children_noPolytomy = children_size[children_size.mut_count>0]"
   ]
  },
  {
   "cell_type": "code",
   "execution_count": 18,
   "id": "217d3e39-8f7a-44e6-96b4-192c8f239c06",
   "metadata": {},
   "outputs": [
    {
     "data": {
      "text/plain": [
       "6767035"
      ]
     },
     "execution_count": 18,
     "metadata": {},
     "output_type": "execute_result"
    }
   ],
   "source": [
    "len(children_noPolytomy)"
   ]
  },
  {
   "cell_type": "code",
   "execution_count": 20,
   "id": "2dba4e6c-59a3-43fa-898f-2b57eded3333",
   "metadata": {},
   "outputs": [],
   "source": [
    "children_shrunk = remove_noSiblings(children_noPolytomy)"
   ]
  },
  {
   "cell_type": "code",
   "execution_count": 21,
   "id": "f4de93d0-d633-4f4e-bc7f-e4257359192e",
   "metadata": {},
   "outputs": [
    {
     "data": {
      "text/plain": [
       "6759479"
      ]
     },
     "execution_count": 21,
     "metadata": {},
     "output_type": "execute_result"
    }
   ],
   "source": [
    "len(children_shrunk)"
   ]
  },
  {
   "cell_type": "code",
   "execution_count": 22,
   "id": "5d456401-d823-4639-9652-5d67356a3bdc",
   "metadata": {},
   "outputs": [],
   "source": [
    "children_complete = get_times(children_shrunk,named,dates_df)"
   ]
  },
  {
   "cell_type": "code",
   "execution_count": 23,
   "id": "a398b877-483d-48dc-b7c1-f730675cbf07",
   "metadata": {},
   "outputs": [],
   "source": [
    "children_complete.to_csv('usher/trimmed/orf8_permutations_noNested.tsv',sep='\\t',index=False)"
   ]
  },
  {
   "cell_type": "code",
   "execution_count": 26,
   "id": "0e842178-8eda-4b80-a123-62e8cace78d9",
   "metadata": {},
   "outputs": [],
   "source": [
    "children_muts = children_complete.merge(muts,how='inner',on='node_id')"
   ]
  },
  {
   "cell_type": "code",
   "execution_count": 27,
   "id": "fa3441bf-b852-41bf-8c6a-d20e6704314a",
   "metadata": {},
   "outputs": [],
   "source": [
    "children_muts['branch_muts_count'] = children_muts['nt_mutations'].str.count(';') + 1"
   ]
  },
  {
   "cell_type": "code",
   "execution_count": 28,
   "id": "e9caf0f9-379a-45a8-841f-55502f652959",
   "metadata": {},
   "outputs": [],
   "source": [
    "children_muts.to_csv('usher/trimmed/orf8_permutations_noNested.tsv',sep='\\t',index=False)"
   ]
  },
  {
   "cell_type": "markdown",
   "id": "8579a66c-a2fc-4831-8e61-77f7aa7be771",
   "metadata": {},
   "source": [
    "### Permutation test"
   ]
  },
  {
   "cell_type": "markdown",
   "id": "da13696d-4f1a-44ec-97be-967e0ec0c295",
   "metadata": {},
   "source": [
    "#### Adding in node_stats"
   ]
  },
  {
   "cell_type": "code",
   "execution_count": 1,
   "id": "83580e99-bb13-4b87-a41e-56645498479b",
   "metadata": {},
   "outputs": [],
   "source": [
    "def load_df(path):\n",
    "    with open(path, 'r') as f:\n",
    "        df = pd.read_csv(f, sep='\\t',usecols=['cluster','cladeType','leaf_count','days_circulated','mutType','node_id','mut_count'])\n",
    "    df['mutType'] = df['mutType'].astype(\"category\")\n",
    "    df['cladeType'] = df['cladeType'].astype(\"category\")\n",
    "    df[[\"cluster\", \"leaf_count\",\"mut_count\"]] = df[[\"cluster\", \"leaf_count\",\"mut_count\"]].apply(pd.to_numeric,downcast=\"unsigned\")\n",
    "    df[\"days_circulated\"] = pd.to_numeric(df[\"days_circulated\"],downcast=\"float\")\n",
    "    return df"
   ]
  },
  {
   "cell_type": "code",
   "execution_count": 6,
   "id": "0c3f4706-359e-47b6-9caa-cebfcffee04b",
   "metadata": {},
   "outputs": [],
   "source": [
    "permuts = load_df('usher/trimmed/orf8_permutations.tsv')"
   ]
  },
  {
   "cell_type": "code",
   "execution_count": 41,
   "id": "93d27e4e-de05-4019-99dc-32a776129c0d",
   "metadata": {},
   "outputs": [],
   "source": [
    "def get_permutations(df, size):\n",
    "    indices = [df[df.cluster==cluster].index for cluster in df.cluster.unique()]\n",
    "    choices = np.array([np.random.default_rng().choice(idx,size=size,replace=True) for idx in indices],dtype=int)\n",
    "    choicesList = [tuple(choices[:,col]) for col in range(size)]\n",
    "    deduped = list(set(choicesList))\n",
    "    arr = np.array([list(values) for values in deduped]).astype(int)\n",
    "    return arr\n",
    "\n",
    "def permutation_test_absolute(df,size,var,direct='greater'):\n",
    "    trueRows = df.loc[df.cladeType=='mut'].index\n",
    "    trueVar = df.loc[trueRows,var]\n",
    "    options = get_permutations(df,int(size*1.5))\n",
    "    ids = np.vectorize(df['node_id'].get)(options[:size,:])\n",
    "    values = np.vectorize(df[var].get)(options[:size,:])\n",
    "    if var == 'leaf_count':\n",
    "        trueMean = st.gmean(trueVar)\n",
    "        means = st.gmean(values,axis=1) ### FIGURE OUT WAYS TO SAVE ON size\n",
    "    else:\n",
    "        trueMean = np.mean(trueVar)\n",
    "        means = np.mean(values, axis=1) ## FIGURE OUT WAYS TO SAVE\n",
    "    if direct == 'greater':\n",
    "        total = len(means[means > trueMean])\n",
    "    else:\n",
    "        total = len(means[means<trueMean])\n",
    "    pvalue = total/size\n",
    "    return pvalue, means, trueMean #,prop\n",
    "\n",
    "def permut_gene(df, size):\n",
    "    d = {}\n",
    "    new_df = df[df.mut_count>0]\n",
    "    for mut in ['nonsense','missense','synonymous']:\n",
    "        print(mut)\n",
    "        filt = new_df[new_df.mutType==mut]\n",
    "        d[mut] = {}\n",
    "        for var in ['leaf_count','days_circulated']:\n",
    "            d[mut][var] = {}\n",
    "            p,means,trueMean = permutation_test_absolute(filt,size,var)\n",
    "            d[mut][var]['pvalue'] = p\n",
    "            d[mut][var]['means'] = means\n",
    "            d[mut][var]['mean'] = trueMean\n",
    "    return d"
   ]
  },
  {
   "cell_type": "code",
   "execution_count": 26,
   "id": "ded9164f-e830-41df-a892-ee21c9eaef13",
   "metadata": {},
   "outputs": [],
   "source": [
    "permut_df = pd.read_csv('usher/trimmed/orf8_permutations.tsv',sep='\\t',usecols=['cluster','cladeType','leaf_count','days_circulated','mutType','node_id','mut_count'])\n",
    "permut_df['mutType'] = permut_df['mutType'].astype(\"category\")\n",
    "permut_df['cladeType'] = permut_df['cladeType'].astype(\"category\")\n",
    "permut_df[[\"cluster\", \"leaf_count\"]] = permut_df[[\"cluster\", \"leaf_count\"]].apply(pd.to_numeric,downcast=\"unsigned\")\n",
    "permut_df[\"days_circulated\"] = pd.to_numeric(permut_df[\"days_circulated\"],downcast=\"float\")"
   ]
  },
  {
   "cell_type": "code",
   "execution_count": 27,
   "id": "104d2d7b-744b-49a3-a0ca-43997d9cb669",
   "metadata": {},
   "outputs": [
    {
     "data": {
      "text/html": [
       "<div>\n",
       "<style scoped>\n",
       "    .dataframe tbody tr th:only-of-type {\n",
       "        vertical-align: middle;\n",
       "    }\n",
       "\n",
       "    .dataframe tbody tr th {\n",
       "        vertical-align: top;\n",
       "    }\n",
       "\n",
       "    .dataframe thead th {\n",
       "        text-align: right;\n",
       "    }\n",
       "</style>\n",
       "<table border=\"1\" class=\"dataframe\">\n",
       "  <thead>\n",
       "    <tr style=\"text-align: right;\">\n",
       "      <th></th>\n",
       "      <th>node_id</th>\n",
       "      <th>mutType</th>\n",
       "      <th>cluster</th>\n",
       "      <th>cladeType</th>\n",
       "      <th>leaf_count</th>\n",
       "      <th>mut_count</th>\n",
       "      <th>days_circulated</th>\n",
       "    </tr>\n",
       "  </thead>\n",
       "  <tbody>\n",
       "    <tr>\n",
       "      <th>0</th>\n",
       "      <td>Northern_Ireland/NIRE-1082A7/2020|2020-04-01</td>\n",
       "      <td>synonymous</td>\n",
       "      <td>1</td>\n",
       "      <td>mut</td>\n",
       "      <td>1</td>\n",
       "      <td>1</td>\n",
       "      <td>0.0</td>\n",
       "    </tr>\n",
       "    <tr>\n",
       "      <th>1</th>\n",
       "      <td>NorthernIreland/NIRE-FC33B/2020|FR999321.1|202...</td>\n",
       "      <td>synonymous</td>\n",
       "      <td>1</td>\n",
       "      <td>nomut</td>\n",
       "      <td>1</td>\n",
       "      <td>0</td>\n",
       "      <td>0.0</td>\n",
       "    </tr>\n",
       "    <tr>\n",
       "      <th>2</th>\n",
       "      <td>node_141</td>\n",
       "      <td>synonymous</td>\n",
       "      <td>2</td>\n",
       "      <td>nomut</td>\n",
       "      <td>3</td>\n",
       "      <td>2</td>\n",
       "      <td>25.0</td>\n",
       "    </tr>\n",
       "    <tr>\n",
       "      <th>3</th>\n",
       "      <td>node_142</td>\n",
       "      <td>synonymous</td>\n",
       "      <td>2</td>\n",
       "      <td>nomut</td>\n",
       "      <td>5</td>\n",
       "      <td>4</td>\n",
       "      <td>22.0</td>\n",
       "    </tr>\n",
       "    <tr>\n",
       "      <th>4</th>\n",
       "      <td>node_145</td>\n",
       "      <td>synonymous</td>\n",
       "      <td>2</td>\n",
       "      <td>nomut</td>\n",
       "      <td>2</td>\n",
       "      <td>2</td>\n",
       "      <td>4.0</td>\n",
       "    </tr>\n",
       "  </tbody>\n",
       "</table>\n",
       "</div>"
      ],
      "text/plain": [
       "                                             node_id     mutType  cluster  \\\n",
       "0       Northern_Ireland/NIRE-1082A7/2020|2020-04-01  synonymous        1   \n",
       "1  NorthernIreland/NIRE-FC33B/2020|FR999321.1|202...  synonymous        1   \n",
       "2                                           node_141  synonymous        2   \n",
       "3                                           node_142  synonymous        2   \n",
       "4                                           node_145  synonymous        2   \n",
       "\n",
       "  cladeType  leaf_count  mut_count  days_circulated  \n",
       "0       mut           1          1              0.0  \n",
       "1     nomut           1          0              0.0  \n",
       "2     nomut           3          2             25.0  \n",
       "3     nomut           5          4             22.0  \n",
       "4     nomut           2          2              4.0  "
      ]
     },
     "execution_count": 27,
     "metadata": {},
     "output_type": "execute_result"
    }
   ],
   "source": [
    "permut_df.head()"
   ]
  },
  {
   "cell_type": "code",
   "execution_count": 28,
   "id": "317c2d43-8785-4132-90be-431a026f2760",
   "metadata": {},
   "outputs": [],
   "source": [
    "subsample = permut_df[permut_df.cluster<5]"
   ]
  },
  {
   "cell_type": "code",
   "execution_count": 31,
   "id": "1582605c-97ec-4df8-a1b7-81624776a6ef",
   "metadata": {},
   "outputs": [
    {
     "data": {
      "text/html": [
       "<div>\n",
       "<style scoped>\n",
       "    .dataframe tbody tr th:only-of-type {\n",
       "        vertical-align: middle;\n",
       "    }\n",
       "\n",
       "    .dataframe tbody tr th {\n",
       "        vertical-align: top;\n",
       "    }\n",
       "\n",
       "    .dataframe thead th {\n",
       "        text-align: right;\n",
       "    }\n",
       "</style>\n",
       "<table border=\"1\" class=\"dataframe\">\n",
       "  <thead>\n",
       "    <tr style=\"text-align: right;\">\n",
       "      <th></th>\n",
       "      <th>node_id</th>\n",
       "      <th>mutType</th>\n",
       "      <th>cluster</th>\n",
       "      <th>cladeType</th>\n",
       "      <th>leaf_count</th>\n",
       "      <th>mut_count</th>\n",
       "      <th>days_circulated</th>\n",
       "    </tr>\n",
       "  </thead>\n",
       "  <tbody>\n",
       "    <tr>\n",
       "      <th>0</th>\n",
       "      <td>Northern_Ireland/NIRE-1082A7/2020|2020-04-01</td>\n",
       "      <td>synonymous</td>\n",
       "      <td>1</td>\n",
       "      <td>mut</td>\n",
       "      <td>1</td>\n",
       "      <td>1</td>\n",
       "      <td>0.0</td>\n",
       "    </tr>\n",
       "    <tr>\n",
       "      <th>1</th>\n",
       "      <td>NorthernIreland/NIRE-FC33B/2020|FR999321.1|202...</td>\n",
       "      <td>synonymous</td>\n",
       "      <td>1</td>\n",
       "      <td>nomut</td>\n",
       "      <td>1</td>\n",
       "      <td>0</td>\n",
       "      <td>0.0</td>\n",
       "    </tr>\n",
       "    <tr>\n",
       "      <th>2</th>\n",
       "      <td>node_141</td>\n",
       "      <td>synonymous</td>\n",
       "      <td>2</td>\n",
       "      <td>nomut</td>\n",
       "      <td>3</td>\n",
       "      <td>2</td>\n",
       "      <td>25.0</td>\n",
       "    </tr>\n",
       "    <tr>\n",
       "      <th>3</th>\n",
       "      <td>node_142</td>\n",
       "      <td>synonymous</td>\n",
       "      <td>2</td>\n",
       "      <td>nomut</td>\n",
       "      <td>5</td>\n",
       "      <td>4</td>\n",
       "      <td>22.0</td>\n",
       "    </tr>\n",
       "    <tr>\n",
       "      <th>4</th>\n",
       "      <td>node_145</td>\n",
       "      <td>synonymous</td>\n",
       "      <td>2</td>\n",
       "      <td>nomut</td>\n",
       "      <td>2</td>\n",
       "      <td>2</td>\n",
       "      <td>4.0</td>\n",
       "    </tr>\n",
       "  </tbody>\n",
       "</table>\n",
       "</div>"
      ],
      "text/plain": [
       "                                             node_id     mutType  cluster  \\\n",
       "0       Northern_Ireland/NIRE-1082A7/2020|2020-04-01  synonymous        1   \n",
       "1  NorthernIreland/NIRE-FC33B/2020|FR999321.1|202...  synonymous        1   \n",
       "2                                           node_141  synonymous        2   \n",
       "3                                           node_142  synonymous        2   \n",
       "4                                           node_145  synonymous        2   \n",
       "\n",
       "  cladeType  leaf_count  mut_count  days_circulated  \n",
       "0       mut           1          1              0.0  \n",
       "1     nomut           1          0              0.0  \n",
       "2     nomut           3          2             25.0  \n",
       "3     nomut           5          4             22.0  \n",
       "4     nomut           2          2              4.0  "
      ]
     },
     "execution_count": 31,
     "metadata": {},
     "output_type": "execute_result"
    }
   ],
   "source": [
    "subsample.head()"
   ]
  },
  {
   "cell_type": "code",
   "execution_count": 33,
   "id": "b60e3373-ff9e-4e5c-9ca7-30f5887fd2bb",
   "metadata": {},
   "outputs": [
    {
     "name": "stdout",
     "output_type": "stream",
     "text": [
      "nonsense\n",
      "[['England/NOTT-112D30/2020|2020-04-10'\n",
      "  'England/CAMB-84B7C/2020|FR996843.1|2020-03-10' 'node_539' 'node_1076']\n",
      " ['node_73' 'Netherlands/NoordBrabant_114/2020|LR883128.1|2020-03-21'\n",
      "  'node_540' 'node_1075']\n",
      " ['node_73' 'CHN/LA-30/2020|OM065343.1|2020-01-27' 'node_539' 'node_1075']\n",
      " ['node_73' 'CHN/LA-30/2020|OM065343.1|2020-01-27' 'node_540' 'node_1075']\n",
      " ['node_73' 'Netherlands/NA_67/2020|LR878153.1|2020-03-09' 'node_539'\n",
      "  'node_1075']\n",
      " ['England/NOTT-112D30/2020|2020-04-10'\n",
      "  'England/LIVE-A489D/2020|2020-03-13' 'node_539' 'node_1075']\n",
      " ['England/NOTT-112D30/2020|2020-04-10'\n",
      "  'Netherlands/NA_674/2020|LR883954.1|2020-03-10' 'node_540' 'node_1075']\n",
      " ['England/NOTT-112D30/2020|2020-04-10'\n",
      "  'Netherlands/NoordBrabant_30/2020|LR878336.1|2020-03-08' 'node_540'\n",
      "  'node_1075']\n",
      " ['node_73' 'Netherlands/Zeeland_30/2020|LR883343.1|2020-04-25'\n",
      "  'node_539' 'node_1075']\n",
      " ['England/NOTT-112D30/2020|2020-04-10' 'node_142' 'node_540' 'node_1076']]\n",
      "[[1 1 2 2]\n",
      " [2 1 2 2]\n",
      " [2 1 2 2]\n",
      " [2 1 2 2]\n",
      " [2 1 2 2]\n",
      " [1 1 2 2]\n",
      " [1 1 2 2]\n",
      " [1 1 2 2]\n",
      " [2 1 2 2]\n",
      " [1 5 2 2]]\n",
      "[1.41421356 1.68179283 1.68179283 1.68179283 1.68179283 1.41421356\n",
      " 1.41421356 1.41421356 1.68179283 2.11474253]\n",
      "[['England/NOTT-112D30/2020|2020-04-10'\n",
      "  'Netherlands/NoordBrabant_82/2020|LR877746.1|2020-03-12' 'node_540'\n",
      "  'node_1076']\n",
      " ['England/NOTT-112D30/2020|2020-04-10'\n",
      "  'England/PHEC-12320/2020|2020-03-27' 'node_539' 'node_1076']\n",
      " ['England/NOTT-112D30/2020|2020-04-10'\n",
      "  'Netherlands/NA_371/2020|LR883105.1|2020-04-08' 'node_539' 'node_1076']\n",
      " ['England/NOTT-112D30/2020|2020-04-10' 'node_149' 'node_540' 'node_1076']\n",
      " ['England/NOTT-112D30/2020|2020-04-10'\n",
      "  'Netherlands/NoordBrabant_30/2020|LR878336.1|2020-03-08' 'node_540'\n",
      "  'node_1076']\n",
      " ['England/NOTT-112D30/2020|2020-04-10'\n",
      "  'England/PHEC-19E37/2020|2020-03-06' 'node_540' 'node_1075']\n",
      " ['node_73' 'Netherlands/NA_67/2020|LR878153.1|2020-03-09' 'node_540'\n",
      "  'node_1076']\n",
      " ['England/NOTT-112D30/2020|2020-04-10' 'node_141' 'node_540' 'node_1075']\n",
      " ['England/NOTT-112D30/2020|2020-04-10'\n",
      "  'Netherlands/ZuidHolland_95/2020|LR878012.1|2020-03-31' 'node_539'\n",
      "  'node_1076']\n",
      " ['node_73' 'node_161' 'node_540' 'node_1076']]\n",
      "[[  0.   0.   0.   1.]\n",
      " [  0.   0.  16.   1.]\n",
      " [  0.   0.  16.   1.]\n",
      " [  0. 147.   0.   1.]\n",
      " [  0.   0.   0.   1.]\n",
      " [  0.   0.   0.  13.]\n",
      " [ 10.   0.   0.   1.]\n",
      " [  0.  25.   0.  13.]\n",
      " [  0.   0.  16.   1.]\n",
      " [ 10.   7.   0.   1.]]\n",
      "[ 0.25  4.25  4.25 37.    0.25  3.25  2.75  9.5   4.25  4.5 ]\n",
      "missense\n",
      "[['England/PHEC-1E01E/2020|2020-04-03' 'node_1421915'\n",
      "  'USA/CA-CZB-1020/2020|MT438738.1|2020-04-22' 'node_144']\n",
      " ['England/NOTT-10DFD8/2020|2020-03-16'\n",
      "  'EGY/CCHE57357_Wave_3_A022/2021|MZ380257.1|2021-05-15'\n",
      "  'USA/CA-CZB-1075/2020|MT449666.1|2020-04-22' 'node_144']\n",
      " ['England/PHEC-13D30/2020|2020-03-21'\n",
      "  'Guangdong/ZH-N22-P0059/2020|NMDC60013066-01|2020-02-28' 'node_63'\n",
      "  'node_144']\n",
      " ['node_9' 'USA/Cruise-CDC-03057008-001/2020|MT184913.1|2020-02-24'\n",
      "  'USA/CA-CZB-1075/2020|MT449666.1|2020-04-22' 'node_144']\n",
      " ['England/SHEF-D10CC/2020|2020-03-24'\n",
      "  'Wuhan_C45/human/2020/CHN|GWHALRR01000001|2020-01-26'\n",
      "  'USA/CA-CZB-1020/2020|MT438738.1|2020-04-22' 'node_144']\n",
      " ['node_8' 'node_1421886' 'node_64' 'node_144']\n",
      " ['node_4' 'node_140' 'USA/CA-CZB-1020/2020|MT438738.1|2020-04-22'\n",
      "  'node_144']\n",
      " ['England/SHEF-BFFC7/2020|2020-03-25'\n",
      "  'CHN/Beijing-P3.1/2020|GWHAORJ01000001|2020-02-05' 'node_64' 'node_144']\n",
      " ['England/PHEC-1F43F/2020|2020-03-11' 'node_425' 'node_63' 'node_144']\n",
      " ['node_8' 'node_1538' 'USA/CA-CZB-1020/2020|MT438738.1|2020-04-22'\n",
      "  'node_144']]\n",
      "[[  1   2   1   2]\n",
      " [  1   1   1   2]\n",
      " [  1   1   7   2]\n",
      " [ 18   1   1   2]\n",
      " [  1   1   1   2]\n",
      " [  3   2   4   2]\n",
      " [  2 309   1   2]\n",
      " [  1   1   4   2]\n",
      " [  1  18   7   2]\n",
      " [  3   5   1   2]]\n",
      "[1.41421356 1.18920712 1.93433642 2.44948974 1.18920712 2.63214803\n",
      " 5.92931629 1.68179283 3.9842826  2.34034732]\n",
      "[['England/SHEF-BFFC7/2020|2020-03-25'\n",
      "  'England/CAMB-7FAB3/2020|FR999551.1|2020-04-09' 'node_64' 'node_144']\n",
      " ['node_8' 'EGY/EGY_CCHE57357_A_66/2020|MW467471.1|2020-06-11' 'node_64'\n",
      "  'node_144']\n",
      " ['England/NOTT-10F70B/2020|2020-04-04' 'node_262' 'node_64' 'node_144']\n",
      " ['England/LCST-24DB1A7/2020|2020-04-17' 'DP0743|LC571024.1|2020-02-17'\n",
      "  'USA/CA-CZB-1075/2020|MT449666.1|2020-04-22' 'node_144']\n",
      " ['England/PHEC-2088A/2020|2020-04-08' 'node_11'\n",
      "  'USA/CA-CZB-1075/2020|MT449666.1|2020-04-22' 'node_144']\n",
      " ['England/PHEC-2088A/2020|2020-04-08'\n",
      "  'Northern_Ireland/NIRE-102322/2020|2020-03-23'\n",
      "  'USA/CA-CZB-1020/2020|MT438738.1|2020-04-22' 'node_144']\n",
      " ['England/SHEF-D10CC/2020|2020-03-24'\n",
      "  'Guangzhou/GZMU0060/2020|CNA0013955|2020-02-09' 'node_63' 'node_144']\n",
      " ['node_9' 'node_3524' 'USA/CA-CZB-1020/2020|MT438738.1|2020-04-22'\n",
      "  'node_144']\n",
      " ['node_4' 'USA/TX-CDC-3063244-001/2020|MT304489.1|2020-02-29' 'node_63'\n",
      "  'node_144']\n",
      " ['node_4' 'node_115' 'USA/CA-CZB-1075/2020|MT449666.1|2020-04-22'\n",
      "  'node_144']]\n",
      "[[   0.    0.    6.   22.]\n",
      " [  10.    0.    6.   22.]\n",
      " [   0.  593.    6.   22.]\n",
      " [   0.    0.    0.   22.]\n",
      " [   0.   43.    0.   22.]\n",
      " [   0.    0.    0.   22.]\n",
      " [   0.    0.   15.   22.]\n",
      " [  27. 1576.    0.   22.]\n",
      " [   4.    0.   15.   22.]\n",
      " [   4.   16.    0.   22.]]\n",
      "[  7.     9.5  155.25   5.5   16.25   5.5    9.25 406.25  10.25  10.5 ]\n",
      "synonymous\n",
      "[['Northern_Ireland/NIRE-1082A7/2020|2020-04-01' 'node_145'\n",
      "  'Netherlands/NA_214/2020|LR877899.1|2020-03-25'\n",
      "  'England/NOTT-1107BC/2020|2020-04-20']\n",
      " ['Northern_Ireland/NIRE-1082A7/2020|2020-04-01' 'node_145'\n",
      "  'Netherlands/NoordBrabant_99/2020|LR877931.1|2020-03-19'\n",
      "  'England/NOTT-110E11/2020|2020-04-29']\n",
      " ['Northern_Ireland/NIRE-1082A7/2020|2020-04-01'\n",
      "  'Netherlands/NA_674/2020|LR883954.1|2020-03-10'\n",
      "  'Netherlands/NoordBrabant_93/2020|LR877921.1|2020-03-09'\n",
      "  'England/NOTT-1107BC/2020|2020-04-20']\n",
      " ['Northern_Ireland/NIRE-1082A7/2020|2020-04-01'\n",
      "  'Netherlands/NoordBrabant_114/2020|LR883128.1|2020-03-21'\n",
      "  'Netherlands/NoordBrabant_113/2020|LR883129.1|2020-03-20' 'node_315']\n",
      " ['Northern_Ireland/NIRE-1082A7/2020|2020-04-01'\n",
      "  'England/PHEC-1AF60/2020|2020-03-05'\n",
      "  'Netherlands/Zeeland_37/2020|LR883412.1|2020-04-29' 'node_315']\n",
      " ['Northern_Ireland/NIRE-1082A7/2020|2020-04-01' 'node_173'\n",
      "  'Netherlands/ZuidHolland_94/2020|LR878017.1|2020-03-30'\n",
      "  'England/NOTT-110E11/2020|2020-04-29']\n",
      " ['Northern_Ireland/NIRE-1082A7/2020|2020-04-01'\n",
      "  'Netherlands/NoordBrabant_47/2020|LR878340.1|2020-03-09'\n",
      "  'Netherlands/NoordBrabant_151/2020|LR883403.1|2020-04-29'\n",
      "  'England/NOTT-110E11/2020|2020-04-29']\n",
      " ['Northern_Ireland/NIRE-1082A7/2020|2020-04-01'\n",
      "  'England/LIVE-A489D/2020|2020-03-13' 'node_151'\n",
      "  'England/NOTT-1107BC/2020|2020-04-20']\n",
      " ['Northern_Ireland/NIRE-1082A7/2020|2020-04-01'\n",
      "  'Wales/PHWC-2B1DF/2020|2020-04-07'\n",
      "  'Netherlands/Zeeland_37/2020|LR883412.1|2020-04-29'\n",
      "  'England/NOTT-110E11/2020|2020-04-29']\n",
      " ['Northern_Ireland/NIRE-1082A7/2020|2020-04-01'\n",
      "  'England/PHEC-12320/2020|2020-03-27' 'node_151'\n",
      "  'England/NOTT-110E11/2020|2020-04-29']]\n",
      "[[1 2 1 1]\n",
      " [1 2 1 1]\n",
      " [1 1 1 1]\n",
      " [1 1 1 4]\n",
      " [1 1 1 4]\n",
      " [1 3 1 1]\n",
      " [1 1 1 1]\n",
      " [1 1 2 1]\n",
      " [1 1 1 1]\n",
      " [1 1 2 1]]\n",
      "[1.18920712 1.18920712 1.         1.41421356 1.41421356 1.31607401\n",
      " 1.         1.18920712 1.         1.18920712]\n",
      "[['Northern_Ireland/NIRE-1082A7/2020|2020-04-01'\n",
      "  'Netherlands/NA_22/2020|LR878074.1|2020-03-08'\n",
      "  'Netherlands/NoordBrabant_42/2020|LR878347.1|2020-03-10' 'node_315']\n",
      " ['Northern_Ireland/NIRE-1082A7/2020|2020-04-01'\n",
      "  'Netherlands/NoordBrabant_114/2020|LR883128.1|2020-03-21'\n",
      "  'Netherlands/NA_180/2020|LR877788.1|2020-03-23'\n",
      "  'England/NOTT-110E11/2020|2020-04-29']\n",
      " ['Northern_Ireland/NIRE-1082A7/2020|2020-04-01' 'node_148'\n",
      "  'Netherlands/Zeeland_6/2020|LR883764.1|2020-04-02'\n",
      "  'England/NOTT-110E11/2020|2020-04-29']\n",
      " ['Northern_Ireland/NIRE-1082A7/2020|2020-04-01'\n",
      "  'Netherlands/Zeeland_30/2020|LR883343.1|2020-04-25'\n",
      "  'Netherlands/NoordBrabant_80/2020|LR877732.1|2020-03-11'\n",
      "  'England/NOTT-110E11/2020|2020-04-29']\n",
      " ['Northern_Ireland/NIRE-1082A7/2020|2020-04-01'\n",
      "  'Netherlands/Gelderland_10/2020|LR877945.1|2020-03-20' 'node_159'\n",
      "  'England/NOTT-1107BC/2020|2020-04-20']\n",
      " ['Northern_Ireland/NIRE-1082A7/2020|2020-04-01'\n",
      "  'Netherlands/Zeeland_30/2020|LR883343.1|2020-04-25'\n",
      "  'Netherlands/Zeeland_6/2020|LR883764.1|2020-04-02' 'node_315']\n",
      " ['Northern_Ireland/NIRE-1082A7/2020|2020-04-01'\n",
      "  'CHN/LA-30/2020|OM065343.1|2020-01-27'\n",
      "  'Netherlands/NoordBrabant_113/2020|LR883129.1|2020-03-20' 'node_315']\n",
      " ['Northern_Ireland/NIRE-1082A7/2020|2020-04-01' 'node_166'\n",
      "  'Netherlands/Zeeland_37/2020|LR883412.1|2020-04-29'\n",
      "  'England/NOTT-1107BC/2020|2020-04-20']\n",
      " ['Northern_Ireland/NIRE-1082A7/2020|2020-04-01' 'node_146' 'node_159'\n",
      "  'England/NOTT-1107BC/2020|2020-04-20']\n",
      " ['Northern_Ireland/NIRE-1082A7/2020|2020-04-01'\n",
      "  'Netherlands/NA_67/2020|LR878153.1|2020-03-09'\n",
      "  'Netherlands/NA_33/2020|LR878102.1|2020-03-07'\n",
      "  'England/NOTT-110E11/2020|2020-04-29']]\n",
      "[[ 0.  0.  0.  9.]\n",
      " [ 0.  0.  0.  0.]\n",
      " [ 0. 50.  0.  0.]\n",
      " [ 0.  0.  0.  0.]\n",
      " [ 0.  0. 11.  0.]\n",
      " [ 0.  0.  0.  9.]\n",
      " [ 0.  0.  0.  9.]\n",
      " [ 0.  3.  0.  0.]\n",
      " [ 0.  8. 11.  0.]\n",
      " [ 0.  0.  0.  0.]]\n",
      "[ 2.25  0.   12.5   0.    2.75  2.25  2.25  0.75  4.75  0.  ]\n"
     ]
    }
   ],
   "source": [
    "orf8 = permut_gene(subsample,10)"
   ]
  },
  {
   "cell_type": "code",
   "execution_count": 34,
   "id": "3d158fab-f9a4-4640-a160-afdb39b809d9",
   "metadata": {},
   "outputs": [
    {
     "data": {
      "text/plain": [
       "{'nonsense': {'leaf_count': {'pvalue': 0.0,\n",
       "   'means': array([1.41421356, 1.68179283, 1.68179283, 1.68179283, 1.68179283,\n",
       "          1.41421356, 1.41421356, 1.41421356, 1.68179283, 2.11474253]),\n",
       "   'mean': 2.2133638394006434},\n",
       "  'days_circulated': {'pvalue': 0.0,\n",
       "   'means': array([ 0.25,  4.25,  4.25, 37.  ,  0.25,  3.25,  2.75,  9.5 ,  4.25,\n",
       "           4.5 ], dtype=float32),\n",
       "   'mean': 44.75}},\n",
       " 'missense': {'leaf_count': {'pvalue': 0.8,\n",
       "   'means': array([1.41421356, 1.18920712, 1.93433642, 2.44948974, 1.18920712,\n",
       "          2.63214803, 5.92931629, 1.68179283, 3.9842826 , 2.34034732]),\n",
       "   'mean': 1.189207115002721},\n",
       "  'days_circulated': {'pvalue': 0.8,\n",
       "   'means': array([  7.  ,   9.5 , 155.25,   5.5 ,  16.25,   5.5 ,   9.25, 406.25,\n",
       "           10.25,  10.5 ], dtype=float32),\n",
       "   'mean': 5.5}},\n",
       " 'synonymous': {'leaf_count': {'pvalue': 0.0,\n",
       "   'means': array([1.18920712, 1.18920712, 1.        , 1.41421356, 1.41421356,\n",
       "          1.31607401, 1.        , 1.18920712, 1.        , 1.18920712]),\n",
       "   'mean': 1.681792830507429},\n",
       "  'days_circulated': {'pvalue': 0.2,\n",
       "   'means': array([ 2.25,  0.  , 12.5 ,  0.  ,  2.75,  2.25,  2.25,  0.75,  4.75,\n",
       "           0.  ], dtype=float32),\n",
       "   'mean': 4.0}}}"
      ]
     },
     "execution_count": 34,
     "metadata": {},
     "output_type": "execute_result"
    }
   ],
   "source": [
    "orf8"
   ]
  },
  {
   "cell_type": "code",
   "execution_count": null,
   "id": "56619088-b7ce-41f4-827a-9f87151ff5bf",
   "metadata": {},
   "outputs": [],
   "source": []
  },
  {
   "cell_type": "code",
   "execution_count": null,
   "id": "59d54993-c895-469a-ad4d-d9a65989f8cb",
   "metadata": {},
   "outputs": [],
   "source": []
  },
  {
   "cell_type": "code",
   "execution_count": 15,
   "id": "f1083648-a473-4cd7-8986-8e4eedf012c5",
   "metadata": {},
   "outputs": [],
   "source": [
    "%load_ext memory_profiler\n"
   ]
  },
  {
   "cell_type": "code",
   "execution_count": 28,
   "id": "dcf4ca36-dfa6-4884-9153-15d091ed8f0e",
   "metadata": {},
   "outputs": [
    {
     "name": "stdout",
     "output_type": "stream",
     "text": [
      "peak memory: 577.67 MiB, increment: 36.73 MiB\n"
     ]
    }
   ],
   "source": [
    "%memit permut_gene(subsample)"
   ]
  },
  {
   "cell_type": "code",
   "execution_count": 29,
   "id": "f29a5cf0-647d-466a-acaf-e84992018733",
   "metadata": {},
   "outputs": [],
   "source": [
    "os.chdir('/Users/cwagner2/Work/projects/covid/long-deletions/code')"
   ]
  },
  {
   "cell_type": "code",
   "execution_count": 30,
   "id": "d9c631d8-5eb6-4e05-9f69-7f64e1c7b64a",
   "metadata": {},
   "outputs": [
    {
     "name": "stdout",
     "output_type": "stream",
     "text": [
      "\n"
     ]
    },
    {
     "data": {
      "text/plain": [
       "Filename: /Users/cwagner2/Work/projects/covid/long-deletions/code/permutationTest.py\n",
       "\n",
       "Line #    Mem usage    Increment  Occurrences   Line Contents\n",
       "=============================================================\n",
       "    55     82.6 MiB     82.6 MiB           1   def permut_gene(df):\n",
       "    56     82.7 MiB      0.1 MiB           1       d = {}\n",
       "    57    107.4 MiB    -61.1 MiB           4       for mut in ['nonsense','missense','synonymous']:\n",
       "    58    110.7 MiB     17.5 MiB           3           filt = df[df.mutType==mut]\n",
       "    59    110.7 MiB    -12.2 MiB           3           d[mut] = {}\n",
       "    60    119.8 MiB   -112.9 MiB           9           for var in ['leaf_count','days_circulated']:\n",
       "    61    119.8 MiB    -69.9 MiB           6               d[mut][var] = {}\n",
       "    62    119.7 MiB    -87.7 MiB           6               p,means,trueMean = permutation_test_absolute(filt,10000,var)\n",
       "    63    119.8 MiB    -99.9 MiB           6               d[mut][var]['pvalue'] = p\n",
       "    64    119.8 MiB   -100.8 MiB           6               d[mut][var]['means'] = means\n",
       "    65    119.8 MiB   -100.8 MiB           6               d[mut][var]['mean'] = trueMean\n",
       "    66     95.2 MiB    -12.2 MiB           1       return d"
      ]
     },
     "metadata": {},
     "output_type": "display_data"
    }
   ],
   "source": [
    "from permutationTest import permut_gene\n",
    "%mprun -f permut_gene permut_gene(subsample)"
   ]
  },
  {
   "cell_type": "code",
   "execution_count": null,
   "id": "eb7b882b-f8c6-494a-b800-630833465b0c",
   "metadata": {},
   "outputs": [],
   "source": []
  },
  {
   "cell_type": "code",
   "execution_count": null,
   "id": "3e754206-4ffa-41c0-86d1-14ee05396f69",
   "metadata": {},
   "outputs": [],
   "source": []
  },
  {
   "cell_type": "code",
   "execution_count": 27,
   "id": "01e768d1-4d48-4389-9335-eb4c8a33f37f",
   "metadata": {},
   "outputs": [
    {
     "data": {
      "text/plain": [
       "Timer unit: 1e-09 s\n",
       "\n",
       "Total time: 3.93481 s\n",
       "File: /var/folders/b5/2grxct1x69395r8j6vkk07bc0000gp/T/ipykernel_46689/60886791.py\n",
       "Function: permutation_test_absolute at line 63\n",
       "\n",
       "Line #      Hits         Time  Per Hit   % Time  Line Contents\n",
       "==============================================================\n",
       "    63                                           def permutation_test_absolute(df,size,var,direct='greater'):\n",
       "    64         6    5226000.0 871000.0      0.1      trueRows = df.loc[df.cladeType=='mut'].index\n",
       "    65         6    5885000.0 980833.3      0.1      trueVar = df.loc[trueRows,var]\n",
       "    66         6  514800000.0 85800000.0     13.1      options = get_permutations(df,int(size*1.5))\n",
       "    67         6 3395529000.0 565921500.0     86.3      values = np.vectorize(df[var].get)(options)\n",
       "    68         3       6000.0   2000.0      0.0      if var == 'leaf_count':\n",
       "    69         3    3644000.0 1214666.7      0.1          trueMean = st.gmean(trueVar)\n",
       "    70         3    5395000.0 1798333.3      0.1          means = st.gmean(values,axis=1) ### FIGURE OUT WAYS TO SAVE ON size\n",
       "    71                                               else:\n",
       "    72         3    1706000.0 568666.7      0.0          trueMean = np.mean(trueVar)\n",
       "    73         3    1867000.0 622333.3      0.0          means = np.mean(values, axis=1) ## FIGURE OUT WAYS TO SAVE\n",
       "    74         6       3000.0    500.0      0.0      if direct == 'greater':\n",
       "    75         6     737000.0 122833.3      0.0          total = len(means[means > trueMean])\n",
       "    76                                               else:\n",
       "    77                                                   total = len(means[means<trueMean])\n",
       "    78         6       7000.0   1166.7      0.0      pvalue = total/size\n",
       "    79         6       4000.0    666.7      0.0      return pvalue, means, trueMean #,prop"
      ]
     },
     "metadata": {},
     "output_type": "display_data"
    }
   ],
   "source": [
    "%lprun -f permutation_test_absolute permut_gene(subsample)"
   ]
  },
  {
   "cell_type": "code",
   "execution_count": 16,
   "id": "fd45a4bb-4982-4003-af46-f457e3e1ebbe",
   "metadata": {},
   "outputs": [],
   "source": [
    "orf8 = permut_gene(permut_df,10)"
   ]
  },
  {
   "cell_type": "code",
   "execution_count": 17,
   "id": "e029ee26-4f1d-4ba2-ace5-53ca6439a111",
   "metadata": {},
   "outputs": [
    {
     "name": "stdout",
     "output_type": "stream",
     "text": [
      "nonsense\n",
      "leaf_count\n",
      "0.0\n",
      "days_circulated\n",
      "0.0\n",
      "-------\n",
      "missense\n",
      "leaf_count\n",
      "0.0\n",
      "days_circulated\n",
      "0.0\n",
      "-------\n",
      "synonymous\n",
      "leaf_count\n",
      "0.0\n",
      "days_circulated\n",
      "0.0\n",
      "-------\n"
     ]
    }
   ],
   "source": [
    "for key in orf8.keys():\n",
    "    print(key)\n",
    "    for var in orf8[key].keys():\n",
    "        print(var)\n",
    "        print(orf8[key][var]['pvalue'])\n",
    "        #print(orf8[key][var]['propLarger'])\n",
    "        #print(orf8[key][var]['means'])\n",
    "        #print(orf8[key][var]['mean'])\n",
    "    print('-------')"
   ]
  },
  {
   "cell_type": "code",
   "execution_count": null,
   "id": "4ac81e8b-4647-4063-9be2-272e02a5f584",
   "metadata": {},
   "outputs": [],
   "source": []
  },
  {
   "cell_type": "markdown",
   "id": "3590d19a-bc7e-4104-8f13-125104be20d5",
   "metadata": {},
   "source": [
    "### Plot permutation test"
   ]
  },
  {
   "cell_type": "code",
   "execution_count": 1,
   "id": "6ff6b1a1-78fc-43f3-b72b-ae52db68e7fa",
   "metadata": {},
   "outputs": [],
   "source": [
    "def plot_permutation(diction,gene, xlab,var,x,y):\n",
    "    fig,ax = plt.subplots(ncols=3,nrows=1,tight_layout=True,figsize=(9,3),sharex=True,sharey=True)\n",
    "    for key,loc in zip(['nonsense','missense','synonymous'],range(3)):\n",
    "        ax[loc].set_title(gene +': ' + key)\n",
    "        ax[loc].set_xlabel(xlab)\n",
    "        ax[loc].hist(diction[key][var]['means'],bins=50)\n",
    "        mean = diction[key][var]['mean']\n",
    "        ax[loc].axvline(x=diction[key][var]['mean'],c='k',linestyle='dashed')\n",
    "        ax[loc].text(x,y,'pvalue: '+str(np.round(diction[key][var]['pvalue'],5)))"
   ]
  },
  {
   "cell_type": "code",
   "execution_count": 10,
   "id": "ee17d689-b7b6-449a-9cca-05ef8371d16d",
   "metadata": {},
   "outputs": [],
   "source": [
    "with open('usher/trimmed/orf8_1000_nested.json','r') as f:\n",
    "          orf8_1000 = json.load(f)"
   ]
  },
  {
   "cell_type": "code",
   "execution_count": 11,
   "id": "7cc85641-c2e7-4e55-a319-5341d37a6f3a",
   "metadata": {},
   "outputs": [
    {
     "data": {
      "image/png": "[encoded data removed]",
      "text/plain": [
       "<Figure size 900x300 with 3 Axes>"
      ]
     },
     "metadata": {},
     "output_type": "display_data"
    }
   ],
   "source": [
    "plot_permutation(orf8_1000,'ORF8','Cluster size','leaf_count',2.25,35)"
   ]
  },
  {
   "cell_type": "code",
   "execution_count": 8,
   "id": "a3aedb1a-9104-4579-be74-0bb8317005d1",
   "metadata": {},
   "outputs": [
    {
     "data": {
      "image/png": "[encoded data removed]",
      "text/plain": [
       "<Figure size 900x300 with 3 Axes>"
      ]
     },
     "execution_count": 8,
     "metadata": {},
     "output_type": "execute_result"
    },
    {
     "data": {
      "image/png": "[encoded data removed]",
      "text/plain": [
       "<Figure size 900x300 with 3 Axes>"
      ]
     },
     "metadata": {},
     "output_type": "display_data"
    }
   ],
   "source": [
    "plot_permutation(orf8_1000,'ORF8','Days circulated','days_circulated',18,45)"
   ]
  },
  {
   "cell_type": "code",
   "execution_count": null,
   "id": "e3104773-79d8-4ab9-868e-f340a27cb2c6",
   "metadata": {},
   "outputs": [],
   "source": []
  }
 ],
 "metadata": {
  "kernelspec": {
   "display_name": "Python [conda env:orf8ko]",
   "language": "python",
   "name": "conda-env-orf8ko-py"
  },
  "language_info": {
   "codemirror_mode": {
    "name": "ipython",
    "version": 3
   },
   "file_extension": ".py",
   "mimetype": "text/x-python",
   "name": "python",
   "nbconvert_exporter": "python",
   "pygments_lexer": "ipython3",
   "version": "3.10.9"
  }
 },
 "nbformat": 4,
 "nbformat_minor": 5
}
