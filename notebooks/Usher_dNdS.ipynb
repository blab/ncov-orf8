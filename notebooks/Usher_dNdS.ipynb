{
 "cells": [
  {
   "cell_type": "markdown",
   "id": "fe835b64-b0ee-4af4-add9-b02da7c0b755",
   "metadata": {},
   "source": [
    "# dN - dStop - dS on usher SARS-Cov-2 tree\n",
    "This notebook is based loosely off Katie's original dN-dStop-dS notebook on a nextstrain ncov tree. Here I'm applying the same idea to the Usher SARS-CoV-2 tree. \n",
    "\n",
    "One key point that took me some time to get: There is no time in this calculation! It is just the number of synonymous or nonsynonymous or stop mutations over the expected number of such sites based on the genome sequence and a substitution matrix. That's why we divide by dS because these values aren't really interpretable without dS."
   ]
  },
  {
   "cell_type": "code",
   "execution_count": 26,
   "id": "eb55f1bd-0180-4309-83e3-2bea1feac215",
   "metadata": {},
   "outputs": [],
   "source": [
    "import os\n",
    "from Bio import SeqIO\n",
    "import pandas as pd\n",
    "import numpy as np\n",
    "from Bio import Phylo"
   ]
  },
  {
   "cell_type": "code",
   "execution_count": 5,
   "id": "5124443c-c817-4f58-988b-e48c208cf2ba",
   "metadata": {},
   "outputs": [],
   "source": [
    "os.chdir('/Users/cwagner2/Work/projects/covid/long-deletions/')"
   ]
  },
  {
   "cell_type": "markdown",
   "id": "180d3811-d7b2-4b3e-95bc-d89b1a6b7336",
   "metadata": {},
   "source": [
    "## 1. Generate expected number of sites\n",
    "This is all Kathryn Kistler's OG code"
   ]
  },
  {
   "cell_type": "code",
   "execution_count": 6,
   "id": "f0e4896b-961e-4ce4-9736-55f42f4b976d",
   "metadata": {},
   "outputs": [],
   "source": [
    "location_by_gene = {}\n",
    "\n",
    "#with open(\"reference_seq_S1.gb\") as reference_handle:\n",
    "with open(\"params/sars2_wS1_ref.gb\") as reference_handle:\n",
    "    for record in SeqIO.parse(reference_handle, \"genbank\"):\n",
    "        wuhan_seq = record.seq\n",
    "        for feature in record.features:\n",
    "            if feature.type == 'CDS':\n",
    "                gene = feature.qualifiers['gene'][0]\n",
    "                location = feature.location\n",
    "                location_by_gene[gene] = location\n",
    "\n"
   ]
  },
  {
   "cell_type": "code",
   "execution_count": 7,
   "id": "90d423fa-0193-43e3-9074-f3ece74b9330",
   "metadata": {},
   "outputs": [
    {
     "data": {
      "text/plain": [
       "{'ORF1a': SimpleLocation(ExactPosition(265), ExactPosition(13468), strand=1),\n",
       " 'ORF1b': SimpleLocation(ExactPosition(13467), ExactPosition(21555), strand=1),\n",
       " 'S': SimpleLocation(ExactPosition(21562), ExactPosition(25384), strand=1),\n",
       " 'S1': SimpleLocation(ExactPosition(21598), ExactPosition(23617), strand=1),\n",
       " 'ORF3a': SimpleLocation(ExactPosition(25392), ExactPosition(26220), strand=1),\n",
       " 'E': SimpleLocation(ExactPosition(26244), ExactPosition(26472), strand=1),\n",
       " 'M': SimpleLocation(ExactPosition(26522), ExactPosition(27191), strand=1),\n",
       " 'ORF6': SimpleLocation(ExactPosition(27201), ExactPosition(27387), strand=1),\n",
       " 'ORF7a': SimpleLocation(ExactPosition(27393), ExactPosition(27759), strand=1),\n",
       " 'ORF7b': SimpleLocation(ExactPosition(27755), ExactPosition(27887), strand=1),\n",
       " 'ORF8': SimpleLocation(ExactPosition(27893), ExactPosition(28259), strand=1),\n",
       " 'N': SimpleLocation(ExactPosition(28273), ExactPosition(29533), strand=1),\n",
       " 'ORF9b': SimpleLocation(ExactPosition(28283), ExactPosition(28577), strand=1)}"
      ]
     },
     "execution_count": 7,
     "metadata": {},
     "output_type": "execute_result"
    }
   ],
   "source": [
    "location_by_gene"
   ]
  },
  {
   "cell_type": "code",
   "execution_count": 8,
   "id": "dee4f4cf-9cad-4e71-ab28-ea452c7c86b9",
   "metadata": {},
   "outputs": [],
   "source": [
    "all_genes = list(location_by_gene.keys())"
   ]
  },
  {
   "cell_type": "code",
   "execution_count": 9,
   "id": "c3b22eca-5b1f-4cff-9e5f-d11cf4315005",
   "metadata": {},
   "outputs": [],
   "source": [
    "#extract the sequence of each gene, and find it's constituent codon sequences\n",
    "codons_by_gene = {}\n",
    "\n",
    "for g, l in location_by_gene.items():\n",
    "    gene_sequence = l.extract(wuhan_seq)\n",
    "    #split into codons\n",
    "    gene_codons = [gene_sequence[i:i+3] for i in range(0, len(gene_sequence), 3)]\n",
    "    codons_by_gene[g] = gene_codons\n",
    "    \n",
    "#because indexing is 0-based, but codons count from 1, need to use codons_by_gene[gene][codon-1]"
   ]
  },
  {
   "cell_type": "code",
   "execution_count": 10,
   "id": "51821df9-2b05-41b4-be74-dfa3c94f736e",
   "metadata": {},
   "outputs": [],
   "source": [
    "#make mapper of nt position to codon position (within gene)\n",
    "#codon_index_by_pos = {}\n",
    "#for g, l in location_by_gene.items():\n",
    "    #map to S, not S1. And map to N, not 9b\n",
    " #   if g not in ['S1', 'ORF9b']:\n",
    "        #start at 1!\n",
    "  #      positions_grouped_into_codons = [[i+1,i+2,i+3] for i in range(l.start, l.end, 3)]\n",
    "   #     for i in range(len(positions_grouped_into_codons)):\n",
    "    #        for j in range(len(positions_grouped_into_codons[i])):\n",
    "     #           pos = positions_grouped_into_codons[i][j]\n",
    "      #          codon_index_by_pos[pos] = {'gene':g, 'codon': i+1, 'codon_pos': j}\n",
    "            \n",
    "#for all positions not in a gene, specify 'noncoding'\n",
    "#for x in range(len(wuhan_seq)+1):\n",
    " #   if x not in codon_index_by_pos.keys():\n",
    "  #      codon_index_by_pos[x] = {'gene':'Noncoding'}"
   ]
  },
  {
   "cell_type": "code",
   "execution_count": 11,
   "id": "a89d6822-2f47-48aa-ae57-18e1b9a80821",
   "metadata": {},
   "outputs": [],
   "source": [
    "#make mapper of nt position to codon position within orf9b\n",
    "#codon_index_by_pos_orf9b = {}\n",
    "#for g, l in location_by_gene.items():\n",
    " #   if g == 'ORF9b':\n",
    "  #      #start at 1!\n",
    "   #     positions_grouped_into_codons = [[i+1,i+2,i+3] for i in range(l.start, l.end, 3)]\n",
    "    #    for i in range(len(positions_grouped_into_codons)):\n",
    "     #       for j in range(len(positions_grouped_into_codons[i])):\n",
    "      #          pos = positions_grouped_into_codons[i][j]\n",
    "       #         codon_index_by_pos_orf9b[pos] = {'gene':g, 'codon': i+1, 'codon_pos': j}"
   ]
  },
  {
   "cell_type": "code",
   "execution_count": 12,
   "id": "d25ea799-e755-4dbe-a09b-7877458f6803",
   "metadata": {},
   "outputs": [],
   "source": [
    "#substitution matrix from https://www.sciencedirect.com/science/article/pii/S1567134821004287\n",
    "#format is {from_A:{to_T:x, to_C:x, to_G:x}, from_T:{to_A:x, ...}, ...}\n",
    "\n",
    "sub_matrix = {'A': {'T': 0.0383, 'C': 0.0219, 'G': 0.0747},\n",
    "          'T': {'A': 0.0356, 'C': 0.2085, 'G': 0.0234},\n",
    "          'C': {'A': 0.0356, 'T': 0.3648, 'G': 0.0234},\n",
    "          'G': {'A': 0.1138, 'T': 0.0383, 'C': 0.0219}}\n",
    "\n",
    "\n",
    "            \n",
    "\n",
    "\n"
   ]
  },
  {
   "cell_type": "code",
   "execution_count": 13,
   "id": "72d86394-ef67-4fee-8367-c4101e6b4572",
   "metadata": {},
   "outputs": [
    {
     "name": "stdout",
     "output_type": "stream",
     "text": [
      "1.0002\n"
     ]
    }
   ],
   "source": [
    "total = 0\n",
    "for k,v in sub_matrix.items():\n",
    "    for i,j in v.items():\n",
    "        total += j\n",
    "print(total)"
   ]
  },
  {
   "cell_type": "code",
   "execution_count": 14,
   "id": "574c0992-452d-493b-8d64-88a38bf3f0ff",
   "metadata": {},
   "outputs": [],
   "source": [
    "## Substitution matrix from 4-fold degenerate mutation rate estimated by Bloom & Neher in https://pubmed.ncbi.nlm.nih.gov/36778462/\n",
    "## Data pulled from here: https://jbloomlab.github.io/SARS2-mut-fitness/avg_counts.html\n",
    "count_matrix_bloom_neher = {'A': {'T': 20.39, 'C': 8.97, 'G': 73.28},\n",
    "          'T': {'A': 13.97, 'C': 66.53, 'G': 8.70},\n",
    "          'C': {'A': 38.80, 'T': 569.75, 'G': 11.98},\n",
    "          'G': {'A': 157.35, 'T': 440.43, 'C': 18.27}}"
   ]
  },
  {
   "cell_type": "code",
   "execution_count": 15,
   "id": "7cfcf64f-dffa-4186-bfc2-ce3baed8afcd",
   "metadata": {},
   "outputs": [],
   "source": [
    "mut_sum = 0\n",
    "for k,v in count_matrix_bloom_neher.items():\n",
    "    for i,j in v.items():\n",
    "        mut_sum+= j"
   ]
  },
  {
   "cell_type": "code",
   "execution_count": 16,
   "id": "adcda903-088a-49dd-83c1-32ecb335b5e7",
   "metadata": {},
   "outputs": [],
   "source": [
    "sub_matrix_bloom_neher = {}\n",
    "for k,v in count_matrix_bloom_neher.items():\n",
    "    sub_matrix_bloom_neher[k] = {}\n",
    "    for i,j in v.items():\n",
    "        sub_matrix_bloom_neher[k][i] = j/mut_sum"
   ]
  },
  {
   "cell_type": "code",
   "execution_count": 17,
   "id": "028b5c35-7067-4a0d-9a68-cf266fe408f3",
   "metadata": {},
   "outputs": [
    {
     "data": {
      "text/plain": [
       "{'A': {'T': 0.014274513098388428,\n",
       "  'C': 0.006279665644558324,\n",
       "  'G': 0.05130143795242296},\n",
       " 'T': {'A': 0.009780036683888492,\n",
       "  'C': 0.04657593704932723,\n",
       "  'G': 0.006090645608434493},\n",
       " 'C': {'A': 0.027162879265202108,\n",
       "  'T': 0.39886727993167276,\n",
       "  'G': 0.008386889010235085},\n",
       " 'G': {'A': 0.11015667660772041,\n",
       "  'T': 0.30833368337043726,\n",
       "  'C': 0.012790355777712436}}"
      ]
     },
     "execution_count": 17,
     "metadata": {},
     "output_type": "execute_result"
    }
   ],
   "source": [
    "sub_matrix_bloom_neher"
   ]
  },
  {
   "cell_type": "code",
   "execution_count": 18,
   "id": "0d8d0b8c-847f-4a35-8102-57be7a2d6459",
   "metadata": {},
   "outputs": [],
   "source": [
    "sub_matrix = sub_matrix_bloom_neher"
   ]
  },
  {
   "cell_type": "code",
   "execution_count": 19,
   "id": "71062268-5395-4284-8e2c-905d95382ec9",
   "metadata": {},
   "outputs": [],
   "source": [
    "all_nts = ['A', 'T', 'C', 'G']"
   ]
  },
  {
   "cell_type": "code",
   "execution_count": 20,
   "id": "ea8d36ce-6334-406f-894c-70a25a090189",
   "metadata": {},
   "outputs": [],
   "source": [
    "#introduce every possible mutation * probability that that mutation occurs (given A->T, oR A->G, etc), \n",
    "#and find whether it is synonymous or not\n",
    "#total the number of synonymous and nonsynonymous sites per gene\n",
    "\n",
    "syn_denominators ={}\n",
    "nonsyn_denominators ={}\n",
    "stop_denominators = {}\n",
    "\n",
    "for gene, codons in codons_by_gene.items():\n",
    "    nonsyn_sites_per_gene = 0\n",
    "    syn_sites_per_gene = 0\n",
    "    stop_sites_per_gene = 0\n",
    "    \n",
    "    #walk through codons\n",
    "    for codon in codons:\n",
    "        original_aa = codon.translate()\n",
    "        \n",
    "        #for each position in the codon\n",
    "        for i in range(len(codon)):\n",
    "            #wuhan nt\n",
    "            nt = codon[i]\n",
    "            #introduce each other mutation\n",
    "            for mut in [x for x in all_nts if x!=nt]:\n",
    "                mut_codon = codon[:i]+mut+codon[i+1:]\n",
    "                mut_aa = mut_codon.translate()\n",
    "                #find whether nonsynonymous\n",
    "                if mut_aa != original_aa:\n",
    "                    #find whether this is a stop codon\n",
    "                    if mut_aa =='*':\n",
    "                        #get the probability of this mutation\n",
    "                        #add to the total number of stop sites\n",
    "                        stop_sites_per_gene+=sub_matrix[nt][mut]\n",
    "                    else:\n",
    "                        #or the total number of nonsyn sites\n",
    "                        nonsyn_sites_per_gene+=sub_matrix[nt][mut]\n",
    "                #or synonymous\n",
    "                elif mut_aa == original_aa:\n",
    "                    syn_sites_per_gene+=sub_matrix[nt][mut]\n",
    "                    \n",
    "    syn_denominators[gene] = syn_sites_per_gene\n",
    "    nonsyn_denominators[gene] = nonsyn_sites_per_gene\n",
    "    stop_denominators[gene] = stop_sites_per_gene"
   ]
  },
  {
   "cell_type": "code",
   "execution_count": 21,
   "id": "5c2ca50a-bdcd-47c2-a24e-20e8b733224e",
   "metadata": {},
   "outputs": [
    {
     "data": {
      "text/plain": [
       "{'ORF1a': 562.4967166519632,\n",
       " 'ORF1b': 347.32931490738343,\n",
       " 'S': 165.74262471822036,\n",
       " 'S1': 86.02880105291102,\n",
       " 'ORF3a': 42.71477576623101,\n",
       " 'E': 14.23238263255907,\n",
       " 'M': 39.82281821873106,\n",
       " 'ORF6': 7.002667282731963,\n",
       " 'ORF7a': 18.415270018622,\n",
       " 'ORF7b': 7.693682530348208,\n",
       " 'ORF8': 15.818141723022666,\n",
       " 'N': 70.34230828467773,\n",
       " 'ORF9b': 22.01921003626385}"
      ]
     },
     "execution_count": 21,
     "metadata": {},
     "output_type": "execute_result"
    }
   ],
   "source": [
    "syn_denominators"
   ]
  },
  {
   "cell_type": "code",
   "execution_count": 22,
   "id": "84a75664-b477-40ea-a9de-74beb8525bce",
   "metadata": {},
   "outputs": [
    {
     "data": {
      "text/plain": [
       "{'ORF1a': 1965.455608294307,\n",
       " 'ORF1b': 1195.589567494127,\n",
       " 'S': 559.8160905055943,\n",
       " 'S1': 297.8870570280485,\n",
       " 'ORF3a': 121.52105123142958,\n",
       " 'E': 31.33338233852791,\n",
       " 'M': 100.93415102000743,\n",
       " 'ORF6': 21.362869464163275,\n",
       " 'ORF7a': 52.01715881883437,\n",
       " 'ORF7b': 14.312933170916141,\n",
       " 'ORF8': 50.842917349238554,\n",
       " 'N': 206.35268338444166,\n",
       " 'ORF9b': 47.172645300401584}"
      ]
     },
     "execution_count": 22,
     "metadata": {},
     "output_type": "execute_result"
    }
   ],
   "source": [
    "nonsyn_denominators"
   ]
  },
  {
   "cell_type": "code",
   "execution_count": 23,
   "id": "a7bb20f6-0ac1-41e3-b940-7275ae5b915d",
   "metadata": {},
   "outputs": [
    {
     "data": {
      "text/plain": [
       "{'ORF1a': 177.40973243163742,\n",
       " 'ORF1b': 94.9203245544025,\n",
       " 'S': 51.92237577183157,\n",
       " 'S1': 23.88158244773949,\n",
       " 'ORF3a': 10.741469595777136,\n",
       " 'E': 1.3628064574844927,\n",
       " 'M': 8.204379664244401,\n",
       " 'ORF6': 3.150263927976365,\n",
       " 'ORF7a': 5.3237493174276445,\n",
       " 'ORF7b': 1.7254869016115708,\n",
       " 'ORF8': 5.66270424665014,\n",
       " 'N': 26.19557973145155,\n",
       " 'ORF9b': 4.118081516640763}"
      ]
     },
     "execution_count": 23,
     "metadata": {},
     "output_type": "execute_result"
    }
   ],
   "source": [
    "stop_denominators"
   ]
  },
  {
   "cell_type": "markdown",
   "id": "242b2f47-b0b6-4e23-8de9-69e691b66809",
   "metadata": {},
   "source": [
    "## 2. Make mutations df"
   ]
  },
  {
   "cell_type": "code",
   "execution_count": 30,
   "id": "751f26cd-9322-4502-b762-7a7edcb7810f",
   "metadata": {},
   "outputs": [],
   "source": [
    "## In order to get dates for nodes, need to load tree\n",
    "\n",
    "def load_dates(path):\n",
    "    df = pd.read_csv(path,sep='\\t',usecols=['strain','date'],compression='gzip')\n",
    "    df = df[~df.date.isna()]\n",
    "    df = df[~df.date.str.contains('?',regex=False)]\n",
    "    df['date'] = pd.to_datetime(df['date'])\n",
    "    df.set_index('strain',inplace=True)\n",
    "    return df\n",
    "\n",
    "def tabulate_names(tree):\n",
    "    names = {}\n",
    "    for idx, clade in enumerate(tree.find_clades()):\n",
    "        if not clade.name:\n",
    "            clade.name = str(idx)\n",
    "        names[clade.name] = clade\n",
    "    return names\n",
    "\n",
    "def get_leaves(node, named):\n",
    "    leaves = named[node].get_terminals()\n",
    "    names = [leaf.name for leaf in leaves]\n",
    "    return names\n",
    "\n",
    "def get_time(node,named,date_df):\n",
    "    leaves = get_leaves(node,named)\n",
    "    dates = date_df.loc[leaves]['date']\n",
    "    first = min(dates)\n",
    "    time = max(dates) - first\n",
    "    return time.days, first\n",
    "\n",
    "def get_times(df,named,date_df):\n",
    "    time_vect = np.vectorize(get_time,excluded=[1,2])\n",
    "    df['days_circulated'],df['date_observed'] = time_vect(df['node_id'],named,date_df)\n",
    "    return df\n"
   ]
  },
  {
   "cell_type": "code",
   "execution_count": 31,
   "id": "25e4690c-d278-4b22-9106-6cb86d651caa",
   "metadata": {},
   "outputs": [],
   "source": [
    "dates = load_dates('usher/public-2023-05-01.metadata.tsv.gz')"
   ]
  },
  {
   "cell_type": "code",
   "execution_count": 28,
   "id": "a2d8b620-afa1-4740-be97-c71713a4a3d3",
   "metadata": {},
   "outputs": [],
   "source": [
    "with open('usher/trimmed/trimmed_2023-05-01.all.nwk', 'r') as f:\n",
    "    tree = Phylo.read(f,'newick')"
   ]
  },
  {
   "cell_type": "code",
   "execution_count": 32,
   "id": "f35b3e4a-7405-416c-bf90-3b98885f6401",
   "metadata": {},
   "outputs": [],
   "source": [
    "named = tabulate_names(tree)"
   ]
  },
  {
   "cell_type": "code",
   "execution_count": 24,
   "id": "9c56d4ca-6ccb-4c50-9ea7-0c35ceeebea6",
   "metadata": {},
   "outputs": [],
   "source": [
    "with open('usher/trimmed/usher_translations.tsv','r') as f:\n",
    "    muts = pd.read_csv(f,sep='\\t')"
   ]
  },
  {
   "cell_type": "code",
   "execution_count": 31,
   "id": "1ab0a471-b19d-4ab3-88d2-8d8b5dc37e6a",
   "metadata": {},
   "outputs": [],
   "source": [
    "muts.iloc[0:1000,:].to_csv('usher/trimmed/test_translations.tsv',sep='\\t',index=False)"
   ]
  },
  {
   "cell_type": "code",
   "execution_count": 33,
   "id": "6a24fbb8-6b4d-4e72-9a5d-44c9bd65fdcc",
   "metadata": {},
   "outputs": [],
   "source": [
    "## Split up nodes with multiple mutations into single mutations\n",
    "muts['aa_mutations'] = muts.aa_mutations.str.split(';')\n",
    "muts['nt_mutations'] = muts.nt_mutations.str.split(';')\n",
    "muts['codon_changes'] = muts.codon_changes.str.split(';')\n",
    "all_muts = muts.explode(['aa_mutations','nt_mutations','codon_changes'],ignore_index=True)"
   ]
  },
  {
   "cell_type": "code",
   "execution_count": 34,
   "id": "450653e5-11fc-4f93-b3b7-bdff8a2e8e65",
   "metadata": {},
   "outputs": [],
   "source": [
    "## Label with gene\n",
    "all_muts[['gene','aa_mutation']] = all_muts['aa_mutations'].str.split(':',expand=True)\n",
    "all_muts.drop(columns=['aa_mutations'],inplace=True)"
   ]
  },
  {
   "cell_type": "code",
   "execution_count": 35,
   "id": "23d2608a-4fae-46a2-bbca-19e948b8ca3f",
   "metadata": {},
   "outputs": [],
   "source": [
    "gene_aa = {k:wuhan_seq[v.start:v.end].translate() for k,v in location_by_gene.items()}"
   ]
  },
  {
   "cell_type": "code",
   "execution_count": 36,
   "id": "2ae5646a-8135-4133-b54b-fe1aeea65572",
   "metadata": {},
   "outputs": [
    {
     "data": {
      "text/plain": [
       "{'ORF1a': Seq('MESLVPGFNEKTHVQLSLPVLQVRDVLVRGFGDSVEEVLSEARQHLKDGTCGLV...FLN'),\n",
       " 'ORF1b': Seq('RVCGVSAARLTPCGTGTSTDVVYRAFDIYNDKVAGFAKFLKTNCCRFQEKDEDD...NN*'),\n",
       " 'S': Seq('MFVFLVLLPLVSSQCVNLTTRTQLPPAYTNSFTRGVYYPDKVFRSSVLHSTQDL...YT*'),\n",
       " 'S1': Seq('SQCVNLTTRTQLPPAYTNSFTRGVYYPDKVFRSSVLHSTQDLFLPFFSNVTWFH...RAR'),\n",
       " 'ORF3a': Seq('MDLFMRIFTIGTVTLKQGEIKDATPSDFVRATATIPIQASLPFGWLIVGVALLA...PL*'),\n",
       " 'E': Seq('MYSFVSEETGTLIVNSVLLFLAFVVFLLVTLAILTALRLCAYCCNIVNVSLVKP...LV*'),\n",
       " 'M': Seq('MADSNGTITVEELKKLLEQWNLVIGFLFLTWICLLQFAYANRNRFLYIIKLIFL...VQ*'),\n",
       " 'ORF6': Seq('MFHLVDFQVTIAEILLIIMRTFKVSIWNLDYIINLIIKNLSKSLTENKYSQLDE...ID*'),\n",
       " 'ORF7a': Seq('MKIILFLALITLATCELYHYQECVRGTTVLLKEPCSSGTYEGNSPFHPLADNKF...TE*'),\n",
       " 'ORF7b': Seq('MIELSLIDFYLCFLAFLLFLVLIMLIIFWFSLELQDHNETCHA*'),\n",
       " 'ORF8': Seq('MKFLVFLGIITTVAAFHQECSLQSCTQHQPYVVDDPCPIHFYSKWYIRVGARKS...FI*'),\n",
       " 'N': Seq('MSDNGPQNQRNAPRITFGGPSDSTGSNQNGERSGARSKQRRPQGLPNNTASWFT...QA*'),\n",
       " 'ORF9b': Seq('MDPKISEMHPALRLVDPQIQLAVTRMENAVGRDQNNVGPKVYPIILRLGSPLSL...VK*')}"
      ]
     },
     "execution_count": 36,
     "metadata": {},
     "output_type": "execute_result"
    }
   ],
   "source": [
    "gene_aa"
   ]
  },
  {
   "cell_type": "code",
   "execution_count": 37,
   "id": "4866b430-c94e-4822-80ea-b64b9b1908df",
   "metadata": {},
   "outputs": [],
   "source": [
    "def get_aa(row):\n",
    "    return gene_aa[row['gene']][row['residue']-1]"
   ]
  },
  {
   "cell_type": "code",
   "execution_count": 38,
   "id": "07684c28-f306-47fb-8ee2-ba29fc50e361",
   "metadata": {},
   "outputs": [],
   "source": [
    "## Classify mutation type\n",
    "all_muts['residue'] = pd.to_numeric(all_muts.aa_mutation.str[1:-1])\n",
    "\n",
    "# What type of mutation compared to Wuhan-Hu-1\n",
    "#all_muts['new_aa'] = all_muts.aa_mutation.str[-1]\n",
    "#all_muts['og_aa'] = all_muts['og_aa'] = all_muts.apply(get_aa,axis=1)\n",
    "#all_muts['mut_type'] = np.where(all_muts.og_aa==all_muts.new_aa,'synonymous','missense')\n",
    "#all_muts['mut_type'] = np.where(all_muts.aa_mutation.str[-1]=='*','nonsense',all_muts['mut_type'])\n",
    "\n",
    "\n",
    "# What type of mutation compared to predecessor\n",
    "all_muts['mut_type'] = np.where(all_muts.aa_mutation.str[-1]==all_muts.aa_mutation.str[0],'synonymous','missense')\n",
    "all_muts['mut_type'] = np.where(all_muts.aa_mutation.str[-1]=='*','nonsense',all_muts['mut_type'])\n",
    "all_muts['mut_type'] = np.where(all_muts.aa_mutation.str[0]=='*','undoStop',all_muts['mut_type'])"
   ]
  },
  {
   "cell_type": "code",
   "execution_count": 39,
   "id": "e84f485f-a0ea-450c-bb7e-4f6fd635663f",
   "metadata": {},
   "outputs": [
    {
     "data": {
      "text/html": [
       "<div>\n",
       "<style scoped>\n",
       "    .dataframe tbody tr th:only-of-type {\n",
       "        vertical-align: middle;\n",
       "    }\n",
       "\n",
       "    .dataframe tbody tr th {\n",
       "        vertical-align: top;\n",
       "    }\n",
       "\n",
       "    .dataframe thead th {\n",
       "        text-align: right;\n",
       "    }\n",
       "</style>\n",
       "<table border=\"1\" class=\"dataframe\">\n",
       "  <thead>\n",
       "    <tr style=\"text-align: right;\">\n",
       "      <th></th>\n",
       "      <th>node_id</th>\n",
       "      <th>nt_mutations</th>\n",
       "      <th>codon_changes</th>\n",
       "      <th>leaves_sharing_mutations</th>\n",
       "      <th>gene</th>\n",
       "      <th>aa_mutation</th>\n",
       "      <th>residue</th>\n",
       "      <th>mut_type</th>\n",
       "    </tr>\n",
       "  </thead>\n",
       "  <tbody>\n",
       "    <tr>\n",
       "      <th>0</th>\n",
       "      <td>CHN/YN-0306-466/2020|MT396241.1|2020-03-06</td>\n",
       "      <td>G15910T</td>\n",
       "      <td>GAT&gt;TAT</td>\n",
       "      <td>1</td>\n",
       "      <td>ORF1b</td>\n",
       "      <td>D815Y</td>\n",
       "      <td>815</td>\n",
       "      <td>missense</td>\n",
       "    </tr>\n",
       "    <tr>\n",
       "      <th>1</th>\n",
       "      <td>DP0803|LC571037.1|2020-02-17</td>\n",
       "      <td>G4162T</td>\n",
       "      <td>GTG&gt;GTT</td>\n",
       "      <td>1</td>\n",
       "      <td>ORF1a</td>\n",
       "      <td>V1299V</td>\n",
       "      <td>1299</td>\n",
       "      <td>synonymous</td>\n",
       "    </tr>\n",
       "    <tr>\n",
       "      <th>2</th>\n",
       "      <td>node_2</td>\n",
       "      <td>T13090C</td>\n",
       "      <td>GAT&gt;GAC</td>\n",
       "      <td>2</td>\n",
       "      <td>ORF1a</td>\n",
       "      <td>D4275D</td>\n",
       "      <td>4275</td>\n",
       "      <td>synonymous</td>\n",
       "    </tr>\n",
       "    <tr>\n",
       "      <th>3</th>\n",
       "      <td>England/LEED-2A8B52/2020|OA971832.1|2020-04-04</td>\n",
       "      <td>C1191T</td>\n",
       "      <td>CCA&gt;CTA</td>\n",
       "      <td>1</td>\n",
       "      <td>ORF1a</td>\n",
       "      <td>P309L</td>\n",
       "      <td>309</td>\n",
       "      <td>missense</td>\n",
       "    </tr>\n",
       "    <tr>\n",
       "      <th>4</th>\n",
       "      <td>England/LEED-2A8B52/2020|OA971832.1|2020-04-04</td>\n",
       "      <td>C11674T</td>\n",
       "      <td>TAC&gt;TAT</td>\n",
       "      <td>1</td>\n",
       "      <td>ORF1a</td>\n",
       "      <td>Y3803Y</td>\n",
       "      <td>3803</td>\n",
       "      <td>synonymous</td>\n",
       "    </tr>\n",
       "    <tr>\n",
       "      <th>...</th>\n",
       "      <td>...</td>\n",
       "      <td>...</td>\n",
       "      <td>...</td>\n",
       "      <td>...</td>\n",
       "      <td>...</td>\n",
       "      <td>...</td>\n",
       "      <td>...</td>\n",
       "      <td>...</td>\n",
       "    </tr>\n",
       "    <tr>\n",
       "      <th>5508953</th>\n",
       "      <td>Netherlands/NoordBrabant_60/2020|LR878078.1|20...</td>\n",
       "      <td>T6163A</td>\n",
       "      <td>GAT&gt;GAA</td>\n",
       "      <td>1</td>\n",
       "      <td>ORF1a</td>\n",
       "      <td>D1966E</td>\n",
       "      <td>1966</td>\n",
       "      <td>missense</td>\n",
       "    </tr>\n",
       "    <tr>\n",
       "      <th>5508954</th>\n",
       "      <td>Netherlands/NoordBrabant_60/2020|LR878078.1|20...</td>\n",
       "      <td>C12923A</td>\n",
       "      <td>CCT&gt;ACT</td>\n",
       "      <td>1</td>\n",
       "      <td>ORF1a</td>\n",
       "      <td>P4220T</td>\n",
       "      <td>4220</td>\n",
       "      <td>missense</td>\n",
       "    </tr>\n",
       "    <tr>\n",
       "      <th>5508955</th>\n",
       "      <td>Netherlands/NoordBrabant_60/2020|LR878078.1|20...</td>\n",
       "      <td>C13430T</td>\n",
       "      <td>CCC&gt;TCC</td>\n",
       "      <td>1</td>\n",
       "      <td>ORF1a</td>\n",
       "      <td>P4389S</td>\n",
       "      <td>4389</td>\n",
       "      <td>missense</td>\n",
       "    </tr>\n",
       "    <tr>\n",
       "      <th>5508956</th>\n",
       "      <td>Netherlands/NoordBrabant_60/2020|LR878078.1|20...</td>\n",
       "      <td>C19366T</td>\n",
       "      <td>CCA&gt;TCA</td>\n",
       "      <td>1</td>\n",
       "      <td>ORF1b</td>\n",
       "      <td>P1967S</td>\n",
       "      <td>1967</td>\n",
       "      <td>missense</td>\n",
       "    </tr>\n",
       "    <tr>\n",
       "      <th>5508957</th>\n",
       "      <td>Netherlands/NoordBrabant_60/2020|LR878078.1|20...</td>\n",
       "      <td>T28110C</td>\n",
       "      <td>TAC&gt;CAC</td>\n",
       "      <td>1</td>\n",
       "      <td>ORF8</td>\n",
       "      <td>Y73H</td>\n",
       "      <td>73</td>\n",
       "      <td>missense</td>\n",
       "    </tr>\n",
       "  </tbody>\n",
       "</table>\n",
       "<p>5508958 rows × 8 columns</p>\n",
       "</div>"
      ],
      "text/plain": [
       "                                                   node_id nt_mutations  \\\n",
       "0               CHN/YN-0306-466/2020|MT396241.1|2020-03-06      G15910T   \n",
       "1                             DP0803|LC571037.1|2020-02-17       G4162T   \n",
       "2                                                   node_2      T13090C   \n",
       "3           England/LEED-2A8B52/2020|OA971832.1|2020-04-04       C1191T   \n",
       "4           England/LEED-2A8B52/2020|OA971832.1|2020-04-04      C11674T   \n",
       "...                                                    ...          ...   \n",
       "5508953  Netherlands/NoordBrabant_60/2020|LR878078.1|20...       T6163A   \n",
       "5508954  Netherlands/NoordBrabant_60/2020|LR878078.1|20...      C12923A   \n",
       "5508955  Netherlands/NoordBrabant_60/2020|LR878078.1|20...      C13430T   \n",
       "5508956  Netherlands/NoordBrabant_60/2020|LR878078.1|20...      C19366T   \n",
       "5508957  Netherlands/NoordBrabant_60/2020|LR878078.1|20...      T28110C   \n",
       "\n",
       "        codon_changes  leaves_sharing_mutations   gene aa_mutation  residue  \\\n",
       "0             GAT>TAT                         1  ORF1b       D815Y      815   \n",
       "1             GTG>GTT                         1  ORF1a      V1299V     1299   \n",
       "2             GAT>GAC                         2  ORF1a      D4275D     4275   \n",
       "3             CCA>CTA                         1  ORF1a       P309L      309   \n",
       "4             TAC>TAT                         1  ORF1a      Y3803Y     3803   \n",
       "...               ...                       ...    ...         ...      ...   \n",
       "5508953       GAT>GAA                         1  ORF1a      D1966E     1966   \n",
       "5508954       CCT>ACT                         1  ORF1a      P4220T     4220   \n",
       "5508955       CCC>TCC                         1  ORF1a      P4389S     4389   \n",
       "5508956       CCA>TCA                         1  ORF1b      P1967S     1967   \n",
       "5508957       TAC>CAC                         1   ORF8        Y73H       73   \n",
       "\n",
       "           mut_type  \n",
       "0          missense  \n",
       "1        synonymous  \n",
       "2        synonymous  \n",
       "3          missense  \n",
       "4        synonymous  \n",
       "...             ...  \n",
       "5508953    missense  \n",
       "5508954    missense  \n",
       "5508955    missense  \n",
       "5508956    missense  \n",
       "5508957    missense  \n",
       "\n",
       "[5508958 rows x 8 columns]"
      ]
     },
     "execution_count": 39,
     "metadata": {},
     "output_type": "execute_result"
    }
   ],
   "source": [
    "all_muts"
   ]
  },
  {
   "cell_type": "code",
   "execution_count": 40,
   "id": "9bd008d2-347c-45b0-a9be-38da51710ac3",
   "metadata": {},
   "outputs": [
    {
     "data": {
      "text/plain": [
       "True"
      ]
     },
     "execution_count": 40,
     "metadata": {},
     "output_type": "execute_result"
    }
   ],
   "source": [
    "gene_aa['S'][12:685]==gene_aa['S1']"
   ]
  },
  {
   "cell_type": "code",
   "execution_count": 41,
   "id": "ee673c59-23b8-4bab-be1d-d2bb754b253c",
   "metadata": {},
   "outputs": [],
   "source": [
    " ## Add S1\n",
    "S1 = all_muts[(all_muts.gene=='S')&(all_muts.residue >= 13)&(all_muts.residue<=685)].reset_index(drop=True)\n",
    "S1['gene'] = 'S1'\n",
    "final_muts = pd.concat([all_muts,S1])"
   ]
  },
  {
   "cell_type": "code",
   "execution_count": 42,
   "id": "aecef1aa-f252-465d-8efc-f9417fcdc5eb",
   "metadata": {},
   "outputs": [
    {
     "data": {
      "text/html": [
       "<div>\n",
       "<style scoped>\n",
       "    .dataframe tbody tr th:only-of-type {\n",
       "        vertical-align: middle;\n",
       "    }\n",
       "\n",
       "    .dataframe tbody tr th {\n",
       "        vertical-align: top;\n",
       "    }\n",
       "\n",
       "    .dataframe thead th {\n",
       "        text-align: right;\n",
       "    }\n",
       "</style>\n",
       "<table border=\"1\" class=\"dataframe\">\n",
       "  <thead>\n",
       "    <tr style=\"text-align: right;\">\n",
       "      <th></th>\n",
       "      <th>node_id</th>\n",
       "      <th>nt_mutations</th>\n",
       "      <th>codon_changes</th>\n",
       "      <th>leaves_sharing_mutations</th>\n",
       "      <th>gene</th>\n",
       "      <th>aa_mutation</th>\n",
       "      <th>residue</th>\n",
       "      <th>mut_type</th>\n",
       "    </tr>\n",
       "  </thead>\n",
       "  <tbody>\n",
       "    <tr>\n",
       "      <th>0</th>\n",
       "      <td>England/PHEC-1E01E/2020|2020-04-03</td>\n",
       "      <td>C22445T</td>\n",
       "      <td>CCT&gt;TCT</td>\n",
       "      <td>1</td>\n",
       "      <td>S1</td>\n",
       "      <td>P295S</td>\n",
       "      <td>295</td>\n",
       "      <td>missense</td>\n",
       "    </tr>\n",
       "    <tr>\n",
       "      <th>1</th>\n",
       "      <td>England/LIVE-A9C05/2020|2020-03-24</td>\n",
       "      <td>C23603T</td>\n",
       "      <td>CCT&gt;TCT</td>\n",
       "      <td>1</td>\n",
       "      <td>S1</td>\n",
       "      <td>P681S</td>\n",
       "      <td>681</td>\n",
       "      <td>missense</td>\n",
       "    </tr>\n",
       "    <tr>\n",
       "      <th>2</th>\n",
       "      <td>node_28</td>\n",
       "      <td>G23611T</td>\n",
       "      <td>CGG&gt;CGT</td>\n",
       "      <td>2</td>\n",
       "      <td>S1</td>\n",
       "      <td>R683R</td>\n",
       "      <td>683</td>\n",
       "      <td>synonymous</td>\n",
       "    </tr>\n",
       "    <tr>\n",
       "      <th>3</th>\n",
       "      <td>England/BIRM-61D60/2020|2020-03-25</td>\n",
       "      <td>C21767T</td>\n",
       "      <td>CAT&gt;TAT</td>\n",
       "      <td>1</td>\n",
       "      <td>S1</td>\n",
       "      <td>H69Y</td>\n",
       "      <td>69</td>\n",
       "      <td>missense</td>\n",
       "    </tr>\n",
       "    <tr>\n",
       "      <th>4</th>\n",
       "      <td>node_31</td>\n",
       "      <td>A23403G</td>\n",
       "      <td>GAT&gt;GGT</td>\n",
       "      <td>2</td>\n",
       "      <td>S1</td>\n",
       "      <td>D614G</td>\n",
       "      <td>614</td>\n",
       "      <td>missense</td>\n",
       "    </tr>\n",
       "  </tbody>\n",
       "</table>\n",
       "</div>"
      ],
      "text/plain": [
       "                              node_id nt_mutations codon_changes  \\\n",
       "0  England/PHEC-1E01E/2020|2020-04-03      C22445T       CCT>TCT   \n",
       "1  England/LIVE-A9C05/2020|2020-03-24      C23603T       CCT>TCT   \n",
       "2                             node_28      G23611T       CGG>CGT   \n",
       "3  England/BIRM-61D60/2020|2020-03-25      C21767T       CAT>TAT   \n",
       "4                             node_31      A23403G       GAT>GGT   \n",
       "\n",
       "   leaves_sharing_mutations gene aa_mutation  residue    mut_type  \n",
       "0                         1   S1       P295S      295    missense  \n",
       "1                         1   S1       P681S      681    missense  \n",
       "2                         2   S1       R683R      683  synonymous  \n",
       "3                         1   S1        H69Y       69    missense  \n",
       "4                         2   S1       D614G      614    missense  "
      ]
     },
     "execution_count": 42,
     "metadata": {},
     "output_type": "execute_result"
    }
   ],
   "source": [
    "S1.head()"
   ]
  },
  {
   "cell_type": "code",
   "execution_count": null,
   "id": "09855397-4899-439a-b128-0d66c87d3dd5",
   "metadata": {},
   "outputs": [],
   "source": [
    "node_times = get_times(final_muts,named,dates)"
   ]
  },
  {
   "cell_type": "code",
   "execution_count": 42,
   "id": "bb7c2dd2-2884-47b9-9a70-3acaa952f6f0",
   "metadata": {},
   "outputs": [
    {
     "data": {
      "text/plain": [
       "Index(['node_id', 'nt_mutations', 'codon_changes', 'leaves_sharing_mutations',\n",
       "       'gene', 'aa_mutation', 'residue', 'mut_type'],\n",
       "      dtype='object')"
      ]
     },
     "execution_count": 42,
     "metadata": {},
     "output_type": "execute_result"
    }
   ],
   "source": [
    "final_muts.columns"
   ]
  },
  {
   "cell_type": "code",
   "execution_count": 43,
   "id": "28bc750a-bf33-4c19-a607-c5e656e9b699",
   "metadata": {},
   "outputs": [
    {
     "data": {
      "text/plain": [
       "Index                        47683696\n",
       "node_id                     548289643\n",
       "nt_mutations                379695500\n",
       "codon_changes               381469568\n",
       "leaves_sharing_mutations     47683696\n",
       "gene                        362695422\n",
       "aa_mutation                 370968363\n",
       "residue                      47683696\n",
       "mut_type                    392220316\n",
       "dtype: int64"
      ]
     },
     "execution_count": 43,
     "metadata": {},
     "output_type": "execute_result"
    }
   ],
   "source": [
    "final_muts.memory_usage(deep=True)"
   ]
  },
  {
   "cell_type": "code",
   "execution_count": 38,
   "id": "5c4c0a0e-084a-4fd6-a7fe-2b6715ad40b2",
   "metadata": {},
   "outputs": [],
   "source": [
    "def make_mutations_df(path):\n",
    "    '''\n",
    "    Constructs dataframe with all mutations in Usher tree for each gene.\n",
    "    '''\n",
    "    with open(path,'r') as f:\n",
    "        muts = pd.read_csv(f,sep='\\t',usecols=['node_id','aa_mutations'])\n",
    "\n",
    "    ## Split up nodes with multiple mutations into single mutations\n",
    "    muts['aa_mutations'] = muts.aa_mutations.str.split(';')\n",
    "    all_muts = muts.explode(['aa_mutations'],ignore_index=True)\n",
    "\n",
    "    ## Label with gene\n",
    "    all_muts[['gene','aa_mutation']] = all_muts['aa_mutations'].str.split(':',expand=True)\n",
    "    all_muts.drop(columns=['aa_mutations'],inplace=True)\n",
    "\n",
    "    ## Get residue\n",
    "    all_muts['residue'] = pd.to_numeric(all_muts.aa_mutation.str[1:-1])\n",
    "\n",
    "    ## Classify mutation type\n",
    "    all_muts['mut_type'] = np.where(all_muts.aa_mutation.str[-1]==all_muts.aa_mutation.str[0],'synonymous','missense')\n",
    "    all_muts['mut_type'] = np.where(all_muts.aa_mutation.str[-1]=='*','nonsense',all_muts['mut_type'])\n",
    "    all_muts['mut_type'] = np.where(all_muts.aa_mutation.str[0]=='*','undoStop',all_muts['mut_type'])\n",
    "\n",
    "    ## Add S1\n",
    "    S1 = all_muts[(all_muts.gene=='S')&(all_muts.residue >= 13)&(all_muts.residue<=685)].reset_index(drop=True)\n",
    "    S1['gene'] = 'S1'\n",
    "    final_muts = pd.concat([all_muts,S1])\n",
    "    final_muts[['gene','mut_type']] = final_muts[['gene','mut_type']].astype(\"category\")\n",
    "\n",
    "    return final_muts[['node_id','gene','mut_type']]"
   ]
  },
  {
   "cell_type": "code",
   "execution_count": 27,
   "id": "c04a04b2-9b3a-42c2-b6f8-360154bbaa96",
   "metadata": {},
   "outputs": [],
   "source": [
    "new_final_muts = make_mutations_df('usher/trimmed/usher_translations.tsv')"
   ]
  },
  {
   "cell_type": "code",
   "execution_count": 30,
   "id": "da6f9b5d-f8e1-4ba8-9863-4711f3df3321",
   "metadata": {},
   "outputs": [
    {
     "data": {
      "text/plain": [
       "Index        47683696\n",
       "node_id     548289643\n",
       "gene          5961803\n",
       "mut_type      5960896\n",
       "dtype: int64"
      ]
     },
     "execution_count": 30,
     "metadata": {},
     "output_type": "execute_result"
    }
   ],
   "source": [
    "new_final_muts.memory_usage(deep=True)"
   ]
  },
  {
   "cell_type": "code",
   "execution_count": 63,
   "id": "60524acd-c45e-436b-972a-f83ccb8bb789",
   "metadata": {},
   "outputs": [],
   "source": [
    "test = new_final_muts.iloc[0:50000,:]"
   ]
  },
  {
   "cell_type": "code",
   "execution_count": 65,
   "id": "a59da5ab-4b70-461f-9cf7-f65284171a20",
   "metadata": {},
   "outputs": [],
   "source": [
    "test = test.set_index('node_id')"
   ]
  },
  {
   "cell_type": "code",
   "execution_count": 75,
   "id": "f72dc249-a125-4343-bb5f-a93c7a4502d5",
   "metadata": {},
   "outputs": [],
   "source": [
    "for i, k in enumerate(samples.keys()):\n",
    "    filt = test.loc[samples[k],:]\n",
    "    results = filt.groupby(by=['gene','mut_type']).size().reset_index()\n",
    "    results.rename(columns={0:'count'},inplace=True)\n",
    "    results['iteration'] = k\n",
    "    if i == 0:\n",
    "        output = results\n",
    "    else:\n",
    "        output = pd.concat([output,results])"
   ]
  },
  {
   "cell_type": "code",
   "execution_count": 76,
   "id": "93aeb469-c28f-4fd5-ba12-f183048aba13",
   "metadata": {},
   "outputs": [
    {
     "data": {
      "text/html": [
       "<div>\n",
       "<style scoped>\n",
       "    .dataframe tbody tr th:only-of-type {\n",
       "        vertical-align: middle;\n",
       "    }\n",
       "\n",
       "    .dataframe tbody tr th {\n",
       "        vertical-align: top;\n",
       "    }\n",
       "\n",
       "    .dataframe thead th {\n",
       "        text-align: right;\n",
       "    }\n",
       "</style>\n",
       "<table border=\"1\" class=\"dataframe\">\n",
       "  <thead>\n",
       "    <tr style=\"text-align: right;\">\n",
       "      <th></th>\n",
       "      <th>gene</th>\n",
       "      <th>mut_type</th>\n",
       "      <th>count</th>\n",
       "      <th>iteration</th>\n",
       "    </tr>\n",
       "  </thead>\n",
       "  <tbody>\n",
       "    <tr>\n",
       "      <th>0</th>\n",
       "      <td>E</td>\n",
       "      <td>missense</td>\n",
       "      <td>190</td>\n",
       "      <td>0</td>\n",
       "    </tr>\n",
       "    <tr>\n",
       "      <th>1</th>\n",
       "      <td>E</td>\n",
       "      <td>nonsense</td>\n",
       "      <td>0</td>\n",
       "      <td>0</td>\n",
       "    </tr>\n",
       "    <tr>\n",
       "      <th>2</th>\n",
       "      <td>E</td>\n",
       "      <td>synonymous</td>\n",
       "      <td>140</td>\n",
       "      <td>0</td>\n",
       "    </tr>\n",
       "    <tr>\n",
       "      <th>3</th>\n",
       "      <td>E</td>\n",
       "      <td>undoStop</td>\n",
       "      <td>0</td>\n",
       "      <td>0</td>\n",
       "    </tr>\n",
       "    <tr>\n",
       "      <th>4</th>\n",
       "      <td>M</td>\n",
       "      <td>missense</td>\n",
       "      <td>607</td>\n",
       "      <td>0</td>\n",
       "    </tr>\n",
       "    <tr>\n",
       "      <th>...</th>\n",
       "      <td>...</td>\n",
       "      <td>...</td>\n",
       "      <td>...</td>\n",
       "      <td>...</td>\n",
       "    </tr>\n",
       "    <tr>\n",
       "      <th>47</th>\n",
       "      <td>S</td>\n",
       "      <td>undoStop</td>\n",
       "      <td>0</td>\n",
       "      <td>999</td>\n",
       "    </tr>\n",
       "    <tr>\n",
       "      <th>48</th>\n",
       "      <td>S1</td>\n",
       "      <td>missense</td>\n",
       "      <td>0</td>\n",
       "      <td>999</td>\n",
       "    </tr>\n",
       "    <tr>\n",
       "      <th>49</th>\n",
       "      <td>S1</td>\n",
       "      <td>nonsense</td>\n",
       "      <td>0</td>\n",
       "      <td>999</td>\n",
       "    </tr>\n",
       "    <tr>\n",
       "      <th>50</th>\n",
       "      <td>S1</td>\n",
       "      <td>synonymous</td>\n",
       "      <td>0</td>\n",
       "      <td>999</td>\n",
       "    </tr>\n",
       "    <tr>\n",
       "      <th>51</th>\n",
       "      <td>S1</td>\n",
       "      <td>undoStop</td>\n",
       "      <td>0</td>\n",
       "      <td>999</td>\n",
       "    </tr>\n",
       "  </tbody>\n",
       "</table>\n",
       "<p>52000 rows × 4 columns</p>\n",
       "</div>"
      ],
      "text/plain": [
       "   gene    mut_type  count  iteration\n",
       "0     E    missense    190          0\n",
       "1     E    nonsense      0          0\n",
       "2     E  synonymous    140          0\n",
       "3     E    undoStop      0          0\n",
       "4     M    missense    607          0\n",
       "..  ...         ...    ...        ...\n",
       "47    S    undoStop      0        999\n",
       "48   S1    missense      0        999\n",
       "49   S1    nonsense      0        999\n",
       "50   S1  synonymous      0        999\n",
       "51   S1    undoStop      0        999\n",
       "\n",
       "[52000 rows x 4 columns]"
      ]
     },
     "execution_count": 76,
     "metadata": {},
     "output_type": "execute_result"
    }
   ],
   "source": [
    "output"
   ]
  },
  {
   "cell_type": "code",
   "execution_count": 37,
   "id": "5977fe55-7636-4efb-b191-ea0be146c068",
   "metadata": {},
   "outputs": [],
   "source": [
    "from random import choices\n",
    "from itertools import compress\n"
   ]
  },
  {
   "cell_type": "code",
   "execution_count": 34,
   "id": "c390762c-0f1c-46ac-af58-fce376880a98",
   "metadata": {},
   "outputs": [],
   "source": [
    "%load_ext line_profiler"
   ]
  },
  {
   "cell_type": "code",
   "execution_count": 216,
   "id": "193adba8-bf2e-482d-bd5e-56d83b895990",
   "metadata": {},
   "outputs": [],
   "source": [
    "def flatten(l):\n",
    "    return [item for sublist in l for item in sublist]\n",
    "\n",
    "def draw_samples(df,n):\n",
    "    '''\n",
    "    Draws random samples with replacement of node ids for bootstrap.\n",
    "    Returns indexes of random samples.\n",
    "    '''\n",
    "    ids = df['node_id'].unique()\n",
    "    idxs = {ID:list(np.where(df['node_id']==ID)[0]) for ID in ids}\n",
    "    length  = len(ids)\n",
    "    sample_ids = {iterat:choices(ids,k=length) for iterat in range(n)}\n",
    "    sample_idxs = {iterat:flatten([idxs[ID] for ID in sample_ids[iterat]]) for iterat in range(n)}\n",
    "    return sample_idxs\n",
    "          \n",
    "def draw_samples_new(df,n,chunksize):\n",
    "    '''\n",
    "    Draws random samples with replacement of node ids for bootstrap.\n",
    "    Returns indexes of random samples.\n",
    "    '''\n",
    "    ids = df['id'].unique()\n",
    "    length = len(ids)\n",
    "    sample_ids = {iterat:choices(range(length),k=chunksize) for iterat in range(n)}\n",
    "    print('Finished drawing samples')\n",
    "    return sample_ids\n",
    "\n",
    "def draw_samples_new(df,n):\n",
    "    '''\n",
    "    Draws random samples with replacement of node ids for bootstrap.\n",
    "    Returns indexes of random samples.\n",
    "    '''\n",
    "    ids = df['id'].unique()\n",
    "    length = len(ids)\n",
    "    sample_ids = {iterat:choices(range(length),k=length) for iterat in range(n)}\n",
    "    return sample_ids\n",
    "\n",
    "\n",
    "def draw_genes(samples,genes,df):\n",
    "    '''\n",
    "    Returns indexes of random samples for each gene.\n",
    "    '''\n",
    "    bootstrap_genes = {}\n",
    "    for k in samples.keys():\n",
    "        bootstrap_genes[k] = {}\n",
    "        for gene in genes:\n",
    "            filt = df.iloc[samples[k],1].values == gene\n",
    "            subset = compress(samples[k],filt)\n",
    "            bootstrap_genes[k][gene] = list(subset)\n",
    "    return bootstrap_genes\n",
    "\n",
    "def draw_counts(gene_samples,genes,df):\n",
    "    '''\n",
    "    Returns df of counts per gene by mutation type for each iteration.\n",
    "    '''\n",
    "    iterations = []\n",
    "    the_genes = []\n",
    "    mutTypes = []\n",
    "    counts = []\n",
    "    for k in gene_samples.keys():\n",
    "        iterations.extend([k]*len(genes)*3)\n",
    "        for gene in genes:\n",
    "            the_genes.extend([gene]*3)\n",
    "            for mut_type in ['synonymous','missense','nonsense']:\n",
    "                filt = df.iloc[gene_samples[k][gene],2].values == mut_type\n",
    "                subset = compress(gene_samples[k][gene],filt)\n",
    "                count = sum(1 for x in subset)\n",
    "                mutTypes.append(mut_type)\n",
    "                counts.append(count)\n",
    "    bootstrap = pd.DataFrame({'bootstrap':iterations,'gene':the_genes,'mutType':mutTypes,'count':counts})\n",
    "    return bootstrap\n",
    "\n",
    "def draw_counts_new(samples,df):\n",
    "    '''\n",
    "    Returns df of counts per gene by mutation type for each iteration.\n",
    "    '''\n",
    "    df = df.set_index('id')\n",
    "    for i, k in enumerate(samples.keys()):\n",
    "        print(f'starting iteration: {i}')\n",
    "        filt = df.loc[samples[k],:]\n",
    "        count = filt.groupby(by=['gene','mut_type']).size().reset_index()\n",
    "        count.rename(columns={0:'count'},inplace=True)\n",
    "        count['iteration'] = k\n",
    "        if i == 0:\n",
    "            bootstrap = count\n",
    "        else:\n",
    "            bootstrap = pd.concat([bootstrap,count])\n",
    "    return bootstrap\n",
    "\n",
    "def draw_counts_test(samples,df):\n",
    "    '''\n",
    "    Returns df of counts per gene by mutation type for each iteration.\n",
    "    '''\n",
    "    df = df.set_index('id')\n",
    "    keys = list(samples.keys())\n",
    "    for i, k in enumerate(keys[0:10]):\n",
    "        filt = df.loc[samples[k],:]\n",
    "        count = filt.groupby(by=['gene','mut_type']).size().reset_index()\n",
    "        count.rename(columns={0:'count'},inplace=True)\n",
    "        count['iteration'] = k\n",
    "        if i == 0:\n",
    "            bootstrap = count\n",
    "        else:\n",
    "            bootstrap = pd.concat([bootstrap,count])\n",
    "    return bootstrap\n",
    "\n",
    "\n",
    "def recode_nodeID(df):\n",
    "    '''\n",
    "    Recodes node id as an integer.\n",
    "    '''\n",
    "    ids = df['node_id'].unique()\n",
    "\n",
    "    encoder = dict(zip(ids,range(len(ids))))\n",
    "\n",
    "    df['id'] = df['node_id'].map(encoder)\n",
    "\n",
    "    return df[['id', 'gene','mut_type']]\n",
    "        \n",
    "## Next figure out how to draw muts\n",
    "\n",
    "def run_old(df,n,genes):\n",
    "    sampled = draw_samples(df,n)\n",
    "    gene_sampled = draw_genes(sampled,genes,df)\n",
    "    counted = draw_counts(gene_sampled,genes,df)\n",
    "    return counted\n",
    "\n",
    "def run_new(df,n):\n",
    "    sampled = draw_samples_new(df,n)\n",
    "    counted = draw_counts_new(sampled,df)\n",
    "    return counted\n",
    "\n",
    "            \n"
   ]
  },
  {
   "cell_type": "code",
   "execution_count": 158,
   "id": "0d1071ac-4e56-4ba7-abc7-b9c6381284e5",
   "metadata": {},
   "outputs": [],
   "source": [
    "recoded = recode_nodeID(new_final_muts)"
   ]
  },
  {
   "cell_type": "code",
   "execution_count": 199,
   "id": "3d33586f-b681-4f39-bc47-14e7bbeee65c",
   "metadata": {},
   "outputs": [],
   "source": [
    "samples = draw_samples_new(recoded,5)"
   ]
  },
  {
   "cell_type": "code",
   "execution_count": 201,
   "id": "4ab93ce2-024e-4844-a555-90953a76779b",
   "metadata": {},
   "outputs": [
    {
     "ename": "KeyboardInterrupt",
     "evalue": "",
     "output_type": "error",
     "traceback": [
      "\u001b[0;31m---------------------------------------------------------------------------\u001b[0m",
      "\u001b[0;31mKeyboardInterrupt\u001b[0m                         Traceback (most recent call last)",
      "Cell \u001b[0;32mIn[201], line 1\u001b[0m\n\u001b[0;32m----> 1\u001b[0m counts \u001b[38;5;241m=\u001b[39m \u001b[43mdraw_counts_new\u001b[49m\u001b[43m(\u001b[49m\u001b[43msamples\u001b[49m\u001b[43m,\u001b[49m\u001b[43mrecoded\u001b[49m\u001b[43m)\u001b[49m\n",
      "Cell \u001b[0;32mIn[198], line 77\u001b[0m, in \u001b[0;36mdraw_counts_new\u001b[0;34m(samples, df)\u001b[0m\n\u001b[1;32m     75\u001b[0m df \u001b[38;5;241m=\u001b[39m df\u001b[38;5;241m.\u001b[39mset_index(\u001b[38;5;124m'\u001b[39m\u001b[38;5;124mid\u001b[39m\u001b[38;5;124m'\u001b[39m)\n\u001b[1;32m     76\u001b[0m \u001b[38;5;28;01mfor\u001b[39;00m i, k \u001b[38;5;129;01min\u001b[39;00m \u001b[38;5;28menumerate\u001b[39m(samples\u001b[38;5;241m.\u001b[39mkeys()):\n\u001b[0;32m---> 77\u001b[0m     filt \u001b[38;5;241m=\u001b[39m \u001b[43mdf\u001b[49m\u001b[38;5;241;43m.\u001b[39;49m\u001b[43mloc\u001b[49m\u001b[43m[\u001b[49m\u001b[43msamples\u001b[49m\u001b[43m[\u001b[49m\u001b[43mk\u001b[49m\u001b[43m]\u001b[49m\u001b[43m,\u001b[49m\u001b[43m:\u001b[49m\u001b[43m]\u001b[49m\n\u001b[1;32m     78\u001b[0m     count \u001b[38;5;241m=\u001b[39m filt\u001b[38;5;241m.\u001b[39mgroupby(by\u001b[38;5;241m=\u001b[39m[\u001b[38;5;124m'\u001b[39m\u001b[38;5;124mgene\u001b[39m\u001b[38;5;124m'\u001b[39m,\u001b[38;5;124m'\u001b[39m\u001b[38;5;124mmut_type\u001b[39m\u001b[38;5;124m'\u001b[39m])\u001b[38;5;241m.\u001b[39msize()\u001b[38;5;241m.\u001b[39mreset_index()\n\u001b[1;32m     79\u001b[0m     count\u001b[38;5;241m.\u001b[39mrename(columns\u001b[38;5;241m=\u001b[39m{\u001b[38;5;241m0\u001b[39m:\u001b[38;5;124m'\u001b[39m\u001b[38;5;124mcount\u001b[39m\u001b[38;5;124m'\u001b[39m},inplace\u001b[38;5;241m=\u001b[39m\u001b[38;5;28;01mTrue\u001b[39;00m)\n",
      "File \u001b[0;32m~/miniconda3/envs/orf8ko/lib/python3.10/site-packages/pandas/core/indexing.py:1067\u001b[0m, in \u001b[0;36m_LocationIndexer.__getitem__\u001b[0;34m(self, key)\u001b[0m\n\u001b[1;32m   1065\u001b[0m     \u001b[38;5;28;01mif\u001b[39;00m \u001b[38;5;28mself\u001b[39m\u001b[38;5;241m.\u001b[39m_is_scalar_access(key):\n\u001b[1;32m   1066\u001b[0m         \u001b[38;5;28;01mreturn\u001b[39;00m \u001b[38;5;28mself\u001b[39m\u001b[38;5;241m.\u001b[39mobj\u001b[38;5;241m.\u001b[39m_get_value(\u001b[38;5;241m*\u001b[39mkey, takeable\u001b[38;5;241m=\u001b[39m\u001b[38;5;28mself\u001b[39m\u001b[38;5;241m.\u001b[39m_takeable)\n\u001b[0;32m-> 1067\u001b[0m     \u001b[38;5;28;01mreturn\u001b[39;00m \u001b[38;5;28;43mself\u001b[39;49m\u001b[38;5;241;43m.\u001b[39;49m\u001b[43m_getitem_tuple\u001b[49m\u001b[43m(\u001b[49m\u001b[43mkey\u001b[49m\u001b[43m)\u001b[49m\n\u001b[1;32m   1068\u001b[0m \u001b[38;5;28;01melse\u001b[39;00m:\n\u001b[1;32m   1069\u001b[0m     \u001b[38;5;66;03m# we by definition only have the 0th axis\u001b[39;00m\n\u001b[1;32m   1070\u001b[0m     axis \u001b[38;5;241m=\u001b[39m \u001b[38;5;28mself\u001b[39m\u001b[38;5;241m.\u001b[39maxis \u001b[38;5;129;01mor\u001b[39;00m \u001b[38;5;241m0\u001b[39m\n",
      "File \u001b[0;32m~/miniconda3/envs/orf8ko/lib/python3.10/site-packages/pandas/core/indexing.py:1256\u001b[0m, in \u001b[0;36m_LocIndexer._getitem_tuple\u001b[0;34m(self, tup)\u001b[0m\n\u001b[1;32m   1253\u001b[0m \u001b[38;5;28;01mif\u001b[39;00m \u001b[38;5;28mself\u001b[39m\u001b[38;5;241m.\u001b[39m_multi_take_opportunity(tup):\n\u001b[1;32m   1254\u001b[0m     \u001b[38;5;28;01mreturn\u001b[39;00m \u001b[38;5;28mself\u001b[39m\u001b[38;5;241m.\u001b[39m_multi_take(tup)\n\u001b[0;32m-> 1256\u001b[0m \u001b[38;5;28;01mreturn\u001b[39;00m \u001b[38;5;28;43mself\u001b[39;49m\u001b[38;5;241;43m.\u001b[39;49m\u001b[43m_getitem_tuple_same_dim\u001b[49m\u001b[43m(\u001b[49m\u001b[43mtup\u001b[49m\u001b[43m)\u001b[49m\n",
      "File \u001b[0;32m~/miniconda3/envs/orf8ko/lib/python3.10/site-packages/pandas/core/indexing.py:924\u001b[0m, in \u001b[0;36m_LocationIndexer._getitem_tuple_same_dim\u001b[0;34m(self, tup)\u001b[0m\n\u001b[1;32m    921\u001b[0m \u001b[38;5;28;01mif\u001b[39;00m com\u001b[38;5;241m.\u001b[39mis_null_slice(key):\n\u001b[1;32m    922\u001b[0m     \u001b[38;5;28;01mcontinue\u001b[39;00m\n\u001b[0;32m--> 924\u001b[0m retval \u001b[38;5;241m=\u001b[39m \u001b[38;5;28;43mgetattr\u001b[39;49m\u001b[43m(\u001b[49m\u001b[43mretval\u001b[49m\u001b[43m,\u001b[49m\u001b[43m \u001b[49m\u001b[38;5;28;43mself\u001b[39;49m\u001b[38;5;241;43m.\u001b[39;49m\u001b[43mname\u001b[49m\u001b[43m)\u001b[49m\u001b[38;5;241;43m.\u001b[39;49m\u001b[43m_getitem_axis\u001b[49m\u001b[43m(\u001b[49m\u001b[43mkey\u001b[49m\u001b[43m,\u001b[49m\u001b[43m \u001b[49m\u001b[43maxis\u001b[49m\u001b[38;5;241;43m=\u001b[39;49m\u001b[43mi\u001b[49m\u001b[43m)\u001b[49m\n\u001b[1;32m    925\u001b[0m \u001b[38;5;66;03m# We should never have retval.ndim < self.ndim, as that should\u001b[39;00m\n\u001b[1;32m    926\u001b[0m \u001b[38;5;66;03m#  be handled by the _getitem_lowerdim call above.\u001b[39;00m\n\u001b[1;32m    927\u001b[0m \u001b[38;5;28;01massert\u001b[39;00m retval\u001b[38;5;241m.\u001b[39mndim \u001b[38;5;241m==\u001b[39m \u001b[38;5;28mself\u001b[39m\u001b[38;5;241m.\u001b[39mndim\n",
      "File \u001b[0;32m~/miniconda3/envs/orf8ko/lib/python3.10/site-packages/pandas/core/indexing.py:1301\u001b[0m, in \u001b[0;36m_LocIndexer._getitem_axis\u001b[0;34m(self, key, axis)\u001b[0m\n\u001b[1;32m   1298\u001b[0m     \u001b[38;5;28;01mif\u001b[39;00m \u001b[38;5;28mhasattr\u001b[39m(key, \u001b[38;5;124m\"\u001b[39m\u001b[38;5;124mndim\u001b[39m\u001b[38;5;124m\"\u001b[39m) \u001b[38;5;129;01mand\u001b[39;00m key\u001b[38;5;241m.\u001b[39mndim \u001b[38;5;241m>\u001b[39m \u001b[38;5;241m1\u001b[39m:\n\u001b[1;32m   1299\u001b[0m         \u001b[38;5;28;01mraise\u001b[39;00m \u001b[38;5;167;01mValueError\u001b[39;00m(\u001b[38;5;124m\"\u001b[39m\u001b[38;5;124mCannot index with multidimensional key\u001b[39m\u001b[38;5;124m\"\u001b[39m)\n\u001b[0;32m-> 1301\u001b[0m     \u001b[38;5;28;01mreturn\u001b[39;00m \u001b[38;5;28;43mself\u001b[39;49m\u001b[38;5;241;43m.\u001b[39;49m\u001b[43m_getitem_iterable\u001b[49m\u001b[43m(\u001b[49m\u001b[43mkey\u001b[49m\u001b[43m,\u001b[49m\u001b[43m \u001b[49m\u001b[43maxis\u001b[49m\u001b[38;5;241;43m=\u001b[39;49m\u001b[43maxis\u001b[49m\u001b[43m)\u001b[49m\n\u001b[1;32m   1303\u001b[0m \u001b[38;5;66;03m# nested tuple slicing\u001b[39;00m\n\u001b[1;32m   1304\u001b[0m \u001b[38;5;28;01mif\u001b[39;00m is_nested_tuple(key, labels):\n",
      "File \u001b[0;32m~/miniconda3/envs/orf8ko/lib/python3.10/site-packages/pandas/core/indexing.py:1239\u001b[0m, in \u001b[0;36m_LocIndexer._getitem_iterable\u001b[0;34m(self, key, axis)\u001b[0m\n\u001b[1;32m   1236\u001b[0m \u001b[38;5;28mself\u001b[39m\u001b[38;5;241m.\u001b[39m_validate_key(key, axis)\n\u001b[1;32m   1238\u001b[0m \u001b[38;5;66;03m# A collection of keys\u001b[39;00m\n\u001b[0;32m-> 1239\u001b[0m keyarr, indexer \u001b[38;5;241m=\u001b[39m \u001b[38;5;28;43mself\u001b[39;49m\u001b[38;5;241;43m.\u001b[39;49m\u001b[43m_get_listlike_indexer\u001b[49m\u001b[43m(\u001b[49m\u001b[43mkey\u001b[49m\u001b[43m,\u001b[49m\u001b[43m \u001b[49m\u001b[43maxis\u001b[49m\u001b[43m)\u001b[49m\n\u001b[1;32m   1240\u001b[0m \u001b[38;5;28;01mreturn\u001b[39;00m \u001b[38;5;28mself\u001b[39m\u001b[38;5;241m.\u001b[39mobj\u001b[38;5;241m.\u001b[39m_reindex_with_indexers(\n\u001b[1;32m   1241\u001b[0m     {axis: [keyarr, indexer]}, copy\u001b[38;5;241m=\u001b[39m\u001b[38;5;28;01mTrue\u001b[39;00m, allow_dups\u001b[38;5;241m=\u001b[39m\u001b[38;5;28;01mTrue\u001b[39;00m\n\u001b[1;32m   1242\u001b[0m )\n",
      "File \u001b[0;32m~/miniconda3/envs/orf8ko/lib/python3.10/site-packages/pandas/core/indexing.py:1432\u001b[0m, in \u001b[0;36m_LocIndexer._get_listlike_indexer\u001b[0;34m(self, key, axis)\u001b[0m\n\u001b[1;32m   1429\u001b[0m ax \u001b[38;5;241m=\u001b[39m \u001b[38;5;28mself\u001b[39m\u001b[38;5;241m.\u001b[39mobj\u001b[38;5;241m.\u001b[39m_get_axis(axis)\n\u001b[1;32m   1430\u001b[0m axis_name \u001b[38;5;241m=\u001b[39m \u001b[38;5;28mself\u001b[39m\u001b[38;5;241m.\u001b[39mobj\u001b[38;5;241m.\u001b[39m_get_axis_name(axis)\n\u001b[0;32m-> 1432\u001b[0m keyarr, indexer \u001b[38;5;241m=\u001b[39m \u001b[43max\u001b[49m\u001b[38;5;241;43m.\u001b[39;49m\u001b[43m_get_indexer_strict\u001b[49m\u001b[43m(\u001b[49m\u001b[43mkey\u001b[49m\u001b[43m,\u001b[49m\u001b[43m \u001b[49m\u001b[43maxis_name\u001b[49m\u001b[43m)\u001b[49m\n\u001b[1;32m   1434\u001b[0m \u001b[38;5;28;01mreturn\u001b[39;00m keyarr, indexer\n",
      "File \u001b[0;32m~/miniconda3/envs/orf8ko/lib/python3.10/site-packages/pandas/core/indexes/base.py:6111\u001b[0m, in \u001b[0;36mIndex._get_indexer_strict\u001b[0;34m(self, key, axis_name)\u001b[0m\n\u001b[1;32m   6109\u001b[0m     keyarr \u001b[38;5;241m=\u001b[39m \u001b[38;5;28mself\u001b[39m\u001b[38;5;241m.\u001b[39mreindex(keyarr)[\u001b[38;5;241m0\u001b[39m]\n\u001b[1;32m   6110\u001b[0m \u001b[38;5;28;01melse\u001b[39;00m:\n\u001b[0;32m-> 6111\u001b[0m     keyarr, indexer, new_indexer \u001b[38;5;241m=\u001b[39m \u001b[38;5;28;43mself\u001b[39;49m\u001b[38;5;241;43m.\u001b[39;49m\u001b[43m_reindex_non_unique\u001b[49m\u001b[43m(\u001b[49m\u001b[43mkeyarr\u001b[49m\u001b[43m)\u001b[49m\n\u001b[1;32m   6113\u001b[0m \u001b[38;5;28mself\u001b[39m\u001b[38;5;241m.\u001b[39m_raise_if_missing(keyarr, indexer, axis_name)\n\u001b[1;32m   6115\u001b[0m keyarr \u001b[38;5;241m=\u001b[39m \u001b[38;5;28mself\u001b[39m\u001b[38;5;241m.\u001b[39mtake(indexer)\n",
      "File \u001b[0;32m~/miniconda3/envs/orf8ko/lib/python3.10/site-packages/pandas/core/indexes/base.py:4516\u001b[0m, in \u001b[0;36mIndex._reindex_non_unique\u001b[0;34m(self, target)\u001b[0m\n\u001b[1;32m   4512\u001b[0m \u001b[38;5;28;01mif\u001b[39;00m \u001b[38;5;28mlen\u001b[39m(target) \u001b[38;5;241m==\u001b[39m \u001b[38;5;241m0\u001b[39m:\n\u001b[1;32m   4513\u001b[0m     \u001b[38;5;66;03m# GH#13691\u001b[39;00m\n\u001b[1;32m   4514\u001b[0m     \u001b[38;5;28;01mreturn\u001b[39;00m \u001b[38;5;28mself\u001b[39m[:\u001b[38;5;241m0\u001b[39m], np\u001b[38;5;241m.\u001b[39marray([], dtype\u001b[38;5;241m=\u001b[39mnp\u001b[38;5;241m.\u001b[39mintp), \u001b[38;5;28;01mNone\u001b[39;00m\n\u001b[0;32m-> 4516\u001b[0m indexer, missing \u001b[38;5;241m=\u001b[39m \u001b[38;5;28;43mself\u001b[39;49m\u001b[38;5;241;43m.\u001b[39;49m\u001b[43mget_indexer_non_unique\u001b[49m\u001b[43m(\u001b[49m\u001b[43mtarget\u001b[49m\u001b[43m)\u001b[49m\n\u001b[1;32m   4517\u001b[0m check \u001b[38;5;241m=\u001b[39m indexer \u001b[38;5;241m!=\u001b[39m \u001b[38;5;241m-\u001b[39m\u001b[38;5;241m1\u001b[39m\n\u001b[1;32m   4518\u001b[0m new_labels \u001b[38;5;241m=\u001b[39m \u001b[38;5;28mself\u001b[39m\u001b[38;5;241m.\u001b[39mtake(indexer[check])\n",
      "File \u001b[0;32m~/miniconda3/envs/orf8ko/lib/python3.10/site-packages/pandas/core/indexes/base.py:6072\u001b[0m, in \u001b[0;36mIndex.get_indexer_non_unique\u001b[0;34m(self, target)\u001b[0m\n\u001b[1;32m   6068\u001b[0m     \u001b[38;5;66;03m# Item \"IndexEngine\" of \"Union[IndexEngine, ExtensionEngine]\" has\u001b[39;00m\n\u001b[1;32m   6069\u001b[0m     \u001b[38;5;66;03m# no attribute \"_extract_level_codes\"\u001b[39;00m\n\u001b[1;32m   6070\u001b[0m     tgt_values \u001b[38;5;241m=\u001b[39m engine\u001b[38;5;241m.\u001b[39m_extract_level_codes(target)  \u001b[38;5;66;03m# type: ignore[union-attr]\u001b[39;00m\n\u001b[0;32m-> 6072\u001b[0m indexer, missing \u001b[38;5;241m=\u001b[39m \u001b[38;5;28;43mself\u001b[39;49m\u001b[38;5;241;43m.\u001b[39;49m\u001b[43m_engine\u001b[49m\u001b[38;5;241;43m.\u001b[39;49m\u001b[43mget_indexer_non_unique\u001b[49m\u001b[43m(\u001b[49m\u001b[43mtgt_values\u001b[49m\u001b[43m)\u001b[49m\n\u001b[1;32m   6073\u001b[0m \u001b[38;5;28;01mreturn\u001b[39;00m ensure_platform_int(indexer), ensure_platform_int(missing)\n",
      "File \u001b[0;32m~/miniconda3/envs/orf8ko/lib/python3.10/site-packages/pandas/_libs/index.pyx:427\u001b[0m, in \u001b[0;36mpandas._libs.index.IndexEngine.get_indexer_non_unique\u001b[0;34m()\u001b[0m\n",
      "File \u001b[0;32m<__array_function__ internals>:177\u001b[0m, in \u001b[0;36mresize\u001b[0;34m(*args, **kwargs)\u001b[0m\n",
      "\u001b[0;31mKeyboardInterrupt\u001b[0m: "
     ]
    }
   ],
   "source": [
    "counts = draw_counts_new(samples,recoded)"
   ]
  },
  {
   "cell_type": "code",
   "execution_count": 185,
   "id": "c5bd3b27-4c97-4a98-b883-6c1d1264e51c",
   "metadata": {},
   "outputs": [
    {
     "ename": "AttributeError",
     "evalue": "'dict' object has no attribute 'head'",
     "output_type": "error",
     "traceback": [
      "\u001b[0;31m---------------------------------------------------------------------------\u001b[0m",
      "\u001b[0;31mAttributeError\u001b[0m                            Traceback (most recent call last)",
      "Cell \u001b[0;32mIn[185], line 1\u001b[0m\n\u001b[0;32m----> 1\u001b[0m \u001b[43msamples\u001b[49m\u001b[38;5;241;43m.\u001b[39;49m\u001b[43mhead\u001b[49m()\n",
      "\u001b[0;31mAttributeError\u001b[0m: 'dict' object has no attribute 'head'"
     ]
    }
   ],
   "source": [
    "samples.head()"
   ]
  },
  {
   "cell_type": "code",
   "execution_count": 184,
   "id": "66e570ab-0099-4ade-9ce9-a577aef99b19",
   "metadata": {},
   "outputs": [
    {
     "data": {
      "text/plain": [
       "10000"
      ]
     },
     "execution_count": 184,
     "metadata": {},
     "output_type": "execute_result"
    }
   ],
   "source": [
    "len(samples)"
   ]
  },
  {
   "cell_type": "code",
   "execution_count": 169,
   "id": "96d3e386-bb7a-4d64-b499-8992d3c8677a",
   "metadata": {},
   "outputs": [
    {
     "name": "stdout",
     "output_type": "stream",
     "text": [
      "[<class 'int'>, <class 'int'>, <class 'int'>, <class 'int'>, <class 'int'>]\n"
     ]
    }
   ],
   "source": [
    "print([type(k) for k in samples.keys() if k<5])"
   ]
  },
  {
   "cell_type": "code",
   "execution_count": 170,
   "id": "b4593b9b-9b61-488d-ae2c-fba7be8c4303",
   "metadata": {},
   "outputs": [
    {
     "name": "stdout",
     "output_type": "stream",
     "text": [
      "[<class 'int'>, <class 'int'>, <class 'int'>, <class 'int'>, <class 'int'>]\n"
     ]
    }
   ],
   "source": [
    "print([type(v[0]) for k,v in samples.items() if k<5])"
   ]
  },
  {
   "cell_type": "code",
   "execution_count": 159,
   "id": "fc0252e8-05c7-4652-9c35-b1a89f2ca9c4",
   "metadata": {},
   "outputs": [
    {
     "data": {
      "text/html": [
       "<div>\n",
       "<style scoped>\n",
       "    .dataframe tbody tr th:only-of-type {\n",
       "        vertical-align: middle;\n",
       "    }\n",
       "\n",
       "    .dataframe tbody tr th {\n",
       "        vertical-align: top;\n",
       "    }\n",
       "\n",
       "    .dataframe thead th {\n",
       "        text-align: right;\n",
       "    }\n",
       "</style>\n",
       "<table border=\"1\" class=\"dataframe\">\n",
       "  <thead>\n",
       "    <tr style=\"text-align: right;\">\n",
       "      <th></th>\n",
       "      <th>id</th>\n",
       "      <th>gene</th>\n",
       "      <th>mut_type</th>\n",
       "    </tr>\n",
       "  </thead>\n",
       "  <tbody>\n",
       "    <tr>\n",
       "      <th>0</th>\n",
       "      <td>0</td>\n",
       "      <td>ORF1b</td>\n",
       "      <td>missense</td>\n",
       "    </tr>\n",
       "    <tr>\n",
       "      <th>1</th>\n",
       "      <td>1</td>\n",
       "      <td>ORF1a</td>\n",
       "      <td>synonymous</td>\n",
       "    </tr>\n",
       "    <tr>\n",
       "      <th>2</th>\n",
       "      <td>2</td>\n",
       "      <td>ORF1a</td>\n",
       "      <td>synonymous</td>\n",
       "    </tr>\n",
       "    <tr>\n",
       "      <th>3</th>\n",
       "      <td>3</td>\n",
       "      <td>ORF1a</td>\n",
       "      <td>missense</td>\n",
       "    </tr>\n",
       "    <tr>\n",
       "      <th>4</th>\n",
       "      <td>3</td>\n",
       "      <td>ORF1a</td>\n",
       "      <td>synonymous</td>\n",
       "    </tr>\n",
       "  </tbody>\n",
       "</table>\n",
       "</div>"
      ],
      "text/plain": [
       "   id   gene    mut_type\n",
       "0   0  ORF1b    missense\n",
       "1   1  ORF1a  synonymous\n",
       "2   2  ORF1a  synonymous\n",
       "3   3  ORF1a    missense\n",
       "4   3  ORF1a  synonymous"
      ]
     },
     "execution_count": 159,
     "metadata": {},
     "output_type": "execute_result"
    }
   ],
   "source": [
    "recoded.head()"
   ]
  },
  {
   "cell_type": "code",
   "execution_count": 116,
   "id": "93d4b224-00f3-4b55-bd5e-07ca0f057fdb",
   "metadata": {},
   "outputs": [
    {
     "name": "stdout",
     "output_type": "stream",
     "text": [
      "The memory_profiler extension is already loaded. To reload it, use:\n",
      "  %reload_ext memory_profiler\n"
     ]
    }
   ],
   "source": [
    "%load_ext memory_profiler"
   ]
  },
  {
   "cell_type": "code",
   "execution_count": 202,
   "id": "7c971a5f-f737-4dc1-987a-e0ebb39bf931",
   "metadata": {},
   "outputs": [
    {
     "name": "stdout",
     "output_type": "stream",
     "text": [
      "*** KeyboardInterrupt exception caught in code being profiled."
     ]
    },
    {
     "data": {
      "text/plain": [
       "Timer unit: 1e-09 s\n",
       "\n",
       "Total time: 3.69131 s\n",
       "File: /var/folders/b5/2grxct1x69395r8j6vkk07bc0000gp/T/ipykernel_28694/594931291.py\n",
       "Function: run_old at line 119\n",
       "\n",
       "Line #      Hits         Time  Per Hit   % Time  Line Contents\n",
       "==============================================================\n",
       "   119                                           def run_old(df,n,genes):\n",
       "   120         1 2922750000.0 2922750000.0     79.2      sampled = draw_samples(df,n)\n",
       "   121         1  768557000.0 768557000.0     20.8      gene_sampled = draw_genes(sampled,genes,df)\n",
       "   122                                               counted = draw_counts(gene_sampled,genes,df)\n",
       "   123                                               return counted"
      ]
     },
     "metadata": {},
     "output_type": "display_data"
    }
   ],
   "source": [
    "lprun -f run_old counted = run_old(new_final_muts.iloc[0:5000,:],1000,all_genes)"
   ]
  },
  {
   "cell_type": "code",
   "execution_count": 217,
   "id": "0df27c47-4402-4032-8ea5-c07eac2b4bcf",
   "metadata": {},
   "outputs": [
    {
     "name": "stdout",
     "output_type": "stream",
     "text": [
      "starting iteration: 0\n",
      "*** KeyboardInterrupt exception caught in code being profiled."
     ]
    },
    {
     "data": {
      "text/plain": [
       "Timer unit: 1e-09 s\n",
       "\n",
       "Total time: 18.0458 s\n",
       "File: /var/folders/b5/2grxct1x69395r8j6vkk07bc0000gp/T/ipykernel_28694/835523423.py\n",
       "Function: run_new at line 127\n",
       "\n",
       "Line #      Hits         Time  Per Hit   % Time  Line Contents\n",
       "==============================================================\n",
       "   127                                           def run_new(df,n):\n",
       "   128         1 1253281000.0 1253281000.0      6.9      sampled = draw_samples_new(df,n)\n",
       "   129         1 16792551000.0 16792551000.0     93.1      counted = draw_counts_new(sampled,df)\n",
       "   130                                               return counted"
      ]
     },
     "metadata": {},
     "output_type": "display_data"
    }
   ],
   "source": [
    "lprun -f run_new counted = run_new(new_final_muts,1)"
   ]
  },
  {
   "cell_type": "code",
   "execution_count": 213,
   "id": "500a2601-318a-4a4c-98a0-95fd294561a1",
   "metadata": {},
   "outputs": [],
   "source": [
    "%load_ext autoreload\n",
    "%autoreload 2"
   ]
  },
  {
   "cell_type": "code",
   "execution_count": 218,
   "id": "fc4d0a67-407b-4ae3-8800-7c7ef609b2b8",
   "metadata": {},
   "outputs": [],
   "source": [
    "from test import run_new"
   ]
  },
  {
   "cell_type": "code",
   "execution_count": 219,
   "id": "87b98e57-0b14-4868-ac6a-40430b5204d3",
   "metadata": {},
   "outputs": [
    {
     "name": "stdout",
     "output_type": "stream",
     "text": [
      "\n"
     ]
    },
    {
     "data": {
      "text/plain": [
       "Filename: /Users/cwagner2/Work/projects/covid/long-deletions/notebooks/test.py\n",
       "\n",
       "Line #    Mem usage    Increment  Occurrences   Line Contents\n",
       "=============================================================\n",
       "    79                                         def draw_counts_test(samples,df):\n",
       "    80                                             '''\n",
       "    81                                             Returns df of counts per gene by mutation type for each iteration.\n",
       "    82                                             '''\n",
       "    83                                             df = df.set_index('id')\n",
       "    84                                             keys = list(samples.keys())\n",
       "    85                                             for i, k in enumerate(keys[0:10]):\n",
       "    86                                                 filt = df.loc[samples[k],:]\n",
       "    87                                                 count = filt.groupby(by=['gene','mut_type']).size().reset_index()\n",
       "    88                                                 count.rename(columns={0:'count'},inplace=True)\n",
       "    89                                                 count['iteration'] = k\n",
       "    90    156.5 MiB    156.5 MiB           1           if i == 0:\n",
       "    91   1321.7 MiB   1165.2 MiB           1               bootstrap = count\n",
       "    92   3844.0 MiB   2522.3 MiB           1           else:\n",
       "    93   3844.1 MiB      0.2 MiB           1               bootstrap = pd.concat([bootstrap,count])\n",
       "    94                                             return bootstrap"
      ]
     },
     "metadata": {},
     "output_type": "display_data"
    }
   ],
   "source": [
    "mprun -f run_new counted = run_new(new_final_muts,10)"
   ]
  },
  {
   "cell_type": "code",
   "execution_count": 35,
   "id": "0e1ad751-de8c-474f-8677-5f9c17f20719",
   "metadata": {},
   "outputs": [
    {
     "ename": "NameError",
     "evalue": "name 'counted' is not defined",
     "output_type": "error",
     "traceback": [
      "\u001b[0;31m---------------------------------------------------------------------------\u001b[0m",
      "\u001b[0;31mNameError\u001b[0m                                 Traceback (most recent call last)",
      "Cell \u001b[0;32mIn[35], line 1\u001b[0m\n\u001b[0;32m----> 1\u001b[0m \u001b[43mcounted\u001b[49m\n",
      "\u001b[0;31mNameError\u001b[0m: name 'counted' is not defined"
     ]
    }
   ],
   "source": [
    "counted"
   ]
  },
  {
   "cell_type": "code",
   "execution_count": 207,
   "id": "72e88998-8862-4e95-88b8-802fff722977",
   "metadata": {},
   "outputs": [
    {
     "data": {
      "text/html": [
       "<div>\n",
       "<style scoped>\n",
       "    .dataframe tbody tr th:only-of-type {\n",
       "        vertical-align: middle;\n",
       "    }\n",
       "\n",
       "    .dataframe tbody tr th {\n",
       "        vertical-align: top;\n",
       "    }\n",
       "\n",
       "    .dataframe thead th {\n",
       "        text-align: right;\n",
       "    }\n",
       "</style>\n",
       "<table border=\"1\" class=\"dataframe\">\n",
       "  <thead>\n",
       "    <tr style=\"text-align: right;\">\n",
       "      <th></th>\n",
       "      <th></th>\n",
       "      <th>count</th>\n",
       "      <th>iteration</th>\n",
       "    </tr>\n",
       "    <tr>\n",
       "      <th>gene</th>\n",
       "      <th>mut_type</th>\n",
       "      <th></th>\n",
       "      <th></th>\n",
       "    </tr>\n",
       "  </thead>\n",
       "  <tbody>\n",
       "    <tr>\n",
       "      <th rowspan=\"4\" valign=\"top\">E</th>\n",
       "      <th>missense</th>\n",
       "      <td>119731</td>\n",
       "      <td>10</td>\n",
       "    </tr>\n",
       "    <tr>\n",
       "      <th>nonsense</th>\n",
       "      <td>83</td>\n",
       "      <td>10</td>\n",
       "    </tr>\n",
       "    <tr>\n",
       "      <th>synonymous</th>\n",
       "      <td>72624</td>\n",
       "      <td>10</td>\n",
       "    </tr>\n",
       "    <tr>\n",
       "      <th>undoStop</th>\n",
       "      <td>0</td>\n",
       "      <td>10</td>\n",
       "    </tr>\n",
       "    <tr>\n",
       "      <th rowspan=\"4\" valign=\"top\">M</th>\n",
       "      <th>missense</th>\n",
       "      <td>318786</td>\n",
       "      <td>10</td>\n",
       "    </tr>\n",
       "    <tr>\n",
       "      <th>nonsense</th>\n",
       "      <td>612</td>\n",
       "      <td>10</td>\n",
       "    </tr>\n",
       "    <tr>\n",
       "      <th>synonymous</th>\n",
       "      <td>403134</td>\n",
       "      <td>10</td>\n",
       "    </tr>\n",
       "    <tr>\n",
       "      <th>undoStop</th>\n",
       "      <td>11</td>\n",
       "      <td>10</td>\n",
       "    </tr>\n",
       "    <tr>\n",
       "      <th rowspan=\"4\" valign=\"top\">N</th>\n",
       "      <th>missense</th>\n",
       "      <td>1218276</td>\n",
       "      <td>10</td>\n",
       "    </tr>\n",
       "    <tr>\n",
       "      <th>nonsense</th>\n",
       "      <td>1588</td>\n",
       "      <td>10</td>\n",
       "    </tr>\n",
       "    <tr>\n",
       "      <th>synonymous</th>\n",
       "      <td>764724</td>\n",
       "      <td>10</td>\n",
       "    </tr>\n",
       "    <tr>\n",
       "      <th>undoStop</th>\n",
       "      <td>70</td>\n",
       "      <td>10</td>\n",
       "    </tr>\n",
       "    <tr>\n",
       "      <th rowspan=\"4\" valign=\"top\">ORF1a</th>\n",
       "      <th>missense</th>\n",
       "      <td>6644322</td>\n",
       "      <td>10</td>\n",
       "    </tr>\n",
       "    <tr>\n",
       "      <th>nonsense</th>\n",
       "      <td>4354</td>\n",
       "      <td>10</td>\n",
       "    </tr>\n",
       "    <tr>\n",
       "      <th>synonymous</th>\n",
       "      <td>5031437</td>\n",
       "      <td>10</td>\n",
       "    </tr>\n",
       "    <tr>\n",
       "      <th>undoStop</th>\n",
       "      <td>145</td>\n",
       "      <td>10</td>\n",
       "    </tr>\n",
       "    <tr>\n",
       "      <th rowspan=\"4\" valign=\"top\">ORF1b</th>\n",
       "      <th>missense</th>\n",
       "      <td>2960246</td>\n",
       "      <td>10</td>\n",
       "    </tr>\n",
       "    <tr>\n",
       "      <th>nonsense</th>\n",
       "      <td>2102</td>\n",
       "      <td>10</td>\n",
       "    </tr>\n",
       "    <tr>\n",
       "      <th>synonymous</th>\n",
       "      <td>2651689</td>\n",
       "      <td>10</td>\n",
       "    </tr>\n",
       "    <tr>\n",
       "      <th>undoStop</th>\n",
       "      <td>47</td>\n",
       "      <td>10</td>\n",
       "    </tr>\n",
       "    <tr>\n",
       "      <th rowspan=\"4\" valign=\"top\">ORF3a</th>\n",
       "      <th>missense</th>\n",
       "      <td>981491</td>\n",
       "      <td>10</td>\n",
       "    </tr>\n",
       "    <tr>\n",
       "      <th>nonsense</th>\n",
       "      <td>8447</td>\n",
       "      <td>10</td>\n",
       "    </tr>\n",
       "    <tr>\n",
       "      <th>synonymous</th>\n",
       "      <td>385281</td>\n",
       "      <td>10</td>\n",
       "    </tr>\n",
       "    <tr>\n",
       "      <th>undoStop</th>\n",
       "      <td>92</td>\n",
       "      <td>10</td>\n",
       "    </tr>\n",
       "    <tr>\n",
       "      <th rowspan=\"4\" valign=\"top\">ORF6</th>\n",
       "      <th>missense</th>\n",
       "      <td>140390</td>\n",
       "      <td>10</td>\n",
       "    </tr>\n",
       "    <tr>\n",
       "      <th>nonsense</th>\n",
       "      <td>8289</td>\n",
       "      <td>10</td>\n",
       "    </tr>\n",
       "    <tr>\n",
       "      <th>synonymous</th>\n",
       "      <td>99788</td>\n",
       "      <td>10</td>\n",
       "    </tr>\n",
       "    <tr>\n",
       "      <th>undoStop</th>\n",
       "      <td>140</td>\n",
       "      <td>10</td>\n",
       "    </tr>\n",
       "    <tr>\n",
       "      <th rowspan=\"4\" valign=\"top\">ORF7a</th>\n",
       "      <th>missense</th>\n",
       "      <td>551115</td>\n",
       "      <td>10</td>\n",
       "    </tr>\n",
       "    <tr>\n",
       "      <th>nonsense</th>\n",
       "      <td>43347</td>\n",
       "      <td>10</td>\n",
       "    </tr>\n",
       "    <tr>\n",
       "      <th>synonymous</th>\n",
       "      <td>171771</td>\n",
       "      <td>10</td>\n",
       "    </tr>\n",
       "    <tr>\n",
       "      <th>undoStop</th>\n",
       "      <td>1102</td>\n",
       "      <td>10</td>\n",
       "    </tr>\n",
       "    <tr>\n",
       "      <th rowspan=\"4\" valign=\"top\">ORF7b</th>\n",
       "      <th>missense</th>\n",
       "      <td>110782</td>\n",
       "      <td>10</td>\n",
       "    </tr>\n",
       "    <tr>\n",
       "      <th>nonsense</th>\n",
       "      <td>8281</td>\n",
       "      <td>10</td>\n",
       "    </tr>\n",
       "    <tr>\n",
       "      <th>synonymous</th>\n",
       "      <td>41580</td>\n",
       "      <td>10</td>\n",
       "    </tr>\n",
       "    <tr>\n",
       "      <th>undoStop</th>\n",
       "      <td>223</td>\n",
       "      <td>10</td>\n",
       "    </tr>\n",
       "    <tr>\n",
       "      <th rowspan=\"4\" valign=\"top\">ORF8</th>\n",
       "      <th>missense</th>\n",
       "      <td>426882</td>\n",
       "      <td>10</td>\n",
       "    </tr>\n",
       "    <tr>\n",
       "      <th>nonsense</th>\n",
       "      <td>46653</td>\n",
       "      <td>10</td>\n",
       "    </tr>\n",
       "    <tr>\n",
       "      <th>synonymous</th>\n",
       "      <td>119743</td>\n",
       "      <td>10</td>\n",
       "    </tr>\n",
       "    <tr>\n",
       "      <th>undoStop</th>\n",
       "      <td>22629</td>\n",
       "      <td>10</td>\n",
       "    </tr>\n",
       "    <tr>\n",
       "      <th rowspan=\"4\" valign=\"top\">ORF9b</th>\n",
       "      <th>missense</th>\n",
       "      <td>317472</td>\n",
       "      <td>10</td>\n",
       "    </tr>\n",
       "    <tr>\n",
       "      <th>nonsense</th>\n",
       "      <td>6774</td>\n",
       "      <td>10</td>\n",
       "    </tr>\n",
       "    <tr>\n",
       "      <th>synonymous</th>\n",
       "      <td>101057</td>\n",
       "      <td>10</td>\n",
       "    </tr>\n",
       "    <tr>\n",
       "      <th>undoStop</th>\n",
       "      <td>274</td>\n",
       "      <td>10</td>\n",
       "    </tr>\n",
       "    <tr>\n",
       "      <th rowspan=\"4\" valign=\"top\">S</th>\n",
       "      <th>missense</th>\n",
       "      <td>2391589</td>\n",
       "      <td>10</td>\n",
       "    </tr>\n",
       "    <tr>\n",
       "      <th>nonsense</th>\n",
       "      <td>1800</td>\n",
       "      <td>10</td>\n",
       "    </tr>\n",
       "    <tr>\n",
       "      <th>synonymous</th>\n",
       "      <td>1367341</td>\n",
       "      <td>10</td>\n",
       "    </tr>\n",
       "    <tr>\n",
       "      <th>undoStop</th>\n",
       "      <td>43</td>\n",
       "      <td>10</td>\n",
       "    </tr>\n",
       "    <tr>\n",
       "      <th rowspan=\"4\" valign=\"top\">S1</th>\n",
       "      <th>missense</th>\n",
       "      <td>1487222</td>\n",
       "      <td>10</td>\n",
       "    </tr>\n",
       "    <tr>\n",
       "      <th>nonsense</th>\n",
       "      <td>1174</td>\n",
       "      <td>10</td>\n",
       "    </tr>\n",
       "    <tr>\n",
       "      <th>synonymous</th>\n",
       "      <td>770523</td>\n",
       "      <td>10</td>\n",
       "    </tr>\n",
       "    <tr>\n",
       "      <th>undoStop</th>\n",
       "      <td>43</td>\n",
       "      <td>10</td>\n",
       "    </tr>\n",
       "  </tbody>\n",
       "</table>\n",
       "</div>"
      ],
      "text/plain": [
       "                    count  iteration\n",
       "gene  mut_type                      \n",
       "E     missense     119731         10\n",
       "      nonsense         83         10\n",
       "      synonymous    72624         10\n",
       "      undoStop          0         10\n",
       "M     missense     318786         10\n",
       "      nonsense        612         10\n",
       "      synonymous   403134         10\n",
       "      undoStop         11         10\n",
       "N     missense    1218276         10\n",
       "      nonsense       1588         10\n",
       "      synonymous   764724         10\n",
       "      undoStop         70         10\n",
       "ORF1a missense    6644322         10\n",
       "      nonsense       4354         10\n",
       "      synonymous  5031437         10\n",
       "      undoStop        145         10\n",
       "ORF1b missense    2960246         10\n",
       "      nonsense       2102         10\n",
       "      synonymous  2651689         10\n",
       "      undoStop         47         10\n",
       "ORF3a missense     981491         10\n",
       "      nonsense       8447         10\n",
       "      synonymous   385281         10\n",
       "      undoStop         92         10\n",
       "ORF6  missense     140390         10\n",
       "      nonsense       8289         10\n",
       "      synonymous    99788         10\n",
       "      undoStop        140         10\n",
       "ORF7a missense     551115         10\n",
       "      nonsense      43347         10\n",
       "      synonymous   171771         10\n",
       "      undoStop       1102         10\n",
       "ORF7b missense     110782         10\n",
       "      nonsense       8281         10\n",
       "      synonymous    41580         10\n",
       "      undoStop        223         10\n",
       "ORF8  missense     426882         10\n",
       "      nonsense      46653         10\n",
       "      synonymous   119743         10\n",
       "      undoStop      22629         10\n",
       "ORF9b missense     317472         10\n",
       "      nonsense       6774         10\n",
       "      synonymous   101057         10\n",
       "      undoStop        274         10\n",
       "S     missense    2391589         10\n",
       "      nonsense       1800         10\n",
       "      synonymous  1367341         10\n",
       "      undoStop         43         10\n",
       "S1    missense    1487222         10\n",
       "      nonsense       1174         10\n",
       "      synonymous   770523         10\n",
       "      undoStop         43         10"
      ]
     },
     "execution_count": 207,
     "metadata": {},
     "output_type": "execute_result"
    }
   ],
   "source": [
    "counted.groupby(by=['gene','mut_type']).sum()"
   ]
  },
  {
   "cell_type": "code",
   "execution_count": 130,
   "id": "944e27b2-c4d9-45c3-922b-aad8edcdcb8d",
   "metadata": {},
   "outputs": [
    {
     "data": {
      "text/plain": [
       "3422474"
      ]
     },
     "execution_count": 130,
     "metadata": {},
     "output_type": "execute_result"
    }
   ],
   "source": [
    "len(new_final_muts['node_id'].unique())"
   ]
  },
  {
   "cell_type": "code",
   "execution_count": 132,
   "id": "184b94be-efb3-4fdd-92a9-4142517b279f",
   "metadata": {},
   "outputs": [
    {
     "name": "stdout",
     "output_type": "stream",
     "text": [
      "*** KeyboardInterrupt exception caught in code being profiled.\n"
     ]
    },
    {
     "data": {
      "text/plain": [
       "Filename: /Users/cwagner2/Work/projects/covid/long-deletions/notebooks/test.py\n",
       "\n",
       "Line #    Mem usage    Increment  Occurrences   Line Contents\n",
       "=============================================================\n",
       "    90    103.6 MiB    103.6 MiB           1   def run_new(df,n):\n",
       "    91    872.9 MiB    769.4 MiB           1       sampled = draw_samples_new(df,n)\n",
       "    92    785.2 MiB    -87.7 MiB           1       counted = draw_counts_new(sampled,df)\n",
       "    93                                             return counted"
      ]
     },
     "metadata": {},
     "output_type": "display_data"
    }
   ],
   "source": [
    "mprun -f run_new counted = run_new(new_final_muts.iloc[0:50000,:],10000)"
   ]
  },
  {
   "cell_type": "code",
   "execution_count": 144,
   "id": "3bc61a35-f691-4c36-a50e-0f44d2916e56",
   "metadata": {},
   "outputs": [
    {
     "name": "stdout",
     "output_type": "stream",
     "text": [
      "\n"
     ]
    },
    {
     "data": {
      "text/plain": [
       "Filename: /Users/cwagner2/Work/projects/covid/long-deletions/notebooks/test.py\n",
       "\n",
       "Line #    Mem usage    Increment  Occurrences   Line Contents\n",
       "=============================================================\n",
       "    90    103.3 MiB    103.3 MiB           1   def run_new(df,n):\n",
       "    91    110.8 MiB      7.5 MiB           1       sampled = draw_samples_new(df,n)\n",
       "    92    151.4 MiB     40.6 MiB           1       counted = draw_counts_new(sampled,df)\n",
       "    93    151.4 MiB      0.0 MiB           1       return counted"
      ]
     },
     "metadata": {},
     "output_type": "display_data"
    }
   ],
   "source": [
    "mprun -f run_new counted = run_new(new_final_muts.iloc[0:50,:],100)"
   ]
  },
  {
   "cell_type": "code",
   "execution_count": 145,
   "id": "5b798f3d-1eda-4715-8b5a-01f551b99e94",
   "metadata": {},
   "outputs": [
    {
     "name": "stdout",
     "output_type": "stream",
     "text": [
      "\n"
     ]
    },
    {
     "data": {
      "text/plain": [
       "Filename: /Users/cwagner2/Work/projects/covid/long-deletions/notebooks/test.py\n",
       "\n",
       "Line #    Mem usage    Increment  Occurrences   Line Contents\n",
       "=============================================================\n",
       "    90    154.6 MiB    154.6 MiB           1   def run_new(df,n):\n",
       "    91    156.4 MiB      1.9 MiB           1       sampled = draw_samples_new(df,n)\n",
       "    92    159.8 MiB      3.3 MiB           1       counted = draw_counts_new(sampled,df)\n",
       "    93    159.9 MiB      0.1 MiB           1       return counted"
      ]
     },
     "metadata": {},
     "output_type": "display_data"
    }
   ],
   "source": [
    "mprun -f run_new counted = run_new(new_final_muts.iloc[0:50,:],1000)"
   ]
  },
  {
   "cell_type": "code",
   "execution_count": 146,
   "id": "17fd95d1-1fe1-4f74-8424-bba534610b7b",
   "metadata": {},
   "outputs": [
    {
     "name": "stdout",
     "output_type": "stream",
     "text": [
      "\n"
     ]
    },
    {
     "data": {
      "text/plain": [
       "Filename: /Users/cwagner2/Work/projects/covid/long-deletions/notebooks/test.py\n",
       "\n",
       "Line #    Mem usage    Increment  Occurrences   Line Contents\n",
       "=============================================================\n",
       "    90    196.6 MiB    196.6 MiB           1   def run_new(df,n):\n",
       "    91    198.3 MiB      1.7 MiB           1       sampled = draw_samples_new(df,n)\n",
       "    92    203.0 MiB      4.8 MiB           1       counted = draw_counts_new(sampled,df)\n",
       "    93    203.0 MiB      0.0 MiB           1       return counted"
      ]
     },
     "metadata": {},
     "output_type": "display_data"
    }
   ],
   "source": [
    "mprun -f run_new counted = run_new(new_final_muts.iloc[0:500,:],100)"
   ]
  },
  {
   "cell_type": "code",
   "execution_count": 147,
   "id": "bd95d1a2-d300-46ae-93b6-24955457f736",
   "metadata": {},
   "outputs": [
    {
     "name": "stdout",
     "output_type": "stream",
     "text": [
      "\n"
     ]
    },
    {
     "data": {
      "text/plain": [
       "Filename: /Users/cwagner2/Work/projects/covid/long-deletions/notebooks/test.py\n",
       "\n",
       "Line #    Mem usage    Increment  Occurrences   Line Contents\n",
       "=============================================================\n",
       "    90    203.3 MiB    203.3 MiB           1   def run_new(df,n):\n",
       "    91    209.9 MiB      6.7 MiB           1       sampled = draw_samples_new(df,n)\n",
       "    92    224.9 MiB     15.0 MiB           1       counted = draw_counts_new(sampled,df)\n",
       "    93    224.9 MiB      0.0 MiB           1       return counted"
      ]
     },
     "metadata": {},
     "output_type": "display_data"
    }
   ],
   "source": [
    "mprun -f run_new counted = run_new(new_final_muts.iloc[0:500,:],1000)"
   ]
  },
  {
   "cell_type": "code",
   "execution_count": 149,
   "id": "1d8d1894-c4ae-482a-b516-85030ad55050",
   "metadata": {},
   "outputs": [
    {
     "name": "stdout",
     "output_type": "stream",
     "text": [
      "\n"
     ]
    },
    {
     "data": {
      "text/plain": [
       "Filename: /Users/cwagner2/Work/projects/covid/long-deletions/notebooks/test.py\n",
       "\n",
       "Line #    Mem usage    Increment  Occurrences   Line Contents\n",
       "=============================================================\n",
       "    90    103.0 MiB    103.0 MiB           1   def run_new(df,n):\n",
       "    91    774.8 MiB    671.9 MiB           1       sampled = draw_samples_new(df,n)\n",
       "    92   1746.4 MiB    971.6 MiB           1       counted = draw_counts_new(sampled,df)\n",
       "    93   1746.5 MiB      0.1 MiB           1       return counted"
      ]
     },
     "metadata": {},
     "output_type": "display_data"
    }
   ],
   "source": [
    "mprun -f run_new counted = run_new(new_final_muts.iloc[0:100000,:],1000)"
   ]
  },
  {
   "cell_type": "code",
   "execution_count": null,
   "id": "34a2c9c0-4eca-4ba6-bd19-08a12234ac76",
   "metadata": {},
   "outputs": [],
   "source": []
  },
  {
   "cell_type": "code",
   "execution_count": 108,
   "id": "031d53ec-1141-466e-a982-23d28af651fa",
   "metadata": {},
   "outputs": [
    {
     "data": {
      "text/plain": [
       "Timer unit: 1e-09 s\n",
       "\n",
       "Total time: 0.14607 s\n",
       "File: /var/folders/b5/2grxct1x69395r8j6vkk07bc0000gp/T/ipykernel_28694/2478551183.py\n",
       "Function: draw_samples_new at line 16\n",
       "\n",
       "Line #      Hits         Time  Per Hit   % Time  Line Contents\n",
       "==============================================================\n",
       "    16                                           def draw_samples_new(df,n):\n",
       "    17                                               '''\n",
       "    18                                               Draws random samples with replacement of node ids for bootstrap.\n",
       "    19                                               Returns indexes of random samples.\n",
       "    20                                               '''\n",
       "    21         1     425000.0 425000.0      0.3      ids = df['node_id'].unique()\n",
       "    22         1       1000.0   1000.0      0.0      length = len(ids)\n",
       "    23         1  145643000.0 145643000.0     99.7      sample_ids = {iterat:choices(ids,k=length) for iterat in range(n)}\n",
       "    24         1       1000.0   1000.0      0.0      return sample_ids"
      ]
     },
     "metadata": {},
     "output_type": "display_data"
    }
   ],
   "source": [
    "lprun -f draw_samples_new samples = draw_samples_new(new_final_muts.iloc[0:1000,:],1000)"
   ]
  },
  {
   "cell_type": "code",
   "execution_count": 46,
   "id": "7689fa2a-8187-464e-9410-489ab1b06418",
   "metadata": {},
   "outputs": [
    {
     "data": {
      "text/plain": [
       "Timer unit: 1e-09 s\n",
       "\n",
       "Total time: 55.3704 s\n",
       "File: /var/folders/b5/2grxct1x69395r8j6vkk07bc0000gp/T/ipykernel_28694/2588227640.py\n",
       "Function: draw_samples at line 30\n",
       "\n",
       "Line #      Hits         Time  Per Hit   % Time  Line Contents\n",
       "==============================================================\n",
       "    30                                           def draw_samples(df,n):\n",
       "    31                                               '''\n",
       "    32                                               Draws random samples with replacement of node ids for bootstrap.\n",
       "    33                                               Returns indexes of random samples.\n",
       "    34                                               '''\n",
       "    35         1   17741000.0 17741000.0      0.0      ids = df['node_id'].unique()\n",
       "    36         1 55186231000.0 55186231000.0     99.7      idxs = {ID:np.flatnonzero(df['node_id']==ID) for ID in ids}\n",
       "    37         1       4000.0   4000.0      0.0      length  = len(ids)\n",
       "    38         1   58932000.0 58932000.0      0.1      sample_ids = {iterat:choices(ids,k=length) for iterat in range(n)}\n",
       "    39         1  107468000.0 107468000.0      0.2      sample_idxs = {iterat:np.concatenate([idxs[ID] for ID in sample_ids[iterat]]) for iterat in range(n)}\n",
       "    40         1       1000.0   1000.0      0.0      return sample_idxs"
      ]
     },
     "metadata": {},
     "output_type": "display_data"
    }
   ],
   "source": [
    "lprun -f draw_samples samples = draw_samples(new_final_muts.iloc[0:50000,:],10)"
   ]
  },
  {
   "cell_type": "code",
   "execution_count": 158,
   "id": "8b0ddd9a-ca79-4a56-b3e2-18c711034f9e",
   "metadata": {},
   "outputs": [],
   "source": [
    "gene_samples = draw_genes(samples,all_genes,final_muts)"
   ]
  },
  {
   "cell_type": "code",
   "execution_count": 159,
   "id": "fb7c1771-0a29-42d1-9874-3a0325d31179",
   "metadata": {},
   "outputs": [],
   "source": [
    "counts = draw_counts(gene_samples,all_genes,final_muts)"
   ]
  },
  {
   "cell_type": "code",
   "execution_count": 189,
   "id": "1364f771-e19a-4f0b-bf9b-685265a0d17a",
   "metadata": {},
   "outputs": [],
   "source": [
    "counts1 = draw_counts_test(samples,recoded)"
   ]
  },
  {
   "cell_type": "code",
   "execution_count": 192,
   "id": "54fea4a5-2e39-4d37-b465-ac0a3bfb6062",
   "metadata": {},
   "outputs": [],
   "source": [
    "counts2 = draw_counts_test(samples,recoded)"
   ]
  },
  {
   "cell_type": "code",
   "execution_count": 196,
   "id": "291b41c0-cb7f-4434-a3d9-c8c13fc319f3",
   "metadata": {},
   "outputs": [
    {
     "data": {
      "text/html": [
       "<div>\n",
       "<style scoped>\n",
       "    .dataframe tbody tr th:only-of-type {\n",
       "        vertical-align: middle;\n",
       "    }\n",
       "\n",
       "    .dataframe tbody tr th {\n",
       "        vertical-align: top;\n",
       "    }\n",
       "\n",
       "    .dataframe thead th {\n",
       "        text-align: right;\n",
       "    }\n",
       "</style>\n",
       "<table border=\"1\" class=\"dataframe\">\n",
       "  <thead>\n",
       "    <tr style=\"text-align: right;\">\n",
       "      <th></th>\n",
       "      <th>gene</th>\n",
       "      <th>mut_type</th>\n",
       "      <th>iteration</th>\n",
       "      <th>count</th>\n",
       "    </tr>\n",
       "  </thead>\n",
       "  <tbody>\n",
       "    <tr>\n",
       "      <th>0</th>\n",
       "      <td>E</td>\n",
       "      <td>missense</td>\n",
       "      <td>0</td>\n",
       "      <td>22</td>\n",
       "    </tr>\n",
       "    <tr>\n",
       "      <th>1</th>\n",
       "      <td>E</td>\n",
       "      <td>missense</td>\n",
       "      <td>1</td>\n",
       "      <td>10</td>\n",
       "    </tr>\n",
       "    <tr>\n",
       "      <th>2</th>\n",
       "      <td>E</td>\n",
       "      <td>missense</td>\n",
       "      <td>2</td>\n",
       "      <td>8</td>\n",
       "    </tr>\n",
       "    <tr>\n",
       "      <th>3</th>\n",
       "      <td>E</td>\n",
       "      <td>missense</td>\n",
       "      <td>3</td>\n",
       "      <td>8</td>\n",
       "    </tr>\n",
       "    <tr>\n",
       "      <th>4</th>\n",
       "      <td>E</td>\n",
       "      <td>missense</td>\n",
       "      <td>4</td>\n",
       "      <td>12</td>\n",
       "    </tr>\n",
       "    <tr>\n",
       "      <th>...</th>\n",
       "      <td>...</td>\n",
       "      <td>...</td>\n",
       "      <td>...</td>\n",
       "      <td>...</td>\n",
       "    </tr>\n",
       "    <tr>\n",
       "      <th>515</th>\n",
       "      <td>S1</td>\n",
       "      <td>undoStop</td>\n",
       "      <td>5</td>\n",
       "      <td>0</td>\n",
       "    </tr>\n",
       "    <tr>\n",
       "      <th>516</th>\n",
       "      <td>S1</td>\n",
       "      <td>undoStop</td>\n",
       "      <td>6</td>\n",
       "      <td>0</td>\n",
       "    </tr>\n",
       "    <tr>\n",
       "      <th>517</th>\n",
       "      <td>S1</td>\n",
       "      <td>undoStop</td>\n",
       "      <td>7</td>\n",
       "      <td>0</td>\n",
       "    </tr>\n",
       "    <tr>\n",
       "      <th>518</th>\n",
       "      <td>S1</td>\n",
       "      <td>undoStop</td>\n",
       "      <td>8</td>\n",
       "      <td>0</td>\n",
       "    </tr>\n",
       "    <tr>\n",
       "      <th>519</th>\n",
       "      <td>S1</td>\n",
       "      <td>undoStop</td>\n",
       "      <td>9</td>\n",
       "      <td>0</td>\n",
       "    </tr>\n",
       "  </tbody>\n",
       "</table>\n",
       "<p>520 rows × 4 columns</p>\n",
       "</div>"
      ],
      "text/plain": [
       "    gene  mut_type  iteration  count\n",
       "0      E  missense          0     22\n",
       "1      E  missense          1     10\n",
       "2      E  missense          2      8\n",
       "3      E  missense          3      8\n",
       "4      E  missense          4     12\n",
       "..   ...       ...        ...    ...\n",
       "515   S1  undoStop          5      0\n",
       "516   S1  undoStop          6      0\n",
       "517   S1  undoStop          7      0\n",
       "518   S1  undoStop          8      0\n",
       "519   S1  undoStop          9      0\n",
       "\n",
       "[520 rows x 4 columns]"
      ]
     },
     "execution_count": 196,
     "metadata": {},
     "output_type": "execute_result"
    }
   ],
   "source": [
    "pd.concat([counts2,counts1]).groupby(by=['gene','mut_type','iteration']).sum().reset_index()"
   ]
  },
  {
   "cell_type": "code",
   "execution_count": 166,
   "id": "1a033ec6-f8b5-4a7e-ba32-de1ee2b95cdf",
   "metadata": {},
   "outputs": [],
   "source": [
    "def get_ci_counts(df,genes,ci):\n",
    "    '''\n",
    "    Given df of bootstrap counts, returns dictionary of min & max ci counts.\n",
    "    '''\n",
    "    min_counts = {}\n",
    "    max_counts = {}\n",
    "    for mutType in df['mutType'].unique():\n",
    "        min_counts[mutType] = {}\n",
    "        max_counts[mutType] = {}\n",
    "        for gene in genes:\n",
    "            values = df[(df.gene==gene) & (df.mutType==mutType)]['count']\n",
    "            minimum = 100-ci/2\n",
    "            maximum = 100-minimum\n",
    "            min_counts[mutType][gene] = np.percentile(values,minimum)\n",
    "            max_counts[mutType][gene] = np.percentile(values,maximum)\n",
    "    return min_counts, max_counts"
   ]
  },
  {
   "cell_type": "code",
   "execution_count": 167,
   "id": "15fa5d98-7084-4594-8219-b75e0981ab88",
   "metadata": {},
   "outputs": [],
   "source": [
    "minimum_counts,maximum_counts = get_ci_counts(counts,all_genes,95)"
   ]
  },
  {
   "cell_type": "code",
   "execution_count": 168,
   "id": "e5fdfb64-2f79-49ae-82eb-ef1d22904369",
   "metadata": {},
   "outputs": [
    {
     "data": {
      "text/plain": [
       "{'synonymous': {'ORF1a': 181.0,\n",
       "  'ORF1b': 83.0,\n",
       "  'S': 40.0,\n",
       "  'S1': 0.0,\n",
       "  'ORF3a': 11.0,\n",
       "  'E': 6.0,\n",
       "  'M': 12.0,\n",
       "  'ORF6': 5.0,\n",
       "  'ORF7a': 4.0,\n",
       "  'ORF7b': 2.0,\n",
       "  'ORF8': 6.0,\n",
       "  'N': 28.0,\n",
       "  'ORF9b': 3.0},\n",
       " 'missense': {'ORF1a': 241.0,\n",
       "  'ORF1b': 136.0,\n",
       "  'S': 80.0,\n",
       "  'S1': 0.0,\n",
       "  'ORF3a': 37.0,\n",
       "  'E': 9.0,\n",
       "  'M': 11.0,\n",
       "  'ORF6': 5.0,\n",
       "  'ORF7a': 5.0,\n",
       "  'ORF7b': 2.0,\n",
       "  'ORF8': 12.0,\n",
       "  'N': 61.0,\n",
       "  'ORF9b': 15.0},\n",
       " 'nonsense': {'ORF1a': 0.0,\n",
       "  'ORF1b': 1.0,\n",
       "  'S': 1.0,\n",
       "  'S1': 0.0,\n",
       "  'ORF3a': 1.0,\n",
       "  'E': 0.0,\n",
       "  'M': 0.0,\n",
       "  'ORF6': 1.0,\n",
       "  'ORF7a': 1.0,\n",
       "  'ORF7b': 0.0,\n",
       "  'ORF8': 3.0,\n",
       "  'N': 0.0,\n",
       "  'ORF9b': 0.0}}"
      ]
     },
     "execution_count": 168,
     "metadata": {},
     "output_type": "execute_result"
    }
   ],
   "source": [
    "minimum_counts"
   ]
  },
  {
   "cell_type": "code",
   "execution_count": 53,
   "id": "2ae4c03e-c3e3-4bf5-83b6-425fb6e892bf",
   "metadata": {},
   "outputs": [
    {
     "data": {
      "text/plain": [
       "False"
      ]
     },
     "execution_count": 53,
     "metadata": {},
     "output_type": "execute_result"
    }
   ],
   "source": [
    "grab = samples[0]\n",
    "\n",
    "final_muts.iloc[grab,]._is_view"
   ]
  },
  {
   "cell_type": "code",
   "execution_count": 144,
   "id": "20254e82-cdca-4dbe-b056-e30d182ed4b6",
   "metadata": {},
   "outputs": [],
   "source": [
    "denominators = {'synonymous':syn_denominators,'missense':nonsyn_denominators,'nonsense':stop_denominators}\n"
   ]
  },
  {
   "cell_type": "code",
   "execution_count": 151,
   "id": "86bc711d-f455-44c1-b921-2d4214aec071",
   "metadata": {},
   "outputs": [],
   "source": [
    "def get_counts(df, genes):\n",
    "    all_syn = {gene:len(df[(df.gene==gene)&(df.mut_type=='synonymous')]) for gene in genes}\n",
    "    all_missense = {gene:len(df[(df.gene==gene)&(df.mut_type=='missense')]) for gene in genes}\n",
    "    all_nonsense = {gene:len(df[(df.gene==gene)&(df.mut_type=='nonsense')]) for gene in genes}\n",
    "    counts = {'synonymous':all_syn,'missense':all_missense,'nonsense':all_nonsense}\n",
    "    return counts\n",
    "\n",
    "def get_differences(counts,denominators,genes):\n",
    "    diffs = {}\n",
    "    for mutType in counts.keys():\n",
    "        diffs[mutType] = {gene:counts[mutType][gene]/denominators[mutType][gene] for gene in genes}\n",
    "    return diffs"
   ]
  },
  {
   "cell_type": "code",
   "execution_count": 149,
   "id": "585efce4-deb4-444a-92e0-f92db2258d3f",
   "metadata": {},
   "outputs": [],
   "source": [
    "counted = get_counts(final_muts.iloc[0:1000],all_genes)"
   ]
  },
  {
   "cell_type": "code",
   "execution_count": null,
   "id": "98ab4276-1a1e-474f-a17f-f93ce7dd43a7",
   "metadata": {},
   "outputs": [],
   "source": [
    "counte"
   ]
  },
  {
   "cell_type": "code",
   "execution_count": 153,
   "id": "4a94848a-91e4-4242-ad5c-83022b79acce",
   "metadata": {},
   "outputs": [
    {
     "data": {
      "text/plain": [
       "{'synonymous': {'ORF1a': 0.1864679388061965,\n",
       "  'ORF1b': 0.14086567558329405,\n",
       "  'S': 0.13997138285077795,\n",
       "  'S1': 0.0,\n",
       "  'ORF3a': 0.1697515146464685,\n",
       "  'E': 0.3080999476230088,\n",
       "  'M': 0.21937922990577594,\n",
       "  'ORF6': 0.3968789439845057,\n",
       "  'ORF7a': 0.14652175664934064,\n",
       "  'ORF7b': 0.17931751752828728,\n",
       "  'ORF8': 0.22262211750737437,\n",
       "  'N': 0.2932222719071044,\n",
       "  'ORF9b': 0.13157029142819554},\n",
       " 'missense': {'ORF1a': 0.11834472945611134,\n",
       "  'ORF1b': 0.1084064461203143,\n",
       "  'S': 0.13273030093319402,\n",
       "  'S1': 0.0,\n",
       "  'ORF3a': 0.28080507574147284,\n",
       "  'E': 0.24323666927920887,\n",
       "  'M': 0.1039266315772553,\n",
       "  'ORF6': 0.18016719515710647,\n",
       "  'ORF7a': 0.08403431961613078,\n",
       "  'ORF7b': 0.09505884142284086,\n",
       "  'ORF8': 0.21049418772924017,\n",
       "  'N': 0.31832774607256925,\n",
       "  'ORF9b': 0.3200805749500666},\n",
       " 'nonsense': {'ORF1a': 0.0,\n",
       "  'ORF1b': 0.013531140566900574,\n",
       "  'S': 0.025303771780221574,\n",
       "  'S1': 0.0,\n",
       "  'ORF3a': 0.1252960118279438,\n",
       "  'E': 0.0,\n",
       "  'M': 0.0,\n",
       "  'ORF6': 0.4948780125699015,\n",
       "  'ORF7a': 0.2916132042458882,\n",
       "  'ORF7b': 0.0,\n",
       "  'ORF8': 0.6991540236314062,\n",
       "  'N': 0.0,\n",
       "  'ORF9b': 0.0}}"
      ]
     },
     "execution_count": 153,
     "metadata": {},
     "output_type": "execute_result"
    }
   ],
   "source": [
    "get_differences(counted,denominators,all_genes)"
   ]
  },
  {
   "cell_type": "code",
   "execution_count": null,
   "id": "e17a10b9-5e63-42c3-80b1-b33b4bae5caa",
   "metadata": {},
   "outputs": [],
   "source": []
  },
  {
   "cell_type": "code",
   "execution_count": null,
   "id": "354b98bb-140d-4309-ad17-8643c9de5e7c",
   "metadata": {},
   "outputs": [],
   "source": []
  },
  {
   "cell_type": "code",
   "execution_count": 38,
   "id": "65ae8e0a-01e5-41b4-b7be-d61a0d776276",
   "metadata": {},
   "outputs": [],
   "source": [
    "denominators = {'synonymous':syn_denominators,'missense':nonsyn_denominators,'nonsense':stop_denominators}"
   ]
  },
  {
   "cell_type": "code",
   "execution_count": 125,
   "id": "e0883c62-cdd8-48e8-9ae2-e97122dd8525",
   "metadata": {},
   "outputs": [],
   "source": [
    "counted = pd.read_csv('usher/trimmed/bootstrap/counts2.tsv',sep='\\t')"
   ]
  },
  {
   "cell_type": "code",
   "execution_count": 126,
   "id": "599d47cc-11a9-43cb-bb43-086d0e6b2c39",
   "metadata": {},
   "outputs": [
    {
     "data": {
      "text/html": [
       "<div>\n",
       "<style scoped>\n",
       "    .dataframe tbody tr th:only-of-type {\n",
       "        vertical-align: middle;\n",
       "    }\n",
       "\n",
       "    .dataframe tbody tr th {\n",
       "        vertical-align: top;\n",
       "    }\n",
       "\n",
       "    .dataframe thead th {\n",
       "        text-align: right;\n",
       "    }\n",
       "</style>\n",
       "<table border=\"1\" class=\"dataframe\">\n",
       "  <thead>\n",
       "    <tr style=\"text-align: right;\">\n",
       "      <th></th>\n",
       "      <th>gene</th>\n",
       "      <th>mut_type</th>\n",
       "      <th>count</th>\n",
       "      <th>iteration</th>\n",
       "    </tr>\n",
       "  </thead>\n",
       "  <tbody>\n",
       "    <tr>\n",
       "      <th>0</th>\n",
       "      <td>E</td>\n",
       "      <td>missense</td>\n",
       "      <td>24219</td>\n",
       "      <td>0</td>\n",
       "    </tr>\n",
       "    <tr>\n",
       "      <th>1</th>\n",
       "      <td>E</td>\n",
       "      <td>nonsense</td>\n",
       "      <td>23</td>\n",
       "      <td>0</td>\n",
       "    </tr>\n",
       "    <tr>\n",
       "      <th>2</th>\n",
       "      <td>E</td>\n",
       "      <td>synonymous</td>\n",
       "      <td>14594</td>\n",
       "      <td>0</td>\n",
       "    </tr>\n",
       "    <tr>\n",
       "      <th>3</th>\n",
       "      <td>E</td>\n",
       "      <td>undoStop</td>\n",
       "      <td>0</td>\n",
       "      <td>0</td>\n",
       "    </tr>\n",
       "    <tr>\n",
       "      <th>4</th>\n",
       "      <td>M</td>\n",
       "      <td>missense</td>\n",
       "      <td>64127</td>\n",
       "      <td>0</td>\n",
       "    </tr>\n",
       "  </tbody>\n",
       "</table>\n",
       "</div>"
      ],
      "text/plain": [
       "  gene    mut_type  count  iteration\n",
       "0    E    missense  24219          0\n",
       "1    E    nonsense     23          0\n",
       "2    E  synonymous  14594          0\n",
       "3    E    undoStop      0          0\n",
       "4    M    missense  64127          0"
      ]
     },
     "execution_count": 126,
     "metadata": {},
     "output_type": "execute_result"
    }
   ],
   "source": [
    "counted.head()"
   ]
  },
  {
   "cell_type": "code",
   "execution_count": 136,
   "id": "30e7aa5c-3947-4ff4-9e25-1a53f550c509",
   "metadata": {},
   "outputs": [
    {
     "data": {
      "text/plain": [
       "Index(['gene', 'mut_type', 'count', 'iteration'], dtype='object')"
      ]
     },
     "execution_count": 136,
     "metadata": {},
     "output_type": "execute_result"
    }
   ],
   "source": [
    "counted.columns"
   ]
  },
  {
   "cell_type": "code",
   "execution_count": 139,
   "id": "22cd5cb0-9b4f-4f31-9be7-d8d1a0e5bd7f",
   "metadata": {},
   "outputs": [
    {
     "name": "stdout",
     "output_type": "stream",
     "text": [
      "['gene', 'iteration']\n"
     ]
    }
   ],
   "source": [
    "cols = list(counted.columns)\n",
    "cols.remove('mut_type')\n",
    "cols.remove('count')\n",
    "print(cols)"
   ]
  },
  {
   "cell_type": "code",
   "execution_count": 152,
   "id": "7e9494ea-16a3-4ac9-b427-27c0e843d8a9",
   "metadata": {},
   "outputs": [],
   "source": [
    "def get_counts(df, genes):\n",
    "    '''\n",
    "    Get observed counts\n",
    "    '''\n",
    "    geneList = []\n",
    "    mutTypes = []\n",
    "    counts = []\n",
    "    for gene in genes:\n",
    "        geneList.extend([gene]*4)\n",
    "        for mut_type in df.mut_type.unique():\n",
    "            mutTypes.append(mut_type)\n",
    "            count = len(df[(df.gene==gene)&(df.mut_type==mut_type)])\n",
    "            counts.append(count)\n",
    "    result = pd.DataFrame({'gene':geneList,'mut_type':mutTypes,'count':counts})\n",
    "    return result"
   ]
  },
  {
   "cell_type": "code",
   "execution_count": 153,
   "id": "40bcd94e-fb7b-4f90-bd13-20fda4f26913",
   "metadata": {},
   "outputs": [
    {
     "data": {
      "text/html": [
       "<div>\n",
       "<style scoped>\n",
       "    .dataframe tbody tr th:only-of-type {\n",
       "        vertical-align: middle;\n",
       "    }\n",
       "\n",
       "    .dataframe tbody tr th {\n",
       "        vertical-align: top;\n",
       "    }\n",
       "\n",
       "    .dataframe thead th {\n",
       "        text-align: right;\n",
       "    }\n",
       "</style>\n",
       "<table border=\"1\" class=\"dataframe\">\n",
       "  <thead>\n",
       "    <tr style=\"text-align: right;\">\n",
       "      <th></th>\n",
       "      <th>gene</th>\n",
       "      <th>mut_type</th>\n",
       "      <th>count</th>\n",
       "    </tr>\n",
       "  </thead>\n",
       "  <tbody>\n",
       "    <tr>\n",
       "      <th>0</th>\n",
       "      <td>ORF1a</td>\n",
       "      <td>missense</td>\n",
       "      <td>1328866</td>\n",
       "    </tr>\n",
       "    <tr>\n",
       "      <th>1</th>\n",
       "      <td>ORF1a</td>\n",
       "      <td>synonymous</td>\n",
       "      <td>1006032</td>\n",
       "    </tr>\n",
       "    <tr>\n",
       "      <th>2</th>\n",
       "      <td>ORF1a</td>\n",
       "      <td>nonsense</td>\n",
       "      <td>880</td>\n",
       "    </tr>\n",
       "    <tr>\n",
       "      <th>3</th>\n",
       "      <td>ORF1a</td>\n",
       "      <td>undoStop</td>\n",
       "      <td>27</td>\n",
       "    </tr>\n",
       "    <tr>\n",
       "      <th>4</th>\n",
       "      <td>ORF1b</td>\n",
       "      <td>missense</td>\n",
       "      <td>592141</td>\n",
       "    </tr>\n",
       "    <tr>\n",
       "      <th>5</th>\n",
       "      <td>ORF1b</td>\n",
       "      <td>synonymous</td>\n",
       "      <td>530552</td>\n",
       "    </tr>\n",
       "    <tr>\n",
       "      <th>6</th>\n",
       "      <td>ORF1b</td>\n",
       "      <td>nonsense</td>\n",
       "      <td>418</td>\n",
       "    </tr>\n",
       "    <tr>\n",
       "      <th>7</th>\n",
       "      <td>ORF1b</td>\n",
       "      <td>undoStop</td>\n",
       "      <td>8</td>\n",
       "    </tr>\n",
       "    <tr>\n",
       "      <th>8</th>\n",
       "      <td>S</td>\n",
       "      <td>missense</td>\n",
       "      <td>478556</td>\n",
       "    </tr>\n",
       "    <tr>\n",
       "      <th>9</th>\n",
       "      <td>S</td>\n",
       "      <td>synonymous</td>\n",
       "      <td>273119</td>\n",
       "    </tr>\n",
       "    <tr>\n",
       "      <th>10</th>\n",
       "      <td>S</td>\n",
       "      <td>nonsense</td>\n",
       "      <td>367</td>\n",
       "    </tr>\n",
       "    <tr>\n",
       "      <th>11</th>\n",
       "      <td>S</td>\n",
       "      <td>undoStop</td>\n",
       "      <td>7</td>\n",
       "    </tr>\n",
       "    <tr>\n",
       "      <th>12</th>\n",
       "      <td>S1</td>\n",
       "      <td>missense</td>\n",
       "      <td>297532</td>\n",
       "    </tr>\n",
       "    <tr>\n",
       "      <th>13</th>\n",
       "      <td>S1</td>\n",
       "      <td>synonymous</td>\n",
       "      <td>153726</td>\n",
       "    </tr>\n",
       "    <tr>\n",
       "      <th>14</th>\n",
       "      <td>S1</td>\n",
       "      <td>nonsense</td>\n",
       "      <td>239</td>\n",
       "    </tr>\n",
       "    <tr>\n",
       "      <th>15</th>\n",
       "      <td>S1</td>\n",
       "      <td>undoStop</td>\n",
       "      <td>7</td>\n",
       "    </tr>\n",
       "    <tr>\n",
       "      <th>16</th>\n",
       "      <td>ORF3a</td>\n",
       "      <td>missense</td>\n",
       "      <td>196513</td>\n",
       "    </tr>\n",
       "    <tr>\n",
       "      <th>17</th>\n",
       "      <td>ORF3a</td>\n",
       "      <td>synonymous</td>\n",
       "      <td>76980</td>\n",
       "    </tr>\n",
       "    <tr>\n",
       "      <th>18</th>\n",
       "      <td>ORF3a</td>\n",
       "      <td>nonsense</td>\n",
       "      <td>1684</td>\n",
       "    </tr>\n",
       "    <tr>\n",
       "      <th>19</th>\n",
       "      <td>ORF3a</td>\n",
       "      <td>undoStop</td>\n",
       "      <td>20</td>\n",
       "    </tr>\n",
       "    <tr>\n",
       "      <th>20</th>\n",
       "      <td>E</td>\n",
       "      <td>missense</td>\n",
       "      <td>23979</td>\n",
       "    </tr>\n",
       "    <tr>\n",
       "      <th>21</th>\n",
       "      <td>E</td>\n",
       "      <td>synonymous</td>\n",
       "      <td>14541</td>\n",
       "    </tr>\n",
       "    <tr>\n",
       "      <th>22</th>\n",
       "      <td>E</td>\n",
       "      <td>nonsense</td>\n",
       "      <td>16</td>\n",
       "    </tr>\n",
       "    <tr>\n",
       "      <th>23</th>\n",
       "      <td>E</td>\n",
       "      <td>undoStop</td>\n",
       "      <td>0</td>\n",
       "    </tr>\n",
       "    <tr>\n",
       "      <th>24</th>\n",
       "      <td>M</td>\n",
       "      <td>missense</td>\n",
       "      <td>63792</td>\n",
       "    </tr>\n",
       "    <tr>\n",
       "      <th>25</th>\n",
       "      <td>M</td>\n",
       "      <td>synonymous</td>\n",
       "      <td>80598</td>\n",
       "    </tr>\n",
       "    <tr>\n",
       "      <th>26</th>\n",
       "      <td>M</td>\n",
       "      <td>nonsense</td>\n",
       "      <td>126</td>\n",
       "    </tr>\n",
       "    <tr>\n",
       "      <th>27</th>\n",
       "      <td>M</td>\n",
       "      <td>undoStop</td>\n",
       "      <td>2</td>\n",
       "    </tr>\n",
       "    <tr>\n",
       "      <th>28</th>\n",
       "      <td>ORF6</td>\n",
       "      <td>missense</td>\n",
       "      <td>27946</td>\n",
       "    </tr>\n",
       "    <tr>\n",
       "      <th>29</th>\n",
       "      <td>ORF6</td>\n",
       "      <td>synonymous</td>\n",
       "      <td>19985</td>\n",
       "    </tr>\n",
       "    <tr>\n",
       "      <th>30</th>\n",
       "      <td>ORF6</td>\n",
       "      <td>nonsense</td>\n",
       "      <td>1670</td>\n",
       "    </tr>\n",
       "    <tr>\n",
       "      <th>31</th>\n",
       "      <td>ORF6</td>\n",
       "      <td>undoStop</td>\n",
       "      <td>26</td>\n",
       "    </tr>\n",
       "    <tr>\n",
       "      <th>32</th>\n",
       "      <td>ORF7a</td>\n",
       "      <td>missense</td>\n",
       "      <td>110025</td>\n",
       "    </tr>\n",
       "    <tr>\n",
       "      <th>33</th>\n",
       "      <td>ORF7a</td>\n",
       "      <td>synonymous</td>\n",
       "      <td>34325</td>\n",
       "    </tr>\n",
       "    <tr>\n",
       "      <th>34</th>\n",
       "      <td>ORF7a</td>\n",
       "      <td>nonsense</td>\n",
       "      <td>8688</td>\n",
       "    </tr>\n",
       "    <tr>\n",
       "      <th>35</th>\n",
       "      <td>ORF7a</td>\n",
       "      <td>undoStop</td>\n",
       "      <td>221</td>\n",
       "    </tr>\n",
       "    <tr>\n",
       "      <th>36</th>\n",
       "      <td>ORF7b</td>\n",
       "      <td>missense</td>\n",
       "      <td>22295</td>\n",
       "    </tr>\n",
       "    <tr>\n",
       "      <th>37</th>\n",
       "      <td>ORF7b</td>\n",
       "      <td>synonymous</td>\n",
       "      <td>8369</td>\n",
       "    </tr>\n",
       "    <tr>\n",
       "      <th>38</th>\n",
       "      <td>ORF7b</td>\n",
       "      <td>nonsense</td>\n",
       "      <td>1670</td>\n",
       "    </tr>\n",
       "    <tr>\n",
       "      <th>39</th>\n",
       "      <td>ORF7b</td>\n",
       "      <td>undoStop</td>\n",
       "      <td>43</td>\n",
       "    </tr>\n",
       "    <tr>\n",
       "      <th>40</th>\n",
       "      <td>ORF8</td>\n",
       "      <td>missense</td>\n",
       "      <td>85267</td>\n",
       "    </tr>\n",
       "    <tr>\n",
       "      <th>41</th>\n",
       "      <td>ORF8</td>\n",
       "      <td>synonymous</td>\n",
       "      <td>23949</td>\n",
       "    </tr>\n",
       "    <tr>\n",
       "      <th>42</th>\n",
       "      <td>ORF8</td>\n",
       "      <td>nonsense</td>\n",
       "      <td>9313</td>\n",
       "    </tr>\n",
       "    <tr>\n",
       "      <th>43</th>\n",
       "      <td>ORF8</td>\n",
       "      <td>undoStop</td>\n",
       "      <td>4530</td>\n",
       "    </tr>\n",
       "    <tr>\n",
       "      <th>44</th>\n",
       "      <td>N</td>\n",
       "      <td>missense</td>\n",
       "      <td>243342</td>\n",
       "    </tr>\n",
       "    <tr>\n",
       "      <th>45</th>\n",
       "      <td>N</td>\n",
       "      <td>synonymous</td>\n",
       "      <td>152729</td>\n",
       "    </tr>\n",
       "    <tr>\n",
       "      <th>46</th>\n",
       "      <td>N</td>\n",
       "      <td>nonsense</td>\n",
       "      <td>317</td>\n",
       "    </tr>\n",
       "    <tr>\n",
       "      <th>47</th>\n",
       "      <td>N</td>\n",
       "      <td>undoStop</td>\n",
       "      <td>15</td>\n",
       "    </tr>\n",
       "    <tr>\n",
       "      <th>48</th>\n",
       "      <td>ORF9b</td>\n",
       "      <td>missense</td>\n",
       "      <td>63362</td>\n",
       "    </tr>\n",
       "    <tr>\n",
       "      <th>49</th>\n",
       "      <td>ORF9b</td>\n",
       "      <td>synonymous</td>\n",
       "      <td>20238</td>\n",
       "    </tr>\n",
       "    <tr>\n",
       "      <th>50</th>\n",
       "      <td>ORF9b</td>\n",
       "      <td>nonsense</td>\n",
       "      <td>1358</td>\n",
       "    </tr>\n",
       "    <tr>\n",
       "      <th>51</th>\n",
       "      <td>ORF9b</td>\n",
       "      <td>undoStop</td>\n",
       "      <td>51</td>\n",
       "    </tr>\n",
       "  </tbody>\n",
       "</table>\n",
       "</div>"
      ],
      "text/plain": [
       "     gene    mut_type    count\n",
       "0   ORF1a    missense  1328866\n",
       "1   ORF1a  synonymous  1006032\n",
       "2   ORF1a    nonsense      880\n",
       "3   ORF1a    undoStop       27\n",
       "4   ORF1b    missense   592141\n",
       "5   ORF1b  synonymous   530552\n",
       "6   ORF1b    nonsense      418\n",
       "7   ORF1b    undoStop        8\n",
       "8       S    missense   478556\n",
       "9       S  synonymous   273119\n",
       "10      S    nonsense      367\n",
       "11      S    undoStop        7\n",
       "12     S1    missense   297532\n",
       "13     S1  synonymous   153726\n",
       "14     S1    nonsense      239\n",
       "15     S1    undoStop        7\n",
       "16  ORF3a    missense   196513\n",
       "17  ORF3a  synonymous    76980\n",
       "18  ORF3a    nonsense     1684\n",
       "19  ORF3a    undoStop       20\n",
       "20      E    missense    23979\n",
       "21      E  synonymous    14541\n",
       "22      E    nonsense       16\n",
       "23      E    undoStop        0\n",
       "24      M    missense    63792\n",
       "25      M  synonymous    80598\n",
       "26      M    nonsense      126\n",
       "27      M    undoStop        2\n",
       "28   ORF6    missense    27946\n",
       "29   ORF6  synonymous    19985\n",
       "30   ORF6    nonsense     1670\n",
       "31   ORF6    undoStop       26\n",
       "32  ORF7a    missense   110025\n",
       "33  ORF7a  synonymous    34325\n",
       "34  ORF7a    nonsense     8688\n",
       "35  ORF7a    undoStop      221\n",
       "36  ORF7b    missense    22295\n",
       "37  ORF7b  synonymous     8369\n",
       "38  ORF7b    nonsense     1670\n",
       "39  ORF7b    undoStop       43\n",
       "40   ORF8    missense    85267\n",
       "41   ORF8  synonymous    23949\n",
       "42   ORF8    nonsense     9313\n",
       "43   ORF8    undoStop     4530\n",
       "44      N    missense   243342\n",
       "45      N  synonymous   152729\n",
       "46      N    nonsense      317\n",
       "47      N    undoStop       15\n",
       "48  ORF9b    missense    63362\n",
       "49  ORF9b  synonymous    20238\n",
       "50  ORF9b    nonsense     1358\n",
       "51  ORF9b    undoStop       51"
      ]
     },
     "execution_count": 153,
     "metadata": {},
     "output_type": "execute_result"
    }
   ],
   "source": [
    "get_counts(final_muts,all_genes)"
   ]
  },
  {
   "cell_type": "code",
   "execution_count": null,
   "id": "3b3c6025-e15a-483f-b200-c92c9881d222",
   "metadata": {},
   "outputs": [],
   "source": []
  },
  {
   "cell_type": "code",
   "execution_count": 150,
   "id": "bb74b52a-cd3b-4351-acee-7d7cfcb91f24",
   "metadata": {},
   "outputs": [],
   "source": [
    "def get_differences(counts,denominators, genes):\n",
    "    '''\n",
    "    Given counts & denominators, get dS, dN, dStop & dN_dS and dStop_dS values.\n",
    "    '''\n",
    "    df = counts.copy()\n",
    "    cols = list(df.columns)\n",
    "    cols.remove('mut_type')\n",
    "    cols.remove('count')\n",
    "    df = df.pivot_table(index=cols, columns='mut_type',values='count').reset_index()\n",
    "    for gene in genes:\n",
    "        df.loc[(df.gene==gene),'dS'] = df.loc[(df.gene==gene),'synonymous']/denominators['synonymous'][gene]\n",
    "        df.loc[(df.gene==gene),'dN'] = df.loc[(df.gene==gene),'missense']/denominators['missense'][gene]\n",
    "        df.loc[(df.gene==gene),'dStop'] = df.loc[(df.gene==gene),'nonsense']/denominators['nonsense'][gene]\n",
    "    df['dN_dS'] = df['dN']/df['dS']\n",
    "    df['dStop_dS'] = df['dStop']/df['dS']\n",
    "    return df"
   ]
  },
  {
   "cell_type": "code",
   "execution_count": 165,
   "id": "630c78e6-a910-496b-8a07-08e4388c2a43",
   "metadata": {},
   "outputs": [],
   "source": [
    "diffs = get_dS_dN_dStop(counted,denominators,all_genes)"
   ]
  },
  {
   "cell_type": "code",
   "execution_count": 166,
   "id": "ffa1d029-b816-4023-a94d-2f6335179098",
   "metadata": {},
   "outputs": [],
   "source": [
    "ci = 95"
   ]
  },
  {
   "cell_type": "code",
   "execution_count": null,
   "id": "13e669c5-6d5c-4314-9b6a-b342b7261e1e",
   "metadata": {},
   "outputs": [],
   "source": []
  },
  {
   "cell_type": "code",
   "execution_count": 170,
   "id": "3e3c135d-cbdd-4b46-ad1b-2e40e45ba6ef",
   "metadata": {},
   "outputs": [],
   "source": [
    "def get_percentile(df,p,suffix):\n",
    "    transformed = df.groupby('gene').quantile(p).add_suffix(suffix).reset_index()\n",
    "    return transformed\n",
    "\n",
    "def get_ci(df,ci):\n",
    "    new_df = df.drop(columns=['iteration','missense','synonymous','nonsense','undoStop'])\n",
    "    minimum = (100-ci)/200\n",
    "    maximum = 1-minimum\n",
    "    minimums = get_percentile(new_df,minimum,'_min')\n",
    "    maximums = get_percentile(new_df,maximum,'_max')\n",
    "    intervals = minimums.merge(maximums, on='gene')\n",
    "    return intervals"
   ]
  },
  {
   "cell_type": "code",
   "execution_count": 171,
   "id": "6bb08214-4348-4e49-b4c3-3062bb4030d4",
   "metadata": {},
   "outputs": [
    {
     "data": {
      "text/html": [
       "<div>\n",
       "<style scoped>\n",
       "    .dataframe tbody tr th:only-of-type {\n",
       "        vertical-align: middle;\n",
       "    }\n",
       "\n",
       "    .dataframe tbody tr th {\n",
       "        vertical-align: top;\n",
       "    }\n",
       "\n",
       "    .dataframe thead th {\n",
       "        text-align: right;\n",
       "    }\n",
       "</style>\n",
       "<table border=\"1\" class=\"dataframe\">\n",
       "  <thead>\n",
       "    <tr style=\"text-align: right;\">\n",
       "      <th>mut_type</th>\n",
       "      <th>gene</th>\n",
       "      <th>dS_min</th>\n",
       "      <th>dN_min</th>\n",
       "      <th>dStop_min</th>\n",
       "      <th>dN_dS_min</th>\n",
       "      <th>dStop_dS_min</th>\n",
       "      <th>dS_max</th>\n",
       "      <th>dN_max</th>\n",
       "      <th>dStop_max</th>\n",
       "      <th>dN_dS_max</th>\n",
       "      <th>dStop_dS_max</th>\n",
       "    </tr>\n",
       "  </thead>\n",
       "  <tbody>\n",
       "    <tr>\n",
       "      <th>0</th>\n",
       "      <td>E</td>\n",
       "      <td>734.856888</td>\n",
       "      <td>644.495419</td>\n",
       "      <td>10.387935</td>\n",
       "      <td>0.854313</td>\n",
       "      <td>0.013974</td>\n",
       "      <td>758.379035</td>\n",
       "      <td>655.740385</td>\n",
       "      <td>20.264258</td>\n",
       "      <td>0.886089</td>\n",
       "      <td>0.027071</td>\n",
       "    </tr>\n",
       "    <tr>\n",
       "      <th>1</th>\n",
       "      <td>M</td>\n",
       "      <td>1464.798774</td>\n",
       "      <td>597.706150</td>\n",
       "      <td>20.575281</td>\n",
       "      <td>0.405566</td>\n",
       "      <td>0.013957</td>\n",
       "      <td>1481.395270</td>\n",
       "      <td>607.871592</td>\n",
       "      <td>25.905618</td>\n",
       "      <td>0.414758</td>\n",
       "      <td>0.017658</td>\n",
       "    </tr>\n",
       "    <tr>\n",
       "      <th>2</th>\n",
       "      <td>N</td>\n",
       "      <td>1596.459655</td>\n",
       "      <td>1262.815040</td>\n",
       "      <td>14.278803</td>\n",
       "      <td>0.790042</td>\n",
       "      <td>0.008942</td>\n",
       "      <td>1605.462364</td>\n",
       "      <td>1273.650316</td>\n",
       "      <td>17.656436</td>\n",
       "      <td>0.797797</td>\n",
       "      <td>0.010997</td>\n",
       "    </tr>\n",
       "    <tr>\n",
       "      <th>3</th>\n",
       "      <td>ORF1a</td>\n",
       "      <td>1040.361348</td>\n",
       "      <td>651.760776</td>\n",
       "      <td>6.771186</td>\n",
       "      <td>0.625168</td>\n",
       "      <td>0.006492</td>\n",
       "      <td>1043.274029</td>\n",
       "      <td>654.137135</td>\n",
       "      <td>7.808704</td>\n",
       "      <td>0.628226</td>\n",
       "      <td>0.007503</td>\n",
       "    </tr>\n",
       "    <tr>\n",
       "      <th>4</th>\n",
       "      <td>ORF1b</td>\n",
       "      <td>898.948862</td>\n",
       "      <td>474.429890</td>\n",
       "      <td>5.343447</td>\n",
       "      <td>0.526976</td>\n",
       "      <td>0.005934</td>\n",
       "      <td>902.335621</td>\n",
       "      <td>476.023064</td>\n",
       "      <td>6.207749</td>\n",
       "      <td>0.529259</td>\n",
       "      <td>0.006897</td>\n",
       "    </tr>\n",
       "    <tr>\n",
       "      <th>5</th>\n",
       "      <td>ORF3a</td>\n",
       "      <td>1180.321633</td>\n",
       "      <td>1485.312946</td>\n",
       "      <td>199.217526</td>\n",
       "      <td>1.248880</td>\n",
       "      <td>0.167951</td>\n",
       "      <td>1190.487434</td>\n",
       "      <td>1496.738297</td>\n",
       "      <td>216.674393</td>\n",
       "      <td>1.267381</td>\n",
       "      <td>0.182076</td>\n",
       "    </tr>\n",
       "    <tr>\n",
       "      <th>6</th>\n",
       "      <td>ORF6</td>\n",
       "      <td>1569.642333</td>\n",
       "      <td>999.452292</td>\n",
       "      <td>793.648241</td>\n",
       "      <td>0.628174</td>\n",
       "      <td>0.502548</td>\n",
       "      <td>1606.496511</td>\n",
       "      <td>1015.817779</td>\n",
       "      <td>841.342109</td>\n",
       "      <td>0.639703</td>\n",
       "      <td>0.531657</td>\n",
       "    </tr>\n",
       "    <tr>\n",
       "      <th>7</th>\n",
       "      <td>ORF7a</td>\n",
       "      <td>1249.402008</td>\n",
       "      <td>1840.467567</td>\n",
       "      <td>2508.019363</td>\n",
       "      <td>1.438972</td>\n",
       "      <td>1.971554</td>\n",
       "      <td>1279.145009</td>\n",
       "      <td>1865.370717</td>\n",
       "      <td>2569.688265</td>\n",
       "      <td>1.484164</td>\n",
       "      <td>2.047144</td>\n",
       "    </tr>\n",
       "    <tr>\n",
       "      <th>8</th>\n",
       "      <td>ORF7b</td>\n",
       "      <td>741.433106</td>\n",
       "      <td>1050.915892</td>\n",
       "      <td>1365.871929</td>\n",
       "      <td>1.399486</td>\n",
       "      <td>1.826378</td>\n",
       "      <td>759.947639</td>\n",
       "      <td>1066.270271</td>\n",
       "      <td>1485.467854</td>\n",
       "      <td>1.434667</td>\n",
       "      <td>1.988191</td>\n",
       "    </tr>\n",
       "    <tr>\n",
       "      <th>9</th>\n",
       "      <td>ORF8</td>\n",
       "      <td>878.751646</td>\n",
       "      <td>1491.544273</td>\n",
       "      <td>2163.246638</td>\n",
       "      <td>1.683194</td>\n",
       "      <td>2.438555</td>\n",
       "      <td>890.440235</td>\n",
       "      <td>1502.235624</td>\n",
       "      <td>2204.217064</td>\n",
       "      <td>1.706534</td>\n",
       "      <td>2.484667</td>\n",
       "    </tr>\n",
       "    <tr>\n",
       "      <th>10</th>\n",
       "      <td>ORF9b</td>\n",
       "      <td>885.445037</td>\n",
       "      <td>1341.610261</td>\n",
       "      <td>475.556041</td>\n",
       "      <td>1.504432</td>\n",
       "      <td>0.534751</td>\n",
       "      <td>898.520931</td>\n",
       "      <td>1356.720198</td>\n",
       "      <td>513.714463</td>\n",
       "      <td>1.526342</td>\n",
       "      <td>0.575742</td>\n",
       "    </tr>\n",
       "    <tr>\n",
       "      <th>11</th>\n",
       "      <td>S</td>\n",
       "      <td>953.359698</td>\n",
       "      <td>802.710605</td>\n",
       "      <td>8.499537</td>\n",
       "      <td>0.839090</td>\n",
       "      <td>0.008894</td>\n",
       "      <td>957.739315</td>\n",
       "      <td>805.944184</td>\n",
       "      <td>10.402381</td>\n",
       "      <td>0.843616</td>\n",
       "      <td>0.010887</td>\n",
       "    </tr>\n",
       "    <tr>\n",
       "      <th>12</th>\n",
       "      <td>S1</td>\n",
       "      <td>998.637269</td>\n",
       "      <td>938.849669</td>\n",
       "      <td>11.700609</td>\n",
       "      <td>0.936363</td>\n",
       "      <td>0.011680</td>\n",
       "      <td>1003.955968</td>\n",
       "      <td>943.284225</td>\n",
       "      <td>14.605194</td>\n",
       "      <td>0.942385</td>\n",
       "      <td>0.014595</td>\n",
       "    </tr>\n",
       "  </tbody>\n",
       "</table>\n",
       "</div>"
      ],
      "text/plain": [
       "mut_type   gene       dS_min       dN_min    dStop_min  dN_dS_min  \\\n",
       "0             E   734.856888   644.495419    10.387935   0.854313   \n",
       "1             M  1464.798774   597.706150    20.575281   0.405566   \n",
       "2             N  1596.459655  1262.815040    14.278803   0.790042   \n",
       "3         ORF1a  1040.361348   651.760776     6.771186   0.625168   \n",
       "4         ORF1b   898.948862   474.429890     5.343447   0.526976   \n",
       "5         ORF3a  1180.321633  1485.312946   199.217526   1.248880   \n",
       "6          ORF6  1569.642333   999.452292   793.648241   0.628174   \n",
       "7         ORF7a  1249.402008  1840.467567  2508.019363   1.438972   \n",
       "8         ORF7b   741.433106  1050.915892  1365.871929   1.399486   \n",
       "9          ORF8   878.751646  1491.544273  2163.246638   1.683194   \n",
       "10        ORF9b   885.445037  1341.610261   475.556041   1.504432   \n",
       "11            S   953.359698   802.710605     8.499537   0.839090   \n",
       "12           S1   998.637269   938.849669    11.700609   0.936363   \n",
       "\n",
       "mut_type  dStop_dS_min       dS_max       dN_max    dStop_max  dN_dS_max  \\\n",
       "0             0.013974   758.379035   655.740385    20.264258   0.886089   \n",
       "1             0.013957  1481.395270   607.871592    25.905618   0.414758   \n",
       "2             0.008942  1605.462364  1273.650316    17.656436   0.797797   \n",
       "3             0.006492  1043.274029   654.137135     7.808704   0.628226   \n",
       "4             0.005934   902.335621   476.023064     6.207749   0.529259   \n",
       "5             0.167951  1190.487434  1496.738297   216.674393   1.267381   \n",
       "6             0.502548  1606.496511  1015.817779   841.342109   0.639703   \n",
       "7             1.971554  1279.145009  1865.370717  2569.688265   1.484164   \n",
       "8             1.826378   759.947639  1066.270271  1485.467854   1.434667   \n",
       "9             2.438555   890.440235  1502.235624  2204.217064   1.706534   \n",
       "10            0.534751   898.520931  1356.720198   513.714463   1.526342   \n",
       "11            0.008894   957.739315   805.944184    10.402381   0.843616   \n",
       "12            0.011680  1003.955968   943.284225    14.605194   0.942385   \n",
       "\n",
       "mut_type  dStop_dS_max  \n",
       "0             0.027071  \n",
       "1             0.017658  \n",
       "2             0.010997  \n",
       "3             0.007503  \n",
       "4             0.006897  \n",
       "5             0.182076  \n",
       "6             0.531657  \n",
       "7             2.047144  \n",
       "8             1.988191  \n",
       "9             2.484667  \n",
       "10            0.575742  \n",
       "11            0.010887  \n",
       "12            0.014595  "
      ]
     },
     "execution_count": 171,
     "metadata": {},
     "output_type": "execute_result"
    }
   ],
   "source": [
    "get_ci(diffs,95)"
   ]
  },
  {
   "cell_type": "code",
   "execution_count": 142,
   "id": "42b14e97-9df5-4e52-869b-23f4bb0f7b79",
   "metadata": {},
   "outputs": [
    {
     "data": {
      "text/html": [
       "<div>\n",
       "<style scoped>\n",
       "    .dataframe tbody tr th:only-of-type {\n",
       "        vertical-align: middle;\n",
       "    }\n",
       "\n",
       "    .dataframe tbody tr th {\n",
       "        vertical-align: top;\n",
       "    }\n",
       "\n",
       "    .dataframe thead th {\n",
       "        text-align: right;\n",
       "    }\n",
       "</style>\n",
       "<table border=\"1\" class=\"dataframe\">\n",
       "  <thead>\n",
       "    <tr style=\"text-align: right;\">\n",
       "      <th>mut_type</th>\n",
       "      <th>iteration</th>\n",
       "      <th>gene</th>\n",
       "      <th>missense</th>\n",
       "      <th>nonsense</th>\n",
       "      <th>synonymous</th>\n",
       "      <th>undoStop</th>\n",
       "      <th>dS</th>\n",
       "      <th>dN</th>\n",
       "      <th>dStop</th>\n",
       "      <th>dN_dS</th>\n",
       "      <th>dStop_dS</th>\n",
       "    </tr>\n",
       "  </thead>\n",
       "  <tbody>\n",
       "    <tr>\n",
       "      <th>0</th>\n",
       "      <td>0</td>\n",
       "      <td>E</td>\n",
       "      <td>24219</td>\n",
       "      <td>23</td>\n",
       "      <td>14594</td>\n",
       "      <td>0</td>\n",
       "      <td>749.401773</td>\n",
       "      <td>654.549877</td>\n",
       "      <td>20.464454</td>\n",
       "      <td>0.873430</td>\n",
       "      <td>0.027308</td>\n",
       "    </tr>\n",
       "    <tr>\n",
       "      <th>1</th>\n",
       "      <td>0</td>\n",
       "      <td>M</td>\n",
       "      <td>64127</td>\n",
       "      <td>127</td>\n",
       "      <td>80613</td>\n",
       "      <td>2</td>\n",
       "      <td>1473.734822</td>\n",
       "      <td>605.863918</td>\n",
       "      <td>22.831461</td>\n",
       "      <td>0.411108</td>\n",
       "      <td>0.015492</td>\n",
       "    </tr>\n",
       "    <tr>\n",
       "      <th>2</th>\n",
       "      <td>0</td>\n",
       "      <td>N</td>\n",
       "      <td>243398</td>\n",
       "      <td>363</td>\n",
       "      <td>153455</td>\n",
       "      <td>19</td>\n",
       "      <td>1607.015133</td>\n",
       "      <td>1270.169455</td>\n",
       "      <td>18.197860</td>\n",
       "      <td>0.790390</td>\n",
       "      <td>0.011324</td>\n",
       "    </tr>\n",
       "    <tr>\n",
       "      <th>3</th>\n",
       "      <td>0</td>\n",
       "      <td>ORF1a</td>\n",
       "      <td>1331967</td>\n",
       "      <td>921</td>\n",
       "      <td>1005958</td>\n",
       "      <td>33</td>\n",
       "      <td>1042.105082</td>\n",
       "      <td>654.071677</td>\n",
       "      <td>7.484264</td>\n",
       "      <td>0.627645</td>\n",
       "      <td>0.007182</td>\n",
       "    </tr>\n",
       "    <tr>\n",
       "      <th>4</th>\n",
       "      <td>0</td>\n",
       "      <td>ORF1b</td>\n",
       "      <td>592824</td>\n",
       "      <td>413</td>\n",
       "      <td>531737</td>\n",
       "      <td>9</td>\n",
       "      <td>902.451708</td>\n",
       "      <td>476.044022</td>\n",
       "      <td>5.588361</td>\n",
       "      <td>0.527501</td>\n",
       "      <td>0.006192</td>\n",
       "    </tr>\n",
       "    <tr>\n",
       "      <th>...</th>\n",
       "      <td>...</td>\n",
       "      <td>...</td>\n",
       "      <td>...</td>\n",
       "      <td>...</td>\n",
       "      <td>...</td>\n",
       "      <td>...</td>\n",
       "      <td>...</td>\n",
       "      <td>...</td>\n",
       "      <td>...</td>\n",
       "      <td>...</td>\n",
       "      <td>...</td>\n",
       "    </tr>\n",
       "    <tr>\n",
       "      <th>125</th>\n",
       "      <td>9</td>\n",
       "      <td>ORF7b</td>\n",
       "      <td>22406</td>\n",
       "      <td>1642</td>\n",
       "      <td>8403</td>\n",
       "      <td>21</td>\n",
       "      <td>753.402550</td>\n",
       "      <td>1064.944200</td>\n",
       "      <td>1405.701567</td>\n",
       "      <td>1.413513</td>\n",
       "      <td>1.865804</td>\n",
       "    </tr>\n",
       "    <tr>\n",
       "      <th>126</th>\n",
       "      <td>9</td>\n",
       "      <td>ORF8</td>\n",
       "      <td>85031</td>\n",
       "      <td>9361</td>\n",
       "      <td>23889</td>\n",
       "      <td>4411</td>\n",
       "      <td>886.369961</td>\n",
       "      <td>1491.544273</td>\n",
       "      <td>2181.593605</td>\n",
       "      <td>1.682756</td>\n",
       "      <td>2.461268</td>\n",
       "    </tr>\n",
       "    <tr>\n",
       "      <th>127</th>\n",
       "      <td>9</td>\n",
       "      <td>ORF9b</td>\n",
       "      <td>63144</td>\n",
       "      <td>1333</td>\n",
       "      <td>20198</td>\n",
       "      <td>46</td>\n",
       "      <td>885.818915</td>\n",
       "      <td>1347.411188</td>\n",
       "      <td>485.238979</td>\n",
       "      <td>1.521091</td>\n",
       "      <td>0.547786</td>\n",
       "    </tr>\n",
       "    <tr>\n",
       "      <th>128</th>\n",
       "      <td>9</td>\n",
       "      <td>S</td>\n",
       "      <td>478570</td>\n",
       "      <td>335</td>\n",
       "      <td>273059</td>\n",
       "      <td>6</td>\n",
       "      <td>955.511146</td>\n",
       "      <td>804.060001</td>\n",
       "      <td>8.476764</td>\n",
       "      <td>0.841497</td>\n",
       "      <td>0.008871</td>\n",
       "    </tr>\n",
       "    <tr>\n",
       "      <th>129</th>\n",
       "      <td>9</td>\n",
       "      <td>S1</td>\n",
       "      <td>298211</td>\n",
       "      <td>220</td>\n",
       "      <td>153905</td>\n",
       "      <td>6</td>\n",
       "      <td>1001.222375</td>\n",
       "      <td>942.659523</td>\n",
       "      <td>11.676725</td>\n",
       "      <td>0.941509</td>\n",
       "      <td>0.011662</td>\n",
       "    </tr>\n",
       "  </tbody>\n",
       "</table>\n",
       "<p>130 rows × 11 columns</p>\n",
       "</div>"
      ],
      "text/plain": [
       "mut_type  iteration   gene  missense  nonsense  synonymous  undoStop  \\\n",
       "0                 0      E     24219        23       14594         0   \n",
       "1                 0      M     64127       127       80613         2   \n",
       "2                 0      N    243398       363      153455        19   \n",
       "3                 0  ORF1a   1331967       921     1005958        33   \n",
       "4                 0  ORF1b    592824       413      531737         9   \n",
       "..              ...    ...       ...       ...         ...       ...   \n",
       "125               9  ORF7b     22406      1642        8403        21   \n",
       "126               9   ORF8     85031      9361       23889      4411   \n",
       "127               9  ORF9b     63144      1333       20198        46   \n",
       "128               9      S    478570       335      273059         6   \n",
       "129               9     S1    298211       220      153905         6   \n",
       "\n",
       "mut_type           dS           dN        dStop     dN_dS  dStop_dS  \n",
       "0          749.401773   654.549877    20.464454  0.873430  0.027308  \n",
       "1         1473.734822   605.863918    22.831461  0.411108  0.015492  \n",
       "2         1607.015133  1270.169455    18.197860  0.790390  0.011324  \n",
       "3         1042.105082   654.071677     7.484264  0.627645  0.007182  \n",
       "4          902.451708   476.044022     5.588361  0.527501  0.006192  \n",
       "..                ...          ...          ...       ...       ...  \n",
       "125        753.402550  1064.944200  1405.701567  1.413513  1.865804  \n",
       "126        886.369961  1491.544273  2181.593605  1.682756  2.461268  \n",
       "127        885.818915  1347.411188   485.238979  1.521091  0.547786  \n",
       "128        955.511146   804.060001     8.476764  0.841497  0.008871  \n",
       "129       1001.222375   942.659523    11.676725  0.941509  0.011662  \n",
       "\n",
       "[130 rows x 11 columns]"
      ]
     },
     "execution_count": 142,
     "metadata": {},
     "output_type": "execute_result"
    }
   ],
   "source": [
    "def get_ci_counts(df,genes,ci):\n",
    "    '''\n",
    "    Given df of bootstrap counts, returns dictionary of min & max ci counts.\n",
    "    '''\n",
    "  \n",
    "    df.group_by(genes)\n",
    "    for gene in genes:\n",
    "        values = df[(df.gene==gene)]['count']\n",
    "        print(len(values))\n",
    "        print(np.percentile(values,minimum))\n",
    "        print(np.percentile(values,maximum))\n",
    "        print('--------')\n",
    "        min_counts[mutType][gene] = np.percentile(values,minimum)\n",
    "        max_counts[mutType][gene] = np.percentile(values,maximum)\n",
    "    return min_counts, max_counts"
   ]
  },
  {
   "cell_type": "code",
   "execution_count": null,
   "id": "cf53d39c-3338-4e38-bb96-1b186ad98644",
   "metadata": {},
   "outputs": [],
   "source": []
  },
  {
   "cell_type": "code",
   "execution_count": null,
   "id": "b6cead23-33e2-4f34-ab57-a671a60b1c69",
   "metadata": {},
   "outputs": [],
   "source": []
  },
  {
   "cell_type": "code",
   "execution_count": 48,
   "id": "6897a44d-da0d-41c1-bff8-a5af245764e9",
   "metadata": {},
   "outputs": [
    {
     "data": {
      "text/html": [
       "<div>\n",
       "<style scoped>\n",
       "    .dataframe tbody tr th:only-of-type {\n",
       "        vertical-align: middle;\n",
       "    }\n",
       "\n",
       "    .dataframe tbody tr th {\n",
       "        vertical-align: top;\n",
       "    }\n",
       "\n",
       "    .dataframe thead th {\n",
       "        text-align: right;\n",
       "    }\n",
       "</style>\n",
       "<table border=\"1\" class=\"dataframe\">\n",
       "  <thead>\n",
       "    <tr style=\"text-align: right;\">\n",
       "      <th></th>\n",
       "      <th>gene</th>\n",
       "      <th>mut_type</th>\n",
       "      <th>count</th>\n",
       "      <th>iteration</th>\n",
       "      <th>dS</th>\n",
       "      <th>dN</th>\n",
       "      <th>dStop</th>\n",
       "      <th>dN_dS</th>\n",
       "      <th>dStop_dS</th>\n",
       "    </tr>\n",
       "  </thead>\n",
       "  <tbody>\n",
       "    <tr>\n",
       "      <th>0</th>\n",
       "      <td>E</td>\n",
       "      <td>missense</td>\n",
       "      <td>24219</td>\n",
       "      <td>0</td>\n",
       "      <td>-1.000000</td>\n",
       "      <td>654.549877</td>\n",
       "      <td>-1.000000</td>\n",
       "      <td>-654.549877</td>\n",
       "      <td>1.000000</td>\n",
       "    </tr>\n",
       "    <tr>\n",
       "      <th>1</th>\n",
       "      <td>E</td>\n",
       "      <td>nonsense</td>\n",
       "      <td>23</td>\n",
       "      <td>0</td>\n",
       "      <td>-1.000000</td>\n",
       "      <td>-1.000000</td>\n",
       "      <td>20.464454</td>\n",
       "      <td>1.000000</td>\n",
       "      <td>-20.464454</td>\n",
       "    </tr>\n",
       "    <tr>\n",
       "      <th>2</th>\n",
       "      <td>E</td>\n",
       "      <td>synonymous</td>\n",
       "      <td>14594</td>\n",
       "      <td>0</td>\n",
       "      <td>749.401773</td>\n",
       "      <td>-1.000000</td>\n",
       "      <td>-1.000000</td>\n",
       "      <td>-0.001334</td>\n",
       "      <td>-0.001334</td>\n",
       "    </tr>\n",
       "    <tr>\n",
       "      <th>3</th>\n",
       "      <td>E</td>\n",
       "      <td>undoStop</td>\n",
       "      <td>0</td>\n",
       "      <td>0</td>\n",
       "      <td>-1.000000</td>\n",
       "      <td>-1.000000</td>\n",
       "      <td>-1.000000</td>\n",
       "      <td>1.000000</td>\n",
       "      <td>1.000000</td>\n",
       "    </tr>\n",
       "    <tr>\n",
       "      <th>4</th>\n",
       "      <td>M</td>\n",
       "      <td>missense</td>\n",
       "      <td>64127</td>\n",
       "      <td>0</td>\n",
       "      <td>-1.000000</td>\n",
       "      <td>605.863918</td>\n",
       "      <td>-1.000000</td>\n",
       "      <td>-605.863918</td>\n",
       "      <td>1.000000</td>\n",
       "    </tr>\n",
       "    <tr>\n",
       "      <th>...</th>\n",
       "      <td>...</td>\n",
       "      <td>...</td>\n",
       "      <td>...</td>\n",
       "      <td>...</td>\n",
       "      <td>...</td>\n",
       "      <td>...</td>\n",
       "      <td>...</td>\n",
       "      <td>...</td>\n",
       "      <td>...</td>\n",
       "    </tr>\n",
       "    <tr>\n",
       "      <th>515</th>\n",
       "      <td>S</td>\n",
       "      <td>undoStop</td>\n",
       "      <td>6</td>\n",
       "      <td>9</td>\n",
       "      <td>-1.000000</td>\n",
       "      <td>-1.000000</td>\n",
       "      <td>-1.000000</td>\n",
       "      <td>1.000000</td>\n",
       "      <td>1.000000</td>\n",
       "    </tr>\n",
       "    <tr>\n",
       "      <th>516</th>\n",
       "      <td>S1</td>\n",
       "      <td>missense</td>\n",
       "      <td>298211</td>\n",
       "      <td>9</td>\n",
       "      <td>-1.000000</td>\n",
       "      <td>942.659523</td>\n",
       "      <td>-1.000000</td>\n",
       "      <td>-942.659523</td>\n",
       "      <td>1.000000</td>\n",
       "    </tr>\n",
       "    <tr>\n",
       "      <th>517</th>\n",
       "      <td>S1</td>\n",
       "      <td>nonsense</td>\n",
       "      <td>220</td>\n",
       "      <td>9</td>\n",
       "      <td>-1.000000</td>\n",
       "      <td>-1.000000</td>\n",
       "      <td>11.676725</td>\n",
       "      <td>1.000000</td>\n",
       "      <td>-11.676725</td>\n",
       "    </tr>\n",
       "    <tr>\n",
       "      <th>518</th>\n",
       "      <td>S1</td>\n",
       "      <td>synonymous</td>\n",
       "      <td>153905</td>\n",
       "      <td>9</td>\n",
       "      <td>1001.222375</td>\n",
       "      <td>-1.000000</td>\n",
       "      <td>-1.000000</td>\n",
       "      <td>-0.000999</td>\n",
       "      <td>-0.000999</td>\n",
       "    </tr>\n",
       "    <tr>\n",
       "      <th>519</th>\n",
       "      <td>S1</td>\n",
       "      <td>undoStop</td>\n",
       "      <td>6</td>\n",
       "      <td>9</td>\n",
       "      <td>-1.000000</td>\n",
       "      <td>-1.000000</td>\n",
       "      <td>-1.000000</td>\n",
       "      <td>1.000000</td>\n",
       "      <td>1.000000</td>\n",
       "    </tr>\n",
       "  </tbody>\n",
       "</table>\n",
       "<p>520 rows × 9 columns</p>\n",
       "</div>"
      ],
      "text/plain": [
       "    gene    mut_type   count  iteration           dS          dN      dStop  \\\n",
       "0      E    missense   24219          0    -1.000000  654.549877  -1.000000   \n",
       "1      E    nonsense      23          0    -1.000000   -1.000000  20.464454   \n",
       "2      E  synonymous   14594          0   749.401773   -1.000000  -1.000000   \n",
       "3      E    undoStop       0          0    -1.000000   -1.000000  -1.000000   \n",
       "4      M    missense   64127          0    -1.000000  605.863918  -1.000000   \n",
       "..   ...         ...     ...        ...          ...         ...        ...   \n",
       "515    S    undoStop       6          9    -1.000000   -1.000000  -1.000000   \n",
       "516   S1    missense  298211          9    -1.000000  942.659523  -1.000000   \n",
       "517   S1    nonsense     220          9    -1.000000   -1.000000  11.676725   \n",
       "518   S1  synonymous  153905          9  1001.222375   -1.000000  -1.000000   \n",
       "519   S1    undoStop       6          9    -1.000000   -1.000000  -1.000000   \n",
       "\n",
       "          dN_dS   dStop_dS  \n",
       "0   -654.549877   1.000000  \n",
       "1      1.000000 -20.464454  \n",
       "2     -0.001334  -0.001334  \n",
       "3      1.000000   1.000000  \n",
       "4   -605.863918   1.000000  \n",
       "..          ...        ...  \n",
       "515    1.000000   1.000000  \n",
       "516 -942.659523   1.000000  \n",
       "517    1.000000 -11.676725  \n",
       "518   -0.000999  -0.000999  \n",
       "519    1.000000   1.000000  \n",
       "\n",
       "[520 rows x 9 columns]"
      ]
     },
     "execution_count": 48,
     "metadata": {},
     "output_type": "execute_result"
    }
   ],
   "source": [
    "counted"
   ]
  },
  {
   "cell_type": "code",
   "execution_count": null,
   "id": "36845a0f-1758-4344-9e0a-e5d8213745e1",
   "metadata": {},
   "outputs": [],
   "source": []
  },
  {
   "cell_type": "code",
   "execution_count": 34,
   "id": "76d9a44c-6e9f-468d-b39e-6d7fa506fb2d",
   "metadata": {},
   "outputs": [
    {
     "ename": "NameError",
     "evalue": "name 'count' is not defined",
     "output_type": "error",
     "traceback": [
      "\u001b[0;31m---------------------------------------------------------------------------\u001b[0m",
      "\u001b[0;31mNameError\u001b[0m                                 Traceback (most recent call last)",
      "Cell \u001b[0;32mIn[34], line 1\u001b[0m\n\u001b[0;32m----> 1\u001b[0m \u001b[43mcount\u001b[49m\n",
      "\u001b[0;31mNameError\u001b[0m: name 'count' is not defined"
     ]
    }
   ],
   "source": [
    "count"
   ]
  },
  {
   "cell_type": "markdown",
   "id": "9764f9fa-c2be-4d75-a1ea-06d0da709b41",
   "metadata": {},
   "source": [
    "## 3. Calculate dS - dN - dStop"
   ]
  },
  {
   "cell_type": "code",
   "execution_count": 44,
   "id": "e3f08674-98bd-4bc5-94ca-fd5d69d8f24c",
   "metadata": {},
   "outputs": [],
   "source": [
    "all_syn = {gene:len(final_muts[(final_muts.gene==gene)&(final_muts.mut_type=='synonymous')]) for gene in all_genes}\n",
    "all_missense = {gene:len(final_muts[(final_muts.gene==gene)&(final_muts.mut_type=='missense')]) for gene in all_genes}\n",
    "all_nonsense = {gene:len(final_muts[(final_muts.gene==gene)&(final_muts.mut_type=='nonsense')]) for gene in all_genes}"
   ]
  },
  {
   "cell_type": "code",
   "execution_count": null,
   "id": "f90ac618-0c4d-4f08-a98e-855358e1f866",
   "metadata": {},
   "outputs": [],
   "source": []
  },
  {
   "cell_type": "code",
   "execution_count": 45,
   "id": "8b72b743-e9fd-4604-918f-8a7f76b8ecd9",
   "metadata": {},
   "outputs": [
    {
     "data": {
      "text/plain": [
       "{'ORF1a': 1006032,\n",
       " 'ORF1b': 530552,\n",
       " 'S': 273119,\n",
       " 'S1': 153726,\n",
       " 'ORF3a': 76980,\n",
       " 'E': 14541,\n",
       " 'M': 80598,\n",
       " 'ORF6': 19985,\n",
       " 'ORF7a': 34325,\n",
       " 'ORF7b': 8369,\n",
       " 'ORF8': 23949,\n",
       " 'N': 152729,\n",
       " 'ORF9b': 20238}"
      ]
     },
     "execution_count": 45,
     "metadata": {},
     "output_type": "execute_result"
    }
   ],
   "source": [
    "all_syn"
   ]
  },
  {
   "cell_type": "code",
   "execution_count": 46,
   "id": "e02c4232-e10a-444f-b097-cff7d6ec30b7",
   "metadata": {},
   "outputs": [
    {
     "data": {
      "text/plain": [
       "{'ORF1a': 1328866,\n",
       " 'ORF1b': 592141,\n",
       " 'S': 478556,\n",
       " 'S1': 297532,\n",
       " 'ORF3a': 196513,\n",
       " 'E': 23979,\n",
       " 'M': 63792,\n",
       " 'ORF6': 27946,\n",
       " 'ORF7a': 110025,\n",
       " 'ORF7b': 22295,\n",
       " 'ORF8': 85267,\n",
       " 'N': 243342,\n",
       " 'ORF9b': 63362}"
      ]
     },
     "execution_count": 46,
     "metadata": {},
     "output_type": "execute_result"
    }
   ],
   "source": [
    "all_missense"
   ]
  },
  {
   "cell_type": "code",
   "execution_count": 47,
   "id": "038a9d47-7eea-4f17-b0dc-d42db74a4b11",
   "metadata": {},
   "outputs": [
    {
     "data": {
      "text/plain": [
       "{'ORF1a': 880,\n",
       " 'ORF1b': 418,\n",
       " 'S': 367,\n",
       " 'S1': 239,\n",
       " 'ORF3a': 1684,\n",
       " 'E': 16,\n",
       " 'M': 126,\n",
       " 'ORF6': 1670,\n",
       " 'ORF7a': 8688,\n",
       " 'ORF7b': 1670,\n",
       " 'ORF8': 9313,\n",
       " 'N': 317,\n",
       " 'ORF9b': 1358}"
      ]
     },
     "execution_count": 47,
     "metadata": {},
     "output_type": "execute_result"
    }
   ],
   "source": [
    "all_nonsense"
   ]
  },
  {
   "cell_type": "code",
   "execution_count": null,
   "id": "547ada93-d3f2-4a1a-9c93-ec1b10629e8a",
   "metadata": {},
   "outputs": [],
   "source": []
  },
  {
   "cell_type": "code",
   "execution_count": 48,
   "id": "e8927037-7c9a-4eaa-ba15-8a881bf67561",
   "metadata": {},
   "outputs": [],
   "source": [
    "dS = {gene:all_syn[gene]/syn_denominators[gene] for gene in all_genes}\n",
    "dN = {gene:all_missense[gene]/nonsyn_denominators[gene] for gene in all_genes}\n",
    "dStop = {gene:all_nonsense[gene]/stop_denominators[gene] for gene in all_genes}"
   ]
  },
  {
   "cell_type": "code",
   "execution_count": 50,
   "id": "4ee98f15-6619-41d4-8859-9f973da8d18f",
   "metadata": {},
   "outputs": [
    {
     "name": "stdout",
     "output_type": "stream",
     "text": [
      "     gene           dS           dN        dStop     dN_dS  dStop_dS\n",
      "0   ORF1a  1788.511773   676.110920     4.960269  0.378030  0.002773\n",
      "1   ORF1b  1527.518632   495.271133     4.403693  0.324232  0.002883\n",
      "2       S  1647.850096   854.845025     7.068244  0.518764  0.004289\n",
      "3      S1  1786.913198   998.808082    10.007712  0.558957  0.005601\n",
      "4   ORF3a  1802.186682  1617.110764   156.775568  0.897305  0.086992\n",
      "5       E  1021.684167   765.286037    11.740479  0.749044  0.011491\n",
      "6       M  2023.915022   632.016016    15.357651  0.312274  0.007588\n",
      "7    ORF6  2853.912544  1308.157598   530.114314  0.458373  0.185750\n",
      "8   ORF7a  1863.942259  2115.167427  1631.932588  1.134782  0.875527\n",
      "9   ORF7b  1087.775583  1557.682114   967.842757  1.431988  0.889745\n",
      "10   ORF8  1514.021079  1677.067416  1644.620590  1.107691  1.086260\n",
      "11      N  2171.225308  1179.252899    12.101278  0.543128  0.005573\n",
      "12  ORF9b   919.106542  1343.193700   329.765206  1.461412  0.358789\n"
     ]
    }
   ],
   "source": [
    "to_print = []\n",
    "for gene in all_genes:\n",
    "    to_print.append({'gene':gene, 'dS': dS[gene],'dN': dN[gene],  'dStop': dStop[gene], 'dN_dS':dN[gene]/dS[gene], 'dStop_dS':dStop[gene]/dS[gene]})\n",
    "    \n",
    "df_to_print = pd.DataFrame(to_print)\n",
    "print(df_to_print)\n",
    "df_to_print.to_csv('usher/trimmed/dn_ds_dstop_usher_4foldmutBN.tsv')"
   ]
  },
  {
   "cell_type": "code",
   "execution_count": null,
   "id": "8dbf8369-acc8-4367-b951-97edb2fb6a59",
   "metadata": {},
   "outputs": [],
   "source": [
    "## I'm really struggling to understand why I'm getting such different values for S & S1 compared to Katie."
   ]
  },
  {
   "cell_type": "markdown",
   "id": "52223738-c099-4ba4-8fd5-cb1a8da75b91",
   "metadata": {},
   "source": [
    "## 4. Calculate dN - dS - dStop, excluding terminal branches"
   ]
  },
  {
   "cell_type": "code",
   "execution_count": 173,
   "id": "a07667b5-df4c-4f38-85f8-a2f29bd84c06",
   "metadata": {},
   "outputs": [],
   "source": [
    "noTerm_syn = {gene:len(final_muts[(final_muts.gene==gene)&(final_muts.mut_type=='synonymous')&(final_muts.node_id.str.contains('node'))]) for gene in all_genes}\n",
    "noTerm_missense = {gene:len(final_muts[(final_muts.gene==gene)&(final_muts.mut_type=='missense')&(final_muts.node_id.str.contains('node'))]) for gene in all_genes}\n",
    "noTerm_nonsense = {gene:len(final_muts[(final_muts.gene==gene)&(final_muts.mut_type=='nonsense')&(final_muts.node_id.str.contains('node'))]) for gene in all_genes}"
   ]
  },
  {
   "cell_type": "code",
   "execution_count": 174,
   "id": "a710bd84-3c05-4ed1-a220-cd0933c35484",
   "metadata": {},
   "outputs": [],
   "source": [
    "dS_noTerm = {gene:noTerm_syn[gene]/syn_denominators[gene] for gene in all_genes}\n",
    "dN_noTerm = {gene:noTerm_missense[gene]/nonsyn_denominators[gene] for gene in all_genes}\n",
    "dStop_noTerm = {gene:noTerm_nonsense[gene]/stop_denominators[gene] for gene in all_genes}"
   ]
  },
  {
   "cell_type": "code",
   "execution_count": 175,
   "id": "ae5407c4-ef03-4f50-865a-ca6bad5ef873",
   "metadata": {},
   "outputs": [
    {
     "name": "stdout",
     "output_type": "stream",
     "text": [
      "     gene          dS          dN       dStop     dN_dS  dStop_dS\n",
      "0   ORF1a  399.959226  236.201348    0.479448  0.590564  0.001199\n",
      "1   ORF1b  348.023078  168.751095    0.257092  0.484885  0.000739\n",
      "2       S  371.015146  267.927033    0.860328  0.722146  0.002319\n",
      "3      S1  388.057022  307.709134    1.326901  0.792948  0.003419\n",
      "4   ORF3a  464.995694  572.933426   55.004949  1.232126  0.118291\n",
      "5       E  274.619753  205.048512    4.448794  0.746663  0.016200\n",
      "6       M  566.985620  184.677624    3.415730  0.325718  0.006024\n",
      "7    ORF6  605.081638  344.695878  247.439006  0.569668  0.408935\n",
      "8   ORF7a  489.236145  652.392037  894.960924  1.333491  1.829303\n",
      "9   ORF7b  270.052181  378.761954  556.459207  1.402551  2.060562\n",
      "10   ORF8  339.684248  575.543733  891.887483  1.694349  2.625637\n",
      "11      N  621.788300  437.345794    2.707120  0.703368  0.004354\n",
      "12  ORF9b  314.102142  491.515731  105.201849  1.564828  0.334929\n"
     ]
    }
   ],
   "source": [
    "to_print_noTerm = []\n",
    "for gene in all_genes:\n",
    "    to_print_noTerm.append({'gene':gene, 'dS': dS_noTerm[gene],'dN': dN_noTerm[gene],  'dStop': dStop_noTerm[gene], 'dN_dS':dN_noTerm[gene]/dS_noTerm[gene], 'dStop_dS':dStop_noTerm[gene]/dS_noTerm[gene]})\n",
    "    \n",
    "df_to_print_noTerm = pd.DataFrame(to_print_noTerm)\n",
    "print(df_to_print_noTerm)\n",
    "df_to_print_noTerm.to_csv('usher/trimmed/dn_ds_dstop_usher_noTerminalBranches.tsv')"
   ]
  },
  {
   "cell_type": "code",
   "execution_count": null,
   "id": "89e8ca20-73ff-4d08-b789-b60db417dfe7",
   "metadata": {},
   "outputs": [],
   "source": [
    "## Think about bootstrapping these values??\n",
    "\n",
    "## ORF7a dN/dS is much lower when comparing to OG sequence --> suggests high rate of back mutation\n",
    "\n",
    "## Actually katie did not compare to OG -- she compared to predecessor"
   ]
  },
  {
   "cell_type": "markdown",
   "id": "292c5e27-9054-472f-9226-81ca84e53674",
   "metadata": {},
   "source": [
    "## 5. Just by gene length"
   ]
  },
  {
   "cell_type": "code",
   "execution_count": 183,
   "id": "92e7fe1f-7dd4-4c80-a063-f8d577a152f3",
   "metadata": {},
   "outputs": [],
   "source": [
    "lengths = {k:(v.end - v.start)/3 for k,v in location_by_gene.items()}"
   ]
  },
  {
   "cell_type": "code",
   "execution_count": 184,
   "id": "71945546-08a5-4a77-a961-727998088a17",
   "metadata": {},
   "outputs": [],
   "source": [
    "syn_scaled = {gene:all_syn[gene]/lengths[gene] for gene in all_genes}\n",
    "missense_scaled = {gene:all_missense[gene]/lengths[gene] for gene in all_genes}\n",
    "stop_scaled = {gene:all_nonsense[gene]/lengths[gene] for gene in all_genes}"
   ]
  },
  {
   "cell_type": "code",
   "execution_count": 186,
   "id": "a157cd04-cf64-46a0-b322-7d392230df83",
   "metadata": {},
   "outputs": [
    {
     "name": "stdout",
     "output_type": "stream",
     "text": [
      "     gene         syn    missense       stop\n",
      "0   ORF1a  228.591684  301.946376   0.199955\n",
      "1   ORF1b  196.792285  219.636869   0.155045\n",
      "2       S  214.379121  375.632653   0.288069\n",
      "3      S1  228.419019  442.098068   0.355126\n",
      "4   ORF3a  278.913043  712.003623   6.101449\n",
      "5       E  191.328947  315.513158   0.210526\n",
      "6       M  361.426009  286.062780   0.565022\n",
      "7    ORF6  322.338710  450.741935  26.935484\n",
      "8   ORF7a  281.352459  901.844262  71.213115\n",
      "9   ORF7b  190.204545  506.704545  37.954545\n",
      "10   ORF8  196.303279  698.909836  76.336066\n",
      "11      N  363.640476  579.385714   0.754762\n",
      "12  ORF9b  206.510204  646.551020  13.857143\n"
     ]
    }
   ],
   "source": [
    "to_print_scaled = []\n",
    "for gene in all_genes:\n",
    "    to_print_scaled.append({'gene':gene, 'syn': syn_scaled[gene],'missense':missense_scaled[gene], 'stop': stop_scaled[gene]})\n",
    "    \n",
    "df_to_print_scaled = pd.DataFrame(to_print_scaled)\n",
    "print(df_to_print_scaled)\n",
    "#df_to_print_noTerm.to_csv('usher/trimmed/dn_ds_dstop_usher_noTerminalBranches.tsv')"
   ]
  },
  {
   "cell_type": "code",
   "execution_count": null,
   "id": "d67536ce-0a7d-4098-a929-7af2e14b6ea2",
   "metadata": {},
   "outputs": [],
   "source": []
  },
  {
   "cell_type": "code",
   "execution_count": 180,
   "id": "7ab1b71c-ae67-4082-ad02-8918517a33aa",
   "metadata": {},
   "outputs": [
    {
     "data": {
      "text/plain": [
       "0      10000\n",
       "1      10000\n",
       "2      10000\n",
       "3      10000\n",
       "4      10000\n",
       "       ...  \n",
       "338    10000\n",
       "339    10000\n",
       "340    10000\n",
       "341    10000\n",
       "342     2474\n",
       "Name: chunkSize, Length: 343, dtype: int64"
      ]
     },
     "execution_count": 180,
     "metadata": {},
     "output_type": "execute_result"
    }
   ],
   "source": [
    "df.chunkSize"
   ]
  },
  {
   "cell_type": "code",
   "execution_count": 179,
   "id": "7b232a1f-92a3-46b8-bbc1-32c28b8575cb",
   "metadata": {},
   "outputs": [],
   "source": [
    "df = pd.read_table('usher/trimmed/bootstrap_chunksizes.txt',header=None,names=['chunkSize'])"
   ]
  }
 ],
 "metadata": {
  "kernelspec": {
   "display_name": "Python [conda env:orf8ko]",
   "language": "python",
   "name": "conda-env-orf8ko-py"
  },
  "language_info": {
   "codemirror_mode": {
    "name": "ipython",
    "version": 3
   },
   "file_extension": ".py",
   "mimetype": "text/x-python",
   "name": "python",
   "nbconvert_exporter": "python",
   "pygments_lexer": "ipython3",
   "version": "3.10.9"
  }
 },
 "nbformat": 4,
 "nbformat_minor": 5
}
