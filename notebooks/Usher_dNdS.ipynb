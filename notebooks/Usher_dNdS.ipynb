{
 "cells": [
  {
   "cell_type": "markdown",
   "id": "fe835b64-b0ee-4af4-add9-b02da7c0b755",
   "metadata": {},
   "source": [
    "# dN - dStop - dS on usher SARS-Cov-2 tree\n",
    "This notebook is based loosely off Katie's original dN-dStop-dS notebook on a nextstrain ncov tree. Here I'm applying the same idea to the Usher SARS-CoV-2 tree. \n",
    "\n",
    "One key point that took me some time to get: There is no time in this calculation! It is just the number of synonymous or nonsynonymous or stop mutations over the expected number of such sites based on the genome sequence and a substitution matrix. That's why we divide by dS because these values aren't really interpretable without dS."
   ]
  },
  {
   "cell_type": "code",
   "execution_count": 1,
   "id": "eb55f1bd-0180-4309-83e3-2bea1feac215",
   "metadata": {},
   "outputs": [],
   "source": [
    "import os\n",
    "from Bio import SeqIO\n",
    "import pandas as pd\n",
    "import numpy as np"
   ]
  },
  {
   "cell_type": "code",
   "execution_count": 2,
   "id": "5124443c-c817-4f58-988b-e48c208cf2ba",
   "metadata": {},
   "outputs": [],
   "source": [
    "os.chdir('/Users/cwagner2/Work/projects/covid/long-deletions/')"
   ]
  },
  {
   "cell_type": "markdown",
   "id": "180d3811-d7b2-4b3e-95bc-d89b1a6b7336",
   "metadata": {},
   "source": [
    "## 1. Generate expected number of sites\n",
    "This is all Kathryn Kistler's OG code"
   ]
  },
  {
   "cell_type": "code",
   "execution_count": 3,
   "id": "f0e4896b-961e-4ce4-9736-55f42f4b976d",
   "metadata": {},
   "outputs": [],
   "source": [
    "location_by_gene = {}\n",
    "\n",
    "#with open(\"reference_seq_S1.gb\") as reference_handle:\n",
    "with open(\"sars2_wS1_ref.gb\") as reference_handle:\n",
    "    for record in SeqIO.parse(reference_handle, \"genbank\"):\n",
    "        wuhan_seq = record.seq\n",
    "        for feature in record.features:\n",
    "            if feature.type == 'CDS':\n",
    "                gene = feature.qualifiers['gene'][0]\n",
    "                location = feature.location\n",
    "                location_by_gene[gene] = location\n",
    "\n"
   ]
  },
  {
   "cell_type": "code",
   "execution_count": 4,
   "id": "90d423fa-0193-43e3-9074-f3ece74b9330",
   "metadata": {},
   "outputs": [
    {
     "data": {
      "text/plain": [
       "{'ORF1a': SimpleLocation(ExactPosition(265), ExactPosition(13468), strand=1),\n",
       " 'ORF1b': SimpleLocation(ExactPosition(13467), ExactPosition(21555), strand=1),\n",
       " 'S': SimpleLocation(ExactPosition(21562), ExactPosition(25384), strand=1),\n",
       " 'S1': SimpleLocation(ExactPosition(21598), ExactPosition(23617), strand=1),\n",
       " 'ORF3a': SimpleLocation(ExactPosition(25392), ExactPosition(26220), strand=1),\n",
       " 'E': SimpleLocation(ExactPosition(26244), ExactPosition(26472), strand=1),\n",
       " 'M': SimpleLocation(ExactPosition(26522), ExactPosition(27191), strand=1),\n",
       " 'ORF6': SimpleLocation(ExactPosition(27201), ExactPosition(27387), strand=1),\n",
       " 'ORF7a': SimpleLocation(ExactPosition(27393), ExactPosition(27759), strand=1),\n",
       " 'ORF7b': SimpleLocation(ExactPosition(27755), ExactPosition(27887), strand=1),\n",
       " 'ORF8': SimpleLocation(ExactPosition(27893), ExactPosition(28259), strand=1),\n",
       " 'N': SimpleLocation(ExactPosition(28273), ExactPosition(29533), strand=1),\n",
       " 'ORF9b': SimpleLocation(ExactPosition(28283), ExactPosition(28577), strand=1)}"
      ]
     },
     "execution_count": 4,
     "metadata": {},
     "output_type": "execute_result"
    }
   ],
   "source": [
    "location_by_gene"
   ]
  },
  {
   "cell_type": "code",
   "execution_count": 5,
   "id": "dee4f4cf-9cad-4e71-ab28-ea452c7c86b9",
   "metadata": {},
   "outputs": [],
   "source": [
    "all_genes = list(location_by_gene.keys())"
   ]
  },
  {
   "cell_type": "code",
   "execution_count": 6,
   "id": "c3b22eca-5b1f-4cff-9e5f-d11cf4315005",
   "metadata": {},
   "outputs": [],
   "source": [
    "#extract the sequence of each gene, and find it's constituent codon sequences\n",
    "codons_by_gene = {}\n",
    "\n",
    "for g, l in location_by_gene.items():\n",
    "    gene_sequence = l.extract(wuhan_seq)\n",
    "    #split into codons\n",
    "    gene_codons = [gene_sequence[i:i+3] for i in range(0, len(gene_sequence), 3)]\n",
    "    codons_by_gene[g] = gene_codons\n",
    "    \n",
    "#because indexing is 0-based, but codons count from 1, need to use codons_by_gene[gene][codon-1]"
   ]
  },
  {
   "cell_type": "code",
   "execution_count": 7,
   "id": "51821df9-2b05-41b4-be74-dfa3c94f736e",
   "metadata": {},
   "outputs": [],
   "source": [
    "#make mapper of nt position to codon position (within gene)\n",
    "#codon_index_by_pos = {}\n",
    "#for g, l in location_by_gene.items():\n",
    "    #map to S, not S1. And map to N, not 9b\n",
    " #   if g not in ['S1', 'ORF9b']:\n",
    "        #start at 1!\n",
    "  #      positions_grouped_into_codons = [[i+1,i+2,i+3] for i in range(l.start, l.end, 3)]\n",
    "   #     for i in range(len(positions_grouped_into_codons)):\n",
    "    #        for j in range(len(positions_grouped_into_codons[i])):\n",
    "     #           pos = positions_grouped_into_codons[i][j]\n",
    "      #          codon_index_by_pos[pos] = {'gene':g, 'codon': i+1, 'codon_pos': j}\n",
    "            \n",
    "#for all positions not in a gene, specify 'noncoding'\n",
    "#for x in range(len(wuhan_seq)+1):\n",
    " #   if x not in codon_index_by_pos.keys():\n",
    "  #      codon_index_by_pos[x] = {'gene':'Noncoding'}"
   ]
  },
  {
   "cell_type": "code",
   "execution_count": 8,
   "id": "a89d6822-2f47-48aa-ae57-18e1b9a80821",
   "metadata": {},
   "outputs": [],
   "source": [
    "#make mapper of nt position to codon position within orf9b\n",
    "#codon_index_by_pos_orf9b = {}\n",
    "#for g, l in location_by_gene.items():\n",
    " #   if g == 'ORF9b':\n",
    "  #      #start at 1!\n",
    "   #     positions_grouped_into_codons = [[i+1,i+2,i+3] for i in range(l.start, l.end, 3)]\n",
    "    #    for i in range(len(positions_grouped_into_codons)):\n",
    "     #       for j in range(len(positions_grouped_into_codons[i])):\n",
    "      #          pos = positions_grouped_into_codons[i][j]\n",
    "       #         codon_index_by_pos_orf9b[pos] = {'gene':g, 'codon': i+1, 'codon_pos': j}"
   ]
  },
  {
   "cell_type": "code",
   "execution_count": 9,
   "id": "d25ea799-e755-4dbe-a09b-7877458f6803",
   "metadata": {},
   "outputs": [],
   "source": [
    "#substitution matrix from https://www.sciencedirect.com/science/article/pii/S1567134821004287\n",
    "#format is {from_A:{to_T:x, to_C:x, to_G:x}, from_T:{to_A:x, ...}, ...}\n",
    "\n",
    "sub_matrix = {'A': {'T': 0.0383, 'C': 0.0219, 'G': 0.0747},\n",
    "          'T': {'A': 0.0356, 'C': 0.2085, 'G': 0.0234},\n",
    "          'C': {'A': 0.0356, 'T': 0.3648, 'G': 0.0234},\n",
    "          'G': {'A': 0.1138, 'T': 0.0383, 'C': 0.0219}}"
   ]
  },
  {
   "cell_type": "code",
   "execution_count": 10,
   "id": "71062268-5395-4284-8e2c-905d95382ec9",
   "metadata": {},
   "outputs": [],
   "source": [
    "all_nts = ['A', 'T', 'C', 'G']"
   ]
  },
  {
   "cell_type": "code",
   "execution_count": 11,
   "id": "ea8d36ce-6334-406f-894c-70a25a090189",
   "metadata": {},
   "outputs": [],
   "source": [
    "#introduce every possible mutation * probability that that mutation occurs (given A->T, oR A->G, etc), \n",
    "#and find whether it is synonymous or not\n",
    "#total the number of synonymous and nonsynonymous sites per gene\n",
    "\n",
    "syn_denominators ={}\n",
    "nonsyn_denominators ={}\n",
    "stop_denominators = {}\n",
    "\n",
    "for gene, codons in codons_by_gene.items():\n",
    "    nonsyn_sites_per_gene = 0\n",
    "    syn_sites_per_gene = 0\n",
    "    stop_sites_per_gene = 0\n",
    "    \n",
    "    #walk through codons\n",
    "    for codon in codons:\n",
    "        original_aa = codon.translate()\n",
    "        \n",
    "        #for each position in the codon\n",
    "        for i in range(len(codon)):\n",
    "            #wuhan nt\n",
    "            nt = codon[i]\n",
    "            #introduce each other mutation\n",
    "            for mut in [x for x in all_nts if x!=nt]:\n",
    "                mut_codon = codon[:i]+mut+codon[i+1:]\n",
    "                mut_aa = mut_codon.translate()\n",
    "                #find whether nonsynonymous\n",
    "                if mut_aa != original_aa:\n",
    "                    #find whether this is a stop codon\n",
    "                    if mut_aa =='*':\n",
    "                        #get the probability of this mutation\n",
    "                        #add to the total number of stop sites\n",
    "                        stop_sites_per_gene+=sub_matrix[nt][mut]\n",
    "                    else:\n",
    "                        #or the total number of nonsyn sites\n",
    "                        nonsyn_sites_per_gene+=sub_matrix[nt][mut]\n",
    "                #or synonymous\n",
    "                elif mut_aa == original_aa:\n",
    "                    syn_sites_per_gene+=sub_matrix[nt][mut]\n",
    "                    \n",
    "    syn_denominators[gene] = syn_sites_per_gene\n",
    "    nonsyn_denominators[gene] = nonsyn_sites_per_gene\n",
    "    stop_denominators[gene] = stop_sites_per_gene"
   ]
  },
  {
   "cell_type": "code",
   "execution_count": 12,
   "id": "5c2ca50a-bdcd-47c2-a24e-20e8b733224e",
   "metadata": {},
   "outputs": [
    {
     "data": {
      "text/plain": [
       "{'ORF1a': 965.313399999992,\n",
       " 'ORF1b': 589.2138000000007,\n",
       " 'S': 285.77269999999635,\n",
       " 'S1': 153.71709999999982,\n",
       " 'ORF3a': 64.80060000000032,\n",
       " 'E': 19.474200000000007,\n",
       " 'M': 54.699800000000174,\n",
       " 'ORF6': 12.598300000000005,\n",
       " 'ORF7a': 27.299699999999966,\n",
       " 'ORF7b': 11.153400000000003,\n",
       " 'ORF8': 26.9515,\n",
       " 'N': 95.4907000000009,\n",
       " 'ORF9b': 22.801499999999994}"
      ]
     },
     "execution_count": 12,
     "metadata": {},
     "output_type": "execute_result"
    }
   ],
   "source": [
    "syn_denominators"
   ]
  },
  {
   "cell_type": "code",
   "execution_count": 13,
   "id": "84a75664-b477-40ea-a9de-74beb8525bce",
   "metadata": {},
   "outputs": [
    {
     "data": {
      "text/plain": [
       "{'ORF1a': 2036.4235999996595,\n",
       " 'ORF1b': 1245.31339999995,\n",
       " 'S': 595.1919000000037,\n",
       " 'S1': 316.35069999999456,\n",
       " 'ORF3a': 131.76400000000203,\n",
       " 'E': 37.00099999999997,\n",
       " 'M': 105.84390000000141,\n",
       " 'ORF6': 27.751999999999896,\n",
       " 'ORF7a': 59.49950000000032,\n",
       " 'ORF7b': 21.03959999999997,\n",
       " 'ORF8': 57.00870000000031,\n",
       " 'N': 191.62639999999817,\n",
       " 'ORF9b': 46.86320000000012}"
      ]
     },
     "execution_count": 13,
     "metadata": {},
     "output_type": "execute_result"
    }
   ],
   "source": [
    "nonsyn_denominators"
   ]
  },
  {
   "cell_type": "markdown",
   "id": "242b2f47-b0b6-4e23-8de9-69e691b66809",
   "metadata": {},
   "source": [
    "## 2. Make mutations df"
   ]
  },
  {
   "cell_type": "code",
   "execution_count": 169,
   "id": "9c56d4ca-6ccb-4c50-9ea7-0c35ceeebea6",
   "metadata": {},
   "outputs": [],
   "source": [
    "with open('usher/trimmed/usher_translations.tsv','r') as f:\n",
    "    muts = pd.read_csv(f,sep='\\t')"
   ]
  },
  {
   "cell_type": "code",
   "execution_count": 170,
   "id": "1ab0a471-b19d-4ab3-88d2-8d8b5dc37e6a",
   "metadata": {},
   "outputs": [],
   "source": [
    "muts.iloc[0:1000,:].to_csv('usher/trimmed/test_translations.tsv',sep='\\t',index=False)"
   ]
  },
  {
   "cell_type": "code",
   "execution_count": 15,
   "id": "6a24fbb8-6b4d-4e72-9a5d-44c9bd65fdcc",
   "metadata": {},
   "outputs": [],
   "source": [
    "## Split up nodes with multiple mutations into single mutations\n",
    "muts['aa_mutations'] = muts.aa_mutations.str.split(';')\n",
    "muts['nt_mutations'] = muts.nt_mutations.str.split(';')\n",
    "muts['codon_changes'] = muts.codon_changes.str.split(';')\n",
    "all_muts = muts.explode(['aa_mutations','nt_mutations','codon_changes'],ignore_index=True)"
   ]
  },
  {
   "cell_type": "code",
   "execution_count": 16,
   "id": "450653e5-11fc-4f93-b3b7-bdff8a2e8e65",
   "metadata": {},
   "outputs": [],
   "source": [
    "## Label with gene\n",
    "all_muts[['gene','aa_mutation']] = all_muts['aa_mutations'].str.split(':',expand=True)\n",
    "all_muts.drop(columns=['aa_mutations'],inplace=True)"
   ]
  },
  {
   "cell_type": "code",
   "execution_count": 122,
   "id": "23d2608a-4fae-46a2-bbca-19e948b8ca3f",
   "metadata": {},
   "outputs": [],
   "source": [
    "gene_aa = {k:wuhan_seq[v.start:v.end].translate() for k,v in location_by_gene.items()}"
   ]
  },
  {
   "cell_type": "code",
   "execution_count": 124,
   "id": "2ae5646a-8135-4133-b54b-fe1aeea65572",
   "metadata": {},
   "outputs": [
    {
     "data": {
      "text/plain": [
       "{'ORF1a': Seq('MESLVPGFNEKTHVQLSLPVLQVRDVLVRGFGDSVEEVLSEARQHLKDGTCGLV...FLN'),\n",
       " 'ORF1b': Seq('RVCGVSAARLTPCGTGTSTDVVYRAFDIYNDKVAGFAKFLKTNCCRFQEKDEDD...NN*'),\n",
       " 'S': Seq('MFVFLVLLPLVSSQCVNLTTRTQLPPAYTNSFTRGVYYPDKVFRSSVLHSTQDL...YT*'),\n",
       " 'S1': Seq('SQCVNLTTRTQLPPAYTNSFTRGVYYPDKVFRSSVLHSTQDLFLPFFSNVTWFH...RAR'),\n",
       " 'ORF3a': Seq('MDLFMRIFTIGTVTLKQGEIKDATPSDFVRATATIPIQASLPFGWLIVGVALLA...PL*'),\n",
       " 'E': Seq('MYSFVSEETGTLIVNSVLLFLAFVVFLLVTLAILTALRLCAYCCNIVNVSLVKP...LV*'),\n",
       " 'M': Seq('MADSNGTITVEELKKLLEQWNLVIGFLFLTWICLLQFAYANRNRFLYIIKLIFL...VQ*'),\n",
       " 'ORF6': Seq('MFHLVDFQVTIAEILLIIMRTFKVSIWNLDYIINLIIKNLSKSLTENKYSQLDE...ID*'),\n",
       " 'ORF7a': Seq('MKIILFLALITLATCELYHYQECVRGTTVLLKEPCSSGTYEGNSPFHPLADNKF...TE*'),\n",
       " 'ORF7b': Seq('MIELSLIDFYLCFLAFLLFLVLIMLIIFWFSLELQDHNETCHA*'),\n",
       " 'ORF8': Seq('MKFLVFLGIITTVAAFHQECSLQSCTQHQPYVVDDPCPIHFYSKWYIRVGARKS...FI*'),\n",
       " 'N': Seq('MSDNGPQNQRNAPRITFGGPSDSTGSNQNGERSGARSKQRRPQGLPNNTASWFT...QA*'),\n",
       " 'ORF9b': Seq('MDPKISEMHPALRLVDPQIQLAVTRMENAVGRDQNNVGPKVYPIILRLGSPLSL...VK*')}"
      ]
     },
     "execution_count": 124,
     "metadata": {},
     "output_type": "execute_result"
    }
   ],
   "source": [
    "gene_aa"
   ]
  },
  {
   "cell_type": "code",
   "execution_count": 133,
   "id": "4866b430-c94e-4822-80ea-b64b9b1908df",
   "metadata": {},
   "outputs": [],
   "source": [
    "def get_aa(row):\n",
    "    return gene_aa[row['gene']][row['residue']-1]"
   ]
  },
  {
   "cell_type": "code",
   "execution_count": 17,
   "id": "07684c28-f306-47fb-8ee2-ba29fc50e361",
   "metadata": {},
   "outputs": [],
   "source": [
    "## Classify mutation type\n",
    "all_muts['residue'] = pd.to_numeric(all_muts.aa_mutation.str[1:-1])\n",
    "\n",
    "# What type of mutation compared to Wuhan-Hu-1\n",
    "#all_muts['new_aa'] = all_muts.aa_mutation.str[-1]\n",
    "#all_muts['og_aa'] = all_muts['og_aa'] = all_muts.apply(get_aa,axis=1)\n",
    "#all_muts['mut_type'] = np.where(all_muts.og_aa==all_muts.new_aa,'synonymous','missense')\n",
    "#all_muts['mut_type'] = np.where(all_muts.aa_mutation.str[-1]=='*','nonsense',all_muts['mut_type'])\n",
    "\n",
    "\n",
    "# What type of mutation compared to predecessor\n",
    "all_muts['mut_type'] = np.where(all_muts.aa_mutation.str[-1]==all_muts.aa_mutation.str[0],'synonymous','missense')\n",
    "all_muts['mut_type'] = np.where(all_muts.aa_mutation.str[-1]=='*','nonsense',all_muts['mut_type'])\n",
    "all_muts['mut_type'] = np.where(all_muts.aa_mutation.str[0]=='*','undoStop',all_muts['mut_type'])"
   ]
  },
  {
   "cell_type": "code",
   "execution_count": 166,
   "id": "e84f485f-a0ea-450c-bb7e-4f6fd635663f",
   "metadata": {},
   "outputs": [
    {
     "data": {
      "text/html": [
       "<div>\n",
       "<style scoped>\n",
       "    .dataframe tbody tr th:only-of-type {\n",
       "        vertical-align: middle;\n",
       "    }\n",
       "\n",
       "    .dataframe tbody tr th {\n",
       "        vertical-align: top;\n",
       "    }\n",
       "\n",
       "    .dataframe thead th {\n",
       "        text-align: right;\n",
       "    }\n",
       "</style>\n",
       "<table border=\"1\" class=\"dataframe\">\n",
       "  <thead>\n",
       "    <tr style=\"text-align: right;\">\n",
       "      <th></th>\n",
       "      <th>node_id</th>\n",
       "      <th>nt_mutations</th>\n",
       "      <th>codon_changes</th>\n",
       "      <th>leaves_sharing_mutations</th>\n",
       "      <th>gene</th>\n",
       "      <th>aa_mutation</th>\n",
       "      <th>mut_type</th>\n",
       "      <th>residue</th>\n",
       "      <th>og_aa</th>\n",
       "      <th>new_aa</th>\n",
       "    </tr>\n",
       "  </thead>\n",
       "  <tbody>\n",
       "    <tr>\n",
       "      <th>0</th>\n",
       "      <td>CHN/YN-0306-466/2020|MT396241.1|2020-03-06</td>\n",
       "      <td>G15910T</td>\n",
       "      <td>GAT&gt;TAT</td>\n",
       "      <td>1</td>\n",
       "      <td>ORF1b</td>\n",
       "      <td>D815Y</td>\n",
       "      <td>missense</td>\n",
       "      <td>815</td>\n",
       "      <td>D</td>\n",
       "      <td>Y</td>\n",
       "    </tr>\n",
       "    <tr>\n",
       "      <th>1</th>\n",
       "      <td>DP0803|LC571037.1|2020-02-17</td>\n",
       "      <td>G4162T</td>\n",
       "      <td>GTG&gt;GTT</td>\n",
       "      <td>1</td>\n",
       "      <td>ORF1a</td>\n",
       "      <td>V1299V</td>\n",
       "      <td>synonymous</td>\n",
       "      <td>1299</td>\n",
       "      <td>V</td>\n",
       "      <td>V</td>\n",
       "    </tr>\n",
       "    <tr>\n",
       "      <th>2</th>\n",
       "      <td>node_2</td>\n",
       "      <td>T13090C</td>\n",
       "      <td>GAT&gt;GAC</td>\n",
       "      <td>2</td>\n",
       "      <td>ORF1a</td>\n",
       "      <td>D4275D</td>\n",
       "      <td>synonymous</td>\n",
       "      <td>4275</td>\n",
       "      <td>D</td>\n",
       "      <td>D</td>\n",
       "    </tr>\n",
       "    <tr>\n",
       "      <th>3</th>\n",
       "      <td>England/LEED-2A8B52/2020|OA971832.1|2020-04-04</td>\n",
       "      <td>C1191T</td>\n",
       "      <td>CCA&gt;CTA</td>\n",
       "      <td>1</td>\n",
       "      <td>ORF1a</td>\n",
       "      <td>P309L</td>\n",
       "      <td>missense</td>\n",
       "      <td>309</td>\n",
       "      <td>P</td>\n",
       "      <td>L</td>\n",
       "    </tr>\n",
       "    <tr>\n",
       "      <th>4</th>\n",
       "      <td>England/LEED-2A8B52/2020|OA971832.1|2020-04-04</td>\n",
       "      <td>C11674T</td>\n",
       "      <td>TAC&gt;TAT</td>\n",
       "      <td>1</td>\n",
       "      <td>ORF1a</td>\n",
       "      <td>Y3803Y</td>\n",
       "      <td>synonymous</td>\n",
       "      <td>3803</td>\n",
       "      <td>Y</td>\n",
       "      <td>Y</td>\n",
       "    </tr>\n",
       "    <tr>\n",
       "      <th>...</th>\n",
       "      <td>...</td>\n",
       "      <td>...</td>\n",
       "      <td>...</td>\n",
       "      <td>...</td>\n",
       "      <td>...</td>\n",
       "      <td>...</td>\n",
       "      <td>...</td>\n",
       "      <td>...</td>\n",
       "      <td>...</td>\n",
       "      <td>...</td>\n",
       "    </tr>\n",
       "    <tr>\n",
       "      <th>5508953</th>\n",
       "      <td>Netherlands/NoordBrabant_60/2020|LR878078.1|20...</td>\n",
       "      <td>T6163A</td>\n",
       "      <td>GAT&gt;GAA</td>\n",
       "      <td>1</td>\n",
       "      <td>ORF1a</td>\n",
       "      <td>D1966E</td>\n",
       "      <td>missense</td>\n",
       "      <td>1966</td>\n",
       "      <td>D</td>\n",
       "      <td>E</td>\n",
       "    </tr>\n",
       "    <tr>\n",
       "      <th>5508954</th>\n",
       "      <td>Netherlands/NoordBrabant_60/2020|LR878078.1|20...</td>\n",
       "      <td>C12923A</td>\n",
       "      <td>CCT&gt;ACT</td>\n",
       "      <td>1</td>\n",
       "      <td>ORF1a</td>\n",
       "      <td>P4220T</td>\n",
       "      <td>missense</td>\n",
       "      <td>4220</td>\n",
       "      <td>P</td>\n",
       "      <td>T</td>\n",
       "    </tr>\n",
       "    <tr>\n",
       "      <th>5508955</th>\n",
       "      <td>Netherlands/NoordBrabant_60/2020|LR878078.1|20...</td>\n",
       "      <td>C13430T</td>\n",
       "      <td>CCC&gt;TCC</td>\n",
       "      <td>1</td>\n",
       "      <td>ORF1a</td>\n",
       "      <td>P4389S</td>\n",
       "      <td>missense</td>\n",
       "      <td>4389</td>\n",
       "      <td>P</td>\n",
       "      <td>S</td>\n",
       "    </tr>\n",
       "    <tr>\n",
       "      <th>5508956</th>\n",
       "      <td>Netherlands/NoordBrabant_60/2020|LR878078.1|20...</td>\n",
       "      <td>C19366T</td>\n",
       "      <td>CCA&gt;TCA</td>\n",
       "      <td>1</td>\n",
       "      <td>ORF1b</td>\n",
       "      <td>P1967S</td>\n",
       "      <td>missense</td>\n",
       "      <td>1967</td>\n",
       "      <td>P</td>\n",
       "      <td>S</td>\n",
       "    </tr>\n",
       "    <tr>\n",
       "      <th>5508957</th>\n",
       "      <td>Netherlands/NoordBrabant_60/2020|LR878078.1|20...</td>\n",
       "      <td>T28110C</td>\n",
       "      <td>TAC&gt;CAC</td>\n",
       "      <td>1</td>\n",
       "      <td>ORF8</td>\n",
       "      <td>Y73H</td>\n",
       "      <td>missense</td>\n",
       "      <td>73</td>\n",
       "      <td>Y</td>\n",
       "      <td>H</td>\n",
       "    </tr>\n",
       "  </tbody>\n",
       "</table>\n",
       "<p>5508958 rows × 10 columns</p>\n",
       "</div>"
      ],
      "text/plain": [
       "                                                   node_id nt_mutations  \\\n",
       "0               CHN/YN-0306-466/2020|MT396241.1|2020-03-06      G15910T   \n",
       "1                             DP0803|LC571037.1|2020-02-17       G4162T   \n",
       "2                                                   node_2      T13090C   \n",
       "3           England/LEED-2A8B52/2020|OA971832.1|2020-04-04       C1191T   \n",
       "4           England/LEED-2A8B52/2020|OA971832.1|2020-04-04      C11674T   \n",
       "...                                                    ...          ...   \n",
       "5508953  Netherlands/NoordBrabant_60/2020|LR878078.1|20...       T6163A   \n",
       "5508954  Netherlands/NoordBrabant_60/2020|LR878078.1|20...      C12923A   \n",
       "5508955  Netherlands/NoordBrabant_60/2020|LR878078.1|20...      C13430T   \n",
       "5508956  Netherlands/NoordBrabant_60/2020|LR878078.1|20...      C19366T   \n",
       "5508957  Netherlands/NoordBrabant_60/2020|LR878078.1|20...      T28110C   \n",
       "\n",
       "        codon_changes  leaves_sharing_mutations   gene aa_mutation  \\\n",
       "0             GAT>TAT                         1  ORF1b       D815Y   \n",
       "1             GTG>GTT                         1  ORF1a      V1299V   \n",
       "2             GAT>GAC                         2  ORF1a      D4275D   \n",
       "3             CCA>CTA                         1  ORF1a       P309L   \n",
       "4             TAC>TAT                         1  ORF1a      Y3803Y   \n",
       "...               ...                       ...    ...         ...   \n",
       "5508953       GAT>GAA                         1  ORF1a      D1966E   \n",
       "5508954       CCT>ACT                         1  ORF1a      P4220T   \n",
       "5508955       CCC>TCC                         1  ORF1a      P4389S   \n",
       "5508956       CCA>TCA                         1  ORF1b      P1967S   \n",
       "5508957       TAC>CAC                         1   ORF8        Y73H   \n",
       "\n",
       "           mut_type  residue og_aa new_aa  \n",
       "0          missense      815     D      Y  \n",
       "1        synonymous     1299     V      V  \n",
       "2        synonymous     4275     D      D  \n",
       "3          missense      309     P      L  \n",
       "4        synonymous     3803     Y      Y  \n",
       "...             ...      ...   ...    ...  \n",
       "5508953    missense     1966     D      E  \n",
       "5508954    missense     4220     P      T  \n",
       "5508955    missense     4389     P      S  \n",
       "5508956    missense     1967     P      S  \n",
       "5508957    missense       73     Y      H  \n",
       "\n",
       "[5508958 rows x 10 columns]"
      ]
     },
     "execution_count": 166,
     "metadata": {},
     "output_type": "execute_result"
    }
   ],
   "source": [
    "all_muts"
   ]
  },
  {
   "cell_type": "code",
   "execution_count": 167,
   "id": "9bd008d2-347c-45b0-a9be-38da51710ac3",
   "metadata": {},
   "outputs": [
    {
     "data": {
      "text/plain": [
       "True"
      ]
     },
     "execution_count": 167,
     "metadata": {},
     "output_type": "execute_result"
    }
   ],
   "source": [
    "gene_aa['S'][12:685]==gene_aa['S1']"
   ]
  },
  {
   "cell_type": "code",
   "execution_count": 18,
   "id": "ee673c59-23b8-4bab-be1d-d2bb754b253c",
   "metadata": {},
   "outputs": [],
   "source": [
    " ## Add S1\n",
    "S1 = all_muts[(all_muts.gene=='S')&(all_muts.residue >= 13)&(all_muts.residue<=685)].reset_index(drop=True)\n",
    "S1['gene'] = 'S1'\n",
    "final_muts = pd.concat([all_muts,S1])"
   ]
  },
  {
   "cell_type": "code",
   "execution_count": 169,
   "id": "aecef1aa-f252-465d-8efc-f9417fcdc5eb",
   "metadata": {},
   "outputs": [
    {
     "data": {
      "text/html": [
       "<div>\n",
       "<style scoped>\n",
       "    .dataframe tbody tr th:only-of-type {\n",
       "        vertical-align: middle;\n",
       "    }\n",
       "\n",
       "    .dataframe tbody tr th {\n",
       "        vertical-align: top;\n",
       "    }\n",
       "\n",
       "    .dataframe thead th {\n",
       "        text-align: right;\n",
       "    }\n",
       "</style>\n",
       "<table border=\"1\" class=\"dataframe\">\n",
       "  <thead>\n",
       "    <tr style=\"text-align: right;\">\n",
       "      <th></th>\n",
       "      <th>node_id</th>\n",
       "      <th>nt_mutations</th>\n",
       "      <th>codon_changes</th>\n",
       "      <th>leaves_sharing_mutations</th>\n",
       "      <th>gene</th>\n",
       "      <th>aa_mutation</th>\n",
       "      <th>mut_type</th>\n",
       "      <th>residue</th>\n",
       "      <th>og_aa</th>\n",
       "      <th>new_aa</th>\n",
       "    </tr>\n",
       "  </thead>\n",
       "  <tbody>\n",
       "    <tr>\n",
       "      <th>0</th>\n",
       "      <td>England/PHEC-1E01E/2020|2020-04-03</td>\n",
       "      <td>C22445T</td>\n",
       "      <td>CCT&gt;TCT</td>\n",
       "      <td>1</td>\n",
       "      <td>S1</td>\n",
       "      <td>P295S</td>\n",
       "      <td>missense</td>\n",
       "      <td>295</td>\n",
       "      <td>P</td>\n",
       "      <td>S</td>\n",
       "    </tr>\n",
       "    <tr>\n",
       "      <th>1</th>\n",
       "      <td>England/LIVE-A9C05/2020|2020-03-24</td>\n",
       "      <td>C23603T</td>\n",
       "      <td>CCT&gt;TCT</td>\n",
       "      <td>1</td>\n",
       "      <td>S1</td>\n",
       "      <td>P681S</td>\n",
       "      <td>missense</td>\n",
       "      <td>681</td>\n",
       "      <td>P</td>\n",
       "      <td>S</td>\n",
       "    </tr>\n",
       "    <tr>\n",
       "      <th>2</th>\n",
       "      <td>node_28</td>\n",
       "      <td>G23611T</td>\n",
       "      <td>CGG&gt;CGT</td>\n",
       "      <td>2</td>\n",
       "      <td>S1</td>\n",
       "      <td>R683R</td>\n",
       "      <td>synonymous</td>\n",
       "      <td>683</td>\n",
       "      <td>R</td>\n",
       "      <td>R</td>\n",
       "    </tr>\n",
       "    <tr>\n",
       "      <th>3</th>\n",
       "      <td>England/BIRM-61D60/2020|2020-03-25</td>\n",
       "      <td>C21767T</td>\n",
       "      <td>CAT&gt;TAT</td>\n",
       "      <td>1</td>\n",
       "      <td>S1</td>\n",
       "      <td>H69Y</td>\n",
       "      <td>missense</td>\n",
       "      <td>69</td>\n",
       "      <td>H</td>\n",
       "      <td>Y</td>\n",
       "    </tr>\n",
       "    <tr>\n",
       "      <th>4</th>\n",
       "      <td>node_31</td>\n",
       "      <td>A23403G</td>\n",
       "      <td>GAT&gt;GGT</td>\n",
       "      <td>2</td>\n",
       "      <td>S1</td>\n",
       "      <td>D614G</td>\n",
       "      <td>missense</td>\n",
       "      <td>614</td>\n",
       "      <td>D</td>\n",
       "      <td>G</td>\n",
       "    </tr>\n",
       "  </tbody>\n",
       "</table>\n",
       "</div>"
      ],
      "text/plain": [
       "                              node_id nt_mutations codon_changes  \\\n",
       "0  England/PHEC-1E01E/2020|2020-04-03      C22445T       CCT>TCT   \n",
       "1  England/LIVE-A9C05/2020|2020-03-24      C23603T       CCT>TCT   \n",
       "2                             node_28      G23611T       CGG>CGT   \n",
       "3  England/BIRM-61D60/2020|2020-03-25      C21767T       CAT>TAT   \n",
       "4                             node_31      A23403G       GAT>GGT   \n",
       "\n",
       "   leaves_sharing_mutations gene aa_mutation    mut_type  residue og_aa new_aa  \n",
       "0                         1   S1       P295S    missense      295     P      S  \n",
       "1                         1   S1       P681S    missense      681     P      S  \n",
       "2                         2   S1       R683R  synonymous      683     R      R  \n",
       "3                         1   S1        H69Y    missense       69     H      Y  \n",
       "4                         2   S1       D614G    missense      614     D      G  "
      ]
     },
     "execution_count": 169,
     "metadata": {},
     "output_type": "execute_result"
    }
   ],
   "source": [
    "S1.head()"
   ]
  },
  {
   "cell_type": "code",
   "execution_count": 19,
   "id": "bb7c2dd2-2884-47b9-9a70-3acaa952f6f0",
   "metadata": {},
   "outputs": [
    {
     "data": {
      "text/plain": [
       "Index(['node_id', 'nt_mutations', 'codon_changes', 'leaves_sharing_mutations',\n",
       "       'gene', 'aa_mutation', 'residue', 'mut_type'],\n",
       "      dtype='object')"
      ]
     },
     "execution_count": 19,
     "metadata": {},
     "output_type": "execute_result"
    }
   ],
   "source": [
    "final_muts.columns"
   ]
  },
  {
   "cell_type": "code",
   "execution_count": 20,
   "id": "28bc750a-bf33-4c19-a607-c5e656e9b699",
   "metadata": {},
   "outputs": [
    {
     "data": {
      "text/plain": [
       "5960462"
      ]
     },
     "execution_count": 20,
     "metadata": {},
     "output_type": "execute_result"
    }
   ],
   "source": [
    "len(final_muts)"
   ]
  },
  {
   "cell_type": "code",
   "execution_count": 54,
   "id": "5977fe55-7636-4efb-b191-ea0be146c068",
   "metadata": {},
   "outputs": [],
   "source": [
    "from random import choices\n",
    "from itertools import compress\n"
   ]
  },
  {
   "cell_type": "code",
   "execution_count": 103,
   "id": "c390762c-0f1c-46ac-af58-fce376880a98",
   "metadata": {},
   "outputs": [],
   "source": [
    "%load_ext line_profiler"
   ]
  },
  {
   "cell_type": "code",
   "execution_count": 131,
   "id": "193adba8-bf2e-482d-bd5e-56d83b895990",
   "metadata": {},
   "outputs": [],
   "source": [
    "def flatten(l):\n",
    "    return [item for sublist in l for item in sublist]\n",
    "\n",
    "def draw_samples1(df,n):\n",
    "    '''\n",
    "    Draws random samples with replacement of node ids for bootstrap.\n",
    "    Returns indexes of random samples.\n",
    "    '''\n",
    "    ids = df['node_id'].unique()\n",
    "    #idxs = {ID:df.index[df['node_id']==ID].to_list() for ID in ids}\n",
    "    idxs = {ID:list(np.where(df['node_id']==ID)) for ID in ids}\n",
    "    length  = len(ids)\n",
    "    sample_ids = {iterat:choices(ids,k=length) for iterat in range(n)}\n",
    "    sample_idxs = {iterat:flatten([idxs[ID] for ID in sample_ids[iterat]]) for iterat in range(n)}\n",
    "    return sample_idxs\n",
    "\n",
    "def draw_samples2(df,n):\n",
    "    '''\n",
    "    Draws random samples with replacement of node ids for bootstrap.\n",
    "    Returns indexes of random samples.\n",
    "    '''\n",
    "    ids = df['node_id'].unique()\n",
    "    idxs = {ID:df.index[df['node_id']==ID].to_list() for ID in ids}\n",
    "    #idxs = {ID:np.where(df['node_id']==ID) for ID in ids}\n",
    "    length  = len(ids)\n",
    "    sample_ids = {iterat:choices(ids,k=length) for iterat in range(n)}\n",
    "    sample_idxs = {iterat:flatten([idxs[ID] for ID in sample_ids[iterat]]) for iterat in range(n)}\n",
    "    return sample_idxs\n",
    "\n",
    "def draw_samples(df,n):\n",
    "    '''\n",
    "    Draws random samples with replacement of node ids for bootstrap.\n",
    "    Returns indexes of random samples.\n",
    "    '''\n",
    "    ids = df['node_id'].unique()\n",
    "    idxs = {ID:np.flatnonzero(df['node_id']==ID) for ID in ids}\n",
    "    length  = len(ids)\n",
    "    sample_ids = {iterat:choices(ids,k=length) for iterat in range(n)}\n",
    "    sample_idxs = {iterat:np.concatenate([idxs[ID] for ID in sample_ids[iterat]]) for iterat in range(n)}\n",
    "    return sample_idxs\n",
    "\n",
    "\n",
    "def draw_genes(samples,genes,df):\n",
    "    '''\n",
    "    Returns indexes of random samples for each gene.\n",
    "    '''\n",
    "    bootstrap_genes = {}\n",
    "    for k in samples.keys():\n",
    "        bootstrap_genes[k] = {}\n",
    "        for gene in genes:\n",
    "            filt = df.iloc[samples[k],4].values == gene\n",
    "            subset = compress(samples[k],filt)\n",
    "            bootstrap_genes[k][gene] = list(subset)\n",
    "    return bootstrap_genes\n",
    "\n",
    "def draw_counts(gene_samples,genes,df):\n",
    "    '''\n",
    "    Returns df of counts per gene by mutation type for each iteration.\n",
    "    '''\n",
    "    iterations = []\n",
    "    the_genes = []\n",
    "    mutTypes = []\n",
    "    counts = []\n",
    "    for k in gene_samples.keys():\n",
    "        iterations.extend([k]*len(genes)*3)\n",
    "        for gene in genes:\n",
    "            the_genes.extend([gene]*3)\n",
    "            for mut_type in ['synonymous','missense','nonsense']:\n",
    "                filt = df.iloc[gene_samples[k][gene],7].values == mut_type\n",
    "                subset = compress(gene_samples[k][gene],filt)\n",
    "                count = sum(1 for x in subset)\n",
    "                mutTypes.append(mut_type)\n",
    "                counts.append(count)\n",
    "    bootstrap = pd.DataFrame({'bootstrap':iterations,'gene':the_genes,'mutType':mutTypes,'count':counts})\n",
    "    return bootstrap\n",
    "        \n",
    "## Next figure out how to draw muts\n",
    "            \n"
   ]
  },
  {
   "cell_type": "code",
   "execution_count": 141,
   "id": "7c971a5f-f737-4dc1-987a-e0ebb39bf931",
   "metadata": {},
   "outputs": [
    {
     "data": {
      "text/plain": [
       "Timer unit: 1e-09 s\n",
       "\n",
       "Total time: 54.7085 s\n",
       "File: /var/folders/b5/2grxct1x69395r8j6vkk07bc0000gp/T/ipykernel_2572/538387251.py\n",
       "Function: draw_samples1 at line 4\n",
       "\n",
       "Line #      Hits         Time  Per Hit   % Time  Line Contents\n",
       "==============================================================\n",
       "     4                                           def draw_samples1(df,n):\n",
       "     5                                               '''\n",
       "     6                                               Draws random samples with replacement of node ids for bootstrap.\n",
       "     7                                               Returns indexes of random samples.\n",
       "     8                                               '''\n",
       "     9         1   28698000.0 28698000.0      0.1      ids = df['node_id'].unique()\n",
       "    10                                               #idxs = {ID:df.index[df['node_id']==ID].to_list() for ID in ids}\n",
       "    11         1 54550195000.0 54550195000.0     99.7      idxs = {ID:list(np.where(df['node_id']==ID)) for ID in ids}\n",
       "    12         1       4000.0   4000.0      0.0      length  = len(ids)\n",
       "    13         1   56690000.0 56690000.0      0.1      sample_ids = {iterat:choices(ids,k=length) for iterat in range(n)}\n",
       "    14         1   72882000.0 72882000.0      0.1      sample_idxs = {iterat:flatten([idxs[ID] for ID in sample_ids[iterat]]) for iterat in range(n)}\n",
       "    15         1          0.0      0.0      0.0      return sample_idxs"
      ]
     },
     "metadata": {},
     "output_type": "display_data"
    }
   ],
   "source": [
    "lprun -f draw_samples1 samples = draw_samples1(final_muts.iloc[0:1000,:],1000)"
   ]
  },
  {
   "cell_type": "code",
   "execution_count": 142,
   "id": "031d53ec-1141-466e-a982-23d28af651fa",
   "metadata": {},
   "outputs": [
    {
     "data": {
      "text/plain": [
       "Timer unit: 1e-09 s\n",
       "\n",
       "Total time: 55.1689 s\n",
       "File: /var/folders/b5/2grxct1x69395r8j6vkk07bc0000gp/T/ipykernel_2572/538387251.py\n",
       "Function: draw_samples2 at line 17\n",
       "\n",
       "Line #      Hits         Time  Per Hit   % Time  Line Contents\n",
       "==============================================================\n",
       "    17                                           def draw_samples2(df,n):\n",
       "    18                                               '''\n",
       "    19                                               Draws random samples with replacement of node ids for bootstrap.\n",
       "    20                                               Returns indexes of random samples.\n",
       "    21                                               '''\n",
       "    22         1    5291000.0 5291000.0      0.0      ids = df['node_id'].unique()\n",
       "    23         1 55017066000.0 55017066000.0     99.7      idxs = {ID:df.index[df['node_id']==ID].to_list() for ID in ids}\n",
       "    24                                               #idxs = {ID:np.where(df['node_id']==ID) for ID in ids}\n",
       "    25         1       9000.0   9000.0      0.0      length  = len(ids)\n",
       "    26         1   56091000.0 56091000.0      0.1      sample_ids = {iterat:choices(ids,k=length) for iterat in range(n)}\n",
       "    27         1   90413000.0 90413000.0      0.2      sample_idxs = {iterat:flatten([idxs[ID] for ID in sample_ids[iterat]]) for iterat in range(n)}\n",
       "    28         1       1000.0   1000.0      0.0      return sample_idxs"
      ]
     },
     "metadata": {},
     "output_type": "display_data"
    }
   ],
   "source": [
    "lprun -f draw_samples2 samples = draw_samples2(final_muts.iloc[0:50000,:],10)"
   ]
  },
  {
   "cell_type": "code",
   "execution_count": 157,
   "id": "7689fa2a-8187-464e-9410-489ab1b06418",
   "metadata": {},
   "outputs": [
    {
     "data": {
      "text/plain": [
       "Timer unit: 1e-09 s\n",
       "\n",
       "Total time: 0.488776 s\n",
       "File: /var/folders/b5/2grxct1x69395r8j6vkk07bc0000gp/T/ipykernel_2572/538387251.py\n",
       "Function: draw_samples3 at line 30\n",
       "\n",
       "Line #      Hits         Time  Per Hit   % Time  Line Contents\n",
       "==============================================================\n",
       "    30                                           def draw_samples3(df,n):\n",
       "    31                                               '''\n",
       "    32                                               Draws random samples with replacement of node ids for bootstrap.\n",
       "    33                                               Returns indexes of random samples.\n",
       "    34                                               '''\n",
       "    35         1    5630000.0 5630000.0      1.2      ids = df['node_id'].unique()\n",
       "    36                                               #idxs = {ID:df.index[df['node_id']==ID].to_list() for ID in ids}\n",
       "    37                                               #idxs = {ID:list(np.where(df['node_id']==ID)) for ID in ids}\n",
       "    38         1  105645000.0 105645000.0     21.6      idxs = {ID:np.flatnonzero(df['node_id']==ID) for ID in ids}\n",
       "    39         1       1000.0   1000.0      0.0      length  = len(ids)\n",
       "    40         1  158317000.0 158317000.0     32.4      sample_ids = {iterat:choices(ids,k=length) for iterat in range(n)}\n",
       "    41         1  219182000.0 219182000.0     44.8      sample_idxs = {iterat:np.concatenate([idxs[ID] for ID in sample_ids[iterat]]) for iterat in range(n)}\n",
       "    42         1       1000.0   1000.0      0.0      return sample_idxs"
      ]
     },
     "metadata": {},
     "output_type": "display_data"
    }
   ],
   "source": [
    "lprun -f draw_samples3 samples = draw_samples3(final_muts.iloc[0:1000,:],1000)"
   ]
  },
  {
   "cell_type": "code",
   "execution_count": 158,
   "id": "8b0ddd9a-ca79-4a56-b3e2-18c711034f9e",
   "metadata": {},
   "outputs": [],
   "source": [
    "gene_samples = draw_genes(samples,all_genes,final_muts)"
   ]
  },
  {
   "cell_type": "code",
   "execution_count": 159,
   "id": "fb7c1771-0a29-42d1-9874-3a0325d31179",
   "metadata": {},
   "outputs": [],
   "source": [
    "counts = draw_counts(gene_samples,all_genes,final_muts)"
   ]
  },
  {
   "cell_type": "code",
   "execution_count": 160,
   "id": "1364f771-e19a-4f0b-bf9b-685265a0d17a",
   "metadata": {},
   "outputs": [
    {
     "data": {
      "text/html": [
       "<div>\n",
       "<style scoped>\n",
       "    .dataframe tbody tr th:only-of-type {\n",
       "        vertical-align: middle;\n",
       "    }\n",
       "\n",
       "    .dataframe tbody tr th {\n",
       "        vertical-align: top;\n",
       "    }\n",
       "\n",
       "    .dataframe thead th {\n",
       "        text-align: right;\n",
       "    }\n",
       "</style>\n",
       "<table border=\"1\" class=\"dataframe\">\n",
       "  <thead>\n",
       "    <tr style=\"text-align: right;\">\n",
       "      <th></th>\n",
       "      <th>bootstrap</th>\n",
       "      <th>gene</th>\n",
       "      <th>mutType</th>\n",
       "      <th>count</th>\n",
       "    </tr>\n",
       "  </thead>\n",
       "  <tbody>\n",
       "    <tr>\n",
       "      <th>0</th>\n",
       "      <td>0</td>\n",
       "      <td>ORF1a</td>\n",
       "      <td>synonymous</td>\n",
       "      <td>183</td>\n",
       "    </tr>\n",
       "    <tr>\n",
       "      <th>1</th>\n",
       "      <td>0</td>\n",
       "      <td>ORF1a</td>\n",
       "      <td>missense</td>\n",
       "      <td>239</td>\n",
       "    </tr>\n",
       "    <tr>\n",
       "      <th>2</th>\n",
       "      <td>0</td>\n",
       "      <td>ORF1a</td>\n",
       "      <td>nonsense</td>\n",
       "      <td>0</td>\n",
       "    </tr>\n",
       "    <tr>\n",
       "      <th>3</th>\n",
       "      <td>0</td>\n",
       "      <td>ORF1b</td>\n",
       "      <td>synonymous</td>\n",
       "      <td>85</td>\n",
       "    </tr>\n",
       "    <tr>\n",
       "      <th>4</th>\n",
       "      <td>0</td>\n",
       "      <td>ORF1b</td>\n",
       "      <td>missense</td>\n",
       "      <td>126</td>\n",
       "    </tr>\n",
       "    <tr>\n",
       "      <th>...</th>\n",
       "      <td>...</td>\n",
       "      <td>...</td>\n",
       "      <td>...</td>\n",
       "      <td>...</td>\n",
       "    </tr>\n",
       "    <tr>\n",
       "      <th>38995</th>\n",
       "      <td>999</td>\n",
       "      <td>N</td>\n",
       "      <td>missense</td>\n",
       "      <td>68</td>\n",
       "    </tr>\n",
       "    <tr>\n",
       "      <th>38996</th>\n",
       "      <td>999</td>\n",
       "      <td>N</td>\n",
       "      <td>nonsense</td>\n",
       "      <td>0</td>\n",
       "    </tr>\n",
       "    <tr>\n",
       "      <th>38997</th>\n",
       "      <td>999</td>\n",
       "      <td>ORF9b</td>\n",
       "      <td>synonymous</td>\n",
       "      <td>2</td>\n",
       "    </tr>\n",
       "    <tr>\n",
       "      <th>38998</th>\n",
       "      <td>999</td>\n",
       "      <td>ORF9b</td>\n",
       "      <td>missense</td>\n",
       "      <td>16</td>\n",
       "    </tr>\n",
       "    <tr>\n",
       "      <th>38999</th>\n",
       "      <td>999</td>\n",
       "      <td>ORF9b</td>\n",
       "      <td>nonsense</td>\n",
       "      <td>0</td>\n",
       "    </tr>\n",
       "  </tbody>\n",
       "</table>\n",
       "<p>39000 rows × 4 columns</p>\n",
       "</div>"
      ],
      "text/plain": [
       "       bootstrap   gene     mutType  count\n",
       "0              0  ORF1a  synonymous    183\n",
       "1              0  ORF1a    missense    239\n",
       "2              0  ORF1a    nonsense      0\n",
       "3              0  ORF1b  synonymous     85\n",
       "4              0  ORF1b    missense    126\n",
       "...          ...    ...         ...    ...\n",
       "38995        999      N    missense     68\n",
       "38996        999      N    nonsense      0\n",
       "38997        999  ORF9b  synonymous      2\n",
       "38998        999  ORF9b    missense     16\n",
       "38999        999  ORF9b    nonsense      0\n",
       "\n",
       "[39000 rows x 4 columns]"
      ]
     },
     "execution_count": 160,
     "metadata": {},
     "output_type": "execute_result"
    }
   ],
   "source": [
    "counts"
   ]
  },
  {
   "cell_type": "code",
   "execution_count": 166,
   "id": "1a033ec6-f8b5-4a7e-ba32-de1ee2b95cdf",
   "metadata": {},
   "outputs": [],
   "source": [
    "def get_ci_counts(df,genes,ci):\n",
    "    '''\n",
    "    Given df of bootstrap counts, returns dictionary of min & max ci counts.\n",
    "    '''\n",
    "    min_counts = {}\n",
    "    max_counts = {}\n",
    "    for mutType in df['mutType'].unique():\n",
    "        min_counts[mutType] = {}\n",
    "        max_counts[mutType] = {}\n",
    "        for gene in genes:\n",
    "            values = df[(df.gene==gene) & (df.mutType==mutType)]['count']\n",
    "            minimum = 100-ci/2\n",
    "            maximum = 100-minimum\n",
    "            min_counts[mutType][gene] = np.percentile(values,minimum)\n",
    "            max_counts[mutType][gene] = np.percentile(values,maximum)\n",
    "    return min_counts, max_counts"
   ]
  },
  {
   "cell_type": "code",
   "execution_count": 167,
   "id": "15fa5d98-7084-4594-8219-b75e0981ab88",
   "metadata": {},
   "outputs": [],
   "source": [
    "minimum_counts,maximum_counts = get_ci_counts(counts,all_genes,95)"
   ]
  },
  {
   "cell_type": "code",
   "execution_count": 168,
   "id": "e5fdfb64-2f79-49ae-82eb-ef1d22904369",
   "metadata": {},
   "outputs": [
    {
     "data": {
      "text/plain": [
       "{'synonymous': {'ORF1a': 181.0,\n",
       "  'ORF1b': 83.0,\n",
       "  'S': 40.0,\n",
       "  'S1': 0.0,\n",
       "  'ORF3a': 11.0,\n",
       "  'E': 6.0,\n",
       "  'M': 12.0,\n",
       "  'ORF6': 5.0,\n",
       "  'ORF7a': 4.0,\n",
       "  'ORF7b': 2.0,\n",
       "  'ORF8': 6.0,\n",
       "  'N': 28.0,\n",
       "  'ORF9b': 3.0},\n",
       " 'missense': {'ORF1a': 241.0,\n",
       "  'ORF1b': 136.0,\n",
       "  'S': 80.0,\n",
       "  'S1': 0.0,\n",
       "  'ORF3a': 37.0,\n",
       "  'E': 9.0,\n",
       "  'M': 11.0,\n",
       "  'ORF6': 5.0,\n",
       "  'ORF7a': 5.0,\n",
       "  'ORF7b': 2.0,\n",
       "  'ORF8': 12.0,\n",
       "  'N': 61.0,\n",
       "  'ORF9b': 15.0},\n",
       " 'nonsense': {'ORF1a': 0.0,\n",
       "  'ORF1b': 1.0,\n",
       "  'S': 1.0,\n",
       "  'S1': 0.0,\n",
       "  'ORF3a': 1.0,\n",
       "  'E': 0.0,\n",
       "  'M': 0.0,\n",
       "  'ORF6': 1.0,\n",
       "  'ORF7a': 1.0,\n",
       "  'ORF7b': 0.0,\n",
       "  'ORF8': 3.0,\n",
       "  'N': 0.0,\n",
       "  'ORF9b': 0.0}}"
      ]
     },
     "execution_count": 168,
     "metadata": {},
     "output_type": "execute_result"
    }
   ],
   "source": [
    "minimum_counts"
   ]
  },
  {
   "cell_type": "code",
   "execution_count": 53,
   "id": "2ae4c03e-c3e3-4bf5-83b6-425fb6e892bf",
   "metadata": {},
   "outputs": [
    {
     "data": {
      "text/plain": [
       "False"
      ]
     },
     "execution_count": 53,
     "metadata": {},
     "output_type": "execute_result"
    }
   ],
   "source": [
    "grab = samples[0]\n",
    "\n",
    "final_muts.iloc[grab,]._is_view"
   ]
  },
  {
   "cell_type": "code",
   "execution_count": 144,
   "id": "20254e82-cdca-4dbe-b056-e30d182ed4b6",
   "metadata": {},
   "outputs": [],
   "source": [
    "denominators = {'synonymous':syn_denominators,'missense':nonsyn_denominators,'nonsense':stop_denominators}\n"
   ]
  },
  {
   "cell_type": "code",
   "execution_count": 151,
   "id": "86bc711d-f455-44c1-b921-2d4214aec071",
   "metadata": {},
   "outputs": [],
   "source": [
    "def get_counts(df, genes):\n",
    "    all_syn = {gene:len(df[(df.gene==gene)&(df.mut_type=='synonymous')]) for gene in genes}\n",
    "    all_missense = {gene:len(df[(df.gene==gene)&(df.mut_type=='missense')]) for gene in genes}\n",
    "    all_nonsense = {gene:len(df[(df.gene==gene)&(df.mut_type=='nonsense')]) for gene in genes}\n",
    "    counts = {'synonymous':all_syn,'missense':all_missense,'nonsense':all_nonsense}\n",
    "    return counts\n",
    "\n",
    "def get_differences(counts,denominators,genes):\n",
    "    diffs = {}\n",
    "    for mutType in counts.keys():\n",
    "        diffs[mutType] = {gene:counts[mutType][gene]/denominators[mutType][gene] for gene in genes}\n",
    "    return diffs"
   ]
  },
  {
   "cell_type": "code",
   "execution_count": 149,
   "id": "585efce4-deb4-444a-92e0-f92db2258d3f",
   "metadata": {},
   "outputs": [],
   "source": [
    "counted = get_counts(final_muts.iloc[0:1000],all_genes)"
   ]
  },
  {
   "cell_type": "code",
   "execution_count": null,
   "id": "98ab4276-1a1e-474f-a17f-f93ce7dd43a7",
   "metadata": {},
   "outputs": [],
   "source": [
    "counte"
   ]
  },
  {
   "cell_type": "code",
   "execution_count": 153,
   "id": "4a94848a-91e4-4242-ad5c-83022b79acce",
   "metadata": {},
   "outputs": [
    {
     "data": {
      "text/plain": [
       "{'synonymous': {'ORF1a': 0.1864679388061965,\n",
       "  'ORF1b': 0.14086567558329405,\n",
       "  'S': 0.13997138285077795,\n",
       "  'S1': 0.0,\n",
       "  'ORF3a': 0.1697515146464685,\n",
       "  'E': 0.3080999476230088,\n",
       "  'M': 0.21937922990577594,\n",
       "  'ORF6': 0.3968789439845057,\n",
       "  'ORF7a': 0.14652175664934064,\n",
       "  'ORF7b': 0.17931751752828728,\n",
       "  'ORF8': 0.22262211750737437,\n",
       "  'N': 0.2932222719071044,\n",
       "  'ORF9b': 0.13157029142819554},\n",
       " 'missense': {'ORF1a': 0.11834472945611134,\n",
       "  'ORF1b': 0.1084064461203143,\n",
       "  'S': 0.13273030093319402,\n",
       "  'S1': 0.0,\n",
       "  'ORF3a': 0.28080507574147284,\n",
       "  'E': 0.24323666927920887,\n",
       "  'M': 0.1039266315772553,\n",
       "  'ORF6': 0.18016719515710647,\n",
       "  'ORF7a': 0.08403431961613078,\n",
       "  'ORF7b': 0.09505884142284086,\n",
       "  'ORF8': 0.21049418772924017,\n",
       "  'N': 0.31832774607256925,\n",
       "  'ORF9b': 0.3200805749500666},\n",
       " 'nonsense': {'ORF1a': 0.0,\n",
       "  'ORF1b': 0.013531140566900574,\n",
       "  'S': 0.025303771780221574,\n",
       "  'S1': 0.0,\n",
       "  'ORF3a': 0.1252960118279438,\n",
       "  'E': 0.0,\n",
       "  'M': 0.0,\n",
       "  'ORF6': 0.4948780125699015,\n",
       "  'ORF7a': 0.2916132042458882,\n",
       "  'ORF7b': 0.0,\n",
       "  'ORF8': 0.6991540236314062,\n",
       "  'N': 0.0,\n",
       "  'ORF9b': 0.0}}"
      ]
     },
     "execution_count": 153,
     "metadata": {},
     "output_type": "execute_result"
    }
   ],
   "source": [
    "get_differences(counted,denominators,all_genes)"
   ]
  },
  {
   "cell_type": "code",
   "execution_count": null,
   "id": "e17a10b9-5e63-42c3-80b1-b33b4bae5caa",
   "metadata": {},
   "outputs": [],
   "source": []
  },
  {
   "cell_type": "code",
   "execution_count": null,
   "id": "e0883c62-cdd8-48e8-9ae2-e97122dd8525",
   "metadata": {},
   "outputs": [],
   "source": []
  },
  {
   "cell_type": "code",
   "execution_count": null,
   "id": "76d9a44c-6e9f-468d-b39e-6d7fa506fb2d",
   "metadata": {},
   "outputs": [],
   "source": []
  },
  {
   "cell_type": "markdown",
   "id": "9764f9fa-c2be-4d75-a1ea-06d0da709b41",
   "metadata": {},
   "source": [
    "## 3. Calculate dS - dN - dStop"
   ]
  },
  {
   "cell_type": "code",
   "execution_count": 170,
   "id": "e3f08674-98bd-4bc5-94ca-fd5d69d8f24c",
   "metadata": {},
   "outputs": [],
   "source": [
    "all_syn = {gene:len(final_muts[(final_muts.gene==gene)&(final_muts.mut_type=='synonymous')]) for gene in all_genes}\n",
    "all_missense = {gene:len(final_muts[(final_muts.gene==gene)&(final_muts.mut_type=='missense')]) for gene in all_genes}\n",
    "all_nonsense = {gene:len(final_muts[(final_muts.gene==gene)&(final_muts.mut_type=='nonsense')]) for gene in all_genes}"
   ]
  },
  {
   "cell_type": "code",
   "execution_count": 182,
   "id": "f90ac618-0c4d-4f08-a98e-855358e1f866",
   "metadata": {},
   "outputs": [],
   "source": []
  },
  {
   "cell_type": "code",
   "execution_count": 176,
   "id": "8b72b743-e9fd-4604-918f-8a7f76b8ecd9",
   "metadata": {},
   "outputs": [
    {
     "data": {
      "text/plain": [
       "{'ORF1a': 1006032,\n",
       " 'ORF1b': 530552,\n",
       " 'S': 273119,\n",
       " 'S1': 153726,\n",
       " 'ORF3a': 76980,\n",
       " 'E': 14541,\n",
       " 'M': 80598,\n",
       " 'ORF6': 19985,\n",
       " 'ORF7a': 34325,\n",
       " 'ORF7b': 8369,\n",
       " 'ORF8': 23949,\n",
       " 'N': 152729,\n",
       " 'ORF9b': 20238}"
      ]
     },
     "execution_count": 176,
     "metadata": {},
     "output_type": "execute_result"
    }
   ],
   "source": [
    "all_syn"
   ]
  },
  {
   "cell_type": "code",
   "execution_count": 171,
   "id": "e8927037-7c9a-4eaa-ba15-8a881bf67561",
   "metadata": {},
   "outputs": [],
   "source": [
    "dS = {gene:all_syn[gene]/syn_denominators[gene] for gene in all_genes}\n",
    "dN = {gene:all_missense[gene]/nonsyn_denominators[gene] for gene in all_genes}\n",
    "dStop = {gene:all_nonsense[gene]/stop_denominators[gene] for gene in all_genes}"
   ]
  },
  {
   "cell_type": "code",
   "execution_count": 172,
   "id": "4ee98f15-6619-41d4-8859-9f973da8d18f",
   "metadata": {},
   "outputs": [
    {
     "name": "stdout",
     "output_type": "stream",
     "text": [
      "     gene           dS           dN        dStop     dN_dS  dStop_dS\n",
      "0   ORF1a  1042.181741   652.548910     7.151088  0.626137  0.006862\n",
      "1   ORF1b   900.440553   475.495566     5.656017  0.528070  0.006281\n",
      "2       S   955.721103   804.036480     9.286484  0.841288  0.009717\n",
      "3      S1  1000.057899   940.513171    12.685169  0.940459  0.012684\n",
      "4   ORF3a  1187.951963  1491.401293   210.998484  1.255439  0.177615\n",
      "5       E   746.680223   648.063566    14.236142  0.867927  0.019066\n",
      "6       M  1473.460598   602.698880    22.651685  0.409036  0.015373\n",
      "7    ORF6  1586.325139  1006.990487   826.446281  0.634795  0.520982\n",
      "8   ORF7a  1257.339824  1849.175203  2533.535518  1.470704  2.014997\n",
      "9   ORF7b   750.354152  1059.668435  1429.672117  1.412224  1.905330\n",
      "10   ORF8   888.596182  1495.683992  2170.407141  1.683199  2.442512\n",
      "11      N  1599.412299  1269.877219    15.891795  0.793965  0.009936\n",
      "12  ORF9b   887.573186  1352.063026   494.339485  1.523326  0.556956\n"
     ]
    }
   ],
   "source": [
    "to_print = []\n",
    "for gene in all_genes:\n",
    "    to_print.append({'gene':gene, 'dS': dS[gene],'dN': dN[gene],  'dStop': dStop[gene], 'dN_dS':dN[gene]/dS[gene], 'dStop_dS':dStop[gene]/dS[gene]})\n",
    "    \n",
    "df_to_print = pd.DataFrame(to_print)\n",
    "print(df_to_print)\n",
    "df_to_print.to_csv('usher/trimmed/dn_ds_dstop_usher.tsv')"
   ]
  },
  {
   "cell_type": "code",
   "execution_count": null,
   "id": "8dbf8369-acc8-4367-b951-97edb2fb6a59",
   "metadata": {},
   "outputs": [],
   "source": [
    "## I'm really struggling to understand why I'm getting such different values for S & S1 compared to Katie."
   ]
  },
  {
   "cell_type": "markdown",
   "id": "52223738-c099-4ba4-8fd5-cb1a8da75b91",
   "metadata": {},
   "source": [
    "## 4. Calculate dN - dS - dStop, excluding terminal branches"
   ]
  },
  {
   "cell_type": "code",
   "execution_count": 173,
   "id": "a07667b5-df4c-4f38-85f8-a2f29bd84c06",
   "metadata": {},
   "outputs": [],
   "source": [
    "noTerm_syn = {gene:len(final_muts[(final_muts.gene==gene)&(final_muts.mut_type=='synonymous')&(final_muts.node_id.str.contains('node'))]) for gene in all_genes}\n",
    "noTerm_missense = {gene:len(final_muts[(final_muts.gene==gene)&(final_muts.mut_type=='missense')&(final_muts.node_id.str.contains('node'))]) for gene in all_genes}\n",
    "noTerm_nonsense = {gene:len(final_muts[(final_muts.gene==gene)&(final_muts.mut_type=='nonsense')&(final_muts.node_id.str.contains('node'))]) for gene in all_genes}"
   ]
  },
  {
   "cell_type": "code",
   "execution_count": 174,
   "id": "a710bd84-3c05-4ed1-a220-cd0933c35484",
   "metadata": {},
   "outputs": [],
   "source": [
    "dS_noTerm = {gene:noTerm_syn[gene]/syn_denominators[gene] for gene in all_genes}\n",
    "dN_noTerm = {gene:noTerm_missense[gene]/nonsyn_denominators[gene] for gene in all_genes}\n",
    "dStop_noTerm = {gene:noTerm_nonsense[gene]/stop_denominators[gene] for gene in all_genes}"
   ]
  },
  {
   "cell_type": "code",
   "execution_count": 175,
   "id": "ae5407c4-ef03-4f50-865a-ca6bad5ef873",
   "metadata": {},
   "outputs": [
    {
     "name": "stdout",
     "output_type": "stream",
     "text": [
      "     gene          dS          dN       dStop     dN_dS  dStop_dS\n",
      "0   ORF1a  399.959226  236.201348    0.479448  0.590564  0.001199\n",
      "1   ORF1b  348.023078  168.751095    0.257092  0.484885  0.000739\n",
      "2       S  371.015146  267.927033    0.860328  0.722146  0.002319\n",
      "3      S1  388.057022  307.709134    1.326901  0.792948  0.003419\n",
      "4   ORF3a  464.995694  572.933426   55.004949  1.232126  0.118291\n",
      "5       E  274.619753  205.048512    4.448794  0.746663  0.016200\n",
      "6       M  566.985620  184.677624    3.415730  0.325718  0.006024\n",
      "7    ORF6  605.081638  344.695878  247.439006  0.569668  0.408935\n",
      "8   ORF7a  489.236145  652.392037  894.960924  1.333491  1.829303\n",
      "9   ORF7b  270.052181  378.761954  556.459207  1.402551  2.060562\n",
      "10   ORF8  339.684248  575.543733  891.887483  1.694349  2.625637\n",
      "11      N  621.788300  437.345794    2.707120  0.703368  0.004354\n",
      "12  ORF9b  314.102142  491.515731  105.201849  1.564828  0.334929\n"
     ]
    }
   ],
   "source": [
    "to_print_noTerm = []\n",
    "for gene in all_genes:\n",
    "    to_print_noTerm.append({'gene':gene, 'dS': dS_noTerm[gene],'dN': dN_noTerm[gene],  'dStop': dStop_noTerm[gene], 'dN_dS':dN_noTerm[gene]/dS_noTerm[gene], 'dStop_dS':dStop_noTerm[gene]/dS_noTerm[gene]})\n",
    "    \n",
    "df_to_print_noTerm = pd.DataFrame(to_print_noTerm)\n",
    "print(df_to_print_noTerm)\n",
    "df_to_print_noTerm.to_csv('usher/trimmed/dn_ds_dstop_usher_noTerminalBranches.tsv')"
   ]
  },
  {
   "cell_type": "code",
   "execution_count": null,
   "id": "89e8ca20-73ff-4d08-b789-b60db417dfe7",
   "metadata": {},
   "outputs": [],
   "source": [
    "## Think about bootstrapping these values??\n",
    "\n",
    "## ORF7a dN/dS is much lower when comparing to OG sequence --> suggests high rate of back mutation\n",
    "\n",
    "## Actually katie did not compare to OG -- she compared to predecessor"
   ]
  },
  {
   "cell_type": "markdown",
   "id": "292c5e27-9054-472f-9226-81ca84e53674",
   "metadata": {},
   "source": [
    "## 5. Just by gene length"
   ]
  },
  {
   "cell_type": "code",
   "execution_count": 183,
   "id": "92e7fe1f-7dd4-4c80-a063-f8d577a152f3",
   "metadata": {},
   "outputs": [],
   "source": [
    "lengths = {k:(v.end - v.start)/3 for k,v in location_by_gene.items()}"
   ]
  },
  {
   "cell_type": "code",
   "execution_count": 184,
   "id": "71945546-08a5-4a77-a961-727998088a17",
   "metadata": {},
   "outputs": [],
   "source": [
    "syn_scaled = {gene:all_syn[gene]/lengths[gene] for gene in all_genes}\n",
    "missense_scaled = {gene:all_missense[gene]/lengths[gene] for gene in all_genes}\n",
    "stop_scaled = {gene:all_nonsense[gene]/lengths[gene] for gene in all_genes}"
   ]
  },
  {
   "cell_type": "code",
   "execution_count": 186,
   "id": "a157cd04-cf64-46a0-b322-7d392230df83",
   "metadata": {},
   "outputs": [
    {
     "name": "stdout",
     "output_type": "stream",
     "text": [
      "     gene         syn    missense       stop\n",
      "0   ORF1a  228.591684  301.946376   0.199955\n",
      "1   ORF1b  196.792285  219.636869   0.155045\n",
      "2       S  214.379121  375.632653   0.288069\n",
      "3      S1  228.419019  442.098068   0.355126\n",
      "4   ORF3a  278.913043  712.003623   6.101449\n",
      "5       E  191.328947  315.513158   0.210526\n",
      "6       M  361.426009  286.062780   0.565022\n",
      "7    ORF6  322.338710  450.741935  26.935484\n",
      "8   ORF7a  281.352459  901.844262  71.213115\n",
      "9   ORF7b  190.204545  506.704545  37.954545\n",
      "10   ORF8  196.303279  698.909836  76.336066\n",
      "11      N  363.640476  579.385714   0.754762\n",
      "12  ORF9b  206.510204  646.551020  13.857143\n"
     ]
    }
   ],
   "source": [
    "to_print_scaled = []\n",
    "for gene in all_genes:\n",
    "    to_print_scaled.append({'gene':gene, 'syn': syn_scaled[gene],'missense':missense_scaled[gene], 'stop': stop_scaled[gene]})\n",
    "    \n",
    "df_to_print_scaled = pd.DataFrame(to_print_scaled)\n",
    "print(df_to_print_scaled)\n",
    "#df_to_print_noTerm.to_csv('usher/trimmed/dn_ds_dstop_usher_noTerminalBranches.tsv')"
   ]
  }
 ],
 "metadata": {
  "kernelspec": {
   "display_name": "Python [conda env:orf8ko]",
   "language": "python",
   "name": "conda-env-orf8ko-py"
  },
  "language_info": {
   "codemirror_mode": {
    "name": "ipython",
    "version": 3
   },
   "file_extension": ".py",
   "mimetype": "text/x-python",
   "name": "python",
   "nbconvert_exporter": "python",
   "pygments_lexer": "ipython3",
   "version": "3.10.9"
  }
 },
 "nbformat": 4,
 "nbformat_minor": 5
}
